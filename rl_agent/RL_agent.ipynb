{
 "cells": [
  {
   "cell_type": "markdown",
   "id": "ecc2acb0-91e3-4065-84a2-084e515d0993",
   "metadata": {},
   "source": [
    "# RL Agent Test\n",
    "---\n",
    "\n",
    "## Imports"
   ]
  },
  {
   "cell_type": "code",
   "execution_count": 1,
   "id": "8d81916e-2b83-46d1-b0d6-89b959a388cd",
   "metadata": {},
   "outputs": [
    {
     "name": "stderr",
     "output_type": "stream",
     "text": [
      "2024-07-10 00:00:14.319395: I external/local_tsl/tsl/cuda/cudart_stub.cc:32] Could not find cuda drivers on your machine, GPU will not be used.\n",
      "2024-07-10 00:00:14.635631: I external/local_tsl/tsl/cuda/cudart_stub.cc:32] Could not find cuda drivers on your machine, GPU will not be used.\n",
      "2024-07-10 00:00:15.994405: I tensorflow/core/platform/cpu_feature_guard.cc:210] This TensorFlow binary is optimized to use available CPU instructions in performance-critical operations.\n",
      "To enable the following instructions: AVX2 FMA, in other operations, rebuild TensorFlow with the appropriate compiler flags.\n",
      "2024-07-10 00:00:18.531462: W tensorflow/compiler/tf2tensorrt/utils/py_utils.cc:38] TF-TRT Warning: Could not find TensorRT\n"
     ]
    },
    {
     "name": "stdout",
     "output_type": "stream",
     "text": [
      "TensorFlow version: 2.16.1\n"
     ]
    }
   ],
   "source": [
    "import os\n",
    "import sys\n",
    "current = os.getcwd()\n",
    "if (os.path.basename(current) == 'rl_agent'):\n",
    "    top_level_dir = os.path.dirname(os.getcwd())\n",
    "else:\n",
    "    top_level_dir = current\n",
    "sys.path.append(os.path.abspath(top_level_dir))\n",
    "os.chdir(top_level_dir)\n",
    "\n",
    "%reload_ext autoreload\n",
    "%autoreload 2\n",
    "\n",
    "from math import pi\n",
    "import numpy as np\n",
    "from rl_agent.World import *\n",
    "from rl_agent.Agent import *\n",
    "\n",
    "import matplotlib.pyplot as plt\n",
    "\n",
    "import tensorflow_probability as tfp\n",
    "import tensorflow as tf\n",
    "from tensorflow.keras.layers import *\n",
    "from tensorflow.keras import Model\n",
    "print(f'TensorFlow version: {tf.__version__}')"
   ]
  },
  {
   "cell_type": "markdown",
   "id": "272b7a26-617d-4c12-b14f-6f95766751c5",
   "metadata": {},
   "source": [
    "## Instantiate Neural Networks for Policy and Q"
   ]
  },
  {
   "cell_type": "markdown",
   "id": "54a7ec1a-dee1-4359-8f13-def08fe3d268",
   "metadata": {},
   "source": [
    "So for now I am using pretty uninformed choices for neural network\n",
    "architecture just to get this running asap, but we might want to \n",
    "keep the networks small even when we do this for real."
   ]
  },
  {
   "cell_type": "code",
   "execution_count": 2,
   "id": "6b9164cb-2f60-4610-a1c1-76f33f66649d",
   "metadata": {
    "scrolled": true
   },
   "outputs": [
    {
     "name": "stdout",
     "output_type": "stream",
     "text": [
      "input: \n",
      "[[0.21574525 0.10988273 0.05850682 0.03009997 0.81732478 0.80933166\n",
      "  0.43208174 0.6822275  0.91312252 0.8399191  0.14135623 0.65051274]\n",
      " [0.53796858 0.25278412 0.04968544 0.12968618 0.05940228 0.86892154\n",
      "  0.93777385 0.79703539 0.57650463 0.63977048 0.38018108 0.93927684]\n",
      " [0.80637813 0.81155471 0.21025867 0.25732067 0.41228665 0.51004588\n",
      "  0.84040104 0.97844523 0.24849833 0.38439895 0.19444772 0.05307451]\n",
      " [0.71901133 0.37372816 0.81050098 0.09599546 0.56807678 0.79502995\n",
      "  0.46275102 0.27385331 0.38542714 0.42736086 0.5696032  0.80254705]\n",
      " [0.54163532 0.40328563 0.60870626 0.13830386 0.12660007 0.31350151\n",
      "  0.71776937 0.77945998 0.07465509 0.84562134 0.68192122 0.42129766]\n",
      " [0.09602168 0.49753659 0.65842885 0.96184159 0.41004064 0.26683698\n",
      "  0.54215604 0.56716694 0.9940816  0.55559756 0.51498029 0.52906143]\n",
      " [0.81690111 0.71194521 0.06734113 0.06921543 0.4719599  0.83898403\n",
      "  0.68170425 0.62833499 0.3320922  0.81385474 0.42534433 0.36528612]\n",
      " [0.93688932 0.98775873 0.16211999 0.18379272 0.11068269 0.13253183\n",
      "  0.73828366 0.08259499 0.44407553 0.56927073 0.27489095 0.47630569]\n",
      " [0.57096598 0.93559386 0.85638706 0.97228398 0.26145834 0.4289786\n",
      "  0.7473964  0.76202845 0.18023319 0.88326147 0.60032319 0.180518  ]\n",
      " [0.9259275  0.35243973 0.68558153 0.22833316 0.28042325 0.07883736\n",
      "  0.3122987  0.61876071 0.75726205 0.51117424 0.39329711 0.65348921]\n",
      " [0.6142164  0.99842356 0.73394531 0.1105213  0.72156902 0.50433068\n",
      "  0.54119277 0.89964633 0.0585019  0.36642896 0.83816174 0.17364343]\n",
      " [0.69260887 0.30162169 0.37612546 0.33262897 0.25549287 0.34851263\n",
      "  0.67402599 0.87584874 0.38475782 0.15163769 0.70611662 0.68261022]]\n",
      "\n"
     ]
    },
    {
     "name": "stderr",
     "output_type": "stream",
     "text": [
      "/home/virtual/miniconda3/envs/plasma/lib/python3.11/site-packages/keras/src/layers/core/dense.py:87: UserWarning: Do not pass an `input_shape`/`input_dim` argument to a layer. When using Sequential models, prefer using an `Input(shape)` object as the first layer in the model instead.\n",
      "  super().__init__(activity_regularizer=activity_regularizer, **kwargs)\n"
     ]
    },
    {
     "name": "stdout",
     "output_type": "stream",
     "text": [
      "mu: \n",
      "[[ 0.11291885 -0.51043475]\n",
      " [ 0.13734558 -0.5519241 ]\n",
      " [ 0.1246672  -0.5393718 ]\n",
      " [ 0.13641906 -0.54620826]\n",
      " [ 0.1343405  -0.5476348 ]\n",
      " [ 0.12599376 -0.52566004]\n",
      " [ 0.12380768 -0.5385176 ]\n",
      " [ 0.1301713  -0.5449206 ]\n",
      " [ 0.141285   -0.545404  ]\n",
      " [ 0.12114954 -0.5324259 ]\n",
      " [ 0.11972442 -0.5221084 ]\n",
      " [ 0.13851593 -0.5386995 ]]\n",
      "sigma: \n",
      "[[1.5506083  0.51370573]\n",
      " [1.5480157  0.5161439 ]\n",
      " [1.5298654  0.51399255]\n",
      " [1.5359479  0.5175876 ]\n",
      " [1.5325989  0.5094009 ]\n",
      " [1.5553108  0.5094363 ]\n",
      " [1.5334777  0.51139534]\n",
      " [1.5395983  0.51065886]\n",
      " [1.530325   0.5129611 ]\n",
      " [1.5398266  0.5141945 ]\n",
      " [1.5354098  0.50917065]\n",
      " [1.5405512  0.51356226]]\n",
      "\n",
      "dists: \n",
      ":tfp.distributions.Normal(\"Normal\", batch_shape=[12, 2], event_shape=[], dtype=float32)\n",
      "\n",
      "samples: \n",
      "[[-0.72375166 -0.7973194 ]\n",
      " [-1.8974857  -0.28456476]\n",
      " [ 1.1087118  -0.574577  ]\n",
      " [ 0.35302937  0.00859398]\n",
      " [-0.44551274 -1.2633338 ]\n",
      " [-1.219359   -0.9503228 ]\n",
      " [ 1.839913   -0.4107876 ]\n",
      " [-3.443985   -0.7227398 ]\n",
      " [ 0.4300957  -0.36488736]\n",
      " [-1.2490516  -0.02581394]\n",
      " [-2.3429978  -0.49528247]\n",
      " [ 0.35377014 -0.3887526 ]]\n",
      "\n",
      "log probs: [[-1.5031568  -0.40877324]\n",
      " [-2.2198377  -0.3917277 ]\n",
      " [-1.5509863  -0.25573766]\n",
      " [-1.3580306  -0.8348471 ]\n",
      " [-1.4174764  -1.2314055 ]\n",
      " [-1.7347314  -0.5919271 ]\n",
      " [-1.9726621  -0.27951813]\n",
      " [-4.0451093  -0.30751193]\n",
      " [-1.3622272  -0.31330392]\n",
      " [-1.7465171  -0.73914707]\n",
      " [-2.6340654  -0.24535434]\n",
      " [-1.3608403  -0.295179  ]]\n",
      "\n"
     ]
    },
    {
     "data": {
      "text/html": [
       "<pre style=\"white-space:pre;overflow-x:auto;line-height:normal;font-family:Menlo,'DejaVu Sans Mono',consolas,'Courier New',monospace\"><span style=\"font-weight: bold\">Model: \"policy\"</span>\n",
       "</pre>\n"
      ],
      "text/plain": [
       "\u001b[1mModel: \"policy\"\u001b[0m\n"
      ]
     },
     "metadata": {},
     "output_type": "display_data"
    },
    {
     "data": {
      "text/html": [
       "<pre style=\"white-space:pre;overflow-x:auto;line-height:normal;font-family:Menlo,'DejaVu Sans Mono',consolas,'Courier New',monospace\">┏━━━━━━━━━━━━━━━━━━━━━━━━━━━━━━━━━┳━━━━━━━━━━━━━━━━━━━━━━━━┳━━━━━━━━━━━━━━━┓\n",
       "┃<span style=\"font-weight: bold\"> Layer (type)                    </span>┃<span style=\"font-weight: bold\"> Output Shape           </span>┃<span style=\"font-weight: bold\">       Param # </span>┃\n",
       "┡━━━━━━━━━━━━━━━━━━━━━━━━━━━━━━━━━╇━━━━━━━━━━━━━━━━━━━━━━━━╇━━━━━━━━━━━━━━━┩\n",
       "│ dense (<span style=\"color: #0087ff; text-decoration-color: #0087ff\">Dense</span>)                   │ ?                      │         <span style=\"color: #00af00; text-decoration-color: #00af00\">6,656</span> │\n",
       "├─────────────────────────────────┼────────────────────────┼───────────────┤\n",
       "│ dense_1 (<span style=\"color: #0087ff; text-decoration-color: #0087ff\">Dense</span>)                 │ ?                      │       <span style=\"color: #00af00; text-decoration-color: #00af00\">131,328</span> │\n",
       "├─────────────────────────────────┼────────────────────────┼───────────────┤\n",
       "│ dense_2 (<span style=\"color: #0087ff; text-decoration-color: #0087ff\">Dense</span>)                 │ ?                      │        <span style=\"color: #00af00; text-decoration-color: #00af00\">16,448</span> │\n",
       "├─────────────────────────────────┼────────────────────────┼───────────────┤\n",
       "│ dropout (<span style=\"color: #0087ff; text-decoration-color: #0087ff\">Dropout</span>)               │ ?                      │             <span style=\"color: #00af00; text-decoration-color: #00af00\">0</span> │\n",
       "├─────────────────────────────────┼────────────────────────┼───────────────┤\n",
       "│ dense_3 (<span style=\"color: #0087ff; text-decoration-color: #0087ff\">Dense</span>)                 │ ?                      │           <span style=\"color: #00af00; text-decoration-color: #00af00\">130</span> │\n",
       "├─────────────────────────────────┼────────────────────────┼───────────────┤\n",
       "│ dense_4 (<span style=\"color: #0087ff; text-decoration-color: #0087ff\">Dense</span>)                 │ ?                      │           <span style=\"color: #00af00; text-decoration-color: #00af00\">130</span> │\n",
       "└─────────────────────────────────┴────────────────────────┴───────────────┘\n",
       "</pre>\n"
      ],
      "text/plain": [
       "┏━━━━━━━━━━━━━━━━━━━━━━━━━━━━━━━━━┳━━━━━━━━━━━━━━━━━━━━━━━━┳━━━━━━━━━━━━━━━┓\n",
       "┃\u001b[1m \u001b[0m\u001b[1mLayer (type)                   \u001b[0m\u001b[1m \u001b[0m┃\u001b[1m \u001b[0m\u001b[1mOutput Shape          \u001b[0m\u001b[1m \u001b[0m┃\u001b[1m \u001b[0m\u001b[1m      Param #\u001b[0m\u001b[1m \u001b[0m┃\n",
       "┡━━━━━━━━━━━━━━━━━━━━━━━━━━━━━━━━━╇━━━━━━━━━━━━━━━━━━━━━━━━╇━━━━━━━━━━━━━━━┩\n",
       "│ dense (\u001b[38;5;33mDense\u001b[0m)                   │ ?                      │         \u001b[38;5;34m6,656\u001b[0m │\n",
       "├─────────────────────────────────┼────────────────────────┼───────────────┤\n",
       "│ dense_1 (\u001b[38;5;33mDense\u001b[0m)                 │ ?                      │       \u001b[38;5;34m131,328\u001b[0m │\n",
       "├─────────────────────────────────┼────────────────────────┼───────────────┤\n",
       "│ dense_2 (\u001b[38;5;33mDense\u001b[0m)                 │ ?                      │        \u001b[38;5;34m16,448\u001b[0m │\n",
       "├─────────────────────────────────┼────────────────────────┼───────────────┤\n",
       "│ dropout (\u001b[38;5;33mDropout\u001b[0m)               │ ?                      │             \u001b[38;5;34m0\u001b[0m │\n",
       "├─────────────────────────────────┼────────────────────────┼───────────────┤\n",
       "│ dense_3 (\u001b[38;5;33mDense\u001b[0m)                 │ ?                      │           \u001b[38;5;34m130\u001b[0m │\n",
       "├─────────────────────────────────┼────────────────────────┼───────────────┤\n",
       "│ dense_4 (\u001b[38;5;33mDense\u001b[0m)                 │ ?                      │           \u001b[38;5;34m130\u001b[0m │\n",
       "└─────────────────────────────────┴────────────────────────┴───────────────┘\n"
      ]
     },
     "metadata": {},
     "output_type": "display_data"
    },
    {
     "data": {
      "text/html": [
       "<pre style=\"white-space:pre;overflow-x:auto;line-height:normal;font-family:Menlo,'DejaVu Sans Mono',consolas,'Courier New',monospace\"><span style=\"font-weight: bold\"> Total params: </span><span style=\"color: #00af00; text-decoration-color: #00af00\">154,692</span> (604.27 KB)\n",
       "</pre>\n"
      ],
      "text/plain": [
       "\u001b[1m Total params: \u001b[0m\u001b[38;5;34m154,692\u001b[0m (604.27 KB)\n"
      ]
     },
     "metadata": {},
     "output_type": "display_data"
    },
    {
     "data": {
      "text/html": [
       "<pre style=\"white-space:pre;overflow-x:auto;line-height:normal;font-family:Menlo,'DejaVu Sans Mono',consolas,'Courier New',monospace\"><span style=\"font-weight: bold\"> Trainable params: </span><span style=\"color: #00af00; text-decoration-color: #00af00\">154,692</span> (604.27 KB)\n",
       "</pre>\n"
      ],
      "text/plain": [
       "\u001b[1m Trainable params: \u001b[0m\u001b[38;5;34m154,692\u001b[0m (604.27 KB)\n"
      ]
     },
     "metadata": {},
     "output_type": "display_data"
    },
    {
     "data": {
      "text/html": [
       "<pre style=\"white-space:pre;overflow-x:auto;line-height:normal;font-family:Menlo,'DejaVu Sans Mono',consolas,'Courier New',monospace\"><span style=\"font-weight: bold\"> Non-trainable params: </span><span style=\"color: #00af00; text-decoration-color: #00af00\">0</span> (0.00 B)\n",
       "</pre>\n"
      ],
      "text/plain": [
       "\u001b[1m Non-trainable params: \u001b[0m\u001b[38;5;34m0\u001b[0m (0.00 B)\n"
      ]
     },
     "metadata": {},
     "output_type": "display_data"
    },
    {
     "name": "stderr",
     "output_type": "stream",
     "text": [
      "/home/virtual/miniconda3/envs/plasma/lib/python3.11/site-packages/keras/src/layers/core/dense.py:87: UserWarning: Do not pass an `input_shape`/`input_dim` argument to a layer. When using Sequential models, prefer using an `Input(shape)` object as the first layer in the model instead.\n",
      "  super().__init__(activity_regularizer=activity_regularizer, **kwargs)\n"
     ]
    },
    {
     "data": {
      "text/html": [
       "<pre style=\"white-space:pre;overflow-x:auto;line-height:normal;font-family:Menlo,'DejaVu Sans Mono',consolas,'Courier New',monospace\"><span style=\"font-weight: bold\">Model: \"Q(s,a)\"</span>\n",
       "</pre>\n"
      ],
      "text/plain": [
       "\u001b[1mModel: \"Q(s,a)\"\u001b[0m\n"
      ]
     },
     "metadata": {},
     "output_type": "display_data"
    },
    {
     "data": {
      "text/html": [
       "<pre style=\"white-space:pre;overflow-x:auto;line-height:normal;font-family:Menlo,'DejaVu Sans Mono',consolas,'Courier New',monospace\">┏━━━━━━━━━━━━━━━━━━━━━━━━━━━━━━━━━┳━━━━━━━━━━━━━━━━━━━━━━━━┳━━━━━━━━━━━━━━━┓\n",
       "┃<span style=\"font-weight: bold\"> Layer (type)                    </span>┃<span style=\"font-weight: bold\"> Output Shape           </span>┃<span style=\"font-weight: bold\">       Param # </span>┃\n",
       "┡━━━━━━━━━━━━━━━━━━━━━━━━━━━━━━━━━╇━━━━━━━━━━━━━━━━━━━━━━━━╇━━━━━━━━━━━━━━━┩\n",
       "│ dense_5 (<span style=\"color: #0087ff; text-decoration-color: #0087ff\">Dense</span>)                 │ (<span style=\"color: #00d7ff; text-decoration-color: #00d7ff\">None</span>, <span style=\"color: #00af00; text-decoration-color: #00af00\">512</span>)            │         <span style=\"color: #00af00; text-decoration-color: #00af00\">7,680</span> │\n",
       "├─────────────────────────────────┼────────────────────────┼───────────────┤\n",
       "│ dense_6 (<span style=\"color: #0087ff; text-decoration-color: #0087ff\">Dense</span>)                 │ (<span style=\"color: #00d7ff; text-decoration-color: #00d7ff\">None</span>, <span style=\"color: #00af00; text-decoration-color: #00af00\">256</span>)            │       <span style=\"color: #00af00; text-decoration-color: #00af00\">131,328</span> │\n",
       "├─────────────────────────────────┼────────────────────────┼───────────────┤\n",
       "│ dense_7 (<span style=\"color: #0087ff; text-decoration-color: #0087ff\">Dense</span>)                 │ (<span style=\"color: #00d7ff; text-decoration-color: #00d7ff\">None</span>, <span style=\"color: #00af00; text-decoration-color: #00af00\">128</span>)            │        <span style=\"color: #00af00; text-decoration-color: #00af00\">32,896</span> │\n",
       "├─────────────────────────────────┼────────────────────────┼───────────────┤\n",
       "│ dropout_1 (<span style=\"color: #0087ff; text-decoration-color: #0087ff\">Dropout</span>)             │ (<span style=\"color: #00d7ff; text-decoration-color: #00d7ff\">None</span>, <span style=\"color: #00af00; text-decoration-color: #00af00\">128</span>)            │             <span style=\"color: #00af00; text-decoration-color: #00af00\">0</span> │\n",
       "├─────────────────────────────────┼────────────────────────┼───────────────┤\n",
       "│ dense_8 (<span style=\"color: #0087ff; text-decoration-color: #0087ff\">Dense</span>)                 │ (<span style=\"color: #00d7ff; text-decoration-color: #00d7ff\">None</span>, <span style=\"color: #00af00; text-decoration-color: #00af00\">1</span>)              │           <span style=\"color: #00af00; text-decoration-color: #00af00\">129</span> │\n",
       "└─────────────────────────────────┴────────────────────────┴───────────────┘\n",
       "</pre>\n"
      ],
      "text/plain": [
       "┏━━━━━━━━━━━━━━━━━━━━━━━━━━━━━━━━━┳━━━━━━━━━━━━━━━━━━━━━━━━┳━━━━━━━━━━━━━━━┓\n",
       "┃\u001b[1m \u001b[0m\u001b[1mLayer (type)                   \u001b[0m\u001b[1m \u001b[0m┃\u001b[1m \u001b[0m\u001b[1mOutput Shape          \u001b[0m\u001b[1m \u001b[0m┃\u001b[1m \u001b[0m\u001b[1m      Param #\u001b[0m\u001b[1m \u001b[0m┃\n",
       "┡━━━━━━━━━━━━━━━━━━━━━━━━━━━━━━━━━╇━━━━━━━━━━━━━━━━━━━━━━━━╇━━━━━━━━━━━━━━━┩\n",
       "│ dense_5 (\u001b[38;5;33mDense\u001b[0m)                 │ (\u001b[38;5;45mNone\u001b[0m, \u001b[38;5;34m512\u001b[0m)            │         \u001b[38;5;34m7,680\u001b[0m │\n",
       "├─────────────────────────────────┼────────────────────────┼───────────────┤\n",
       "│ dense_6 (\u001b[38;5;33mDense\u001b[0m)                 │ (\u001b[38;5;45mNone\u001b[0m, \u001b[38;5;34m256\u001b[0m)            │       \u001b[38;5;34m131,328\u001b[0m │\n",
       "├─────────────────────────────────┼────────────────────────┼───────────────┤\n",
       "│ dense_7 (\u001b[38;5;33mDense\u001b[0m)                 │ (\u001b[38;5;45mNone\u001b[0m, \u001b[38;5;34m128\u001b[0m)            │        \u001b[38;5;34m32,896\u001b[0m │\n",
       "├─────────────────────────────────┼────────────────────────┼───────────────┤\n",
       "│ dropout_1 (\u001b[38;5;33mDropout\u001b[0m)             │ (\u001b[38;5;45mNone\u001b[0m, \u001b[38;5;34m128\u001b[0m)            │             \u001b[38;5;34m0\u001b[0m │\n",
       "├─────────────────────────────────┼────────────────────────┼───────────────┤\n",
       "│ dense_8 (\u001b[38;5;33mDense\u001b[0m)                 │ (\u001b[38;5;45mNone\u001b[0m, \u001b[38;5;34m1\u001b[0m)              │           \u001b[38;5;34m129\u001b[0m │\n",
       "└─────────────────────────────────┴────────────────────────┴───────────────┘\n"
      ]
     },
     "metadata": {},
     "output_type": "display_data"
    },
    {
     "data": {
      "text/html": [
       "<pre style=\"white-space:pre;overflow-x:auto;line-height:normal;font-family:Menlo,'DejaVu Sans Mono',consolas,'Courier New',monospace\"><span style=\"font-weight: bold\"> Total params: </span><span style=\"color: #00af00; text-decoration-color: #00af00\">172,033</span> (672.00 KB)\n",
       "</pre>\n"
      ],
      "text/plain": [
       "\u001b[1m Total params: \u001b[0m\u001b[38;5;34m172,033\u001b[0m (672.00 KB)\n"
      ]
     },
     "metadata": {},
     "output_type": "display_data"
    },
    {
     "data": {
      "text/html": [
       "<pre style=\"white-space:pre;overflow-x:auto;line-height:normal;font-family:Menlo,'DejaVu Sans Mono',consolas,'Courier New',monospace\"><span style=\"font-weight: bold\"> Trainable params: </span><span style=\"color: #00af00; text-decoration-color: #00af00\">172,033</span> (672.00 KB)\n",
       "</pre>\n"
      ],
      "text/plain": [
       "\u001b[1m Trainable params: \u001b[0m\u001b[38;5;34m172,033\u001b[0m (672.00 KB)\n"
      ]
     },
     "metadata": {},
     "output_type": "display_data"
    },
    {
     "data": {
      "text/html": [
       "<pre style=\"white-space:pre;overflow-x:auto;line-height:normal;font-family:Menlo,'DejaVu Sans Mono',consolas,'Courier New',monospace\"><span style=\"font-weight: bold\"> Non-trainable params: </span><span style=\"color: #00af00; text-decoration-color: #00af00\">0</span> (0.00 B)\n",
       "</pre>\n"
      ],
      "text/plain": [
       "\u001b[1m Non-trainable params: \u001b[0m\u001b[38;5;34m0\u001b[0m (0.00 B)\n"
      ]
     },
     "metadata": {},
     "output_type": "display_data"
    }
   ],
   "source": [
    "class Policy(Model):\n",
    "    min_action = -pi\n",
    "    max_action = pi\n",
    "    \n",
    "    def __init__(self):\n",
    "        super().__init__()\n",
    "        self.dense1 = Dense(512, activation='relu', input_shape=(12,))\n",
    "        self.dense2 = Dense(256, activation='relu')\n",
    "        self.dense3 = Dense(64, activation='sigmoid')\n",
    "        self.dropout = Dropout(0.1)\n",
    "        self.mu = Dense(2)\n",
    "        self.sigma = Dense(2)    \n",
    "\n",
    "    def call(self, x):\n",
    "        x = self.dense1(x)\n",
    "        x = self.dense2(x)\n",
    "        x = self.dense3(x)\n",
    "        x = self.dropout(x)\n",
    "        mu = self.mu(x)\n",
    "        sigma = self.sigma(x)\n",
    "        sigma = tf.math.softplus(sigma)\n",
    "        sigma = tf.clip_by_value(sigma, 1e-2, 2*3.14)\n",
    "        return mu, sigma \n",
    "\n",
    "# Create an instance of the model\n",
    "policy = Policy()\n",
    "inp = np.random.random((12,12))\n",
    "print(f'input: \\n{inp}\\n')\n",
    "mu, sigma = policy(inp)\n",
    "print(f'mu: \\n{mu}\\nsigma: \\n{sigma}\\n')\n",
    "\n",
    "dists = tfp.distributions.Normal(mu, sigma)\n",
    "\n",
    "print(f'dists: \\n:{dists}\\n')\n",
    "\n",
    "samples = dists.sample()\n",
    "print(f'samples: \\n{samples}\\n')\n",
    "\n",
    "print(f'log probs: {dists.log_prob(samples.numpy())}\\n')\n",
    "\n",
    "policy.summary()\n",
    "\n",
    "Q = tf.keras.models.Sequential([\n",
    "  tf.keras.layers.Dense(512, activation='relu', input_shape=(14,)),\n",
    "  tf.keras.layers.Dense(256, activation='relu'),\n",
    "  tf.keras.layers.Dense(128, activation='sigmoid'),\n",
    "  tf.keras.layers.Dropout(0.1),\n",
    "  tf.keras.layers.Dense(1)\n",
    "], name='Q(s,a)')\n",
    "Q.summary()"
   ]
  },
  {
   "cell_type": "code",
   "execution_count": 5,
   "id": "8f289616-5394-4813-a934-10f7a14ffad6",
   "metadata": {},
   "outputs": [
    {
     "name": "stdout",
     "output_type": "stream",
     "text": [
      "tf.Tensor(\n",
      "[[0.57365286 0.99998564 0.45503005]\n",
      " [0.5470483  0.51108766 0.11713102]\n",
      " [0.06066374 0.3374873  0.43010595]\n",
      " [0.8523678  0.24602309 0.83591974]\n",
      " [0.6146412  0.55648106 0.9979505 ]\n",
      " [0.19782154 0.13640805 0.5214073 ]\n",
      " [0.60928446 0.4146341  0.2102699 ]\n",
      " [0.35024825 0.4078744  0.85510784]\n",
      " [0.84011066 0.84098536 0.18403797]\n",
      " [0.14271797 0.96552235 0.79604787]], shape=(10, 3), dtype=float32)\n",
      "sum grad: [4.78855674 5.41648906 5.40300817]\n",
      "len: 1 \n",
      " [[4.7885566 5.416489  5.4030085]]\n"
     ]
    }
   ],
   "source": [
    "x = np.random.random((10,3))\n",
    "a = tf.ones((1,3))\n",
    "with tf.GradientTape() as tape:\n",
    "    tape.watch(a)\n",
    "    y = a * x\n",
    "print(y)\n",
    "grad = tape.gradient(y, a)\n",
    "print(f'sum grad: {tf.reduce_sum(x, axis=0)}')\n",
    "print(f'len: {len(grad)} \\n {grad}')"
   ]
  },
  {
   "cell_type": "markdown",
   "id": "47be3c01-cb58-4c21-9f24-8b224e89bab5",
   "metadata": {},
   "source": [
    "## Instantiate World"
   ]
  },
  {
   "cell_type": "code",
   "execution_count": 6,
   "id": "20d2c305-acc7-41ca-b711-b341de970140",
   "metadata": {},
   "outputs": [],
   "source": [
    "world = ParallelTrackNEO(num_sails=8192)"
   ]
  },
  {
   "cell_type": "markdown",
   "id": "713ed2d9-66a9-48e8-a86b-353579bae281",
   "metadata": {},
   "source": [
    "## Instantiate Agent"
   ]
  },
  {
   "cell_type": "code",
   "execution_count": 7,
   "id": "9a3a38a9-13c0-4e73-96c8-c5406de8d524",
   "metadata": {},
   "outputs": [],
   "source": [
    "agent = ParallelAgent(world, policy, Q, learning_rate_policy=0.00001, learning_rate_Q=0.00056)"
   ]
  },
  {
   "cell_type": "markdown",
   "id": "9c44e28e-759b-4451-85e8-d00f1facf436",
   "metadata": {},
   "source": [
    "## Train Agent"
   ]
  },
  {
   "cell_type": "code",
   "execution_count": 7,
   "id": "b608859d-fa68-4452-b477-389ae31a89a6",
   "metadata": {},
   "outputs": [],
   "source": [
    "policy.load_weights('./checkpoints/policy.weights.h5')\n",
    "Q.load_weights('./checkpoints/Q.weights.h5')"
   ]
  },
  {
   "cell_type": "code",
   "execution_count": null,
   "id": "6823703f-f737-4488-9bb3-41e994fa6b34",
   "metadata": {
    "scrolled": true
   },
   "outputs": [
    {
     "data": {
      "application/vnd.jupyter.widget-view+json": {
       "model_id": "c3efd911227147c6b6b68bb1c0df8e82",
       "version_major": 2,
       "version_minor": 0
      },
      "text/plain": [
       "Output()"
      ]
     },
     "metadata": {},
     "output_type": "display_data"
    },
    {
     "name": "stdout",
     "output_type": "stream",
     "text": [
      "(<tf.Tensor: shape=(1, 2), dtype=float32, numpy=array([[ 0.48627782, -0.26656562]], dtype=float32)>, <tf.Tensor: shape=(1, 2), dtype=float32, numpy=array([[1.6943283, 0.4989843]], dtype=float32)>)\n"
     ]
    },
    {
     "data": {
      "text/html": [
       "<pre style=\"white-space:pre;overflow-x:auto;line-height:normal;font-family:Menlo,'DejaVu Sans Mono',consolas,'Courier New',monospace\">mean: -0.005255443959972305, r: -1.5766331879916917, md: 300\n",
       "</pre>\n"
      ],
      "text/plain": [
       "mean: -0.005255443959972305, r: -1.5766331879916917, md: 300\n"
      ]
     },
     "metadata": {},
     "output_type": "display_data"
    },
    {
     "data": {
      "text/html": [
       "<pre style=\"white-space:pre;overflow-x:auto;line-height:normal;font-family:Menlo,'DejaVu Sans Mono',consolas,'Courier New',monospace\">mean: -0.010123195162086263, r: -3.036958548625879, md: 300\n",
       "</pre>\n"
      ],
      "text/plain": [
       "mean: -0.010123195162086263, r: -3.036958548625879, md: 300\n"
      ]
     },
     "metadata": {},
     "output_type": "display_data"
    },
    {
     "data": {
      "text/html": [
       "<pre style=\"white-space:pre;overflow-x:auto;line-height:normal;font-family:Menlo,'DejaVu Sans Mono',consolas,'Courier New',monospace\">mean: -0.0036229038520942183, r: -1.0868711556282655, md: 300\n",
       "</pre>\n"
      ],
      "text/plain": [
       "mean: -0.0036229038520942183, r: -1.0868711556282655, md: 300\n"
      ]
     },
     "metadata": {},
     "output_type": "display_data"
    },
    {
     "data": {
      "text/html": [
       "<pre style=\"white-space:pre;overflow-x:auto;line-height:normal;font-family:Menlo,'DejaVu Sans Mono',consolas,'Courier New',monospace\">mean: -0.004580207679558178, r: -1.3740623038674535, md: 300\n",
       "</pre>\n"
      ],
      "text/plain": [
       "mean: -0.004580207679558178, r: -1.3740623038674535, md: 300\n"
      ]
     },
     "metadata": {},
     "output_type": "display_data"
    },
    {
     "data": {
      "text/html": [
       "<pre style=\"white-space:pre;overflow-x:auto;line-height:normal;font-family:Menlo,'DejaVu Sans Mono',consolas,'Courier New',monospace\">mean: -0.00010907821941455283, r: -0.03272346582436585, md: 300\n",
       "</pre>\n"
      ],
      "text/plain": [
       "mean: -0.00010907821941455283, r: -0.03272346582436585, md: 300\n"
      ]
     },
     "metadata": {},
     "output_type": "display_data"
    },
    {
     "data": {
      "text/html": [
       "<pre style=\"white-space:pre;overflow-x:auto;line-height:normal;font-family:Menlo,'DejaVu Sans Mono',consolas,'Courier New',monospace\"></pre>\n"
      ],
      "text/plain": []
     },
     "metadata": {},
     "output_type": "display_data"
    },
    {
     "data": {
      "text/html": [
       "<pre style=\"white-space:pre;overflow-x:auto;line-height:normal;font-family:Menlo,'DejaVu Sans Mono',consolas,'Courier New',monospace\">\n",
       "</pre>\n"
      ],
      "text/plain": [
       "\n"
      ]
     },
     "metadata": {},
     "output_type": "display_data"
    },
    {
     "data": {
      "application/vnd.jupyter.widget-view+json": {
       "model_id": "37e9dd6fdd054337a2e89e32f954a034",
       "version_major": 2,
       "version_minor": 0
      },
      "text/plain": [
       "Output()"
      ]
     },
     "metadata": {},
     "output_type": "display_data"
    },
    {
     "name": "stdout",
     "output_type": "stream",
     "text": [
      "epoch 0: Mean Reward = -0.00010907821941455283\n"
     ]
    },
    {
     "data": {
      "text/html": [
       "<pre style=\"white-space:pre;overflow-x:auto;line-height:normal;font-family:Menlo,'DejaVu Sans Mono',consolas,'Courier New',monospace\">mean: 0.001609340220549013, r: 0.4828020661647039, md: 300\n",
       "</pre>\n"
      ],
      "text/plain": [
       "mean: 0.001609340220549013, r: 0.4828020661647039, md: 300\n"
      ]
     },
     "metadata": {},
     "output_type": "display_data"
    },
    {
     "data": {
      "text/html": [
       "<pre style=\"white-space:pre;overflow-x:auto;line-height:normal;font-family:Menlo,'DejaVu Sans Mono',consolas,'Courier New',monospace\">mean: -0.004587413266970375, r: -1.3762239800911127, md: 300\n",
       "</pre>\n"
      ],
      "text/plain": [
       "mean: -0.004587413266970375, r: -1.3762239800911127, md: 300\n"
      ]
     },
     "metadata": {},
     "output_type": "display_data"
    },
    {
     "data": {
      "text/html": [
       "<pre style=\"white-space:pre;overflow-x:auto;line-height:normal;font-family:Menlo,'DejaVu Sans Mono',consolas,'Courier New',monospace\">mean: -0.000711664505717017, r: -0.2134993517151051, md: 300\n",
       "</pre>\n"
      ],
      "text/plain": [
       "mean: -0.000711664505717017, r: -0.2134993517151051, md: 300\n"
      ]
     },
     "metadata": {},
     "output_type": "display_data"
    },
    {
     "data": {
      "text/html": [
       "<pre style=\"white-space:pre;overflow-x:auto;line-height:normal;font-family:Menlo,'DejaVu Sans Mono',consolas,'Courier New',monospace\">mean: -0.004996005365836861, r: -1.4988016097510584, md: 300\n",
       "</pre>\n"
      ],
      "text/plain": [
       "mean: -0.004996005365836861, r: -1.4988016097510584, md: 300\n"
      ]
     },
     "metadata": {},
     "output_type": "display_data"
    },
    {
     "data": {
      "text/html": [
       "<pre style=\"white-space:pre;overflow-x:auto;line-height:normal;font-family:Menlo,'DejaVu Sans Mono',consolas,'Courier New',monospace\">mean: -0.0020204012194123184, r: -0.6061203658236956, md: 300\n",
       "</pre>\n"
      ],
      "text/plain": [
       "mean: -0.0020204012194123184, r: -0.6061203658236956, md: 300\n"
      ]
     },
     "metadata": {},
     "output_type": "display_data"
    },
    {
     "data": {
      "text/html": [
       "<pre style=\"white-space:pre;overflow-x:auto;line-height:normal;font-family:Menlo,'DejaVu Sans Mono',consolas,'Courier New',monospace\"></pre>\n"
      ],
      "text/plain": []
     },
     "metadata": {},
     "output_type": "display_data"
    },
    {
     "data": {
      "text/html": [
       "<pre style=\"white-space:pre;overflow-x:auto;line-height:normal;font-family:Menlo,'DejaVu Sans Mono',consolas,'Courier New',monospace\">\n",
       "</pre>\n"
      ],
      "text/plain": [
       "\n"
      ]
     },
     "metadata": {},
     "output_type": "display_data"
    },
    {
     "data": {
      "application/vnd.jupyter.widget-view+json": {
       "model_id": "a7ca8c9ee3ce40b69884e3e38079835e",
       "version_major": 2,
       "version_minor": 0
      },
      "text/plain": [
       "Output()"
      ]
     },
     "metadata": {},
     "output_type": "display_data"
    },
    {
     "name": "stdout",
     "output_type": "stream",
     "text": [
      "epoch 1: Mean Reward = -0.0020204012194123184\n"
     ]
    },
    {
     "data": {
      "text/html": [
       "<pre style=\"white-space:pre;overflow-x:auto;line-height:normal;font-family:Menlo,'DejaVu Sans Mono',consolas,'Courier New',monospace\">mean: -0.002765829945080914, r: -0.8297489835242742, md: 300\n",
       "</pre>\n"
      ],
      "text/plain": [
       "mean: -0.002765829945080914, r: -0.8297489835242742, md: 300\n"
      ]
     },
     "metadata": {},
     "output_type": "display_data"
    },
    {
     "data": {
      "text/html": [
       "<pre style=\"white-space:pre;overflow-x:auto;line-height:normal;font-family:Menlo,'DejaVu Sans Mono',consolas,'Courier New',monospace\">mean: -0.002633162194068034, r: -0.78994865822041, md: 300\n",
       "</pre>\n"
      ],
      "text/plain": [
       "mean: -0.002633162194068034, r: -0.78994865822041, md: 300\n"
      ]
     },
     "metadata": {},
     "output_type": "display_data"
    },
    {
     "data": {
      "text/html": [
       "<pre style=\"white-space:pre;overflow-x:auto;line-height:normal;font-family:Menlo,'DejaVu Sans Mono',consolas,'Courier New',monospace\">mean: -0.004089176078776048, r: -1.2267528236328142, md: 300\n",
       "</pre>\n"
      ],
      "text/plain": [
       "mean: -0.004089176078776048, r: -1.2267528236328142, md: 300\n"
      ]
     },
     "metadata": {},
     "output_type": "display_data"
    },
    {
     "data": {
      "text/html": [
       "<pre style=\"white-space:pre;overflow-x:auto;line-height:normal;font-family:Menlo,'DejaVu Sans Mono',consolas,'Courier New',monospace\">mean: -0.0025311846523081386, r: -0.7593553956924416, md: 300\n",
       "</pre>\n"
      ],
      "text/plain": [
       "mean: -0.0025311846523081386, r: -0.7593553956924416, md: 300\n"
      ]
     },
     "metadata": {},
     "output_type": "display_data"
    },
    {
     "data": {
      "text/html": [
       "<pre style=\"white-space:pre;overflow-x:auto;line-height:normal;font-family:Menlo,'DejaVu Sans Mono',consolas,'Courier New',monospace\">mean: -0.004701796356813348, r: -1.4105389070440044, md: 300\n",
       "</pre>\n"
      ],
      "text/plain": [
       "mean: -0.004701796356813348, r: -1.4105389070440044, md: 300\n"
      ]
     },
     "metadata": {},
     "output_type": "display_data"
    },
    {
     "data": {
      "text/html": [
       "<pre style=\"white-space:pre;overflow-x:auto;line-height:normal;font-family:Menlo,'DejaVu Sans Mono',consolas,'Courier New',monospace\"></pre>\n"
      ],
      "text/plain": []
     },
     "metadata": {},
     "output_type": "display_data"
    },
    {
     "data": {
      "text/html": [
       "<pre style=\"white-space:pre;overflow-x:auto;line-height:normal;font-family:Menlo,'DejaVu Sans Mono',consolas,'Courier New',monospace\">\n",
       "</pre>\n"
      ],
      "text/plain": [
       "\n"
      ]
     },
     "metadata": {},
     "output_type": "display_data"
    },
    {
     "data": {
      "application/vnd.jupyter.widget-view+json": {
       "model_id": "3cb0897380434ea08de48ffc25563c3b",
       "version_major": 2,
       "version_minor": 0
      },
      "text/plain": [
       "Output()"
      ]
     },
     "metadata": {},
     "output_type": "display_data"
    },
    {
     "name": "stdout",
     "output_type": "stream",
     "text": [
      "epoch 2: Mean Reward = -0.004701796356813348\n"
     ]
    },
    {
     "data": {
      "text/html": [
       "<pre style=\"white-space:pre;overflow-x:auto;line-height:normal;font-family:Menlo,'DejaVu Sans Mono',consolas,'Courier New',monospace\">mean: -0.003308952787550356, r: -0.9926858362651068, md: 300\n",
       "</pre>\n"
      ],
      "text/plain": [
       "mean: -0.003308952787550356, r: -0.9926858362651068, md: 300\n"
      ]
     },
     "metadata": {},
     "output_type": "display_data"
    },
    {
     "data": {
      "text/html": [
       "<pre style=\"white-space:pre;overflow-x:auto;line-height:normal;font-family:Menlo,'DejaVu Sans Mono',consolas,'Courier New',monospace\">mean: 0.003362424308811492, r: 1.0087272926434476, md: 300\n",
       "</pre>\n"
      ],
      "text/plain": [
       "mean: 0.003362424308811492, r: 1.0087272926434476, md: 300\n"
      ]
     },
     "metadata": {},
     "output_type": "display_data"
    },
    {
     "data": {
      "text/html": [
       "<pre style=\"white-space:pre;overflow-x:auto;line-height:normal;font-family:Menlo,'DejaVu Sans Mono',consolas,'Courier New',monospace\">mean: 0.008457699124072474, r: 2.5373097372217424, md: 300\n",
       "</pre>\n"
      ],
      "text/plain": [
       "mean: 0.008457699124072474, r: 2.5373097372217424, md: 300\n"
      ]
     },
     "metadata": {},
     "output_type": "display_data"
    },
    {
     "data": {
      "text/html": [
       "<pre style=\"white-space:pre;overflow-x:auto;line-height:normal;font-family:Menlo,'DejaVu Sans Mono',consolas,'Courier New',monospace\">mean: -0.0017677741860458816, r: -0.5303322558137644, md: 300\n",
       "</pre>\n"
      ],
      "text/plain": [
       "mean: -0.0017677741860458816, r: -0.5303322558137644, md: 300\n"
      ]
     },
     "metadata": {},
     "output_type": "display_data"
    },
    {
     "data": {
      "text/html": [
       "<pre style=\"white-space:pre;overflow-x:auto;line-height:normal;font-family:Menlo,'DejaVu Sans Mono',consolas,'Courier New',monospace\">mean: -0.004498408128258717, r: -1.349522438477615, md: 300\n",
       "</pre>\n"
      ],
      "text/plain": [
       "mean: -0.004498408128258717, r: -1.349522438477615, md: 300\n"
      ]
     },
     "metadata": {},
     "output_type": "display_data"
    },
    {
     "data": {
      "text/html": [
       "<pre style=\"white-space:pre;overflow-x:auto;line-height:normal;font-family:Menlo,'DejaVu Sans Mono',consolas,'Courier New',monospace\"></pre>\n"
      ],
      "text/plain": []
     },
     "metadata": {},
     "output_type": "display_data"
    },
    {
     "data": {
      "text/html": [
       "<pre style=\"white-space:pre;overflow-x:auto;line-height:normal;font-family:Menlo,'DejaVu Sans Mono',consolas,'Courier New',monospace\">\n",
       "</pre>\n"
      ],
      "text/plain": [
       "\n"
      ]
     },
     "metadata": {},
     "output_type": "display_data"
    },
    {
     "data": {
      "application/vnd.jupyter.widget-view+json": {
       "model_id": "9f99965238e54544aa9783225c053f0f",
       "version_major": 2,
       "version_minor": 0
      },
      "text/plain": [
       "Output()"
      ]
     },
     "metadata": {},
     "output_type": "display_data"
    },
    {
     "name": "stdout",
     "output_type": "stream",
     "text": [
      "epoch 3: Mean Reward = -0.004498408128258717\n"
     ]
    },
    {
     "data": {
      "text/html": [
       "<pre style=\"white-space:pre;overflow-x:auto;line-height:normal;font-family:Menlo,'DejaVu Sans Mono',consolas,'Courier New',monospace\">mean: -0.005851421329906614, r: -1.755426398971984, md: 300\n",
       "</pre>\n"
      ],
      "text/plain": [
       "mean: -0.005851421329906614, r: -1.755426398971984, md: 300\n"
      ]
     },
     "metadata": {},
     "output_type": "display_data"
    },
    {
     "data": {
      "text/html": [
       "<pre style=\"white-space:pre;overflow-x:auto;line-height:normal;font-family:Menlo,'DejaVu Sans Mono',consolas,'Courier New',monospace\">mean: -0.0005966265768260613, r: -0.17898797304781838, md: 300\n",
       "</pre>\n"
      ],
      "text/plain": [
       "mean: -0.0005966265768260613, r: -0.17898797304781838, md: 300\n"
      ]
     },
     "metadata": {},
     "output_type": "display_data"
    },
    {
     "data": {
      "text/html": [
       "<pre style=\"white-space:pre;overflow-x:auto;line-height:normal;font-family:Menlo,'DejaVu Sans Mono',consolas,'Courier New',monospace\">mean: -0.005917000530367133, r: -1.7751001591101403, md: 300\n",
       "</pre>\n"
      ],
      "text/plain": [
       "mean: -0.005917000530367133, r: -1.7751001591101403, md: 300\n"
      ]
     },
     "metadata": {},
     "output_type": "display_data"
    },
    {
     "data": {
      "text/html": [
       "<pre style=\"white-space:pre;overflow-x:auto;line-height:normal;font-family:Menlo,'DejaVu Sans Mono',consolas,'Courier New',monospace\">mean: -0.0031128277056872576, r: -0.9338483117061773, md: 300\n",
       "</pre>\n"
      ],
      "text/plain": [
       "mean: -0.0031128277056872576, r: -0.9338483117061773, md: 300\n"
      ]
     },
     "metadata": {},
     "output_type": "display_data"
    },
    {
     "data": {
      "text/html": [
       "<pre style=\"white-space:pre;overflow-x:auto;line-height:normal;font-family:Menlo,'DejaVu Sans Mono',consolas,'Courier New',monospace\">mean: -0.0031481099013101637, r: -0.9444329703930491, md: 300\n",
       "</pre>\n"
      ],
      "text/plain": [
       "mean: -0.0031481099013101637, r: -0.9444329703930491, md: 300\n"
      ]
     },
     "metadata": {},
     "output_type": "display_data"
    },
    {
     "data": {
      "text/html": [
       "<pre style=\"white-space:pre;overflow-x:auto;line-height:normal;font-family:Menlo,'DejaVu Sans Mono',consolas,'Courier New',monospace\"></pre>\n"
      ],
      "text/plain": []
     },
     "metadata": {},
     "output_type": "display_data"
    },
    {
     "data": {
      "text/html": [
       "<pre style=\"white-space:pre;overflow-x:auto;line-height:normal;font-family:Menlo,'DejaVu Sans Mono',consolas,'Courier New',monospace\">\n",
       "</pre>\n"
      ],
      "text/plain": [
       "\n"
      ]
     },
     "metadata": {},
     "output_type": "display_data"
    },
    {
     "data": {
      "application/vnd.jupyter.widget-view+json": {
       "model_id": "dc7f5ae5901147578514f325571b79a1",
       "version_major": 2,
       "version_minor": 0
      },
      "text/plain": [
       "Output()"
      ]
     },
     "metadata": {},
     "output_type": "display_data"
    },
    {
     "name": "stdout",
     "output_type": "stream",
     "text": [
      "epoch 4: Mean Reward = -0.0031481099013101637\n"
     ]
    },
    {
     "data": {
      "text/html": [
       "<pre style=\"white-space:pre;overflow-x:auto;line-height:normal;font-family:Menlo,'DejaVu Sans Mono',consolas,'Courier New',monospace\">mean: -0.0043246803727985976, r: -1.2974041118395792, md: 300\n",
       "</pre>\n"
      ],
      "text/plain": [
       "mean: -0.0043246803727985976, r: -1.2974041118395792, md: 300\n"
      ]
     },
     "metadata": {},
     "output_type": "display_data"
    },
    {
     "data": {
      "text/html": [
       "<pre style=\"white-space:pre;overflow-x:auto;line-height:normal;font-family:Menlo,'DejaVu Sans Mono',consolas,'Courier New',monospace\">mean: -0.007172804638542998, r: -2.151841391562899, md: 300\n",
       "</pre>\n"
      ],
      "text/plain": [
       "mean: -0.007172804638542998, r: -2.151841391562899, md: 300\n"
      ]
     },
     "metadata": {},
     "output_type": "display_data"
    },
    {
     "data": {
      "text/html": [
       "<pre style=\"white-space:pre;overflow-x:auto;line-height:normal;font-family:Menlo,'DejaVu Sans Mono',consolas,'Courier New',monospace\">mean: -0.004706266985454162, r: -1.4118800956362483, md: 300\n",
       "</pre>\n"
      ],
      "text/plain": [
       "mean: -0.004706266985454162, r: -1.4118800956362483, md: 300\n"
      ]
     },
     "metadata": {},
     "output_type": "display_data"
    },
    {
     "data": {
      "text/html": [
       "<pre style=\"white-space:pre;overflow-x:auto;line-height:normal;font-family:Menlo,'DejaVu Sans Mono',consolas,'Courier New',monospace\">mean: -0.00245656271411365, r: -0.736968814234095, md: 300\n",
       "</pre>\n"
      ],
      "text/plain": [
       "mean: -0.00245656271411365, r: -0.736968814234095, md: 300\n"
      ]
     },
     "metadata": {},
     "output_type": "display_data"
    },
    {
     "data": {
      "text/html": [
       "<pre style=\"white-space:pre;overflow-x:auto;line-height:normal;font-family:Menlo,'DejaVu Sans Mono',consolas,'Courier New',monospace\">mean: -0.0025487167518063814, r: -0.7646150255419144, md: 300\n",
       "</pre>\n"
      ],
      "text/plain": [
       "mean: -0.0025487167518063814, r: -0.7646150255419144, md: 300\n"
      ]
     },
     "metadata": {},
     "output_type": "display_data"
    },
    {
     "data": {
      "text/html": [
       "<pre style=\"white-space:pre;overflow-x:auto;line-height:normal;font-family:Menlo,'DejaVu Sans Mono',consolas,'Courier New',monospace\"></pre>\n"
      ],
      "text/plain": []
     },
     "metadata": {},
     "output_type": "display_data"
    },
    {
     "data": {
      "text/html": [
       "<pre style=\"white-space:pre;overflow-x:auto;line-height:normal;font-family:Menlo,'DejaVu Sans Mono',consolas,'Courier New',monospace\">\n",
       "</pre>\n"
      ],
      "text/plain": [
       "\n"
      ]
     },
     "metadata": {},
     "output_type": "display_data"
    },
    {
     "data": {
      "application/vnd.jupyter.widget-view+json": {
       "model_id": "4d57b9d15998430f96772e3eff0aeb2e",
       "version_major": 2,
       "version_minor": 0
      },
      "text/plain": [
       "Output()"
      ]
     },
     "metadata": {},
     "output_type": "display_data"
    },
    {
     "name": "stdout",
     "output_type": "stream",
     "text": [
      "epoch 5: Mean Reward = -0.0025487167518063814\n"
     ]
    },
    {
     "data": {
      "text/html": [
       "<pre style=\"white-space:pre;overflow-x:auto;line-height:normal;font-family:Menlo,'DejaVu Sans Mono',consolas,'Courier New',monospace\">mean: -0.004689759115544975, r: -1.4069277346634923, md: 300\n",
       "</pre>\n"
      ],
      "text/plain": [
       "mean: -0.004689759115544975, r: -1.4069277346634923, md: 300\n"
      ]
     },
     "metadata": {},
     "output_type": "display_data"
    },
    {
     "data": {
      "text/html": [
       "<pre style=\"white-space:pre;overflow-x:auto;line-height:normal;font-family:Menlo,'DejaVu Sans Mono',consolas,'Courier New',monospace\">mean: -0.0020573753272024, r: -0.6172125981607199, md: 300\n",
       "</pre>\n"
      ],
      "text/plain": [
       "mean: -0.0020573753272024, r: -0.6172125981607199, md: 300\n"
      ]
     },
     "metadata": {},
     "output_type": "display_data"
    },
    {
     "data": {
      "text/html": [
       "<pre style=\"white-space:pre;overflow-x:auto;line-height:normal;font-family:Menlo,'DejaVu Sans Mono',consolas,'Courier New',monospace\">mean: 0.028021140902702746, r: 8.406342270810823, md: 300\n",
       "</pre>\n"
      ],
      "text/plain": [
       "mean: 0.028021140902702746, r: 8.406342270810823, md: 300\n"
      ]
     },
     "metadata": {},
     "output_type": "display_data"
    },
    {
     "data": {
      "text/html": [
       "<pre style=\"white-space:pre;overflow-x:auto;line-height:normal;font-family:Menlo,'DejaVu Sans Mono',consolas,'Courier New',monospace\">mean: -0.0028933224431326177, r: -0.8679967329397853, md: 300\n",
       "</pre>\n"
      ],
      "text/plain": [
       "mean: -0.0028933224431326177, r: -0.8679967329397853, md: 300\n"
      ]
     },
     "metadata": {},
     "output_type": "display_data"
    },
    {
     "data": {
      "text/html": [
       "<pre style=\"white-space:pre;overflow-x:auto;line-height:normal;font-family:Menlo,'DejaVu Sans Mono',consolas,'Courier New',monospace\">mean: -0.0022124001655933227, r: -0.6637200496779968, md: 300\n",
       "</pre>\n"
      ],
      "text/plain": [
       "mean: -0.0022124001655933227, r: -0.6637200496779968, md: 300\n"
      ]
     },
     "metadata": {},
     "output_type": "display_data"
    },
    {
     "data": {
      "text/html": [
       "<pre style=\"white-space:pre;overflow-x:auto;line-height:normal;font-family:Menlo,'DejaVu Sans Mono',consolas,'Courier New',monospace\"></pre>\n"
      ],
      "text/plain": []
     },
     "metadata": {},
     "output_type": "display_data"
    },
    {
     "data": {
      "text/html": [
       "<pre style=\"white-space:pre;overflow-x:auto;line-height:normal;font-family:Menlo,'DejaVu Sans Mono',consolas,'Courier New',monospace\">\n",
       "</pre>\n"
      ],
      "text/plain": [
       "\n"
      ]
     },
     "metadata": {},
     "output_type": "display_data"
    },
    {
     "data": {
      "application/vnd.jupyter.widget-view+json": {
       "model_id": "f26290a5391b4f279087911a257adf13",
       "version_major": 2,
       "version_minor": 0
      },
      "text/plain": [
       "Output()"
      ]
     },
     "metadata": {},
     "output_type": "display_data"
    },
    {
     "name": "stdout",
     "output_type": "stream",
     "text": [
      "epoch 6: Mean Reward = -0.0022124001655933227\n"
     ]
    },
    {
     "data": {
      "text/html": [
       "<pre style=\"white-space:pre;overflow-x:auto;line-height:normal;font-family:Menlo,'DejaVu Sans Mono',consolas,'Courier New',monospace\">mean: 0.004289999218426675, r: 1.2869997655280025, md: 300\n",
       "</pre>\n"
      ],
      "text/plain": [
       "mean: 0.004289999218426675, r: 1.2869997655280025, md: 300\n"
      ]
     },
     "metadata": {},
     "output_type": "display_data"
    },
    {
     "data": {
      "text/html": [
       "<pre style=\"white-space:pre;overflow-x:auto;line-height:normal;font-family:Menlo,'DejaVu Sans Mono',consolas,'Courier New',monospace\">mean: -0.002206981700960303, r: -0.6620945102880909, md: 300\n",
       "</pre>\n"
      ],
      "text/plain": [
       "mean: -0.002206981700960303, r: -0.6620945102880909, md: 300\n"
      ]
     },
     "metadata": {},
     "output_type": "display_data"
    },
    {
     "data": {
      "text/html": [
       "<pre style=\"white-space:pre;overflow-x:auto;line-height:normal;font-family:Menlo,'DejaVu Sans Mono',consolas,'Courier New',monospace\">mean: -0.006298590458799236, r: -1.889577137639771, md: 300\n",
       "</pre>\n"
      ],
      "text/plain": [
       "mean: -0.006298590458799236, r: -1.889577137639771, md: 300\n"
      ]
     },
     "metadata": {},
     "output_type": "display_data"
    },
    {
     "data": {
      "text/html": [
       "<pre style=\"white-space:pre;overflow-x:auto;line-height:normal;font-family:Menlo,'DejaVu Sans Mono',consolas,'Courier New',monospace\">mean: -0.003334688845852243, r: -1.000406653755673, md: 300\n",
       "</pre>\n"
      ],
      "text/plain": [
       "mean: -0.003334688845852243, r: -1.000406653755673, md: 300\n"
      ]
     },
     "metadata": {},
     "output_type": "display_data"
    },
    {
     "data": {
      "text/html": [
       "<pre style=\"white-space:pre;overflow-x:auto;line-height:normal;font-family:Menlo,'DejaVu Sans Mono',consolas,'Courier New',monospace\">mean: -0.0032195566587914894, r: -0.9658669976374468, md: 300\n",
       "</pre>\n"
      ],
      "text/plain": [
       "mean: -0.0032195566587914894, r: -0.9658669976374468, md: 300\n"
      ]
     },
     "metadata": {},
     "output_type": "display_data"
    },
    {
     "data": {
      "text/html": [
       "<pre style=\"white-space:pre;overflow-x:auto;line-height:normal;font-family:Menlo,'DejaVu Sans Mono',consolas,'Courier New',monospace\"></pre>\n"
      ],
      "text/plain": []
     },
     "metadata": {},
     "output_type": "display_data"
    },
    {
     "data": {
      "text/html": [
       "<pre style=\"white-space:pre;overflow-x:auto;line-height:normal;font-family:Menlo,'DejaVu Sans Mono',consolas,'Courier New',monospace\">\n",
       "</pre>\n"
      ],
      "text/plain": [
       "\n"
      ]
     },
     "metadata": {},
     "output_type": "display_data"
    },
    {
     "data": {
      "application/vnd.jupyter.widget-view+json": {
       "model_id": "75dd88ef145a4eb0a31067f7f1b4fd2a",
       "version_major": 2,
       "version_minor": 0
      },
      "text/plain": [
       "Output()"
      ]
     },
     "metadata": {},
     "output_type": "display_data"
    },
    {
     "name": "stdout",
     "output_type": "stream",
     "text": [
      "epoch 7: Mean Reward = -0.0032195566587914894\n"
     ]
    },
    {
     "data": {
      "text/html": [
       "<pre style=\"white-space:pre;overflow-x:auto;line-height:normal;font-family:Menlo,'DejaVu Sans Mono',consolas,'Courier New',monospace\">mean: -0.002276600334356307, r: -0.6829801003068922, md: 300\n",
       "</pre>\n"
      ],
      "text/plain": [
       "mean: -0.002276600334356307, r: -0.6829801003068922, md: 300\n"
      ]
     },
     "metadata": {},
     "output_type": "display_data"
    },
    {
     "data": {
      "text/html": [
       "<pre style=\"white-space:pre;overflow-x:auto;line-height:normal;font-family:Menlo,'DejaVu Sans Mono',consolas,'Courier New',monospace\">mean: -0.005705985763160366, r: -1.7117957289481098, md: 300\n",
       "</pre>\n"
      ],
      "text/plain": [
       "mean: -0.005705985763160366, r: -1.7117957289481098, md: 300\n"
      ]
     },
     "metadata": {},
     "output_type": "display_data"
    },
    {
     "data": {
      "text/html": [
       "<pre style=\"white-space:pre;overflow-x:auto;line-height:normal;font-family:Menlo,'DejaVu Sans Mono',consolas,'Courier New',monospace\">mean: -0.003588715554228117, r: -1.0766146662684353, md: 300\n",
       "</pre>\n"
      ],
      "text/plain": [
       "mean: -0.003588715554228117, r: -1.0766146662684353, md: 300\n"
      ]
     },
     "metadata": {},
     "output_type": "display_data"
    },
    {
     "data": {
      "text/html": [
       "<pre style=\"white-space:pre;overflow-x:auto;line-height:normal;font-family:Menlo,'DejaVu Sans Mono',consolas,'Courier New',monospace\">mean: -0.006426927265047036, r: -1.928078179514111, md: 300\n",
       "</pre>\n"
      ],
      "text/plain": [
       "mean: -0.006426927265047036, r: -1.928078179514111, md: 300\n"
      ]
     },
     "metadata": {},
     "output_type": "display_data"
    },
    {
     "data": {
      "text/html": [
       "<pre style=\"white-space:pre;overflow-x:auto;line-height:normal;font-family:Menlo,'DejaVu Sans Mono',consolas,'Courier New',monospace\">mean: -0.007196343728766033, r: -2.1589031186298095, md: 300\n",
       "</pre>\n"
      ],
      "text/plain": [
       "mean: -0.007196343728766033, r: -2.1589031186298095, md: 300\n"
      ]
     },
     "metadata": {},
     "output_type": "display_data"
    },
    {
     "data": {
      "text/html": [
       "<pre style=\"white-space:pre;overflow-x:auto;line-height:normal;font-family:Menlo,'DejaVu Sans Mono',consolas,'Courier New',monospace\"></pre>\n"
      ],
      "text/plain": []
     },
     "metadata": {},
     "output_type": "display_data"
    },
    {
     "data": {
      "text/html": [
       "<pre style=\"white-space:pre;overflow-x:auto;line-height:normal;font-family:Menlo,'DejaVu Sans Mono',consolas,'Courier New',monospace\">\n",
       "</pre>\n"
      ],
      "text/plain": [
       "\n"
      ]
     },
     "metadata": {},
     "output_type": "display_data"
    },
    {
     "data": {
      "application/vnd.jupyter.widget-view+json": {
       "model_id": "48113d7b5d7b4f758612edbc6b542039",
       "version_major": 2,
       "version_minor": 0
      },
      "text/plain": [
       "Output()"
      ]
     },
     "metadata": {},
     "output_type": "display_data"
    },
    {
     "name": "stdout",
     "output_type": "stream",
     "text": [
      "epoch 8: Mean Reward = -0.007196343728766033\n"
     ]
    },
    {
     "data": {
      "text/html": [
       "<pre style=\"white-space:pre;overflow-x:auto;line-height:normal;font-family:Menlo,'DejaVu Sans Mono',consolas,'Courier New',monospace\">mean: -0.00519203998540413, r: -1.5576119956212389, md: 300\n",
       "</pre>\n"
      ],
      "text/plain": [
       "mean: -0.00519203998540413, r: -1.5576119956212389, md: 300\n"
      ]
     },
     "metadata": {},
     "output_type": "display_data"
    },
    {
     "data": {
      "text/html": [
       "<pre style=\"white-space:pre;overflow-x:auto;line-height:normal;font-family:Menlo,'DejaVu Sans Mono',consolas,'Courier New',monospace\">mean: -0.002266029926506788, r: -0.6798089779520364, md: 300\n",
       "</pre>\n"
      ],
      "text/plain": [
       "mean: -0.002266029926506788, r: -0.6798089779520364, md: 300\n"
      ]
     },
     "metadata": {},
     "output_type": "display_data"
    },
    {
     "data": {
      "text/html": [
       "<pre style=\"white-space:pre;overflow-x:auto;line-height:normal;font-family:Menlo,'DejaVu Sans Mono',consolas,'Courier New',monospace\">mean: -0.007650696354302808, r: -2.2952089062908425, md: 300\n",
       "</pre>\n"
      ],
      "text/plain": [
       "mean: -0.007650696354302808, r: -2.2952089062908425, md: 300\n"
      ]
     },
     "metadata": {},
     "output_type": "display_data"
    },
    {
     "data": {
      "text/html": [
       "<pre style=\"white-space:pre;overflow-x:auto;line-height:normal;font-family:Menlo,'DejaVu Sans Mono',consolas,'Courier New',monospace\">mean: -0.002532886714829913, r: -0.7598660144489737, md: 300\n",
       "</pre>\n"
      ],
      "text/plain": [
       "mean: -0.002532886714829913, r: -0.7598660144489737, md: 300\n"
      ]
     },
     "metadata": {},
     "output_type": "display_data"
    },
    {
     "data": {
      "text/html": [
       "<pre style=\"white-space:pre;overflow-x:auto;line-height:normal;font-family:Menlo,'DejaVu Sans Mono',consolas,'Courier New',monospace\">mean: -0.005709761810797997, r: -1.712928543239399, md: 300\n",
       "</pre>\n"
      ],
      "text/plain": [
       "mean: -0.005709761810797997, r: -1.712928543239399, md: 300\n"
      ]
     },
     "metadata": {},
     "output_type": "display_data"
    },
    {
     "data": {
      "text/html": [
       "<pre style=\"white-space:pre;overflow-x:auto;line-height:normal;font-family:Menlo,'DejaVu Sans Mono',consolas,'Courier New',monospace\"></pre>\n"
      ],
      "text/plain": []
     },
     "metadata": {},
     "output_type": "display_data"
    },
    {
     "data": {
      "text/html": [
       "<pre style=\"white-space:pre;overflow-x:auto;line-height:normal;font-family:Menlo,'DejaVu Sans Mono',consolas,'Courier New',monospace\">\n",
       "</pre>\n"
      ],
      "text/plain": [
       "\n"
      ]
     },
     "metadata": {},
     "output_type": "display_data"
    },
    {
     "data": {
      "application/vnd.jupyter.widget-view+json": {
       "model_id": "2dc8d4553e7e42a2afe340a6fa6ef3af",
       "version_major": 2,
       "version_minor": 0
      },
      "text/plain": [
       "Output()"
      ]
     },
     "metadata": {},
     "output_type": "display_data"
    },
    {
     "name": "stdout",
     "output_type": "stream",
     "text": [
      "epoch 9: Mean Reward = -0.005709761810797997\n"
     ]
    },
    {
     "data": {
      "text/html": [
       "<pre style=\"white-space:pre;overflow-x:auto;line-height:normal;font-family:Menlo,'DejaVu Sans Mono',consolas,'Courier New',monospace\">mean: -0.002271553230166201, r: -0.6814659690498603, md: 300\n",
       "</pre>\n"
      ],
      "text/plain": [
       "mean: -0.002271553230166201, r: -0.6814659690498603, md: 300\n"
      ]
     },
     "metadata": {},
     "output_type": "display_data"
    },
    {
     "data": {
      "text/html": [
       "<pre style=\"white-space:pre;overflow-x:auto;line-height:normal;font-family:Menlo,'DejaVu Sans Mono',consolas,'Courier New',monospace\">mean: -0.0013787486107660692, r: -0.41362458322982076, md: 300\n",
       "</pre>\n"
      ],
      "text/plain": [
       "mean: -0.0013787486107660692, r: -0.41362458322982076, md: 300\n"
      ]
     },
     "metadata": {},
     "output_type": "display_data"
    },
    {
     "data": {
      "text/html": [
       "<pre style=\"white-space:pre;overflow-x:auto;line-height:normal;font-family:Menlo,'DejaVu Sans Mono',consolas,'Courier New',monospace\">mean: 0.060233335374316105, r: 18.070000612294834, md: 300\n",
       "</pre>\n"
      ],
      "text/plain": [
       "mean: 0.060233335374316105, r: 18.070000612294834, md: 300\n"
      ]
     },
     "metadata": {},
     "output_type": "display_data"
    },
    {
     "data": {
      "text/html": [
       "<pre style=\"white-space:pre;overflow-x:auto;line-height:normal;font-family:Menlo,'DejaVu Sans Mono',consolas,'Courier New',monospace\">mean: -0.003368690996948272, r: -1.0106072990844814, md: 300\n",
       "</pre>\n"
      ],
      "text/plain": [
       "mean: -0.003368690996948272, r: -1.0106072990844814, md: 300\n"
      ]
     },
     "metadata": {},
     "output_type": "display_data"
    },
    {
     "data": {
      "text/html": [
       "<pre style=\"white-space:pre;overflow-x:auto;line-height:normal;font-family:Menlo,'DejaVu Sans Mono',consolas,'Courier New',monospace\">mean: 0.0059316610290162325, r: 1.7794983087048697, md: 300\n",
       "</pre>\n"
      ],
      "text/plain": [
       "mean: 0.0059316610290162325, r: 1.7794983087048697, md: 300\n"
      ]
     },
     "metadata": {},
     "output_type": "display_data"
    },
    {
     "data": {
      "text/html": [
       "<pre style=\"white-space:pre;overflow-x:auto;line-height:normal;font-family:Menlo,'DejaVu Sans Mono',consolas,'Courier New',monospace\"></pre>\n"
      ],
      "text/plain": []
     },
     "metadata": {},
     "output_type": "display_data"
    },
    {
     "data": {
      "text/html": [
       "<pre style=\"white-space:pre;overflow-x:auto;line-height:normal;font-family:Menlo,'DejaVu Sans Mono',consolas,'Courier New',monospace\">\n",
       "</pre>\n"
      ],
      "text/plain": [
       "\n"
      ]
     },
     "metadata": {},
     "output_type": "display_data"
    },
    {
     "data": {
      "application/vnd.jupyter.widget-view+json": {
       "model_id": "d49308c3211f41e38eed81e8244fc1ee",
       "version_major": 2,
       "version_minor": 0
      },
      "text/plain": [
       "Output()"
      ]
     },
     "metadata": {},
     "output_type": "display_data"
    },
    {
     "name": "stdout",
     "output_type": "stream",
     "text": [
      "epoch 10: Mean Reward = 0.0059316610290162325\n"
     ]
    },
    {
     "data": {
      "text/html": [
       "<pre style=\"white-space:pre;overflow-x:auto;line-height:normal;font-family:Menlo,'DejaVu Sans Mono',consolas,'Courier New',monospace\">mean: -0.003013248038292068, r: -0.9039744114876203, md: 300\n",
       "</pre>\n"
      ],
      "text/plain": [
       "mean: -0.003013248038292068, r: -0.9039744114876203, md: 300\n"
      ]
     },
     "metadata": {},
     "output_type": "display_data"
    },
    {
     "data": {
      "text/html": [
       "<pre style=\"white-space:pre;overflow-x:auto;line-height:normal;font-family:Menlo,'DejaVu Sans Mono',consolas,'Courier New',monospace\">mean: -0.005687626006403679, r: -1.7062878019211039, md: 300\n",
       "</pre>\n"
      ],
      "text/plain": [
       "mean: -0.005687626006403679, r: -1.7062878019211039, md: 300\n"
      ]
     },
     "metadata": {},
     "output_type": "display_data"
    },
    {
     "data": {
      "text/html": [
       "<pre style=\"white-space:pre;overflow-x:auto;line-height:normal;font-family:Menlo,'DejaVu Sans Mono',consolas,'Courier New',monospace\">mean: -0.004606560743797595, r: -1.3819682231392783, md: 300\n",
       "</pre>\n"
      ],
      "text/plain": [
       "mean: -0.004606560743797595, r: -1.3819682231392783, md: 300\n"
      ]
     },
     "metadata": {},
     "output_type": "display_data"
    },
    {
     "data": {
      "text/html": [
       "<pre style=\"white-space:pre;overflow-x:auto;line-height:normal;font-family:Menlo,'DejaVu Sans Mono',consolas,'Courier New',monospace\">mean: -0.0059627655006901925, r: -1.7888296502070578, md: 300\n",
       "</pre>\n"
      ],
      "text/plain": [
       "mean: -0.0059627655006901925, r: -1.7888296502070578, md: 300\n"
      ]
     },
     "metadata": {},
     "output_type": "display_data"
    },
    {
     "data": {
      "text/html": [
       "<pre style=\"white-space:pre;overflow-x:auto;line-height:normal;font-family:Menlo,'DejaVu Sans Mono',consolas,'Courier New',monospace\">mean: -0.0029227613675247444, r: -0.8768284102574233, md: 300\n",
       "</pre>\n"
      ],
      "text/plain": [
       "mean: -0.0029227613675247444, r: -0.8768284102574233, md: 300\n"
      ]
     },
     "metadata": {},
     "output_type": "display_data"
    },
    {
     "data": {
      "text/html": [
       "<pre style=\"white-space:pre;overflow-x:auto;line-height:normal;font-family:Menlo,'DejaVu Sans Mono',consolas,'Courier New',monospace\"></pre>\n"
      ],
      "text/plain": []
     },
     "metadata": {},
     "output_type": "display_data"
    },
    {
     "data": {
      "text/html": [
       "<pre style=\"white-space:pre;overflow-x:auto;line-height:normal;font-family:Menlo,'DejaVu Sans Mono',consolas,'Courier New',monospace\">\n",
       "</pre>\n"
      ],
      "text/plain": [
       "\n"
      ]
     },
     "metadata": {},
     "output_type": "display_data"
    },
    {
     "data": {
      "application/vnd.jupyter.widget-view+json": {
       "model_id": "62710d73994143db9421dba817cd1b20",
       "version_major": 2,
       "version_minor": 0
      },
      "text/plain": [
       "Output()"
      ]
     },
     "metadata": {},
     "output_type": "display_data"
    },
    {
     "name": "stdout",
     "output_type": "stream",
     "text": [
      "epoch 11: Mean Reward = -0.0029227613675247444\n"
     ]
    },
    {
     "data": {
      "text/html": [
       "<pre style=\"white-space:pre;overflow-x:auto;line-height:normal;font-family:Menlo,'DejaVu Sans Mono',consolas,'Courier New',monospace\">mean: -0.003303173663433515, r: -0.9909520990300545, md: 300\n",
       "</pre>\n"
      ],
      "text/plain": [
       "mean: -0.003303173663433515, r: -0.9909520990300545, md: 300\n"
      ]
     },
     "metadata": {},
     "output_type": "display_data"
    },
    {
     "data": {
      "text/html": [
       "<pre style=\"white-space:pre;overflow-x:auto;line-height:normal;font-family:Menlo,'DejaVu Sans Mono',consolas,'Courier New',monospace\">mean: -0.007407706533757169, r: -2.2223119601271506, md: 300\n",
       "</pre>\n"
      ],
      "text/plain": [
       "mean: -0.007407706533757169, r: -2.2223119601271506, md: 300\n"
      ]
     },
     "metadata": {},
     "output_type": "display_data"
    },
    {
     "data": {
      "text/html": [
       "<pre style=\"white-space:pre;overflow-x:auto;line-height:normal;font-family:Menlo,'DejaVu Sans Mono',consolas,'Courier New',monospace\">mean: 0.0014272570286233634, r: 0.428177108587009, md: 300\n",
       "</pre>\n"
      ],
      "text/plain": [
       "mean: 0.0014272570286233634, r: 0.428177108587009, md: 300\n"
      ]
     },
     "metadata": {},
     "output_type": "display_data"
    },
    {
     "data": {
      "text/html": [
       "<pre style=\"white-space:pre;overflow-x:auto;line-height:normal;font-family:Menlo,'DejaVu Sans Mono',consolas,'Courier New',monospace\">mean: -0.004248349691229832, r: -1.2745049073689496, md: 300\n",
       "</pre>\n"
      ],
      "text/plain": [
       "mean: -0.004248349691229832, r: -1.2745049073689496, md: 300\n"
      ]
     },
     "metadata": {},
     "output_type": "display_data"
    },
    {
     "data": {
      "text/html": [
       "<pre style=\"white-space:pre;overflow-x:auto;line-height:normal;font-family:Menlo,'DejaVu Sans Mono',consolas,'Courier New',monospace\">mean: -0.005125254015388032, r: -1.5375762046164099, md: 300\n",
       "</pre>\n"
      ],
      "text/plain": [
       "mean: -0.005125254015388032, r: -1.5375762046164099, md: 300\n"
      ]
     },
     "metadata": {},
     "output_type": "display_data"
    },
    {
     "data": {
      "text/html": [
       "<pre style=\"white-space:pre;overflow-x:auto;line-height:normal;font-family:Menlo,'DejaVu Sans Mono',consolas,'Courier New',monospace\"></pre>\n"
      ],
      "text/plain": []
     },
     "metadata": {},
     "output_type": "display_data"
    },
    {
     "data": {
      "text/html": [
       "<pre style=\"white-space:pre;overflow-x:auto;line-height:normal;font-family:Menlo,'DejaVu Sans Mono',consolas,'Courier New',monospace\">\n",
       "</pre>\n"
      ],
      "text/plain": [
       "\n"
      ]
     },
     "metadata": {},
     "output_type": "display_data"
    },
    {
     "data": {
      "application/vnd.jupyter.widget-view+json": {
       "model_id": "71f5f2e4fe4444449df1f5fb3245c549",
       "version_major": 2,
       "version_minor": 0
      },
      "text/plain": [
       "Output()"
      ]
     },
     "metadata": {},
     "output_type": "display_data"
    },
    {
     "name": "stdout",
     "output_type": "stream",
     "text": [
      "epoch 12: Mean Reward = -0.005125254015388032\n"
     ]
    },
    {
     "data": {
      "text/html": [
       "<pre style=\"white-space:pre;overflow-x:auto;line-height:normal;font-family:Menlo,'DejaVu Sans Mono',consolas,'Courier New',monospace\">mean: -0.0037101393346979754, r: -1.1130418004093925, md: 300\n",
       "</pre>\n"
      ],
      "text/plain": [
       "mean: -0.0037101393346979754, r: -1.1130418004093925, md: 300\n"
      ]
     },
     "metadata": {},
     "output_type": "display_data"
    },
    {
     "data": {
      "text/html": [
       "<pre style=\"white-space:pre;overflow-x:auto;line-height:normal;font-family:Menlo,'DejaVu Sans Mono',consolas,'Courier New',monospace\">mean: -0.005202024262985734, r: -1.5606072788957204, md: 300\n",
       "</pre>\n"
      ],
      "text/plain": [
       "mean: -0.005202024262985734, r: -1.5606072788957204, md: 300\n"
      ]
     },
     "metadata": {},
     "output_type": "display_data"
    },
    {
     "data": {
      "text/html": [
       "<pre style=\"white-space:pre;overflow-x:auto;line-height:normal;font-family:Menlo,'DejaVu Sans Mono',consolas,'Courier New',monospace\">mean: -0.0025628912756123154, r: -0.7688673826836946, md: 300\n",
       "</pre>\n"
      ],
      "text/plain": [
       "mean: -0.0025628912756123154, r: -0.7688673826836946, md: 300\n"
      ]
     },
     "metadata": {},
     "output_type": "display_data"
    },
    {
     "data": {
      "text/html": [
       "<pre style=\"white-space:pre;overflow-x:auto;line-height:normal;font-family:Menlo,'DejaVu Sans Mono',consolas,'Courier New',monospace\">mean: -0.004517129370963026, r: -1.3551388112889076, md: 300\n",
       "</pre>\n"
      ],
      "text/plain": [
       "mean: -0.004517129370963026, r: -1.3551388112889076, md: 300\n"
      ]
     },
     "metadata": {},
     "output_type": "display_data"
    },
    {
     "data": {
      "text/html": [
       "<pre style=\"white-space:pre;overflow-x:auto;line-height:normal;font-family:Menlo,'DejaVu Sans Mono',consolas,'Courier New',monospace\">mean: 0.003558603776420655, r: 1.0675811329261964, md: 300\n",
       "</pre>\n"
      ],
      "text/plain": [
       "mean: 0.003558603776420655, r: 1.0675811329261964, md: 300\n"
      ]
     },
     "metadata": {},
     "output_type": "display_data"
    },
    {
     "data": {
      "text/html": [
       "<pre style=\"white-space:pre;overflow-x:auto;line-height:normal;font-family:Menlo,'DejaVu Sans Mono',consolas,'Courier New',monospace\"></pre>\n"
      ],
      "text/plain": []
     },
     "metadata": {},
     "output_type": "display_data"
    },
    {
     "data": {
      "text/html": [
       "<pre style=\"white-space:pre;overflow-x:auto;line-height:normal;font-family:Menlo,'DejaVu Sans Mono',consolas,'Courier New',monospace\">\n",
       "</pre>\n"
      ],
      "text/plain": [
       "\n"
      ]
     },
     "metadata": {},
     "output_type": "display_data"
    },
    {
     "data": {
      "application/vnd.jupyter.widget-view+json": {
       "model_id": "d5beba03d7954c9b8431b0b74d0f9d7c",
       "version_major": 2,
       "version_minor": 0
      },
      "text/plain": [
       "Output()"
      ]
     },
     "metadata": {},
     "output_type": "display_data"
    },
    {
     "name": "stdout",
     "output_type": "stream",
     "text": [
      "epoch 13: Mean Reward = 0.003558603776420655\n"
     ]
    },
    {
     "data": {
      "text/html": [
       "<pre style=\"white-space:pre;overflow-x:auto;line-height:normal;font-family:Menlo,'DejaVu Sans Mono',consolas,'Courier New',monospace\">mean: -0.004224858985886901, r: -1.2674576957660704, md: 300\n",
       "</pre>\n"
      ],
      "text/plain": [
       "mean: -0.004224858985886901, r: -1.2674576957660704, md: 300\n"
      ]
     },
     "metadata": {},
     "output_type": "display_data"
    },
    {
     "data": {
      "text/html": [
       "<pre style=\"white-space:pre;overflow-x:auto;line-height:normal;font-family:Menlo,'DejaVu Sans Mono',consolas,'Courier New',monospace\">mean: -0.0050905002785483185, r: -1.5271500835644956, md: 300\n",
       "</pre>\n"
      ],
      "text/plain": [
       "mean: -0.0050905002785483185, r: -1.5271500835644956, md: 300\n"
      ]
     },
     "metadata": {},
     "output_type": "display_data"
    },
    {
     "data": {
      "text/html": [
       "<pre style=\"white-space:pre;overflow-x:auto;line-height:normal;font-family:Menlo,'DejaVu Sans Mono',consolas,'Courier New',monospace\">mean: -0.00549595018427977, r: -1.648785055283931, md: 300\n",
       "</pre>\n"
      ],
      "text/plain": [
       "mean: -0.00549595018427977, r: -1.648785055283931, md: 300\n"
      ]
     },
     "metadata": {},
     "output_type": "display_data"
    },
    {
     "data": {
      "text/html": [
       "<pre style=\"white-space:pre;overflow-x:auto;line-height:normal;font-family:Menlo,'DejaVu Sans Mono',consolas,'Courier New',monospace\">mean: -0.005306134911731472, r: -1.5918404735194414, md: 300\n",
       "</pre>\n"
      ],
      "text/plain": [
       "mean: -0.005306134911731472, r: -1.5918404735194414, md: 300\n"
      ]
     },
     "metadata": {},
     "output_type": "display_data"
    },
    {
     "data": {
      "text/html": [
       "<pre style=\"white-space:pre;overflow-x:auto;line-height:normal;font-family:Menlo,'DejaVu Sans Mono',consolas,'Courier New',monospace\">mean: 0.08397456438324444, r: 25.192369314973334, md: 300\n",
       "</pre>\n"
      ],
      "text/plain": [
       "mean: 0.08397456438324444, r: 25.192369314973334, md: 300\n"
      ]
     },
     "metadata": {},
     "output_type": "display_data"
    },
    {
     "data": {
      "text/html": [
       "<pre style=\"white-space:pre;overflow-x:auto;line-height:normal;font-family:Menlo,'DejaVu Sans Mono',consolas,'Courier New',monospace\"></pre>\n"
      ],
      "text/plain": []
     },
     "metadata": {},
     "output_type": "display_data"
    },
    {
     "data": {
      "text/html": [
       "<pre style=\"white-space:pre;overflow-x:auto;line-height:normal;font-family:Menlo,'DejaVu Sans Mono',consolas,'Courier New',monospace\">\n",
       "</pre>\n"
      ],
      "text/plain": [
       "\n"
      ]
     },
     "metadata": {},
     "output_type": "display_data"
    },
    {
     "data": {
      "application/vnd.jupyter.widget-view+json": {
       "model_id": "a94c06d744c4490fb6f8501a2c94d7c9",
       "version_major": 2,
       "version_minor": 0
      },
      "text/plain": [
       "Output()"
      ]
     },
     "metadata": {},
     "output_type": "display_data"
    },
    {
     "name": "stdout",
     "output_type": "stream",
     "text": [
      "epoch 14: Mean Reward = 0.08397456438324444\n"
     ]
    },
    {
     "data": {
      "text/html": [
       "<pre style=\"white-space:pre;overflow-x:auto;line-height:normal;font-family:Menlo,'DejaVu Sans Mono',consolas,'Courier New',monospace\">mean: -0.003443848260584744, r: -1.0331544781754234, md: 300\n",
       "</pre>\n"
      ],
      "text/plain": [
       "mean: -0.003443848260584744, r: -1.0331544781754234, md: 300\n"
      ]
     },
     "metadata": {},
     "output_type": "display_data"
    },
    {
     "data": {
      "text/html": [
       "<pre style=\"white-space:pre;overflow-x:auto;line-height:normal;font-family:Menlo,'DejaVu Sans Mono',consolas,'Courier New',monospace\">mean: -0.0026683235848897245, r: -0.8004970754669174, md: 300\n",
       "</pre>\n"
      ],
      "text/plain": [
       "mean: -0.0026683235848897245, r: -0.8004970754669174, md: 300\n"
      ]
     },
     "metadata": {},
     "output_type": "display_data"
    },
    {
     "data": {
      "text/html": [
       "<pre style=\"white-space:pre;overflow-x:auto;line-height:normal;font-family:Menlo,'DejaVu Sans Mono',consolas,'Courier New',monospace\">mean: -0.002873285667068585, r: -0.8619857001205755, md: 300\n",
       "</pre>\n"
      ],
      "text/plain": [
       "mean: -0.002873285667068585, r: -0.8619857001205755, md: 300\n"
      ]
     },
     "metadata": {},
     "output_type": "display_data"
    },
    {
     "data": {
      "text/html": [
       "<pre style=\"white-space:pre;overflow-x:auto;line-height:normal;font-family:Menlo,'DejaVu Sans Mono',consolas,'Courier New',monospace\">mean: -0.006386448605294755, r: -1.9159345815884263, md: 300\n",
       "</pre>\n"
      ],
      "text/plain": [
       "mean: -0.006386448605294755, r: -1.9159345815884263, md: 300\n"
      ]
     },
     "metadata": {},
     "output_type": "display_data"
    },
    {
     "data": {
      "text/html": [
       "<pre style=\"white-space:pre;overflow-x:auto;line-height:normal;font-family:Menlo,'DejaVu Sans Mono',consolas,'Courier New',monospace\">mean: -0.002437997572648117, r: -0.7313992717944352, md: 300\n",
       "</pre>\n"
      ],
      "text/plain": [
       "mean: -0.002437997572648117, r: -0.7313992717944352, md: 300\n"
      ]
     },
     "metadata": {},
     "output_type": "display_data"
    },
    {
     "data": {
      "text/html": [
       "<pre style=\"white-space:pre;overflow-x:auto;line-height:normal;font-family:Menlo,'DejaVu Sans Mono',consolas,'Courier New',monospace\"></pre>\n"
      ],
      "text/plain": []
     },
     "metadata": {},
     "output_type": "display_data"
    },
    {
     "data": {
      "text/html": [
       "<pre style=\"white-space:pre;overflow-x:auto;line-height:normal;font-family:Menlo,'DejaVu Sans Mono',consolas,'Courier New',monospace\">\n",
       "</pre>\n"
      ],
      "text/plain": [
       "\n"
      ]
     },
     "metadata": {},
     "output_type": "display_data"
    },
    {
     "data": {
      "application/vnd.jupyter.widget-view+json": {
       "model_id": "e2a25e78a61a4b808dd25b5a925822cc",
       "version_major": 2,
       "version_minor": 0
      },
      "text/plain": [
       "Output()"
      ]
     },
     "metadata": {},
     "output_type": "display_data"
    },
    {
     "name": "stdout",
     "output_type": "stream",
     "text": [
      "epoch 15: Mean Reward = -0.002437997572648117\n"
     ]
    },
    {
     "data": {
      "text/html": [
       "<pre style=\"white-space:pre;overflow-x:auto;line-height:normal;font-family:Menlo,'DejaVu Sans Mono',consolas,'Courier New',monospace\">mean: -0.0037495922467470615, r: -1.1248776740241184, md: 300\n",
       "</pre>\n"
      ],
      "text/plain": [
       "mean: -0.0037495922467470615, r: -1.1248776740241184, md: 300\n"
      ]
     },
     "metadata": {},
     "output_type": "display_data"
    },
    {
     "data": {
      "text/html": [
       "<pre style=\"white-space:pre;overflow-x:auto;line-height:normal;font-family:Menlo,'DejaVu Sans Mono',consolas,'Courier New',monospace\">mean: -0.008440594544770199, r: -2.5321783634310595, md: 300\n",
       "</pre>\n"
      ],
      "text/plain": [
       "mean: -0.008440594544770199, r: -2.5321783634310595, md: 300\n"
      ]
     },
     "metadata": {},
     "output_type": "display_data"
    },
    {
     "data": {
      "text/html": [
       "<pre style=\"white-space:pre;overflow-x:auto;line-height:normal;font-family:Menlo,'DejaVu Sans Mono',consolas,'Courier New',monospace\">mean: -0.004842668316821137, r: -1.4528004950463411, md: 300\n",
       "</pre>\n"
      ],
      "text/plain": [
       "mean: -0.004842668316821137, r: -1.4528004950463411, md: 300\n"
      ]
     },
     "metadata": {},
     "output_type": "display_data"
    },
    {
     "data": {
      "text/html": [
       "<pre style=\"white-space:pre;overflow-x:auto;line-height:normal;font-family:Menlo,'DejaVu Sans Mono',consolas,'Courier New',monospace\">mean: -0.003893506768816912, r: -1.1680520306450737, md: 300\n",
       "</pre>\n"
      ],
      "text/plain": [
       "mean: -0.003893506768816912, r: -1.1680520306450737, md: 300\n"
      ]
     },
     "metadata": {},
     "output_type": "display_data"
    },
    {
     "data": {
      "text/html": [
       "<pre style=\"white-space:pre;overflow-x:auto;line-height:normal;font-family:Menlo,'DejaVu Sans Mono',consolas,'Courier New',monospace\">mean: -0.002742799685951118, r: -0.8228399057853354, md: 300\n",
       "</pre>\n"
      ],
      "text/plain": [
       "mean: -0.002742799685951118, r: -0.8228399057853354, md: 300\n"
      ]
     },
     "metadata": {},
     "output_type": "display_data"
    },
    {
     "data": {
      "text/html": [
       "<pre style=\"white-space:pre;overflow-x:auto;line-height:normal;font-family:Menlo,'DejaVu Sans Mono',consolas,'Courier New',monospace\"></pre>\n"
      ],
      "text/plain": []
     },
     "metadata": {},
     "output_type": "display_data"
    },
    {
     "data": {
      "text/html": [
       "<pre style=\"white-space:pre;overflow-x:auto;line-height:normal;font-family:Menlo,'DejaVu Sans Mono',consolas,'Courier New',monospace\">\n",
       "</pre>\n"
      ],
      "text/plain": [
       "\n"
      ]
     },
     "metadata": {},
     "output_type": "display_data"
    },
    {
     "data": {
      "application/vnd.jupyter.widget-view+json": {
       "model_id": "cff2925410b24e129509cfb667941cfe",
       "version_major": 2,
       "version_minor": 0
      },
      "text/plain": [
       "Output()"
      ]
     },
     "metadata": {},
     "output_type": "display_data"
    },
    {
     "name": "stdout",
     "output_type": "stream",
     "text": [
      "epoch 16: Mean Reward = -0.002742799685951118\n"
     ]
    },
    {
     "data": {
      "text/html": [
       "<pre style=\"white-space:pre;overflow-x:auto;line-height:normal;font-family:Menlo,'DejaVu Sans Mono',consolas,'Courier New',monospace\">mean: -0.006632647440897861, r: -1.9897942322693583, md: 300\n",
       "</pre>\n"
      ],
      "text/plain": [
       "mean: -0.006632647440897861, r: -1.9897942322693583, md: 300\n"
      ]
     },
     "metadata": {},
     "output_type": "display_data"
    },
    {
     "data": {
      "text/html": [
       "<pre style=\"white-space:pre;overflow-x:auto;line-height:normal;font-family:Menlo,'DejaVu Sans Mono',consolas,'Courier New',monospace\">mean: -0.006423505803593958, r: -1.9270517410781876, md: 300\n",
       "</pre>\n"
      ],
      "text/plain": [
       "mean: -0.006423505803593958, r: -1.9270517410781876, md: 300\n"
      ]
     },
     "metadata": {},
     "output_type": "display_data"
    },
    {
     "data": {
      "text/html": [
       "<pre style=\"white-space:pre;overflow-x:auto;line-height:normal;font-family:Menlo,'DejaVu Sans Mono',consolas,'Courier New',monospace\">mean: -0.004245726671059954, r: -1.2737180013179863, md: 300\n",
       "</pre>\n"
      ],
      "text/plain": [
       "mean: -0.004245726671059954, r: -1.2737180013179863, md: 300\n"
      ]
     },
     "metadata": {},
     "output_type": "display_data"
    },
    {
     "data": {
      "text/html": [
       "<pre style=\"white-space:pre;overflow-x:auto;line-height:normal;font-family:Menlo,'DejaVu Sans Mono',consolas,'Courier New',monospace\">mean: -0.004347964466360346, r: -1.304389339908104, md: 300\n",
       "</pre>\n"
      ],
      "text/plain": [
       "mean: -0.004347964466360346, r: -1.304389339908104, md: 300\n"
      ]
     },
     "metadata": {},
     "output_type": "display_data"
    },
    {
     "data": {
      "text/html": [
       "<pre style=\"white-space:pre;overflow-x:auto;line-height:normal;font-family:Menlo,'DejaVu Sans Mono',consolas,'Courier New',monospace\">mean: -0.0024641408715940184, r: -0.7392422614782054, md: 300\n",
       "</pre>\n"
      ],
      "text/plain": [
       "mean: -0.0024641408715940184, r: -0.7392422614782054, md: 300\n"
      ]
     },
     "metadata": {},
     "output_type": "display_data"
    },
    {
     "data": {
      "text/html": [
       "<pre style=\"white-space:pre;overflow-x:auto;line-height:normal;font-family:Menlo,'DejaVu Sans Mono',consolas,'Courier New',monospace\"></pre>\n"
      ],
      "text/plain": []
     },
     "metadata": {},
     "output_type": "display_data"
    },
    {
     "data": {
      "text/html": [
       "<pre style=\"white-space:pre;overflow-x:auto;line-height:normal;font-family:Menlo,'DejaVu Sans Mono',consolas,'Courier New',monospace\">\n",
       "</pre>\n"
      ],
      "text/plain": [
       "\n"
      ]
     },
     "metadata": {},
     "output_type": "display_data"
    },
    {
     "data": {
      "application/vnd.jupyter.widget-view+json": {
       "model_id": "0a22bf32dced450bab2feb0647b6cbf7",
       "version_major": 2,
       "version_minor": 0
      },
      "text/plain": [
       "Output()"
      ]
     },
     "metadata": {},
     "output_type": "display_data"
    },
    {
     "name": "stdout",
     "output_type": "stream",
     "text": [
      "epoch 17: Mean Reward = -0.0024641408715940184\n"
     ]
    },
    {
     "data": {
      "text/html": [
       "<pre style=\"white-space:pre;overflow-x:auto;line-height:normal;font-family:Menlo,'DejaVu Sans Mono',consolas,'Courier New',monospace\">mean: -0.00584335464829927, r: -1.7530063944897811, md: 300\n",
       "</pre>\n"
      ],
      "text/plain": [
       "mean: -0.00584335464829927, r: -1.7530063944897811, md: 300\n"
      ]
     },
     "metadata": {},
     "output_type": "display_data"
    },
    {
     "data": {
      "text/html": [
       "<pre style=\"white-space:pre;overflow-x:auto;line-height:normal;font-family:Menlo,'DejaVu Sans Mono',consolas,'Courier New',monospace\">mean: -0.005240135936642255, r: -1.5720407809926766, md: 300\n",
       "</pre>\n"
      ],
      "text/plain": [
       "mean: -0.005240135936642255, r: -1.5720407809926766, md: 300\n"
      ]
     },
     "metadata": {},
     "output_type": "display_data"
    },
    {
     "data": {
      "text/html": [
       "<pre style=\"white-space:pre;overflow-x:auto;line-height:normal;font-family:Menlo,'DejaVu Sans Mono',consolas,'Courier New',monospace\">mean: 0.039830050552601554, r: 11.949015165780466, md: 300\n",
       "</pre>\n"
      ],
      "text/plain": [
       "mean: 0.039830050552601554, r: 11.949015165780466, md: 300\n"
      ]
     },
     "metadata": {},
     "output_type": "display_data"
    },
    {
     "data": {
      "text/html": [
       "<pre style=\"white-space:pre;overflow-x:auto;line-height:normal;font-family:Menlo,'DejaVu Sans Mono',consolas,'Courier New',monospace\">mean: -0.0007739804003797575, r: -0.23219412011392726, md: 300\n",
       "</pre>\n"
      ],
      "text/plain": [
       "mean: -0.0007739804003797575, r: -0.23219412011392726, md: 300\n"
      ]
     },
     "metadata": {},
     "output_type": "display_data"
    },
    {
     "data": {
      "text/html": [
       "<pre style=\"white-space:pre;overflow-x:auto;line-height:normal;font-family:Menlo,'DejaVu Sans Mono',consolas,'Courier New',monospace\">mean: -0.004637494846304165, r: -1.3912484538912493, md: 300\n",
       "</pre>\n"
      ],
      "text/plain": [
       "mean: -0.004637494846304165, r: -1.3912484538912493, md: 300\n"
      ]
     },
     "metadata": {},
     "output_type": "display_data"
    },
    {
     "data": {
      "text/html": [
       "<pre style=\"white-space:pre;overflow-x:auto;line-height:normal;font-family:Menlo,'DejaVu Sans Mono',consolas,'Courier New',monospace\"></pre>\n"
      ],
      "text/plain": []
     },
     "metadata": {},
     "output_type": "display_data"
    },
    {
     "data": {
      "text/html": [
       "<pre style=\"white-space:pre;overflow-x:auto;line-height:normal;font-family:Menlo,'DejaVu Sans Mono',consolas,'Courier New',monospace\">\n",
       "</pre>\n"
      ],
      "text/plain": [
       "\n"
      ]
     },
     "metadata": {},
     "output_type": "display_data"
    },
    {
     "data": {
      "application/vnd.jupyter.widget-view+json": {
       "model_id": "a34ecedf62cf431ea9764c0e6c81e5bd",
       "version_major": 2,
       "version_minor": 0
      },
      "text/plain": [
       "Output()"
      ]
     },
     "metadata": {},
     "output_type": "display_data"
    },
    {
     "name": "stdout",
     "output_type": "stream",
     "text": [
      "epoch 18: Mean Reward = -0.004637494846304165\n"
     ]
    },
    {
     "data": {
      "text/html": [
       "<pre style=\"white-space:pre;overflow-x:auto;line-height:normal;font-family:Menlo,'DejaVu Sans Mono',consolas,'Courier New',monospace\">mean: -0.0044917165163313455, r: -1.3475149548994034, md: 300\n",
       "</pre>\n"
      ],
      "text/plain": [
       "mean: -0.0044917165163313455, r: -1.3475149548994034, md: 300\n"
      ]
     },
     "metadata": {},
     "output_type": "display_data"
    },
    {
     "data": {
      "text/html": [
       "<pre style=\"white-space:pre;overflow-x:auto;line-height:normal;font-family:Menlo,'DejaVu Sans Mono',consolas,'Courier New',monospace\">mean: -0.005921572957335993, r: -1.776471887200798, md: 300\n",
       "</pre>\n"
      ],
      "text/plain": [
       "mean: -0.005921572957335993, r: -1.776471887200798, md: 300\n"
      ]
     },
     "metadata": {},
     "output_type": "display_data"
    },
    {
     "data": {
      "text/html": [
       "<pre style=\"white-space:pre;overflow-x:auto;line-height:normal;font-family:Menlo,'DejaVu Sans Mono',consolas,'Courier New',monospace\">mean: 0.06264878478218447, r: 18.794635434655344, md: 300\n",
       "</pre>\n"
      ],
      "text/plain": [
       "mean: 0.06264878478218447, r: 18.794635434655344, md: 300\n"
      ]
     },
     "metadata": {},
     "output_type": "display_data"
    },
    {
     "data": {
      "text/html": [
       "<pre style=\"white-space:pre;overflow-x:auto;line-height:normal;font-family:Menlo,'DejaVu Sans Mono',consolas,'Courier New',monospace\">mean: -0.0036610362856712504, r: -1.098310885701375, md: 300\n",
       "</pre>\n"
      ],
      "text/plain": [
       "mean: -0.0036610362856712504, r: -1.098310885701375, md: 300\n"
      ]
     },
     "metadata": {},
     "output_type": "display_data"
    },
    {
     "data": {
      "text/html": [
       "<pre style=\"white-space:pre;overflow-x:auto;line-height:normal;font-family:Menlo,'DejaVu Sans Mono',consolas,'Courier New',monospace\">mean: -0.0043237315316112844, r: -1.2971194594833853, md: 300\n",
       "</pre>\n"
      ],
      "text/plain": [
       "mean: -0.0043237315316112844, r: -1.2971194594833853, md: 300\n"
      ]
     },
     "metadata": {},
     "output_type": "display_data"
    },
    {
     "data": {
      "text/html": [
       "<pre style=\"white-space:pre;overflow-x:auto;line-height:normal;font-family:Menlo,'DejaVu Sans Mono',consolas,'Courier New',monospace\"></pre>\n"
      ],
      "text/plain": []
     },
     "metadata": {},
     "output_type": "display_data"
    },
    {
     "data": {
      "text/html": [
       "<pre style=\"white-space:pre;overflow-x:auto;line-height:normal;font-family:Menlo,'DejaVu Sans Mono',consolas,'Courier New',monospace\">\n",
       "</pre>\n"
      ],
      "text/plain": [
       "\n"
      ]
     },
     "metadata": {},
     "output_type": "display_data"
    },
    {
     "data": {
      "application/vnd.jupyter.widget-view+json": {
       "model_id": "a7cede6de1b34c919a0307c6508ab6ff",
       "version_major": 2,
       "version_minor": 0
      },
      "text/plain": [
       "Output()"
      ]
     },
     "metadata": {},
     "output_type": "display_data"
    },
    {
     "name": "stdout",
     "output_type": "stream",
     "text": [
      "epoch 19: Mean Reward = -0.0043237315316112844\n"
     ]
    },
    {
     "data": {
      "text/html": [
       "<pre style=\"white-space:pre;overflow-x:auto;line-height:normal;font-family:Menlo,'DejaVu Sans Mono',consolas,'Courier New',monospace\">mean: 0.01762344632729306, r: 5.287033898187918, md: 300\n",
       "</pre>\n"
      ],
      "text/plain": [
       "mean: 0.01762344632729306, r: 5.287033898187918, md: 300\n"
      ]
     },
     "metadata": {},
     "output_type": "display_data"
    },
    {
     "data": {
      "text/html": [
       "<pre style=\"white-space:pre;overflow-x:auto;line-height:normal;font-family:Menlo,'DejaVu Sans Mono',consolas,'Courier New',monospace\">mean: -0.0050409440969626, r: -1.51228322908878, md: 300\n",
       "</pre>\n"
      ],
      "text/plain": [
       "mean: -0.0050409440969626, r: -1.51228322908878, md: 300\n"
      ]
     },
     "metadata": {},
     "output_type": "display_data"
    },
    {
     "data": {
      "text/html": [
       "<pre style=\"white-space:pre;overflow-x:auto;line-height:normal;font-family:Menlo,'DejaVu Sans Mono',consolas,'Courier New',monospace\">mean: -0.005786827833764375, r: -1.7360483501293125, md: 300\n",
       "</pre>\n"
      ],
      "text/plain": [
       "mean: -0.005786827833764375, r: -1.7360483501293125, md: 300\n"
      ]
     },
     "metadata": {},
     "output_type": "display_data"
    },
    {
     "data": {
      "text/html": [
       "<pre style=\"white-space:pre;overflow-x:auto;line-height:normal;font-family:Menlo,'DejaVu Sans Mono',consolas,'Courier New',monospace\">mean: -0.0026225273293044695, r: -0.7867581987913408, md: 300\n",
       "</pre>\n"
      ],
      "text/plain": [
       "mean: -0.0026225273293044695, r: -0.7867581987913408, md: 300\n"
      ]
     },
     "metadata": {},
     "output_type": "display_data"
    },
    {
     "data": {
      "text/html": [
       "<pre style=\"white-space:pre;overflow-x:auto;line-height:normal;font-family:Menlo,'DejaVu Sans Mono',consolas,'Courier New',monospace\">mean: -0.005183147988646252, r: -1.5549443965938754, md: 300\n",
       "</pre>\n"
      ],
      "text/plain": [
       "mean: -0.005183147988646252, r: -1.5549443965938754, md: 300\n"
      ]
     },
     "metadata": {},
     "output_type": "display_data"
    },
    {
     "data": {
      "text/html": [
       "<pre style=\"white-space:pre;overflow-x:auto;line-height:normal;font-family:Menlo,'DejaVu Sans Mono',consolas,'Courier New',monospace\"></pre>\n"
      ],
      "text/plain": []
     },
     "metadata": {},
     "output_type": "display_data"
    },
    {
     "data": {
      "text/html": [
       "<pre style=\"white-space:pre;overflow-x:auto;line-height:normal;font-family:Menlo,'DejaVu Sans Mono',consolas,'Courier New',monospace\">\n",
       "</pre>\n"
      ],
      "text/plain": [
       "\n"
      ]
     },
     "metadata": {},
     "output_type": "display_data"
    },
    {
     "data": {
      "application/vnd.jupyter.widget-view+json": {
       "model_id": "39f45f356e4144d4ba33fad757fd0a5c",
       "version_major": 2,
       "version_minor": 0
      },
      "text/plain": [
       "Output()"
      ]
     },
     "metadata": {},
     "output_type": "display_data"
    },
    {
     "name": "stdout",
     "output_type": "stream",
     "text": [
      "epoch 20: Mean Reward = -0.005183147988646252\n"
     ]
    },
    {
     "data": {
      "text/html": [
       "<pre style=\"white-space:pre;overflow-x:auto;line-height:normal;font-family:Menlo,'DejaVu Sans Mono',consolas,'Courier New',monospace\">mean: -0.00596649633803433, r: -1.7899489014102987, md: 300\n",
       "</pre>\n"
      ],
      "text/plain": [
       "mean: -0.00596649633803433, r: -1.7899489014102987, md: 300\n"
      ]
     },
     "metadata": {},
     "output_type": "display_data"
    },
    {
     "data": {
      "text/html": [
       "<pre style=\"white-space:pre;overflow-x:auto;line-height:normal;font-family:Menlo,'DejaVu Sans Mono',consolas,'Courier New',monospace\">mean: -0.005309386023192985, r: -1.5928158069578953, md: 300\n",
       "</pre>\n"
      ],
      "text/plain": [
       "mean: -0.005309386023192985, r: -1.5928158069578953, md: 300\n"
      ]
     },
     "metadata": {},
     "output_type": "display_data"
    },
    {
     "data": {
      "text/html": [
       "<pre style=\"white-space:pre;overflow-x:auto;line-height:normal;font-family:Menlo,'DejaVu Sans Mono',consolas,'Courier New',monospace\">mean: 0.0530241803889913, r: 15.90725411669739, md: 300\n",
       "</pre>\n"
      ],
      "text/plain": [
       "mean: 0.0530241803889913, r: 15.90725411669739, md: 300\n"
      ]
     },
     "metadata": {},
     "output_type": "display_data"
    },
    {
     "data": {
      "text/html": [
       "<pre style=\"white-space:pre;overflow-x:auto;line-height:normal;font-family:Menlo,'DejaVu Sans Mono',consolas,'Courier New',monospace\">mean: -0.00203771789280925, r: -0.611315367842775, md: 300\n",
       "</pre>\n"
      ],
      "text/plain": [
       "mean: -0.00203771789280925, r: -0.611315367842775, md: 300\n"
      ]
     },
     "metadata": {},
     "output_type": "display_data"
    },
    {
     "data": {
      "text/html": [
       "<pre style=\"white-space:pre;overflow-x:auto;line-height:normal;font-family:Menlo,'DejaVu Sans Mono',consolas,'Courier New',monospace\">mean: -0.005855364780353138, r: -1.7566094341059415, md: 300\n",
       "</pre>\n"
      ],
      "text/plain": [
       "mean: -0.005855364780353138, r: -1.7566094341059415, md: 300\n"
      ]
     },
     "metadata": {},
     "output_type": "display_data"
    },
    {
     "data": {
      "text/html": [
       "<pre style=\"white-space:pre;overflow-x:auto;line-height:normal;font-family:Menlo,'DejaVu Sans Mono',consolas,'Courier New',monospace\"></pre>\n"
      ],
      "text/plain": []
     },
     "metadata": {},
     "output_type": "display_data"
    },
    {
     "data": {
      "text/html": [
       "<pre style=\"white-space:pre;overflow-x:auto;line-height:normal;font-family:Menlo,'DejaVu Sans Mono',consolas,'Courier New',monospace\">\n",
       "</pre>\n"
      ],
      "text/plain": [
       "\n"
      ]
     },
     "metadata": {},
     "output_type": "display_data"
    },
    {
     "data": {
      "application/vnd.jupyter.widget-view+json": {
       "model_id": "6a84369d1a924fb0a6a9cdc96a9e0fb7",
       "version_major": 2,
       "version_minor": 0
      },
      "text/plain": [
       "Output()"
      ]
     },
     "metadata": {},
     "output_type": "display_data"
    },
    {
     "name": "stdout",
     "output_type": "stream",
     "text": [
      "epoch 21: Mean Reward = -0.005855364780353138\n"
     ]
    },
    {
     "data": {
      "text/html": [
       "<pre style=\"white-space:pre;overflow-x:auto;line-height:normal;font-family:Menlo,'DejaVu Sans Mono',consolas,'Courier New',monospace\">mean: -0.00635567576487315, r: -1.906702729461945, md: 300\n",
       "</pre>\n"
      ],
      "text/plain": [
       "mean: -0.00635567576487315, r: -1.906702729461945, md: 300\n"
      ]
     },
     "metadata": {},
     "output_type": "display_data"
    },
    {
     "data": {
      "text/html": [
       "<pre style=\"white-space:pre;overflow-x:auto;line-height:normal;font-family:Menlo,'DejaVu Sans Mono',consolas,'Courier New',monospace\">mean: -0.004809017256841403, r: -1.4427051770524209, md: 300\n",
       "</pre>\n"
      ],
      "text/plain": [
       "mean: -0.004809017256841403, r: -1.4427051770524209, md: 300\n"
      ]
     },
     "metadata": {},
     "output_type": "display_data"
    },
    {
     "data": {
      "text/html": [
       "<pre style=\"white-space:pre;overflow-x:auto;line-height:normal;font-family:Menlo,'DejaVu Sans Mono',consolas,'Courier New',monospace\">mean: -0.00235944415244965, r: -0.707833245734895, md: 300\n",
       "</pre>\n"
      ],
      "text/plain": [
       "mean: -0.00235944415244965, r: -0.707833245734895, md: 300\n"
      ]
     },
     "metadata": {},
     "output_type": "display_data"
    },
    {
     "data": {
      "text/html": [
       "<pre style=\"white-space:pre;overflow-x:auto;line-height:normal;font-family:Menlo,'DejaVu Sans Mono',consolas,'Courier New',monospace\">mean: -0.006621434661485346, r: -1.9864303984456038, md: 300\n",
       "</pre>\n"
      ],
      "text/plain": [
       "mean: -0.006621434661485346, r: -1.9864303984456038, md: 300\n"
      ]
     },
     "metadata": {},
     "output_type": "display_data"
    },
    {
     "data": {
      "text/html": [
       "<pre style=\"white-space:pre;overflow-x:auto;line-height:normal;font-family:Menlo,'DejaVu Sans Mono',consolas,'Courier New',monospace\">mean: -0.005978990933746555, r: -1.7936972801239668, md: 300\n",
       "</pre>\n"
      ],
      "text/plain": [
       "mean: -0.005978990933746555, r: -1.7936972801239668, md: 300\n"
      ]
     },
     "metadata": {},
     "output_type": "display_data"
    },
    {
     "data": {
      "text/html": [
       "<pre style=\"white-space:pre;overflow-x:auto;line-height:normal;font-family:Menlo,'DejaVu Sans Mono',consolas,'Courier New',monospace\"></pre>\n"
      ],
      "text/plain": []
     },
     "metadata": {},
     "output_type": "display_data"
    },
    {
     "data": {
      "text/html": [
       "<pre style=\"white-space:pre;overflow-x:auto;line-height:normal;font-family:Menlo,'DejaVu Sans Mono',consolas,'Courier New',monospace\">\n",
       "</pre>\n"
      ],
      "text/plain": [
       "\n"
      ]
     },
     "metadata": {},
     "output_type": "display_data"
    },
    {
     "data": {
      "application/vnd.jupyter.widget-view+json": {
       "model_id": "ccf5bcd8e6864043965d9647f2c59071",
       "version_major": 2,
       "version_minor": 0
      },
      "text/plain": [
       "Output()"
      ]
     },
     "metadata": {},
     "output_type": "display_data"
    },
    {
     "name": "stdout",
     "output_type": "stream",
     "text": [
      "epoch 22: Mean Reward = -0.005978990933746555\n"
     ]
    },
    {
     "data": {
      "text/html": [
       "<pre style=\"white-space:pre;overflow-x:auto;line-height:normal;font-family:Menlo,'DejaVu Sans Mono',consolas,'Courier New',monospace\">mean: -0.006328233826195818, r: -1.8984701478587456, md: 300\n",
       "</pre>\n"
      ],
      "text/plain": [
       "mean: -0.006328233826195818, r: -1.8984701478587456, md: 300\n"
      ]
     },
     "metadata": {},
     "output_type": "display_data"
    },
    {
     "data": {
      "text/html": [
       "<pre style=\"white-space:pre;overflow-x:auto;line-height:normal;font-family:Menlo,'DejaVu Sans Mono',consolas,'Courier New',monospace\">mean: -0.0030721923520363997, r: -0.9216577056109199, md: 300\n",
       "</pre>\n"
      ],
      "text/plain": [
       "mean: -0.0030721923520363997, r: -0.9216577056109199, md: 300\n"
      ]
     },
     "metadata": {},
     "output_type": "display_data"
    },
    {
     "data": {
      "text/html": [
       "<pre style=\"white-space:pre;overflow-x:auto;line-height:normal;font-family:Menlo,'DejaVu Sans Mono',consolas,'Courier New',monospace\">mean: -0.0022707041144769237, r: -0.6812112343430772, md: 300\n",
       "</pre>\n"
      ],
      "text/plain": [
       "mean: -0.0022707041144769237, r: -0.6812112343430772, md: 300\n"
      ]
     },
     "metadata": {},
     "output_type": "display_data"
    },
    {
     "data": {
      "text/html": [
       "<pre style=\"white-space:pre;overflow-x:auto;line-height:normal;font-family:Menlo,'DejaVu Sans Mono',consolas,'Courier New',monospace\">mean: -0.0048165191303958365, r: -1.4449557391187509, md: 300\n",
       "</pre>\n"
      ],
      "text/plain": [
       "mean: -0.0048165191303958365, r: -1.4449557391187509, md: 300\n"
      ]
     },
     "metadata": {},
     "output_type": "display_data"
    },
    {
     "data": {
      "text/html": [
       "<pre style=\"white-space:pre;overflow-x:auto;line-height:normal;font-family:Menlo,'DejaVu Sans Mono',consolas,'Courier New',monospace\">mean: -0.005462800494682395, r: -1.6388401484047184, md: 300\n",
       "</pre>\n"
      ],
      "text/plain": [
       "mean: -0.005462800494682395, r: -1.6388401484047184, md: 300\n"
      ]
     },
     "metadata": {},
     "output_type": "display_data"
    },
    {
     "data": {
      "text/html": [
       "<pre style=\"white-space:pre;overflow-x:auto;line-height:normal;font-family:Menlo,'DejaVu Sans Mono',consolas,'Courier New',monospace\"></pre>\n"
      ],
      "text/plain": []
     },
     "metadata": {},
     "output_type": "display_data"
    },
    {
     "data": {
      "text/html": [
       "<pre style=\"white-space:pre;overflow-x:auto;line-height:normal;font-family:Menlo,'DejaVu Sans Mono',consolas,'Courier New',monospace\">\n",
       "</pre>\n"
      ],
      "text/plain": [
       "\n"
      ]
     },
     "metadata": {},
     "output_type": "display_data"
    },
    {
     "data": {
      "application/vnd.jupyter.widget-view+json": {
       "model_id": "54d9c3bfc8dc470081bfe2c24b07b4d8",
       "version_major": 2,
       "version_minor": 0
      },
      "text/plain": [
       "Output()"
      ]
     },
     "metadata": {},
     "output_type": "display_data"
    },
    {
     "name": "stdout",
     "output_type": "stream",
     "text": [
      "epoch 23: Mean Reward = -0.005462800494682395\n"
     ]
    },
    {
     "data": {
      "text/html": [
       "<pre style=\"white-space:pre;overflow-x:auto;line-height:normal;font-family:Menlo,'DejaVu Sans Mono',consolas,'Courier New',monospace\">mean: -0.0043301928490543, r: -1.29905785471629, md: 300\n",
       "</pre>\n"
      ],
      "text/plain": [
       "mean: -0.0043301928490543, r: -1.29905785471629, md: 300\n"
      ]
     },
     "metadata": {},
     "output_type": "display_data"
    },
    {
     "data": {
      "text/html": [
       "<pre style=\"white-space:pre;overflow-x:auto;line-height:normal;font-family:Menlo,'DejaVu Sans Mono',consolas,'Courier New',monospace\">mean: -0.004738048267679842, r: -1.4214144803039523, md: 300\n",
       "</pre>\n"
      ],
      "text/plain": [
       "mean: -0.004738048267679842, r: -1.4214144803039523, md: 300\n"
      ]
     },
     "metadata": {},
     "output_type": "display_data"
    },
    {
     "data": {
      "text/html": [
       "<pre style=\"white-space:pre;overflow-x:auto;line-height:normal;font-family:Menlo,'DejaVu Sans Mono',consolas,'Courier New',monospace\">mean: -0.0046850410024296164, r: -1.4055123007288848, md: 300\n",
       "</pre>\n"
      ],
      "text/plain": [
       "mean: -0.0046850410024296164, r: -1.4055123007288848, md: 300\n"
      ]
     },
     "metadata": {},
     "output_type": "display_data"
    },
    {
     "data": {
      "text/html": [
       "<pre style=\"white-space:pre;overflow-x:auto;line-height:normal;font-family:Menlo,'DejaVu Sans Mono',consolas,'Courier New',monospace\">mean: 0.00021256110512282277, r: 0.06376833153684683, md: 300\n",
       "</pre>\n"
      ],
      "text/plain": [
       "mean: 0.00021256110512282277, r: 0.06376833153684683, md: 300\n"
      ]
     },
     "metadata": {},
     "output_type": "display_data"
    },
    {
     "data": {
      "text/html": [
       "<pre style=\"white-space:pre;overflow-x:auto;line-height:normal;font-family:Menlo,'DejaVu Sans Mono',consolas,'Courier New',monospace\">mean: 0.0031132510401293487, r: 0.9339753120388047, md: 300\n",
       "</pre>\n"
      ],
      "text/plain": [
       "mean: 0.0031132510401293487, r: 0.9339753120388047, md: 300\n"
      ]
     },
     "metadata": {},
     "output_type": "display_data"
    },
    {
     "data": {
      "text/html": [
       "<pre style=\"white-space:pre;overflow-x:auto;line-height:normal;font-family:Menlo,'DejaVu Sans Mono',consolas,'Courier New',monospace\"></pre>\n"
      ],
      "text/plain": []
     },
     "metadata": {},
     "output_type": "display_data"
    },
    {
     "data": {
      "text/html": [
       "<pre style=\"white-space:pre;overflow-x:auto;line-height:normal;font-family:Menlo,'DejaVu Sans Mono',consolas,'Courier New',monospace\">\n",
       "</pre>\n"
      ],
      "text/plain": [
       "\n"
      ]
     },
     "metadata": {},
     "output_type": "display_data"
    },
    {
     "data": {
      "application/vnd.jupyter.widget-view+json": {
       "model_id": "5e211fca498d4cf0a79f034910d46281",
       "version_major": 2,
       "version_minor": 0
      },
      "text/plain": [
       "Output()"
      ]
     },
     "metadata": {},
     "output_type": "display_data"
    },
    {
     "name": "stdout",
     "output_type": "stream",
     "text": [
      "epoch 24: Mean Reward = 0.0031132510401293487\n"
     ]
    },
    {
     "data": {
      "text/html": [
       "<pre style=\"white-space:pre;overflow-x:auto;line-height:normal;font-family:Menlo,'DejaVu Sans Mono',consolas,'Courier New',monospace\">mean: -0.007157067229974142, r: -2.1471201689922426, md: 300\n",
       "</pre>\n"
      ],
      "text/plain": [
       "mean: -0.007157067229974142, r: -2.1471201689922426, md: 300\n"
      ]
     },
     "metadata": {},
     "output_type": "display_data"
    },
    {
     "data": {
      "text/html": [
       "<pre style=\"white-space:pre;overflow-x:auto;line-height:normal;font-family:Menlo,'DejaVu Sans Mono',consolas,'Courier New',monospace\">mean: 0.009634763216194562, r: 2.8904289648583683, md: 300\n",
       "</pre>\n"
      ],
      "text/plain": [
       "mean: 0.009634763216194562, r: 2.8904289648583683, md: 300\n"
      ]
     },
     "metadata": {},
     "output_type": "display_data"
    },
    {
     "data": {
      "text/html": [
       "<pre style=\"white-space:pre;overflow-x:auto;line-height:normal;font-family:Menlo,'DejaVu Sans Mono',consolas,'Courier New',monospace\">mean: -0.0036175160558275295, r: -1.0852548167482587, md: 300\n",
       "</pre>\n"
      ],
      "text/plain": [
       "mean: -0.0036175160558275295, r: -1.0852548167482587, md: 300\n"
      ]
     },
     "metadata": {},
     "output_type": "display_data"
    },
    {
     "data": {
      "text/html": [
       "<pre style=\"white-space:pre;overflow-x:auto;line-height:normal;font-family:Menlo,'DejaVu Sans Mono',consolas,'Courier New',monospace\">mean: 0.016466846092816366, r: 4.940053827844911, md: 300\n",
       "</pre>\n"
      ],
      "text/plain": [
       "mean: 0.016466846092816366, r: 4.940053827844911, md: 300\n"
      ]
     },
     "metadata": {},
     "output_type": "display_data"
    },
    {
     "data": {
      "text/html": [
       "<pre style=\"white-space:pre;overflow-x:auto;line-height:normal;font-family:Menlo,'DejaVu Sans Mono',consolas,'Courier New',monospace\">mean: -0.005035681055305026, r: -1.510704316591508, md: 300\n",
       "</pre>\n"
      ],
      "text/plain": [
       "mean: -0.005035681055305026, r: -1.510704316591508, md: 300\n"
      ]
     },
     "metadata": {},
     "output_type": "display_data"
    },
    {
     "data": {
      "text/html": [
       "<pre style=\"white-space:pre;overflow-x:auto;line-height:normal;font-family:Menlo,'DejaVu Sans Mono',consolas,'Courier New',monospace\"></pre>\n"
      ],
      "text/plain": []
     },
     "metadata": {},
     "output_type": "display_data"
    },
    {
     "data": {
      "text/html": [
       "<pre style=\"white-space:pre;overflow-x:auto;line-height:normal;font-family:Menlo,'DejaVu Sans Mono',consolas,'Courier New',monospace\">\n",
       "</pre>\n"
      ],
      "text/plain": [
       "\n"
      ]
     },
     "metadata": {},
     "output_type": "display_data"
    },
    {
     "data": {
      "application/vnd.jupyter.widget-view+json": {
       "model_id": "e4ac7375699c412c8d9785c3cf3671d7",
       "version_major": 2,
       "version_minor": 0
      },
      "text/plain": [
       "Output()"
      ]
     },
     "metadata": {},
     "output_type": "display_data"
    },
    {
     "name": "stdout",
     "output_type": "stream",
     "text": [
      "epoch 25: Mean Reward = -0.005035681055305026\n"
     ]
    },
    {
     "data": {
      "text/html": [
       "<pre style=\"white-space:pre;overflow-x:auto;line-height:normal;font-family:Menlo,'DejaVu Sans Mono',consolas,'Courier New',monospace\">mean: -0.0019509478024425076, r: -0.5852843407327522, md: 300\n",
       "</pre>\n"
      ],
      "text/plain": [
       "mean: -0.0019509478024425076, r: -0.5852843407327522, md: 300\n"
      ]
     },
     "metadata": {},
     "output_type": "display_data"
    },
    {
     "data": {
      "text/html": [
       "<pre style=\"white-space:pre;overflow-x:auto;line-height:normal;font-family:Menlo,'DejaVu Sans Mono',consolas,'Courier New',monospace\">mean: -0.005560684469673116, r: -1.6682053409019348, md: 300\n",
       "</pre>\n"
      ],
      "text/plain": [
       "mean: -0.005560684469673116, r: -1.6682053409019348, md: 300\n"
      ]
     },
     "metadata": {},
     "output_type": "display_data"
    },
    {
     "data": {
      "text/html": [
       "<pre style=\"white-space:pre;overflow-x:auto;line-height:normal;font-family:Menlo,'DejaVu Sans Mono',consolas,'Courier New',monospace\">mean: -0.0006988953739601617, r: -0.20966861218804853, md: 300\n",
       "</pre>\n"
      ],
      "text/plain": [
       "mean: -0.0006988953739601617, r: -0.20966861218804853, md: 300\n"
      ]
     },
     "metadata": {},
     "output_type": "display_data"
    },
    {
     "data": {
      "text/html": [
       "<pre style=\"white-space:pre;overflow-x:auto;line-height:normal;font-family:Menlo,'DejaVu Sans Mono',consolas,'Courier New',monospace\">mean: -0.003988871390257578, r: -1.1966614170772734, md: 300\n",
       "</pre>\n"
      ],
      "text/plain": [
       "mean: -0.003988871390257578, r: -1.1966614170772734, md: 300\n"
      ]
     },
     "metadata": {},
     "output_type": "display_data"
    },
    {
     "data": {
      "text/html": [
       "<pre style=\"white-space:pre;overflow-x:auto;line-height:normal;font-family:Menlo,'DejaVu Sans Mono',consolas,'Courier New',monospace\">mean: -0.0041276876117349644, r: -1.238306283520489, md: 300\n",
       "</pre>\n"
      ],
      "text/plain": [
       "mean: -0.0041276876117349644, r: -1.238306283520489, md: 300\n"
      ]
     },
     "metadata": {},
     "output_type": "display_data"
    },
    {
     "data": {
      "text/html": [
       "<pre style=\"white-space:pre;overflow-x:auto;line-height:normal;font-family:Menlo,'DejaVu Sans Mono',consolas,'Courier New',monospace\"></pre>\n"
      ],
      "text/plain": []
     },
     "metadata": {},
     "output_type": "display_data"
    },
    {
     "data": {
      "text/html": [
       "<pre style=\"white-space:pre;overflow-x:auto;line-height:normal;font-family:Menlo,'DejaVu Sans Mono',consolas,'Courier New',monospace\">\n",
       "</pre>\n"
      ],
      "text/plain": [
       "\n"
      ]
     },
     "metadata": {},
     "output_type": "display_data"
    },
    {
     "data": {
      "application/vnd.jupyter.widget-view+json": {
       "model_id": "a87ff53d3cb04afcb9f463366caa315b",
       "version_major": 2,
       "version_minor": 0
      },
      "text/plain": [
       "Output()"
      ]
     },
     "metadata": {},
     "output_type": "display_data"
    },
    {
     "name": "stdout",
     "output_type": "stream",
     "text": [
      "epoch 26: Mean Reward = -0.0041276876117349644\n"
     ]
    },
    {
     "data": {
      "text/html": [
       "<pre style=\"white-space:pre;overflow-x:auto;line-height:normal;font-family:Menlo,'DejaVu Sans Mono',consolas,'Courier New',monospace\">mean: -0.004866524302987322, r: -1.4599572908961966, md: 300\n",
       "</pre>\n"
      ],
      "text/plain": [
       "mean: -0.004866524302987322, r: -1.4599572908961966, md: 300\n"
      ]
     },
     "metadata": {},
     "output_type": "display_data"
    },
    {
     "data": {
      "text/html": [
       "<pre style=\"white-space:pre;overflow-x:auto;line-height:normal;font-family:Menlo,'DejaVu Sans Mono',consolas,'Courier New',monospace\">mean: -0.004427323628136521, r: -1.328197088440956, md: 300\n",
       "</pre>\n"
      ],
      "text/plain": [
       "mean: -0.004427323628136521, r: -1.328197088440956, md: 300\n"
      ]
     },
     "metadata": {},
     "output_type": "display_data"
    },
    {
     "data": {
      "text/html": [
       "<pre style=\"white-space:pre;overflow-x:auto;line-height:normal;font-family:Menlo,'DejaVu Sans Mono',consolas,'Courier New',monospace\">mean: -0.0022861281223391394, r: -0.6858384367017418, md: 300\n",
       "</pre>\n"
      ],
      "text/plain": [
       "mean: -0.0022861281223391394, r: -0.6858384367017418, md: 300\n"
      ]
     },
     "metadata": {},
     "output_type": "display_data"
    },
    {
     "data": {
      "text/html": [
       "<pre style=\"white-space:pre;overflow-x:auto;line-height:normal;font-family:Menlo,'DejaVu Sans Mono',consolas,'Courier New',monospace\">mean: -0.007392870833092594, r: -2.217861249927778, md: 300\n",
       "</pre>\n"
      ],
      "text/plain": [
       "mean: -0.007392870833092594, r: -2.217861249927778, md: 300\n"
      ]
     },
     "metadata": {},
     "output_type": "display_data"
    },
    {
     "data": {
      "text/html": [
       "<pre style=\"white-space:pre;overflow-x:auto;line-height:normal;font-family:Menlo,'DejaVu Sans Mono',consolas,'Courier New',monospace\">mean: -0.0029284876942005803, r: -0.8785463082601741, md: 300\n",
       "</pre>\n"
      ],
      "text/plain": [
       "mean: -0.0029284876942005803, r: -0.8785463082601741, md: 300\n"
      ]
     },
     "metadata": {},
     "output_type": "display_data"
    },
    {
     "data": {
      "text/html": [
       "<pre style=\"white-space:pre;overflow-x:auto;line-height:normal;font-family:Menlo,'DejaVu Sans Mono',consolas,'Courier New',monospace\"></pre>\n"
      ],
      "text/plain": []
     },
     "metadata": {},
     "output_type": "display_data"
    },
    {
     "data": {
      "text/html": [
       "<pre style=\"white-space:pre;overflow-x:auto;line-height:normal;font-family:Menlo,'DejaVu Sans Mono',consolas,'Courier New',monospace\">\n",
       "</pre>\n"
      ],
      "text/plain": [
       "\n"
      ]
     },
     "metadata": {},
     "output_type": "display_data"
    },
    {
     "data": {
      "application/vnd.jupyter.widget-view+json": {
       "model_id": "a9e71a5665ea4e31bdf56fa59a8ef20b",
       "version_major": 2,
       "version_minor": 0
      },
      "text/plain": [
       "Output()"
      ]
     },
     "metadata": {},
     "output_type": "display_data"
    },
    {
     "name": "stdout",
     "output_type": "stream",
     "text": [
      "epoch 27: Mean Reward = -0.0029284876942005803\n"
     ]
    },
    {
     "data": {
      "text/html": [
       "<pre style=\"white-space:pre;overflow-x:auto;line-height:normal;font-family:Menlo,'DejaVu Sans Mono',consolas,'Courier New',monospace\">mean: -0.007356407770980127, r: -2.206922331294038, md: 300\n",
       "</pre>\n"
      ],
      "text/plain": [
       "mean: -0.007356407770980127, r: -2.206922331294038, md: 300\n"
      ]
     },
     "metadata": {},
     "output_type": "display_data"
    },
    {
     "data": {
      "text/html": [
       "<pre style=\"white-space:pre;overflow-x:auto;line-height:normal;font-family:Menlo,'DejaVu Sans Mono',consolas,'Courier New',monospace\">mean: -0.002778098540649852, r: -0.8334295621949556, md: 300\n",
       "</pre>\n"
      ],
      "text/plain": [
       "mean: -0.002778098540649852, r: -0.8334295621949556, md: 300\n"
      ]
     },
     "metadata": {},
     "output_type": "display_data"
    },
    {
     "data": {
      "text/html": [
       "<pre style=\"white-space:pre;overflow-x:auto;line-height:normal;font-family:Menlo,'DejaVu Sans Mono',consolas,'Courier New',monospace\">mean: -0.007055166774076384, r: -2.116550032222915, md: 300\n",
       "</pre>\n"
      ],
      "text/plain": [
       "mean: -0.007055166774076384, r: -2.116550032222915, md: 300\n"
      ]
     },
     "metadata": {},
     "output_type": "display_data"
    },
    {
     "data": {
      "text/html": [
       "<pre style=\"white-space:pre;overflow-x:auto;line-height:normal;font-family:Menlo,'DejaVu Sans Mono',consolas,'Courier New',monospace\">mean: -0.0011952275349094888, r: -0.3585682604728466, md: 300\n",
       "</pre>\n"
      ],
      "text/plain": [
       "mean: -0.0011952275349094888, r: -0.3585682604728466, md: 300\n"
      ]
     },
     "metadata": {},
     "output_type": "display_data"
    },
    {
     "data": {
      "text/html": [
       "<pre style=\"white-space:pre;overflow-x:auto;line-height:normal;font-family:Menlo,'DejaVu Sans Mono',consolas,'Courier New',monospace\">mean: -0.0016769181947672931, r: -0.503075458430188, md: 300\n",
       "</pre>\n"
      ],
      "text/plain": [
       "mean: -0.0016769181947672931, r: -0.503075458430188, md: 300\n"
      ]
     },
     "metadata": {},
     "output_type": "display_data"
    },
    {
     "data": {
      "text/html": [
       "<pre style=\"white-space:pre;overflow-x:auto;line-height:normal;font-family:Menlo,'DejaVu Sans Mono',consolas,'Courier New',monospace\"></pre>\n"
      ],
      "text/plain": []
     },
     "metadata": {},
     "output_type": "display_data"
    },
    {
     "data": {
      "text/html": [
       "<pre style=\"white-space:pre;overflow-x:auto;line-height:normal;font-family:Menlo,'DejaVu Sans Mono',consolas,'Courier New',monospace\">\n",
       "</pre>\n"
      ],
      "text/plain": [
       "\n"
      ]
     },
     "metadata": {},
     "output_type": "display_data"
    },
    {
     "data": {
      "application/vnd.jupyter.widget-view+json": {
       "model_id": "e0c296b9936c453893b89d998bfd04a7",
       "version_major": 2,
       "version_minor": 0
      },
      "text/plain": [
       "Output()"
      ]
     },
     "metadata": {},
     "output_type": "display_data"
    },
    {
     "name": "stdout",
     "output_type": "stream",
     "text": [
      "epoch 28: Mean Reward = -0.0016769181947672931\n"
     ]
    },
    {
     "data": {
      "text/html": [
       "<pre style=\"white-space:pre;overflow-x:auto;line-height:normal;font-family:Menlo,'DejaVu Sans Mono',consolas,'Courier New',monospace\">mean: -0.0024455944521850946, r: -0.7336783356555283, md: 300\n",
       "</pre>\n"
      ],
      "text/plain": [
       "mean: -0.0024455944521850946, r: -0.7336783356555283, md: 300\n"
      ]
     },
     "metadata": {},
     "output_type": "display_data"
    },
    {
     "data": {
      "text/html": [
       "<pre style=\"white-space:pre;overflow-x:auto;line-height:normal;font-family:Menlo,'DejaVu Sans Mono',consolas,'Courier New',monospace\">mean: 0.0010514397202624755, r: 0.31543191607874266, md: 300\n",
       "</pre>\n"
      ],
      "text/plain": [
       "mean: 0.0010514397202624755, r: 0.31543191607874266, md: 300\n"
      ]
     },
     "metadata": {},
     "output_type": "display_data"
    },
    {
     "data": {
      "text/html": [
       "<pre style=\"white-space:pre;overflow-x:auto;line-height:normal;font-family:Menlo,'DejaVu Sans Mono',consolas,'Courier New',monospace\">mean: -0.006103585573308439, r: -1.8310756719925316, md: 300\n",
       "</pre>\n"
      ],
      "text/plain": [
       "mean: -0.006103585573308439, r: -1.8310756719925316, md: 300\n"
      ]
     },
     "metadata": {},
     "output_type": "display_data"
    },
    {
     "data": {
      "text/html": [
       "<pre style=\"white-space:pre;overflow-x:auto;line-height:normal;font-family:Menlo,'DejaVu Sans Mono',consolas,'Courier New',monospace\">mean: -0.0036771818110604678, r: -1.1031545433181402, md: 300\n",
       "</pre>\n"
      ],
      "text/plain": [
       "mean: -0.0036771818110604678, r: -1.1031545433181402, md: 300\n"
      ]
     },
     "metadata": {},
     "output_type": "display_data"
    },
    {
     "data": {
      "text/html": [
       "<pre style=\"white-space:pre;overflow-x:auto;line-height:normal;font-family:Menlo,'DejaVu Sans Mono',consolas,'Courier New',monospace\">mean: -0.004822565679381987, r: -1.4467697038145961, md: 300\n",
       "</pre>\n"
      ],
      "text/plain": [
       "mean: -0.004822565679381987, r: -1.4467697038145961, md: 300\n"
      ]
     },
     "metadata": {},
     "output_type": "display_data"
    },
    {
     "data": {
      "text/html": [
       "<pre style=\"white-space:pre;overflow-x:auto;line-height:normal;font-family:Menlo,'DejaVu Sans Mono',consolas,'Courier New',monospace\"></pre>\n"
      ],
      "text/plain": []
     },
     "metadata": {},
     "output_type": "display_data"
    },
    {
     "data": {
      "text/html": [
       "<pre style=\"white-space:pre;overflow-x:auto;line-height:normal;font-family:Menlo,'DejaVu Sans Mono',consolas,'Courier New',monospace\">\n",
       "</pre>\n"
      ],
      "text/plain": [
       "\n"
      ]
     },
     "metadata": {},
     "output_type": "display_data"
    },
    {
     "data": {
      "application/vnd.jupyter.widget-view+json": {
       "model_id": "c569b0344f8d4584b09455e8e8abf03e",
       "version_major": 2,
       "version_minor": 0
      },
      "text/plain": [
       "Output()"
      ]
     },
     "metadata": {},
     "output_type": "display_data"
    },
    {
     "name": "stdout",
     "output_type": "stream",
     "text": [
      "epoch 29: Mean Reward = -0.004822565679381987\n"
     ]
    },
    {
     "data": {
      "text/html": [
       "<pre style=\"white-space:pre;overflow-x:auto;line-height:normal;font-family:Menlo,'DejaVu Sans Mono',consolas,'Courier New',monospace\">mean: -0.002886692834596428, r: -0.8660078503789286, md: 300\n",
       "</pre>\n"
      ],
      "text/plain": [
       "mean: -0.002886692834596428, r: -0.8660078503789286, md: 300\n"
      ]
     },
     "metadata": {},
     "output_type": "display_data"
    },
    {
     "data": {
      "text/html": [
       "<pre style=\"white-space:pre;overflow-x:auto;line-height:normal;font-family:Menlo,'DejaVu Sans Mono',consolas,'Courier New',monospace\">mean: -0.006350542336659659, r: -1.9051627009978978, md: 300\n",
       "</pre>\n"
      ],
      "text/plain": [
       "mean: -0.006350542336659659, r: -1.9051627009978978, md: 300\n"
      ]
     },
     "metadata": {},
     "output_type": "display_data"
    },
    {
     "data": {
      "text/html": [
       "<pre style=\"white-space:pre;overflow-x:auto;line-height:normal;font-family:Menlo,'DejaVu Sans Mono',consolas,'Courier New',monospace\">mean: -0.002883252037183353, r: -0.8649756111550058, md: 300\n",
       "</pre>\n"
      ],
      "text/plain": [
       "mean: -0.002883252037183353, r: -0.8649756111550058, md: 300\n"
      ]
     },
     "metadata": {},
     "output_type": "display_data"
    },
    {
     "data": {
      "text/html": [
       "<pre style=\"white-space:pre;overflow-x:auto;line-height:normal;font-family:Menlo,'DejaVu Sans Mono',consolas,'Courier New',monospace\">mean: -0.0037059945067801203, r: -1.111798352034036, md: 300\n",
       "</pre>\n"
      ],
      "text/plain": [
       "mean: -0.0037059945067801203, r: -1.111798352034036, md: 300\n"
      ]
     },
     "metadata": {},
     "output_type": "display_data"
    },
    {
     "data": {
      "text/html": [
       "<pre style=\"white-space:pre;overflow-x:auto;line-height:normal;font-family:Menlo,'DejaVu Sans Mono',consolas,'Courier New',monospace\">mean: -0.0028301566494639734, r: -0.8490469948391921, md: 300\n",
       "</pre>\n"
      ],
      "text/plain": [
       "mean: -0.0028301566494639734, r: -0.8490469948391921, md: 300\n"
      ]
     },
     "metadata": {},
     "output_type": "display_data"
    },
    {
     "data": {
      "text/html": [
       "<pre style=\"white-space:pre;overflow-x:auto;line-height:normal;font-family:Menlo,'DejaVu Sans Mono',consolas,'Courier New',monospace\"></pre>\n"
      ],
      "text/plain": []
     },
     "metadata": {},
     "output_type": "display_data"
    },
    {
     "data": {
      "text/html": [
       "<pre style=\"white-space:pre;overflow-x:auto;line-height:normal;font-family:Menlo,'DejaVu Sans Mono',consolas,'Courier New',monospace\">\n",
       "</pre>\n"
      ],
      "text/plain": [
       "\n"
      ]
     },
     "metadata": {},
     "output_type": "display_data"
    },
    {
     "data": {
      "application/vnd.jupyter.widget-view+json": {
       "model_id": "4ce77b5112a24482b4068ab38f86fc84",
       "version_major": 2,
       "version_minor": 0
      },
      "text/plain": [
       "Output()"
      ]
     },
     "metadata": {},
     "output_type": "display_data"
    },
    {
     "name": "stdout",
     "output_type": "stream",
     "text": [
      "epoch 30: Mean Reward = -0.0028301566494639734\n"
     ]
    },
    {
     "data": {
      "text/html": [
       "<pre style=\"white-space:pre;overflow-x:auto;line-height:normal;font-family:Menlo,'DejaVu Sans Mono',consolas,'Courier New',monospace\">mean: -0.004812537326919343, r: -1.443761198075803, md: 300\n",
       "</pre>\n"
      ],
      "text/plain": [
       "mean: -0.004812537326919343, r: -1.443761198075803, md: 300\n"
      ]
     },
     "metadata": {},
     "output_type": "display_data"
    },
    {
     "data": {
      "text/html": [
       "<pre style=\"white-space:pre;overflow-x:auto;line-height:normal;font-family:Menlo,'DejaVu Sans Mono',consolas,'Courier New',monospace\">mean: -0.007476910932278825, r: -2.2430732796836477, md: 300\n",
       "</pre>\n"
      ],
      "text/plain": [
       "mean: -0.007476910932278825, r: -2.2430732796836477, md: 300\n"
      ]
     },
     "metadata": {},
     "output_type": "display_data"
    },
    {
     "data": {
      "text/html": [
       "<pre style=\"white-space:pre;overflow-x:auto;line-height:normal;font-family:Menlo,'DejaVu Sans Mono',consolas,'Courier New',monospace\">mean: -0.003823057448311266, r: -1.1469172344933798, md: 300\n",
       "</pre>\n"
      ],
      "text/plain": [
       "mean: -0.003823057448311266, r: -1.1469172344933798, md: 300\n"
      ]
     },
     "metadata": {},
     "output_type": "display_data"
    },
    {
     "data": {
      "text/html": [
       "<pre style=\"white-space:pre;overflow-x:auto;line-height:normal;font-family:Menlo,'DejaVu Sans Mono',consolas,'Courier New',monospace\">mean: -0.0009863859028706999, r: -0.29591577086120996, md: 300\n",
       "</pre>\n"
      ],
      "text/plain": [
       "mean: -0.0009863859028706999, r: -0.29591577086120996, md: 300\n"
      ]
     },
     "metadata": {},
     "output_type": "display_data"
    },
    {
     "data": {
      "text/html": [
       "<pre style=\"white-space:pre;overflow-x:auto;line-height:normal;font-family:Menlo,'DejaVu Sans Mono',consolas,'Courier New',monospace\">mean: 0.0032085411532121605, r: 0.962562345963648, md: 300\n",
       "</pre>\n"
      ],
      "text/plain": [
       "mean: 0.0032085411532121605, r: 0.962562345963648, md: 300\n"
      ]
     },
     "metadata": {},
     "output_type": "display_data"
    },
    {
     "data": {
      "text/html": [
       "<pre style=\"white-space:pre;overflow-x:auto;line-height:normal;font-family:Menlo,'DejaVu Sans Mono',consolas,'Courier New',monospace\"></pre>\n"
      ],
      "text/plain": []
     },
     "metadata": {},
     "output_type": "display_data"
    },
    {
     "data": {
      "text/html": [
       "<pre style=\"white-space:pre;overflow-x:auto;line-height:normal;font-family:Menlo,'DejaVu Sans Mono',consolas,'Courier New',monospace\">\n",
       "</pre>\n"
      ],
      "text/plain": [
       "\n"
      ]
     },
     "metadata": {},
     "output_type": "display_data"
    },
    {
     "data": {
      "application/vnd.jupyter.widget-view+json": {
       "model_id": "a6035233111847beb319510ec68f0784",
       "version_major": 2,
       "version_minor": 0
      },
      "text/plain": [
       "Output()"
      ]
     },
     "metadata": {},
     "output_type": "display_data"
    },
    {
     "name": "stdout",
     "output_type": "stream",
     "text": [
      "epoch 31: Mean Reward = 0.0032085411532121605\n"
     ]
    },
    {
     "data": {
      "text/html": [
       "<pre style=\"white-space:pre;overflow-x:auto;line-height:normal;font-family:Menlo,'DejaVu Sans Mono',consolas,'Courier New',monospace\">mean: -0.005589899684678079, r: -1.6769699054034235, md: 300\n",
       "</pre>\n"
      ],
      "text/plain": [
       "mean: -0.005589899684678079, r: -1.6769699054034235, md: 300\n"
      ]
     },
     "metadata": {},
     "output_type": "display_data"
    },
    {
     "data": {
      "text/html": [
       "<pre style=\"white-space:pre;overflow-x:auto;line-height:normal;font-family:Menlo,'DejaVu Sans Mono',consolas,'Courier New',monospace\">mean: -0.003806293405936198, r: -1.1418880217808594, md: 300\n",
       "</pre>\n"
      ],
      "text/plain": [
       "mean: -0.003806293405936198, r: -1.1418880217808594, md: 300\n"
      ]
     },
     "metadata": {},
     "output_type": "display_data"
    },
    {
     "data": {
      "text/html": [
       "<pre style=\"white-space:pre;overflow-x:auto;line-height:normal;font-family:Menlo,'DejaVu Sans Mono',consolas,'Courier New',monospace\">mean: -0.0043272765101420975, r: -1.2981829530426294, md: 300\n",
       "</pre>\n"
      ],
      "text/plain": [
       "mean: -0.0043272765101420975, r: -1.2981829530426294, md: 300\n"
      ]
     },
     "metadata": {},
     "output_type": "display_data"
    },
    {
     "data": {
      "text/html": [
       "<pre style=\"white-space:pre;overflow-x:auto;line-height:normal;font-family:Menlo,'DejaVu Sans Mono',consolas,'Courier New',monospace\">mean: -0.003354705097269715, r: -1.0064115291809146, md: 300\n",
       "</pre>\n"
      ],
      "text/plain": [
       "mean: -0.003354705097269715, r: -1.0064115291809146, md: 300\n"
      ]
     },
     "metadata": {},
     "output_type": "display_data"
    },
    {
     "data": {
      "text/html": [
       "<pre style=\"white-space:pre;overflow-x:auto;line-height:normal;font-family:Menlo,'DejaVu Sans Mono',consolas,'Courier New',monospace\">mean: -0.006299344331298751, r: -1.889803299389625, md: 300\n",
       "</pre>\n"
      ],
      "text/plain": [
       "mean: -0.006299344331298751, r: -1.889803299389625, md: 300\n"
      ]
     },
     "metadata": {},
     "output_type": "display_data"
    },
    {
     "data": {
      "text/html": [
       "<pre style=\"white-space:pre;overflow-x:auto;line-height:normal;font-family:Menlo,'DejaVu Sans Mono',consolas,'Courier New',monospace\"></pre>\n"
      ],
      "text/plain": []
     },
     "metadata": {},
     "output_type": "display_data"
    },
    {
     "data": {
      "text/html": [
       "<pre style=\"white-space:pre;overflow-x:auto;line-height:normal;font-family:Menlo,'DejaVu Sans Mono',consolas,'Courier New',monospace\">\n",
       "</pre>\n"
      ],
      "text/plain": [
       "\n"
      ]
     },
     "metadata": {},
     "output_type": "display_data"
    },
    {
     "data": {
      "application/vnd.jupyter.widget-view+json": {
       "model_id": "663740400b65462899548296f67f3c83",
       "version_major": 2,
       "version_minor": 0
      },
      "text/plain": [
       "Output()"
      ]
     },
     "metadata": {},
     "output_type": "display_data"
    },
    {
     "name": "stdout",
     "output_type": "stream",
     "text": [
      "epoch 32: Mean Reward = -0.006299344331298751\n"
     ]
    },
    {
     "data": {
      "text/html": [
       "<pre style=\"white-space:pre;overflow-x:auto;line-height:normal;font-family:Menlo,'DejaVu Sans Mono',consolas,'Courier New',monospace\">mean: -0.0024583501262856076, r: -0.7375050378856822, md: 300\n",
       "</pre>\n"
      ],
      "text/plain": [
       "mean: -0.0024583501262856076, r: -0.7375050378856822, md: 300\n"
      ]
     },
     "metadata": {},
     "output_type": "display_data"
    },
    {
     "data": {
      "text/html": [
       "<pre style=\"white-space:pre;overflow-x:auto;line-height:normal;font-family:Menlo,'DejaVu Sans Mono',consolas,'Courier New',monospace\">mean: 0.0391124906544645, r: 11.733747196339351, md: 300\n",
       "</pre>\n"
      ],
      "text/plain": [
       "mean: 0.0391124906544645, r: 11.733747196339351, md: 300\n"
      ]
     },
     "metadata": {},
     "output_type": "display_data"
    },
    {
     "data": {
      "text/html": [
       "<pre style=\"white-space:pre;overflow-x:auto;line-height:normal;font-family:Menlo,'DejaVu Sans Mono',consolas,'Courier New',monospace\">mean: -0.003513464903851847, r: -1.0540394711555543, md: 300\n",
       "</pre>\n"
      ],
      "text/plain": [
       "mean: -0.003513464903851847, r: -1.0540394711555543, md: 300\n"
      ]
     },
     "metadata": {},
     "output_type": "display_data"
    },
    {
     "data": {
      "text/html": [
       "<pre style=\"white-space:pre;overflow-x:auto;line-height:normal;font-family:Menlo,'DejaVu Sans Mono',consolas,'Courier New',monospace\">mean: -0.002582924257467961, r: -0.7748772772403882, md: 300\n",
       "</pre>\n"
      ],
      "text/plain": [
       "mean: -0.002582924257467961, r: -0.7748772772403882, md: 300\n"
      ]
     },
     "metadata": {},
     "output_type": "display_data"
    },
    {
     "data": {
      "text/html": [
       "<pre style=\"white-space:pre;overflow-x:auto;line-height:normal;font-family:Menlo,'DejaVu Sans Mono',consolas,'Courier New',monospace\">mean: 0.0006151211533127434, r: 0.18453634599382301, md: 300\n",
       "</pre>\n"
      ],
      "text/plain": [
       "mean: 0.0006151211533127434, r: 0.18453634599382301, md: 300\n"
      ]
     },
     "metadata": {},
     "output_type": "display_data"
    },
    {
     "data": {
      "text/html": [
       "<pre style=\"white-space:pre;overflow-x:auto;line-height:normal;font-family:Menlo,'DejaVu Sans Mono',consolas,'Courier New',monospace\"></pre>\n"
      ],
      "text/plain": []
     },
     "metadata": {},
     "output_type": "display_data"
    },
    {
     "data": {
      "text/html": [
       "<pre style=\"white-space:pre;overflow-x:auto;line-height:normal;font-family:Menlo,'DejaVu Sans Mono',consolas,'Courier New',monospace\">\n",
       "</pre>\n"
      ],
      "text/plain": [
       "\n"
      ]
     },
     "metadata": {},
     "output_type": "display_data"
    },
    {
     "data": {
      "application/vnd.jupyter.widget-view+json": {
       "model_id": "cbee2a749378485fa4e412d984505152",
       "version_major": 2,
       "version_minor": 0
      },
      "text/plain": [
       "Output()"
      ]
     },
     "metadata": {},
     "output_type": "display_data"
    },
    {
     "name": "stdout",
     "output_type": "stream",
     "text": [
      "epoch 33: Mean Reward = 0.0006151211533127434\n"
     ]
    },
    {
     "data": {
      "text/html": [
       "<pre style=\"white-space:pre;overflow-x:auto;line-height:normal;font-family:Menlo,'DejaVu Sans Mono',consolas,'Courier New',monospace\">mean: -0.008098064269811942, r: -2.429419280943583, md: 300\n",
       "</pre>\n"
      ],
      "text/plain": [
       "mean: -0.008098064269811942, r: -2.429419280943583, md: 300\n"
      ]
     },
     "metadata": {},
     "output_type": "display_data"
    },
    {
     "data": {
      "text/html": [
       "<pre style=\"white-space:pre;overflow-x:auto;line-height:normal;font-family:Menlo,'DejaVu Sans Mono',consolas,'Courier New',monospace\">mean: 0.02264155747357279, r: 6.792467242071837, md: 300\n",
       "</pre>\n"
      ],
      "text/plain": [
       "mean: 0.02264155747357279, r: 6.792467242071837, md: 300\n"
      ]
     },
     "metadata": {},
     "output_type": "display_data"
    },
    {
     "data": {
      "text/html": [
       "<pre style=\"white-space:pre;overflow-x:auto;line-height:normal;font-family:Menlo,'DejaVu Sans Mono',consolas,'Courier New',monospace\">mean: -0.0015901231743810302, r: -0.4770369523143091, md: 300\n",
       "</pre>\n"
      ],
      "text/plain": [
       "mean: -0.0015901231743810302, r: -0.4770369523143091, md: 300\n"
      ]
     },
     "metadata": {},
     "output_type": "display_data"
    },
    {
     "data": {
      "text/html": [
       "<pre style=\"white-space:pre;overflow-x:auto;line-height:normal;font-family:Menlo,'DejaVu Sans Mono',consolas,'Courier New',monospace\">mean: -0.002507141124018752, r: -0.7521423372056255, md: 300\n",
       "</pre>\n"
      ],
      "text/plain": [
       "mean: -0.002507141124018752, r: -0.7521423372056255, md: 300\n"
      ]
     },
     "metadata": {},
     "output_type": "display_data"
    },
    {
     "data": {
      "text/html": [
       "<pre style=\"white-space:pre;overflow-x:auto;line-height:normal;font-family:Menlo,'DejaVu Sans Mono',consolas,'Courier New',monospace\">mean: -0.002566701096988297, r: -0.7700103290964889, md: 300\n",
       "</pre>\n"
      ],
      "text/plain": [
       "mean: -0.002566701096988297, r: -0.7700103290964889, md: 300\n"
      ]
     },
     "metadata": {},
     "output_type": "display_data"
    },
    {
     "data": {
      "text/html": [
       "<pre style=\"white-space:pre;overflow-x:auto;line-height:normal;font-family:Menlo,'DejaVu Sans Mono',consolas,'Courier New',monospace\"></pre>\n"
      ],
      "text/plain": []
     },
     "metadata": {},
     "output_type": "display_data"
    },
    {
     "data": {
      "text/html": [
       "<pre style=\"white-space:pre;overflow-x:auto;line-height:normal;font-family:Menlo,'DejaVu Sans Mono',consolas,'Courier New',monospace\">\n",
       "</pre>\n"
      ],
      "text/plain": [
       "\n"
      ]
     },
     "metadata": {},
     "output_type": "display_data"
    },
    {
     "data": {
      "application/vnd.jupyter.widget-view+json": {
       "model_id": "69f3b303a47d4b5fbd639beb7b46867a",
       "version_major": 2,
       "version_minor": 0
      },
      "text/plain": [
       "Output()"
      ]
     },
     "metadata": {},
     "output_type": "display_data"
    },
    {
     "name": "stdout",
     "output_type": "stream",
     "text": [
      "epoch 34: Mean Reward = -0.002566701096988297\n"
     ]
    },
    {
     "data": {
      "text/html": [
       "<pre style=\"white-space:pre;overflow-x:auto;line-height:normal;font-family:Menlo,'DejaVu Sans Mono',consolas,'Courier New',monospace\">mean: -0.008040143223573711, r: -2.4120429670721135, md: 300\n",
       "</pre>\n"
      ],
      "text/plain": [
       "mean: -0.008040143223573711, r: -2.4120429670721135, md: 300\n"
      ]
     },
     "metadata": {},
     "output_type": "display_data"
    },
    {
     "data": {
      "text/html": [
       "<pre style=\"white-space:pre;overflow-x:auto;line-height:normal;font-family:Menlo,'DejaVu Sans Mono',consolas,'Courier New',monospace\">mean: -0.002202091474318168, r: -0.6606274422954503, md: 300\n",
       "</pre>\n"
      ],
      "text/plain": [
       "mean: -0.002202091474318168, r: -0.6606274422954503, md: 300\n"
      ]
     },
     "metadata": {},
     "output_type": "display_data"
    },
    {
     "data": {
      "text/html": [
       "<pre style=\"white-space:pre;overflow-x:auto;line-height:normal;font-family:Menlo,'DejaVu Sans Mono',consolas,'Courier New',monospace\">mean: 0.013872903536485157, r: 4.161871060945549, md: 300\n",
       "</pre>\n"
      ],
      "text/plain": [
       "mean: 0.013872903536485157, r: 4.161871060945549, md: 300\n"
      ]
     },
     "metadata": {},
     "output_type": "display_data"
    },
    {
     "data": {
      "text/html": [
       "<pre style=\"white-space:pre;overflow-x:auto;line-height:normal;font-family:Menlo,'DejaVu Sans Mono',consolas,'Courier New',monospace\">mean: -0.005520169926313704, r: -1.656050977894111, md: 300\n",
       "</pre>\n"
      ],
      "text/plain": [
       "mean: -0.005520169926313704, r: -1.656050977894111, md: 300\n"
      ]
     },
     "metadata": {},
     "output_type": "display_data"
    },
    {
     "data": {
      "text/html": [
       "<pre style=\"white-space:pre;overflow-x:auto;line-height:normal;font-family:Menlo,'DejaVu Sans Mono',consolas,'Courier New',monospace\">mean: -0.004596892947696407, r: -1.3790678843089221, md: 300\n",
       "</pre>\n"
      ],
      "text/plain": [
       "mean: -0.004596892947696407, r: -1.3790678843089221, md: 300\n"
      ]
     },
     "metadata": {},
     "output_type": "display_data"
    },
    {
     "data": {
      "text/html": [
       "<pre style=\"white-space:pre;overflow-x:auto;line-height:normal;font-family:Menlo,'DejaVu Sans Mono',consolas,'Courier New',monospace\"></pre>\n"
      ],
      "text/plain": []
     },
     "metadata": {},
     "output_type": "display_data"
    },
    {
     "data": {
      "text/html": [
       "<pre style=\"white-space:pre;overflow-x:auto;line-height:normal;font-family:Menlo,'DejaVu Sans Mono',consolas,'Courier New',monospace\">\n",
       "</pre>\n"
      ],
      "text/plain": [
       "\n"
      ]
     },
     "metadata": {},
     "output_type": "display_data"
    },
    {
     "data": {
      "application/vnd.jupyter.widget-view+json": {
       "model_id": "840d0c348bcc4098826297abddd7b905",
       "version_major": 2,
       "version_minor": 0
      },
      "text/plain": [
       "Output()"
      ]
     },
     "metadata": {},
     "output_type": "display_data"
    },
    {
     "name": "stdout",
     "output_type": "stream",
     "text": [
      "epoch 35: Mean Reward = -0.004596892947696407\n"
     ]
    },
    {
     "data": {
      "text/html": [
       "<pre style=\"white-space:pre;overflow-x:auto;line-height:normal;font-family:Menlo,'DejaVu Sans Mono',consolas,'Courier New',monospace\">mean: 0.07916174998230852, r: 23.748524994692552, md: 300\n",
       "</pre>\n"
      ],
      "text/plain": [
       "mean: 0.07916174998230852, r: 23.748524994692552, md: 300\n"
      ]
     },
     "metadata": {},
     "output_type": "display_data"
    },
    {
     "data": {
      "text/html": [
       "<pre style=\"white-space:pre;overflow-x:auto;line-height:normal;font-family:Menlo,'DejaVu Sans Mono',consolas,'Courier New',monospace\">mean: -0.005088367350090705, r: -1.5265102050272112, md: 300\n",
       "</pre>\n"
      ],
      "text/plain": [
       "mean: -0.005088367350090705, r: -1.5265102050272112, md: 300\n"
      ]
     },
     "metadata": {},
     "output_type": "display_data"
    },
    {
     "data": {
      "text/html": [
       "<pre style=\"white-space:pre;overflow-x:auto;line-height:normal;font-family:Menlo,'DejaVu Sans Mono',consolas,'Courier New',monospace\">mean: -0.0043947966126108556, r: -1.3184389837832566, md: 300\n",
       "</pre>\n"
      ],
      "text/plain": [
       "mean: -0.0043947966126108556, r: -1.3184389837832566, md: 300\n"
      ]
     },
     "metadata": {},
     "output_type": "display_data"
    },
    {
     "data": {
      "text/html": [
       "<pre style=\"white-space:pre;overflow-x:auto;line-height:normal;font-family:Menlo,'DejaVu Sans Mono',consolas,'Courier New',monospace\">mean: -0.0035133244058441326, r: -1.0539973217532397, md: 300\n",
       "</pre>\n"
      ],
      "text/plain": [
       "mean: -0.0035133244058441326, r: -1.0539973217532397, md: 300\n"
      ]
     },
     "metadata": {},
     "output_type": "display_data"
    },
    {
     "data": {
      "text/html": [
       "<pre style=\"white-space:pre;overflow-x:auto;line-height:normal;font-family:Menlo,'DejaVu Sans Mono',consolas,'Courier New',monospace\">mean: -0.0021122560865614965, r: -0.6336768259684489, md: 300\n",
       "</pre>\n"
      ],
      "text/plain": [
       "mean: -0.0021122560865614965, r: -0.6336768259684489, md: 300\n"
      ]
     },
     "metadata": {},
     "output_type": "display_data"
    },
    {
     "data": {
      "text/html": [
       "<pre style=\"white-space:pre;overflow-x:auto;line-height:normal;font-family:Menlo,'DejaVu Sans Mono',consolas,'Courier New',monospace\"></pre>\n"
      ],
      "text/plain": []
     },
     "metadata": {},
     "output_type": "display_data"
    },
    {
     "data": {
      "text/html": [
       "<pre style=\"white-space:pre;overflow-x:auto;line-height:normal;font-family:Menlo,'DejaVu Sans Mono',consolas,'Courier New',monospace\">\n",
       "</pre>\n"
      ],
      "text/plain": [
       "\n"
      ]
     },
     "metadata": {},
     "output_type": "display_data"
    },
    {
     "data": {
      "application/vnd.jupyter.widget-view+json": {
       "model_id": "35bb244531b84b51a5a3f91618ef87d9",
       "version_major": 2,
       "version_minor": 0
      },
      "text/plain": [
       "Output()"
      ]
     },
     "metadata": {},
     "output_type": "display_data"
    },
    {
     "name": "stdout",
     "output_type": "stream",
     "text": [
      "epoch 36: Mean Reward = -0.0021122560865614965\n"
     ]
    },
    {
     "data": {
      "text/html": [
       "<pre style=\"white-space:pre;overflow-x:auto;line-height:normal;font-family:Menlo,'DejaVu Sans Mono',consolas,'Courier New',monospace\">mean: -0.003999631557335492, r: -1.1998894672006475, md: 300\n",
       "</pre>\n"
      ],
      "text/plain": [
       "mean: -0.003999631557335492, r: -1.1998894672006475, md: 300\n"
      ]
     },
     "metadata": {},
     "output_type": "display_data"
    },
    {
     "data": {
      "text/html": [
       "<pre style=\"white-space:pre;overflow-x:auto;line-height:normal;font-family:Menlo,'DejaVu Sans Mono',consolas,'Courier New',monospace\">mean: -0.006291082685654153, r: -1.8873248056962457, md: 300\n",
       "</pre>\n"
      ],
      "text/plain": [
       "mean: -0.006291082685654153, r: -1.8873248056962457, md: 300\n"
      ]
     },
     "metadata": {},
     "output_type": "display_data"
    },
    {
     "data": {
      "text/html": [
       "<pre style=\"white-space:pre;overflow-x:auto;line-height:normal;font-family:Menlo,'DejaVu Sans Mono',consolas,'Courier New',monospace\">mean: -0.005552011391490065, r: -1.6656034174470196, md: 300\n",
       "</pre>\n"
      ],
      "text/plain": [
       "mean: -0.005552011391490065, r: -1.6656034174470196, md: 300\n"
      ]
     },
     "metadata": {},
     "output_type": "display_data"
    },
    {
     "data": {
      "text/html": [
       "<pre style=\"white-space:pre;overflow-x:auto;line-height:normal;font-family:Menlo,'DejaVu Sans Mono',consolas,'Courier New',monospace\">mean: -0.0022122540576277093, r: -0.6636762172883128, md: 300\n",
       "</pre>\n"
      ],
      "text/plain": [
       "mean: -0.0022122540576277093, r: -0.6636762172883128, md: 300\n"
      ]
     },
     "metadata": {},
     "output_type": "display_data"
    },
    {
     "data": {
      "text/html": [
       "<pre style=\"white-space:pre;overflow-x:auto;line-height:normal;font-family:Menlo,'DejaVu Sans Mono',consolas,'Courier New',monospace\">mean: -0.004739807636812201, r: -1.4219422910436603, md: 300\n",
       "</pre>\n"
      ],
      "text/plain": [
       "mean: -0.004739807636812201, r: -1.4219422910436603, md: 300\n"
      ]
     },
     "metadata": {},
     "output_type": "display_data"
    },
    {
     "data": {
      "text/html": [
       "<pre style=\"white-space:pre;overflow-x:auto;line-height:normal;font-family:Menlo,'DejaVu Sans Mono',consolas,'Courier New',monospace\"></pre>\n"
      ],
      "text/plain": []
     },
     "metadata": {},
     "output_type": "display_data"
    },
    {
     "data": {
      "text/html": [
       "<pre style=\"white-space:pre;overflow-x:auto;line-height:normal;font-family:Menlo,'DejaVu Sans Mono',consolas,'Courier New',monospace\">\n",
       "</pre>\n"
      ],
      "text/plain": [
       "\n"
      ]
     },
     "metadata": {},
     "output_type": "display_data"
    },
    {
     "data": {
      "application/vnd.jupyter.widget-view+json": {
       "model_id": "e588be4939ce4363ace09d151e08f7a1",
       "version_major": 2,
       "version_minor": 0
      },
      "text/plain": [
       "Output()"
      ]
     },
     "metadata": {},
     "output_type": "display_data"
    },
    {
     "name": "stdout",
     "output_type": "stream",
     "text": [
      "epoch 37: Mean Reward = -0.004739807636812201\n"
     ]
    },
    {
     "data": {
      "text/html": [
       "<pre style=\"white-space:pre;overflow-x:auto;line-height:normal;font-family:Menlo,'DejaVu Sans Mono',consolas,'Courier New',monospace\">mean: -0.006113600058875522, r: -1.8340800176626564, md: 300\n",
       "</pre>\n"
      ],
      "text/plain": [
       "mean: -0.006113600058875522, r: -1.8340800176626564, md: 300\n"
      ]
     },
     "metadata": {},
     "output_type": "display_data"
    },
    {
     "data": {
      "text/html": [
       "<pre style=\"white-space:pre;overflow-x:auto;line-height:normal;font-family:Menlo,'DejaVu Sans Mono',consolas,'Courier New',monospace\">mean: -0.004065980773478235, r: -1.2197942320434705, md: 300\n",
       "</pre>\n"
      ],
      "text/plain": [
       "mean: -0.004065980773478235, r: -1.2197942320434705, md: 300\n"
      ]
     },
     "metadata": {},
     "output_type": "display_data"
    },
    {
     "data": {
      "text/html": [
       "<pre style=\"white-space:pre;overflow-x:auto;line-height:normal;font-family:Menlo,'DejaVu Sans Mono',consolas,'Courier New',monospace\">mean: -0.0045675346470132605, r: -1.3702603941039784, md: 300\n",
       "</pre>\n"
      ],
      "text/plain": [
       "mean: -0.0045675346470132605, r: -1.3702603941039784, md: 300\n"
      ]
     },
     "metadata": {},
     "output_type": "display_data"
    },
    {
     "data": {
      "text/html": [
       "<pre style=\"white-space:pre;overflow-x:auto;line-height:normal;font-family:Menlo,'DejaVu Sans Mono',consolas,'Courier New',monospace\">mean: -0.006571982611403158, r: -1.9715947834209473, md: 300\n",
       "</pre>\n"
      ],
      "text/plain": [
       "mean: -0.006571982611403158, r: -1.9715947834209473, md: 300\n"
      ]
     },
     "metadata": {},
     "output_type": "display_data"
    },
    {
     "data": {
      "text/html": [
       "<pre style=\"white-space:pre;overflow-x:auto;line-height:normal;font-family:Menlo,'DejaVu Sans Mono',consolas,'Courier New',monospace\">mean: -0.0027370967902059966, r: -0.821129037061799, md: 300\n",
       "</pre>\n"
      ],
      "text/plain": [
       "mean: -0.0027370967902059966, r: -0.821129037061799, md: 300\n"
      ]
     },
     "metadata": {},
     "output_type": "display_data"
    },
    {
     "data": {
      "text/html": [
       "<pre style=\"white-space:pre;overflow-x:auto;line-height:normal;font-family:Menlo,'DejaVu Sans Mono',consolas,'Courier New',monospace\"></pre>\n"
      ],
      "text/plain": []
     },
     "metadata": {},
     "output_type": "display_data"
    },
    {
     "data": {
      "text/html": [
       "<pre style=\"white-space:pre;overflow-x:auto;line-height:normal;font-family:Menlo,'DejaVu Sans Mono',consolas,'Courier New',monospace\">\n",
       "</pre>\n"
      ],
      "text/plain": [
       "\n"
      ]
     },
     "metadata": {},
     "output_type": "display_data"
    },
    {
     "data": {
      "application/vnd.jupyter.widget-view+json": {
       "model_id": "d8c12fd5364746b888bb285aac267f66",
       "version_major": 2,
       "version_minor": 0
      },
      "text/plain": [
       "Output()"
      ]
     },
     "metadata": {},
     "output_type": "display_data"
    },
    {
     "name": "stdout",
     "output_type": "stream",
     "text": [
      "epoch 38: Mean Reward = -0.0027370967902059966\n"
     ]
    },
    {
     "data": {
      "text/html": [
       "<pre style=\"white-space:pre;overflow-x:auto;line-height:normal;font-family:Menlo,'DejaVu Sans Mono',consolas,'Courier New',monospace\">mean: -0.003144732313161814, r: -0.9434196939485441, md: 300\n",
       "</pre>\n"
      ],
      "text/plain": [
       "mean: -0.003144732313161814, r: -0.9434196939485441, md: 300\n"
      ]
     },
     "metadata": {},
     "output_type": "display_data"
    },
    {
     "data": {
      "text/html": [
       "<pre style=\"white-space:pre;overflow-x:auto;line-height:normal;font-family:Menlo,'DejaVu Sans Mono',consolas,'Courier New',monospace\">mean: -0.008951864772135908, r: -2.685559431640772, md: 300\n",
       "</pre>\n"
      ],
      "text/plain": [
       "mean: -0.008951864772135908, r: -2.685559431640772, md: 300\n"
      ]
     },
     "metadata": {},
     "output_type": "display_data"
    },
    {
     "data": {
      "text/html": [
       "<pre style=\"white-space:pre;overflow-x:auto;line-height:normal;font-family:Menlo,'DejaVu Sans Mono',consolas,'Courier New',monospace\">mean: -0.003987002249211021, r: -1.1961006747633063, md: 300\n",
       "</pre>\n"
      ],
      "text/plain": [
       "mean: -0.003987002249211021, r: -1.1961006747633063, md: 300\n"
      ]
     },
     "metadata": {},
     "output_type": "display_data"
    },
    {
     "data": {
      "text/html": [
       "<pre style=\"white-space:pre;overflow-x:auto;line-height:normal;font-family:Menlo,'DejaVu Sans Mono',consolas,'Courier New',monospace\">mean: 0.010507879921626363, r: 3.1523639764879094, md: 300\n",
       "</pre>\n"
      ],
      "text/plain": [
       "mean: 0.010507879921626363, r: 3.1523639764879094, md: 300\n"
      ]
     },
     "metadata": {},
     "output_type": "display_data"
    },
    {
     "data": {
      "text/html": [
       "<pre style=\"white-space:pre;overflow-x:auto;line-height:normal;font-family:Menlo,'DejaVu Sans Mono',consolas,'Courier New',monospace\">mean: -0.006470349194927193, r: -1.9411047584781576, md: 300\n",
       "</pre>\n"
      ],
      "text/plain": [
       "mean: -0.006470349194927193, r: -1.9411047584781576, md: 300\n"
      ]
     },
     "metadata": {},
     "output_type": "display_data"
    },
    {
     "data": {
      "text/html": [
       "<pre style=\"white-space:pre;overflow-x:auto;line-height:normal;font-family:Menlo,'DejaVu Sans Mono',consolas,'Courier New',monospace\"></pre>\n"
      ],
      "text/plain": []
     },
     "metadata": {},
     "output_type": "display_data"
    },
    {
     "data": {
      "text/html": [
       "<pre style=\"white-space:pre;overflow-x:auto;line-height:normal;font-family:Menlo,'DejaVu Sans Mono',consolas,'Courier New',monospace\">\n",
       "</pre>\n"
      ],
      "text/plain": [
       "\n"
      ]
     },
     "metadata": {},
     "output_type": "display_data"
    },
    {
     "data": {
      "application/vnd.jupyter.widget-view+json": {
       "model_id": "8812276071774035b68ce9a3e84ad973",
       "version_major": 2,
       "version_minor": 0
      },
      "text/plain": [
       "Output()"
      ]
     },
     "metadata": {},
     "output_type": "display_data"
    },
    {
     "name": "stdout",
     "output_type": "stream",
     "text": [
      "epoch 39: Mean Reward = -0.006470349194927193\n"
     ]
    },
    {
     "data": {
      "text/html": [
       "<pre style=\"white-space:pre;overflow-x:auto;line-height:normal;font-family:Menlo,'DejaVu Sans Mono',consolas,'Courier New',monospace\">mean: 0.03265447164851394, r: 9.79634149455418, md: 300\n",
       "</pre>\n"
      ],
      "text/plain": [
       "mean: 0.03265447164851394, r: 9.79634149455418, md: 300\n"
      ]
     },
     "metadata": {},
     "output_type": "display_data"
    },
    {
     "data": {
      "text/html": [
       "<pre style=\"white-space:pre;overflow-x:auto;line-height:normal;font-family:Menlo,'DejaVu Sans Mono',consolas,'Courier New',monospace\">mean: -0.0057662971689272525, r: -1.7298891506781757, md: 300\n",
       "</pre>\n"
      ],
      "text/plain": [
       "mean: -0.0057662971689272525, r: -1.7298891506781757, md: 300\n"
      ]
     },
     "metadata": {},
     "output_type": "display_data"
    },
    {
     "data": {
      "text/html": [
       "<pre style=\"white-space:pre;overflow-x:auto;line-height:normal;font-family:Menlo,'DejaVu Sans Mono',consolas,'Courier New',monospace\">mean: -0.0021387141457412857, r: -0.6416142437223856, md: 300\n",
       "</pre>\n"
      ],
      "text/plain": [
       "mean: -0.0021387141457412857, r: -0.6416142437223856, md: 300\n"
      ]
     },
     "metadata": {},
     "output_type": "display_data"
    },
    {
     "data": {
      "text/html": [
       "<pre style=\"white-space:pre;overflow-x:auto;line-height:normal;font-family:Menlo,'DejaVu Sans Mono',consolas,'Courier New',monospace\">mean: -0.0039524333115539285, r: -1.1857299934661787, md: 300\n",
       "</pre>\n"
      ],
      "text/plain": [
       "mean: -0.0039524333115539285, r: -1.1857299934661787, md: 300\n"
      ]
     },
     "metadata": {},
     "output_type": "display_data"
    },
    {
     "data": {
      "text/html": [
       "<pre style=\"white-space:pre;overflow-x:auto;line-height:normal;font-family:Menlo,'DejaVu Sans Mono',consolas,'Courier New',monospace\">mean: -0.006702523121852399, r: -2.01075693655572, md: 300\n",
       "</pre>\n"
      ],
      "text/plain": [
       "mean: -0.006702523121852399, r: -2.01075693655572, md: 300\n"
      ]
     },
     "metadata": {},
     "output_type": "display_data"
    },
    {
     "data": {
      "text/html": [
       "<pre style=\"white-space:pre;overflow-x:auto;line-height:normal;font-family:Menlo,'DejaVu Sans Mono',consolas,'Courier New',monospace\"></pre>\n"
      ],
      "text/plain": []
     },
     "metadata": {},
     "output_type": "display_data"
    },
    {
     "data": {
      "text/html": [
       "<pre style=\"white-space:pre;overflow-x:auto;line-height:normal;font-family:Menlo,'DejaVu Sans Mono',consolas,'Courier New',monospace\">\n",
       "</pre>\n"
      ],
      "text/plain": [
       "\n"
      ]
     },
     "metadata": {},
     "output_type": "display_data"
    },
    {
     "data": {
      "application/vnd.jupyter.widget-view+json": {
       "model_id": "25b2a932a2ce47b784d7764ee1b99dd2",
       "version_major": 2,
       "version_minor": 0
      },
      "text/plain": [
       "Output()"
      ]
     },
     "metadata": {},
     "output_type": "display_data"
    },
    {
     "name": "stdout",
     "output_type": "stream",
     "text": [
      "epoch 40: Mean Reward = -0.006702523121852399\n"
     ]
    },
    {
     "data": {
      "text/html": [
       "<pre style=\"white-space:pre;overflow-x:auto;line-height:normal;font-family:Menlo,'DejaVu Sans Mono',consolas,'Courier New',monospace\">mean: 0.006013667037145059, r: 1.8041001111435178, md: 300\n",
       "</pre>\n"
      ],
      "text/plain": [
       "mean: 0.006013667037145059, r: 1.8041001111435178, md: 300\n"
      ]
     },
     "metadata": {},
     "output_type": "display_data"
    },
    {
     "data": {
      "text/html": [
       "<pre style=\"white-space:pre;overflow-x:auto;line-height:normal;font-family:Menlo,'DejaVu Sans Mono',consolas,'Courier New',monospace\">mean: -0.0054179681536181265, r: -1.625390446085438, md: 300\n",
       "</pre>\n"
      ],
      "text/plain": [
       "mean: -0.0054179681536181265, r: -1.625390446085438, md: 300\n"
      ]
     },
     "metadata": {},
     "output_type": "display_data"
    },
    {
     "data": {
      "text/html": [
       "<pre style=\"white-space:pre;overflow-x:auto;line-height:normal;font-family:Menlo,'DejaVu Sans Mono',consolas,'Courier New',monospace\">mean: -0.004980134510058513, r: -1.494040353017554, md: 300\n",
       "</pre>\n"
      ],
      "text/plain": [
       "mean: -0.004980134510058513, r: -1.494040353017554, md: 300\n"
      ]
     },
     "metadata": {},
     "output_type": "display_data"
    },
    {
     "data": {
      "text/html": [
       "<pre style=\"white-space:pre;overflow-x:auto;line-height:normal;font-family:Menlo,'DejaVu Sans Mono',consolas,'Courier New',monospace\">mean: -0.005320744681835868, r: -1.5962234045507602, md: 300\n",
       "</pre>\n"
      ],
      "text/plain": [
       "mean: -0.005320744681835868, r: -1.5962234045507602, md: 300\n"
      ]
     },
     "metadata": {},
     "output_type": "display_data"
    },
    {
     "data": {
      "text/html": [
       "<pre style=\"white-space:pre;overflow-x:auto;line-height:normal;font-family:Menlo,'DejaVu Sans Mono',consolas,'Courier New',monospace\">mean: 0.027180485556293037, r: 8.154145666887912, md: 300\n",
       "</pre>\n"
      ],
      "text/plain": [
       "mean: 0.027180485556293037, r: 8.154145666887912, md: 300\n"
      ]
     },
     "metadata": {},
     "output_type": "display_data"
    },
    {
     "data": {
      "text/html": [
       "<pre style=\"white-space:pre;overflow-x:auto;line-height:normal;font-family:Menlo,'DejaVu Sans Mono',consolas,'Courier New',monospace\"></pre>\n"
      ],
      "text/plain": []
     },
     "metadata": {},
     "output_type": "display_data"
    },
    {
     "data": {
      "text/html": [
       "<pre style=\"white-space:pre;overflow-x:auto;line-height:normal;font-family:Menlo,'DejaVu Sans Mono',consolas,'Courier New',monospace\">\n",
       "</pre>\n"
      ],
      "text/plain": [
       "\n"
      ]
     },
     "metadata": {},
     "output_type": "display_data"
    },
    {
     "data": {
      "application/vnd.jupyter.widget-view+json": {
       "model_id": "7e916fde4d3545a190fd0afbcb7b2cfb",
       "version_major": 2,
       "version_minor": 0
      },
      "text/plain": [
       "Output()"
      ]
     },
     "metadata": {},
     "output_type": "display_data"
    },
    {
     "name": "stdout",
     "output_type": "stream",
     "text": [
      "epoch 41: Mean Reward = 0.027180485556293037\n"
     ]
    },
    {
     "data": {
      "text/html": [
       "<pre style=\"white-space:pre;overflow-x:auto;line-height:normal;font-family:Menlo,'DejaVu Sans Mono',consolas,'Courier New',monospace\">mean: -0.005169350180335696, r: -1.550805054100709, md: 300\n",
       "</pre>\n"
      ],
      "text/plain": [
       "mean: -0.005169350180335696, r: -1.550805054100709, md: 300\n"
      ]
     },
     "metadata": {},
     "output_type": "display_data"
    },
    {
     "data": {
      "text/html": [
       "<pre style=\"white-space:pre;overflow-x:auto;line-height:normal;font-family:Menlo,'DejaVu Sans Mono',consolas,'Courier New',monospace\">mean: -0.006047726054123692, r: -1.814317816237108, md: 300\n",
       "</pre>\n"
      ],
      "text/plain": [
       "mean: -0.006047726054123692, r: -1.814317816237108, md: 300\n"
      ]
     },
     "metadata": {},
     "output_type": "display_data"
    },
    {
     "data": {
      "text/html": [
       "<pre style=\"white-space:pre;overflow-x:auto;line-height:normal;font-family:Menlo,'DejaVu Sans Mono',consolas,'Courier New',monospace\">mean: -0.006588133141646512, r: -1.9764399424939538, md: 300\n",
       "</pre>\n"
      ],
      "text/plain": [
       "mean: -0.006588133141646512, r: -1.9764399424939538, md: 300\n"
      ]
     },
     "metadata": {},
     "output_type": "display_data"
    },
    {
     "data": {
      "text/html": [
       "<pre style=\"white-space:pre;overflow-x:auto;line-height:normal;font-family:Menlo,'DejaVu Sans Mono',consolas,'Courier New',monospace\">mean: -0.002247415194456666, r: -0.6742245583369999, md: 300\n",
       "</pre>\n"
      ],
      "text/plain": [
       "mean: -0.002247415194456666, r: -0.6742245583369999, md: 300\n"
      ]
     },
     "metadata": {},
     "output_type": "display_data"
    },
    {
     "data": {
      "text/html": [
       "<pre style=\"white-space:pre;overflow-x:auto;line-height:normal;font-family:Menlo,'DejaVu Sans Mono',consolas,'Courier New',monospace\">mean: -0.006815565678375633, r: -2.0446697035126897, md: 300\n",
       "</pre>\n"
      ],
      "text/plain": [
       "mean: -0.006815565678375633, r: -2.0446697035126897, md: 300\n"
      ]
     },
     "metadata": {},
     "output_type": "display_data"
    },
    {
     "data": {
      "text/html": [
       "<pre style=\"white-space:pre;overflow-x:auto;line-height:normal;font-family:Menlo,'DejaVu Sans Mono',consolas,'Courier New',monospace\"></pre>\n"
      ],
      "text/plain": []
     },
     "metadata": {},
     "output_type": "display_data"
    },
    {
     "data": {
      "text/html": [
       "<pre style=\"white-space:pre;overflow-x:auto;line-height:normal;font-family:Menlo,'DejaVu Sans Mono',consolas,'Courier New',monospace\">\n",
       "</pre>\n"
      ],
      "text/plain": [
       "\n"
      ]
     },
     "metadata": {},
     "output_type": "display_data"
    },
    {
     "data": {
      "application/vnd.jupyter.widget-view+json": {
       "model_id": "86274adc922e42f39358686430f445b6",
       "version_major": 2,
       "version_minor": 0
      },
      "text/plain": [
       "Output()"
      ]
     },
     "metadata": {},
     "output_type": "display_data"
    },
    {
     "name": "stdout",
     "output_type": "stream",
     "text": [
      "epoch 42: Mean Reward = -0.006815565678375633\n"
     ]
    },
    {
     "data": {
      "text/html": [
       "<pre style=\"white-space:pre;overflow-x:auto;line-height:normal;font-family:Menlo,'DejaVu Sans Mono',consolas,'Courier New',monospace\">mean: -0.0044000233575465335, r: -1.32000700726396, md: 300\n",
       "</pre>\n"
      ],
      "text/plain": [
       "mean: -0.0044000233575465335, r: -1.32000700726396, md: 300\n"
      ]
     },
     "metadata": {},
     "output_type": "display_data"
    },
    {
     "data": {
      "text/html": [
       "<pre style=\"white-space:pre;overflow-x:auto;line-height:normal;font-family:Menlo,'DejaVu Sans Mono',consolas,'Courier New',monospace\">mean: -0.006193650267274449, r: -1.8580950801823346, md: 300\n",
       "</pre>\n"
      ],
      "text/plain": [
       "mean: -0.006193650267274449, r: -1.8580950801823346, md: 300\n"
      ]
     },
     "metadata": {},
     "output_type": "display_data"
    },
    {
     "data": {
      "text/html": [
       "<pre style=\"white-space:pre;overflow-x:auto;line-height:normal;font-family:Menlo,'DejaVu Sans Mono',consolas,'Courier New',monospace\">mean: -0.0020997391773014554, r: -0.6299217531904366, md: 300\n",
       "</pre>\n"
      ],
      "text/plain": [
       "mean: -0.0020997391773014554, r: -0.6299217531904366, md: 300\n"
      ]
     },
     "metadata": {},
     "output_type": "display_data"
    },
    {
     "data": {
      "text/html": [
       "<pre style=\"white-space:pre;overflow-x:auto;line-height:normal;font-family:Menlo,'DejaVu Sans Mono',consolas,'Courier New',monospace\">mean: -0.005141007617736212, r: -1.5423022853208637, md: 300\n",
       "</pre>\n"
      ],
      "text/plain": [
       "mean: -0.005141007617736212, r: -1.5423022853208637, md: 300\n"
      ]
     },
     "metadata": {},
     "output_type": "display_data"
    },
    {
     "data": {
      "text/html": [
       "<pre style=\"white-space:pre;overflow-x:auto;line-height:normal;font-family:Menlo,'DejaVu Sans Mono',consolas,'Courier New',monospace\">mean: -0.005897128018638037, r: -1.7691384055914112, md: 300\n",
       "</pre>\n"
      ],
      "text/plain": [
       "mean: -0.005897128018638037, r: -1.7691384055914112, md: 300\n"
      ]
     },
     "metadata": {},
     "output_type": "display_data"
    },
    {
     "data": {
      "text/html": [
       "<pre style=\"white-space:pre;overflow-x:auto;line-height:normal;font-family:Menlo,'DejaVu Sans Mono',consolas,'Courier New',monospace\"></pre>\n"
      ],
      "text/plain": []
     },
     "metadata": {},
     "output_type": "display_data"
    },
    {
     "data": {
      "text/html": [
       "<pre style=\"white-space:pre;overflow-x:auto;line-height:normal;font-family:Menlo,'DejaVu Sans Mono',consolas,'Courier New',monospace\">\n",
       "</pre>\n"
      ],
      "text/plain": [
       "\n"
      ]
     },
     "metadata": {},
     "output_type": "display_data"
    },
    {
     "data": {
      "application/vnd.jupyter.widget-view+json": {
       "model_id": "4c77a090a4ed44f883d85bd0cabdbe02",
       "version_major": 2,
       "version_minor": 0
      },
      "text/plain": [
       "Output()"
      ]
     },
     "metadata": {},
     "output_type": "display_data"
    },
    {
     "name": "stdout",
     "output_type": "stream",
     "text": [
      "epoch 43: Mean Reward = -0.005897128018638037\n"
     ]
    },
    {
     "data": {
      "text/html": [
       "<pre style=\"white-space:pre;overflow-x:auto;line-height:normal;font-family:Menlo,'DejaVu Sans Mono',consolas,'Courier New',monospace\">mean: -0.003724236220494387, r: -1.1172708661483162, md: 300\n",
       "</pre>\n"
      ],
      "text/plain": [
       "mean: -0.003724236220494387, r: -1.1172708661483162, md: 300\n"
      ]
     },
     "metadata": {},
     "output_type": "display_data"
    },
    {
     "data": {
      "text/html": [
       "<pre style=\"white-space:pre;overflow-x:auto;line-height:normal;font-family:Menlo,'DejaVu Sans Mono',consolas,'Courier New',monospace\">mean: -0.005971747217213972, r: -1.7915241651641916, md: 300\n",
       "</pre>\n"
      ],
      "text/plain": [
       "mean: -0.005971747217213972, r: -1.7915241651641916, md: 300\n"
      ]
     },
     "metadata": {},
     "output_type": "display_data"
    },
    {
     "data": {
      "text/html": [
       "<pre style=\"white-space:pre;overflow-x:auto;line-height:normal;font-family:Menlo,'DejaVu Sans Mono',consolas,'Courier New',monospace\">mean: -0.004489624315996832, r: -1.3468872947990498, md: 300\n",
       "</pre>\n"
      ],
      "text/plain": [
       "mean: -0.004489624315996832, r: -1.3468872947990498, md: 300\n"
      ]
     },
     "metadata": {},
     "output_type": "display_data"
    },
    {
     "data": {
      "text/html": [
       "<pre style=\"white-space:pre;overflow-x:auto;line-height:normal;font-family:Menlo,'DejaVu Sans Mono',consolas,'Courier New',monospace\">mean: -0.0058927505281975035, r: -1.767825158459251, md: 300\n",
       "</pre>\n"
      ],
      "text/plain": [
       "mean: -0.0058927505281975035, r: -1.767825158459251, md: 300\n"
      ]
     },
     "metadata": {},
     "output_type": "display_data"
    },
    {
     "data": {
      "text/html": [
       "<pre style=\"white-space:pre;overflow-x:auto;line-height:normal;font-family:Menlo,'DejaVu Sans Mono',consolas,'Courier New',monospace\">mean: -0.002258428269313495, r: -0.6775284807940485, md: 300\n",
       "</pre>\n"
      ],
      "text/plain": [
       "mean: -0.002258428269313495, r: -0.6775284807940485, md: 300\n"
      ]
     },
     "metadata": {},
     "output_type": "display_data"
    },
    {
     "data": {
      "text/html": [
       "<pre style=\"white-space:pre;overflow-x:auto;line-height:normal;font-family:Menlo,'DejaVu Sans Mono',consolas,'Courier New',monospace\"></pre>\n"
      ],
      "text/plain": []
     },
     "metadata": {},
     "output_type": "display_data"
    },
    {
     "data": {
      "text/html": [
       "<pre style=\"white-space:pre;overflow-x:auto;line-height:normal;font-family:Menlo,'DejaVu Sans Mono',consolas,'Courier New',monospace\">\n",
       "</pre>\n"
      ],
      "text/plain": [
       "\n"
      ]
     },
     "metadata": {},
     "output_type": "display_data"
    },
    {
     "data": {
      "application/vnd.jupyter.widget-view+json": {
       "model_id": "f990783f10a246b299fad2174019ed55",
       "version_major": 2,
       "version_minor": 0
      },
      "text/plain": [
       "Output()"
      ]
     },
     "metadata": {},
     "output_type": "display_data"
    },
    {
     "name": "stdout",
     "output_type": "stream",
     "text": [
      "epoch 44: Mean Reward = -0.002258428269313495\n"
     ]
    },
    {
     "data": {
      "text/html": [
       "<pre style=\"white-space:pre;overflow-x:auto;line-height:normal;font-family:Menlo,'DejaVu Sans Mono',consolas,'Courier New',monospace\">mean: 0.01873935240796048, r: 5.621805722388144, md: 300\n",
       "</pre>\n"
      ],
      "text/plain": [
       "mean: 0.01873935240796048, r: 5.621805722388144, md: 300\n"
      ]
     },
     "metadata": {},
     "output_type": "display_data"
    },
    {
     "data": {
      "text/html": [
       "<pre style=\"white-space:pre;overflow-x:auto;line-height:normal;font-family:Menlo,'DejaVu Sans Mono',consolas,'Courier New',monospace\">mean: -0.0017429951618639348, r: -0.5228985485591804, md: 300\n",
       "</pre>\n"
      ],
      "text/plain": [
       "mean: -0.0017429951618639348, r: -0.5228985485591804, md: 300\n"
      ]
     },
     "metadata": {},
     "output_type": "display_data"
    },
    {
     "data": {
      "text/html": [
       "<pre style=\"white-space:pre;overflow-x:auto;line-height:normal;font-family:Menlo,'DejaVu Sans Mono',consolas,'Courier New',monospace\">mean: -0.008861717534813941, r: -2.658515260444183, md: 300\n",
       "</pre>\n"
      ],
      "text/plain": [
       "mean: -0.008861717534813941, r: -2.658515260444183, md: 300\n"
      ]
     },
     "metadata": {},
     "output_type": "display_data"
    },
    {
     "data": {
      "text/html": [
       "<pre style=\"white-space:pre;overflow-x:auto;line-height:normal;font-family:Menlo,'DejaVu Sans Mono',consolas,'Courier New',monospace\">mean: -0.003985495256566296, r: -1.1956485769698888, md: 300\n",
       "</pre>\n"
      ],
      "text/plain": [
       "mean: -0.003985495256566296, r: -1.1956485769698888, md: 300\n"
      ]
     },
     "metadata": {},
     "output_type": "display_data"
    },
    {
     "data": {
      "text/html": [
       "<pre style=\"white-space:pre;overflow-x:auto;line-height:normal;font-family:Menlo,'DejaVu Sans Mono',consolas,'Courier New',monospace\">mean: -0.004840455375187588, r: -1.4521366125562762, md: 300\n",
       "</pre>\n"
      ],
      "text/plain": [
       "mean: -0.004840455375187588, r: -1.4521366125562762, md: 300\n"
      ]
     },
     "metadata": {},
     "output_type": "display_data"
    },
    {
     "data": {
      "text/html": [
       "<pre style=\"white-space:pre;overflow-x:auto;line-height:normal;font-family:Menlo,'DejaVu Sans Mono',consolas,'Courier New',monospace\"></pre>\n"
      ],
      "text/plain": []
     },
     "metadata": {},
     "output_type": "display_data"
    },
    {
     "data": {
      "text/html": [
       "<pre style=\"white-space:pre;overflow-x:auto;line-height:normal;font-family:Menlo,'DejaVu Sans Mono',consolas,'Courier New',monospace\">\n",
       "</pre>\n"
      ],
      "text/plain": [
       "\n"
      ]
     },
     "metadata": {},
     "output_type": "display_data"
    },
    {
     "data": {
      "application/vnd.jupyter.widget-view+json": {
       "model_id": "1c0381ab8e62458aac97830db47fe540",
       "version_major": 2,
       "version_minor": 0
      },
      "text/plain": [
       "Output()"
      ]
     },
     "metadata": {},
     "output_type": "display_data"
    },
    {
     "name": "stdout",
     "output_type": "stream",
     "text": [
      "epoch 45: Mean Reward = -0.004840455375187588\n"
     ]
    },
    {
     "data": {
      "text/html": [
       "<pre style=\"white-space:pre;overflow-x:auto;line-height:normal;font-family:Menlo,'DejaVu Sans Mono',consolas,'Courier New',monospace\">mean: -0.004022934717192759, r: -1.2068804151578276, md: 300\n",
       "</pre>\n"
      ],
      "text/plain": [
       "mean: -0.004022934717192759, r: -1.2068804151578276, md: 300\n"
      ]
     },
     "metadata": {},
     "output_type": "display_data"
    },
    {
     "data": {
      "text/html": [
       "<pre style=\"white-space:pre;overflow-x:auto;line-height:normal;font-family:Menlo,'DejaVu Sans Mono',consolas,'Courier New',monospace\">mean: -0.005685081386422962, r: -1.7055244159268885, md: 300\n",
       "</pre>\n"
      ],
      "text/plain": [
       "mean: -0.005685081386422962, r: -1.7055244159268885, md: 300\n"
      ]
     },
     "metadata": {},
     "output_type": "display_data"
    },
    {
     "data": {
      "text/html": [
       "<pre style=\"white-space:pre;overflow-x:auto;line-height:normal;font-family:Menlo,'DejaVu Sans Mono',consolas,'Courier New',monospace\">mean: 0.01293697043325094, r: 3.8810911299752817, md: 300\n",
       "</pre>\n"
      ],
      "text/plain": [
       "mean: 0.01293697043325094, r: 3.8810911299752817, md: 300\n"
      ]
     },
     "metadata": {},
     "output_type": "display_data"
    },
    {
     "data": {
      "text/html": [
       "<pre style=\"white-space:pre;overflow-x:auto;line-height:normal;font-family:Menlo,'DejaVu Sans Mono',consolas,'Courier New',monospace\">mean: -0.005443190698005977, r: -1.6329572094017935, md: 300\n",
       "</pre>\n"
      ],
      "text/plain": [
       "mean: -0.005443190698005977, r: -1.6329572094017935, md: 300\n"
      ]
     },
     "metadata": {},
     "output_type": "display_data"
    },
    {
     "data": {
      "text/html": [
       "<pre style=\"white-space:pre;overflow-x:auto;line-height:normal;font-family:Menlo,'DejaVu Sans Mono',consolas,'Courier New',monospace\">mean: -0.004358064964872379, r: -1.3074194894617137, md: 300\n",
       "</pre>\n"
      ],
      "text/plain": [
       "mean: -0.004358064964872379, r: -1.3074194894617137, md: 300\n"
      ]
     },
     "metadata": {},
     "output_type": "display_data"
    },
    {
     "data": {
      "text/html": [
       "<pre style=\"white-space:pre;overflow-x:auto;line-height:normal;font-family:Menlo,'DejaVu Sans Mono',consolas,'Courier New',monospace\"></pre>\n"
      ],
      "text/plain": []
     },
     "metadata": {},
     "output_type": "display_data"
    },
    {
     "data": {
      "text/html": [
       "<pre style=\"white-space:pre;overflow-x:auto;line-height:normal;font-family:Menlo,'DejaVu Sans Mono',consolas,'Courier New',monospace\">\n",
       "</pre>\n"
      ],
      "text/plain": [
       "\n"
      ]
     },
     "metadata": {},
     "output_type": "display_data"
    },
    {
     "data": {
      "application/vnd.jupyter.widget-view+json": {
       "model_id": "4d78343cafd34dbf8390a4503f0e2b25",
       "version_major": 2,
       "version_minor": 0
      },
      "text/plain": [
       "Output()"
      ]
     },
     "metadata": {},
     "output_type": "display_data"
    },
    {
     "name": "stdout",
     "output_type": "stream",
     "text": [
      "epoch 46: Mean Reward = -0.004358064964872379\n"
     ]
    },
    {
     "data": {
      "text/html": [
       "<pre style=\"white-space:pre;overflow-x:auto;line-height:normal;font-family:Menlo,'DejaVu Sans Mono',consolas,'Courier New',monospace\">mean: -0.003735127436370068, r: -1.1205382309110203, md: 300\n",
       "</pre>\n"
      ],
      "text/plain": [
       "mean: -0.003735127436370068, r: -1.1205382309110203, md: 300\n"
      ]
     },
     "metadata": {},
     "output_type": "display_data"
    },
    {
     "data": {
      "text/html": [
       "<pre style=\"white-space:pre;overflow-x:auto;line-height:normal;font-family:Menlo,'DejaVu Sans Mono',consolas,'Courier New',monospace\">mean: -0.0038262231102503277, r: -1.1478669330750981, md: 300\n",
       "</pre>\n"
      ],
      "text/plain": [
       "mean: -0.0038262231102503277, r: -1.1478669330750981, md: 300\n"
      ]
     },
     "metadata": {},
     "output_type": "display_data"
    },
    {
     "data": {
      "text/html": [
       "<pre style=\"white-space:pre;overflow-x:auto;line-height:normal;font-family:Menlo,'DejaVu Sans Mono',consolas,'Courier New',monospace\">mean: -0.002354977358026086, r: -0.7064932074078258, md: 300\n",
       "</pre>\n"
      ],
      "text/plain": [
       "mean: -0.002354977358026086, r: -0.7064932074078258, md: 300\n"
      ]
     },
     "metadata": {},
     "output_type": "display_data"
    },
    {
     "data": {
      "text/html": [
       "<pre style=\"white-space:pre;overflow-x:auto;line-height:normal;font-family:Menlo,'DejaVu Sans Mono',consolas,'Courier New',monospace\">mean: -0.0027611571953829223, r: -0.8283471586148765, md: 300\n",
       "</pre>\n"
      ],
      "text/plain": [
       "mean: -0.0027611571953829223, r: -0.8283471586148765, md: 300\n"
      ]
     },
     "metadata": {},
     "output_type": "display_data"
    },
    {
     "data": {
      "text/html": [
       "<pre style=\"white-space:pre;overflow-x:auto;line-height:normal;font-family:Menlo,'DejaVu Sans Mono',consolas,'Courier New',monospace\">mean: -0.005273000438562385, r: -1.5819001315687156, md: 300\n",
       "</pre>\n"
      ],
      "text/plain": [
       "mean: -0.005273000438562385, r: -1.5819001315687156, md: 300\n"
      ]
     },
     "metadata": {},
     "output_type": "display_data"
    },
    {
     "data": {
      "text/html": [
       "<pre style=\"white-space:pre;overflow-x:auto;line-height:normal;font-family:Menlo,'DejaVu Sans Mono',consolas,'Courier New',monospace\"></pre>\n"
      ],
      "text/plain": []
     },
     "metadata": {},
     "output_type": "display_data"
    },
    {
     "data": {
      "text/html": [
       "<pre style=\"white-space:pre;overflow-x:auto;line-height:normal;font-family:Menlo,'DejaVu Sans Mono',consolas,'Courier New',monospace\">\n",
       "</pre>\n"
      ],
      "text/plain": [
       "\n"
      ]
     },
     "metadata": {},
     "output_type": "display_data"
    },
    {
     "data": {
      "application/vnd.jupyter.widget-view+json": {
       "model_id": "a1af145f5f7843fb92db58436057f7c1",
       "version_major": 2,
       "version_minor": 0
      },
      "text/plain": [
       "Output()"
      ]
     },
     "metadata": {},
     "output_type": "display_data"
    },
    {
     "name": "stdout",
     "output_type": "stream",
     "text": [
      "epoch 47: Mean Reward = -0.005273000438562385\n"
     ]
    },
    {
     "data": {
      "text/html": [
       "<pre style=\"white-space:pre;overflow-x:auto;line-height:normal;font-family:Menlo,'DejaVu Sans Mono',consolas,'Courier New',monospace\">mean: 0.017281095713958194, r: 5.184328714187459, md: 300\n",
       "</pre>\n"
      ],
      "text/plain": [
       "mean: 0.017281095713958194, r: 5.184328714187459, md: 300\n"
      ]
     },
     "metadata": {},
     "output_type": "display_data"
    },
    {
     "data": {
      "text/html": [
       "<pre style=\"white-space:pre;overflow-x:auto;line-height:normal;font-family:Menlo,'DejaVu Sans Mono',consolas,'Courier New',monospace\">mean: -0.006755183292349387, r: -2.0265549877048166, md: 300\n",
       "</pre>\n"
      ],
      "text/plain": [
       "mean: -0.006755183292349387, r: -2.0265549877048166, md: 300\n"
      ]
     },
     "metadata": {},
     "output_type": "display_data"
    },
    {
     "data": {
      "text/html": [
       "<pre style=\"white-space:pre;overflow-x:auto;line-height:normal;font-family:Menlo,'DejaVu Sans Mono',consolas,'Courier New',monospace\">mean: -0.0008334782547862186, r: -0.2500434764358656, md: 300\n",
       "</pre>\n"
      ],
      "text/plain": [
       "mean: -0.0008334782547862186, r: -0.2500434764358656, md: 300\n"
      ]
     },
     "metadata": {},
     "output_type": "display_data"
    },
    {
     "data": {
      "text/html": [
       "<pre style=\"white-space:pre;overflow-x:auto;line-height:normal;font-family:Menlo,'DejaVu Sans Mono',consolas,'Courier New',monospace\">mean: -0.004296284611180849, r: -1.2888853833542546, md: 300\n",
       "</pre>\n"
      ],
      "text/plain": [
       "mean: -0.004296284611180849, r: -1.2888853833542546, md: 300\n"
      ]
     },
     "metadata": {},
     "output_type": "display_data"
    },
    {
     "data": {
      "text/html": [
       "<pre style=\"white-space:pre;overflow-x:auto;line-height:normal;font-family:Menlo,'DejaVu Sans Mono',consolas,'Courier New',monospace\">mean: -0.002852952998140576, r: -0.855885899442173, md: 300\n",
       "</pre>\n"
      ],
      "text/plain": [
       "mean: -0.002852952998140576, r: -0.855885899442173, md: 300\n"
      ]
     },
     "metadata": {},
     "output_type": "display_data"
    },
    {
     "data": {
      "text/html": [
       "<pre style=\"white-space:pre;overflow-x:auto;line-height:normal;font-family:Menlo,'DejaVu Sans Mono',consolas,'Courier New',monospace\"></pre>\n"
      ],
      "text/plain": []
     },
     "metadata": {},
     "output_type": "display_data"
    },
    {
     "data": {
      "text/html": [
       "<pre style=\"white-space:pre;overflow-x:auto;line-height:normal;font-family:Menlo,'DejaVu Sans Mono',consolas,'Courier New',monospace\">\n",
       "</pre>\n"
      ],
      "text/plain": [
       "\n"
      ]
     },
     "metadata": {},
     "output_type": "display_data"
    },
    {
     "data": {
      "application/vnd.jupyter.widget-view+json": {
       "model_id": "257483f9341e41c29e5cea2002d86e43",
       "version_major": 2,
       "version_minor": 0
      },
      "text/plain": [
       "Output()"
      ]
     },
     "metadata": {},
     "output_type": "display_data"
    },
    {
     "name": "stdout",
     "output_type": "stream",
     "text": [
      "epoch 48: Mean Reward = -0.002852952998140576\n"
     ]
    },
    {
     "data": {
      "text/html": [
       "<pre style=\"white-space:pre;overflow-x:auto;line-height:normal;font-family:Menlo,'DejaVu Sans Mono',consolas,'Courier New',monospace\">mean: -0.008999137918929258, r: -2.6997413756787774, md: 300\n",
       "</pre>\n"
      ],
      "text/plain": [
       "mean: -0.008999137918929258, r: -2.6997413756787774, md: 300\n"
      ]
     },
     "metadata": {},
     "output_type": "display_data"
    },
    {
     "data": {
      "text/html": [
       "<pre style=\"white-space:pre;overflow-x:auto;line-height:normal;font-family:Menlo,'DejaVu Sans Mono',consolas,'Courier New',monospace\">mean: -0.0024993524790774186, r: -0.7498057437232256, md: 300\n",
       "</pre>\n"
      ],
      "text/plain": [
       "mean: -0.0024993524790774186, r: -0.7498057437232256, md: 300\n"
      ]
     },
     "metadata": {},
     "output_type": "display_data"
    },
    {
     "data": {
      "text/html": [
       "<pre style=\"white-space:pre;overflow-x:auto;line-height:normal;font-family:Menlo,'DejaVu Sans Mono',consolas,'Courier New',monospace\">mean: -0.006807576474736199, r: -2.0422729424208597, md: 300\n",
       "</pre>\n"
      ],
      "text/plain": [
       "mean: -0.006807576474736199, r: -2.0422729424208597, md: 300\n"
      ]
     },
     "metadata": {},
     "output_type": "display_data"
    },
    {
     "data": {
      "text/html": [
       "<pre style=\"white-space:pre;overflow-x:auto;line-height:normal;font-family:Menlo,'DejaVu Sans Mono',consolas,'Courier New',monospace\">mean: -0.002595073744168197, r: -0.7785221232504591, md: 300\n",
       "</pre>\n"
      ],
      "text/plain": [
       "mean: -0.002595073744168197, r: -0.7785221232504591, md: 300\n"
      ]
     },
     "metadata": {},
     "output_type": "display_data"
    },
    {
     "data": {
      "text/html": [
       "<pre style=\"white-space:pre;overflow-x:auto;line-height:normal;font-family:Menlo,'DejaVu Sans Mono',consolas,'Courier New',monospace\">mean: -0.004848294490550583, r: -1.4544883471651748, md: 300\n",
       "</pre>\n"
      ],
      "text/plain": [
       "mean: -0.004848294490550583, r: -1.4544883471651748, md: 300\n"
      ]
     },
     "metadata": {},
     "output_type": "display_data"
    },
    {
     "data": {
      "text/html": [
       "<pre style=\"white-space:pre;overflow-x:auto;line-height:normal;font-family:Menlo,'DejaVu Sans Mono',consolas,'Courier New',monospace\"></pre>\n"
      ],
      "text/plain": []
     },
     "metadata": {},
     "output_type": "display_data"
    },
    {
     "data": {
      "text/html": [
       "<pre style=\"white-space:pre;overflow-x:auto;line-height:normal;font-family:Menlo,'DejaVu Sans Mono',consolas,'Courier New',monospace\">\n",
       "</pre>\n"
      ],
      "text/plain": [
       "\n"
      ]
     },
     "metadata": {},
     "output_type": "display_data"
    },
    {
     "data": {
      "application/vnd.jupyter.widget-view+json": {
       "model_id": "8c476a4850c145a5bc14551ce56b1aa8",
       "version_major": 2,
       "version_minor": 0
      },
      "text/plain": [
       "Output()"
      ]
     },
     "metadata": {},
     "output_type": "display_data"
    },
    {
     "name": "stdout",
     "output_type": "stream",
     "text": [
      "epoch 49: Mean Reward = -0.004848294490550583\n"
     ]
    },
    {
     "data": {
      "text/html": [
       "<pre style=\"white-space:pre;overflow-x:auto;line-height:normal;font-family:Menlo,'DejaVu Sans Mono',consolas,'Courier New',monospace\">mean: -0.005953656499809123, r: -1.7860969499427368, md: 300\n",
       "</pre>\n"
      ],
      "text/plain": [
       "mean: -0.005953656499809123, r: -1.7860969499427368, md: 300\n"
      ]
     },
     "metadata": {},
     "output_type": "display_data"
    },
    {
     "data": {
      "text/html": [
       "<pre style=\"white-space:pre;overflow-x:auto;line-height:normal;font-family:Menlo,'DejaVu Sans Mono',consolas,'Courier New',monospace\">mean: -0.0027883756773043056, r: -0.8365127031912916, md: 300\n",
       "</pre>\n"
      ],
      "text/plain": [
       "mean: -0.0027883756773043056, r: -0.8365127031912916, md: 300\n"
      ]
     },
     "metadata": {},
     "output_type": "display_data"
    },
    {
     "data": {
      "text/html": [
       "<pre style=\"white-space:pre;overflow-x:auto;line-height:normal;font-family:Menlo,'DejaVu Sans Mono',consolas,'Courier New',monospace\">mean: -0.006731504383847687, r: -2.0194513151543063, md: 300\n",
       "</pre>\n"
      ],
      "text/plain": [
       "mean: -0.006731504383847687, r: -2.0194513151543063, md: 300\n"
      ]
     },
     "metadata": {},
     "output_type": "display_data"
    },
    {
     "data": {
      "text/html": [
       "<pre style=\"white-space:pre;overflow-x:auto;line-height:normal;font-family:Menlo,'DejaVu Sans Mono',consolas,'Courier New',monospace\">mean: -0.0022824976571267468, r: -0.6847492971380241, md: 300\n",
       "</pre>\n"
      ],
      "text/plain": [
       "mean: -0.0022824976571267468, r: -0.6847492971380241, md: 300\n"
      ]
     },
     "metadata": {},
     "output_type": "display_data"
    },
    {
     "data": {
      "text/html": [
       "<pre style=\"white-space:pre;overflow-x:auto;line-height:normal;font-family:Menlo,'DejaVu Sans Mono',consolas,'Courier New',monospace\">mean: -0.0016634236984564153, r: -0.49902710953692453, md: 300\n",
       "</pre>\n"
      ],
      "text/plain": [
       "mean: -0.0016634236984564153, r: -0.49902710953692453, md: 300\n"
      ]
     },
     "metadata": {},
     "output_type": "display_data"
    },
    {
     "data": {
      "text/html": [
       "<pre style=\"white-space:pre;overflow-x:auto;line-height:normal;font-family:Menlo,'DejaVu Sans Mono',consolas,'Courier New',monospace\"></pre>\n"
      ],
      "text/plain": []
     },
     "metadata": {},
     "output_type": "display_data"
    },
    {
     "data": {
      "text/html": [
       "<pre style=\"white-space:pre;overflow-x:auto;line-height:normal;font-family:Menlo,'DejaVu Sans Mono',consolas,'Courier New',monospace\">\n",
       "</pre>\n"
      ],
      "text/plain": [
       "\n"
      ]
     },
     "metadata": {},
     "output_type": "display_data"
    },
    {
     "data": {
      "application/vnd.jupyter.widget-view+json": {
       "model_id": "5eae7c63c5cd4cfab5e408c090029218",
       "version_major": 2,
       "version_minor": 0
      },
      "text/plain": [
       "Output()"
      ]
     },
     "metadata": {},
     "output_type": "display_data"
    },
    {
     "name": "stdout",
     "output_type": "stream",
     "text": [
      "epoch 50: Mean Reward = -0.0016634236984564153\n"
     ]
    },
    {
     "data": {
      "text/html": [
       "<pre style=\"white-space:pre;overflow-x:auto;line-height:normal;font-family:Menlo,'DejaVu Sans Mono',consolas,'Courier New',monospace\">mean: -0.004853714588258708, r: -1.4561143764776123, md: 300\n",
       "</pre>\n"
      ],
      "text/plain": [
       "mean: -0.004853714588258708, r: -1.4561143764776123, md: 300\n"
      ]
     },
     "metadata": {},
     "output_type": "display_data"
    },
    {
     "data": {
      "text/html": [
       "<pre style=\"white-space:pre;overflow-x:auto;line-height:normal;font-family:Menlo,'DejaVu Sans Mono',consolas,'Courier New',monospace\">mean: -0.005975511562966427, r: -1.7926534688899283, md: 300\n",
       "</pre>\n"
      ],
      "text/plain": [
       "mean: -0.005975511562966427, r: -1.7926534688899283, md: 300\n"
      ]
     },
     "metadata": {},
     "output_type": "display_data"
    },
    {
     "data": {
      "text/html": [
       "<pre style=\"white-space:pre;overflow-x:auto;line-height:normal;font-family:Menlo,'DejaVu Sans Mono',consolas,'Courier New',monospace\">mean: -0.006907758883634862, r: -2.0723276650904587, md: 300\n",
       "</pre>\n"
      ],
      "text/plain": [
       "mean: -0.006907758883634862, r: -2.0723276650904587, md: 300\n"
      ]
     },
     "metadata": {},
     "output_type": "display_data"
    },
    {
     "data": {
      "text/html": [
       "<pre style=\"white-space:pre;overflow-x:auto;line-height:normal;font-family:Menlo,'DejaVu Sans Mono',consolas,'Courier New',monospace\">mean: -0.005001730167299617, r: -1.500519050189885, md: 300\n",
       "</pre>\n"
      ],
      "text/plain": [
       "mean: -0.005001730167299617, r: -1.500519050189885, md: 300\n"
      ]
     },
     "metadata": {},
     "output_type": "display_data"
    },
    {
     "data": {
      "text/html": [
       "<pre style=\"white-space:pre;overflow-x:auto;line-height:normal;font-family:Menlo,'DejaVu Sans Mono',consolas,'Courier New',monospace\">mean: -0.0035448245458981845, r: -1.0634473637694555, md: 300\n",
       "</pre>\n"
      ],
      "text/plain": [
       "mean: -0.0035448245458981845, r: -1.0634473637694555, md: 300\n"
      ]
     },
     "metadata": {},
     "output_type": "display_data"
    },
    {
     "data": {
      "text/html": [
       "<pre style=\"white-space:pre;overflow-x:auto;line-height:normal;font-family:Menlo,'DejaVu Sans Mono',consolas,'Courier New',monospace\"></pre>\n"
      ],
      "text/plain": []
     },
     "metadata": {},
     "output_type": "display_data"
    },
    {
     "data": {
      "text/html": [
       "<pre style=\"white-space:pre;overflow-x:auto;line-height:normal;font-family:Menlo,'DejaVu Sans Mono',consolas,'Courier New',monospace\">\n",
       "</pre>\n"
      ],
      "text/plain": [
       "\n"
      ]
     },
     "metadata": {},
     "output_type": "display_data"
    },
    {
     "data": {
      "application/vnd.jupyter.widget-view+json": {
       "model_id": "07bf856306724aaeb8c28543cb970fbb",
       "version_major": 2,
       "version_minor": 0
      },
      "text/plain": [
       "Output()"
      ]
     },
     "metadata": {},
     "output_type": "display_data"
    },
    {
     "name": "stdout",
     "output_type": "stream",
     "text": [
      "epoch 51: Mean Reward = -0.0035448245458981845\n"
     ]
    },
    {
     "data": {
      "text/html": [
       "<pre style=\"white-space:pre;overflow-x:auto;line-height:normal;font-family:Menlo,'DejaVu Sans Mono',consolas,'Courier New',monospace\">mean: -0.0061924732209934575, r: -1.8577419662980372, md: 300\n",
       "</pre>\n"
      ],
      "text/plain": [
       "mean: -0.0061924732209934575, r: -1.8577419662980372, md: 300\n"
      ]
     },
     "metadata": {},
     "output_type": "display_data"
    },
    {
     "data": {
      "text/html": [
       "<pre style=\"white-space:pre;overflow-x:auto;line-height:normal;font-family:Menlo,'DejaVu Sans Mono',consolas,'Courier New',monospace\">mean: -0.00547447954303126, r: -1.6423438629093778, md: 300\n",
       "</pre>\n"
      ],
      "text/plain": [
       "mean: -0.00547447954303126, r: -1.6423438629093778, md: 300\n"
      ]
     },
     "metadata": {},
     "output_type": "display_data"
    },
    {
     "data": {
      "text/html": [
       "<pre style=\"white-space:pre;overflow-x:auto;line-height:normal;font-family:Menlo,'DejaVu Sans Mono',consolas,'Courier New',monospace\">mean: 0.03606759859347287, r: 10.82027957804186, md: 300\n",
       "</pre>\n"
      ],
      "text/plain": [
       "mean: 0.03606759859347287, r: 10.82027957804186, md: 300\n"
      ]
     },
     "metadata": {},
     "output_type": "display_data"
    },
    {
     "data": {
      "text/html": [
       "<pre style=\"white-space:pre;overflow-x:auto;line-height:normal;font-family:Menlo,'DejaVu Sans Mono',consolas,'Courier New',monospace\">mean: -0.002457862802995938, r: -0.7373588408987816, md: 300\n",
       "</pre>\n"
      ],
      "text/plain": [
       "mean: -0.002457862802995938, r: -0.7373588408987816, md: 300\n"
      ]
     },
     "metadata": {},
     "output_type": "display_data"
    },
    {
     "data": {
      "text/html": [
       "<pre style=\"white-space:pre;overflow-x:auto;line-height:normal;font-family:Menlo,'DejaVu Sans Mono',consolas,'Courier New',monospace\">mean: -0.0031343356893237476, r: -0.9403007067971243, md: 300\n",
       "</pre>\n"
      ],
      "text/plain": [
       "mean: -0.0031343356893237476, r: -0.9403007067971243, md: 300\n"
      ]
     },
     "metadata": {},
     "output_type": "display_data"
    },
    {
     "data": {
      "text/html": [
       "<pre style=\"white-space:pre;overflow-x:auto;line-height:normal;font-family:Menlo,'DejaVu Sans Mono',consolas,'Courier New',monospace\"></pre>\n"
      ],
      "text/plain": []
     },
     "metadata": {},
     "output_type": "display_data"
    },
    {
     "data": {
      "text/html": [
       "<pre style=\"white-space:pre;overflow-x:auto;line-height:normal;font-family:Menlo,'DejaVu Sans Mono',consolas,'Courier New',monospace\">\n",
       "</pre>\n"
      ],
      "text/plain": [
       "\n"
      ]
     },
     "metadata": {},
     "output_type": "display_data"
    },
    {
     "data": {
      "application/vnd.jupyter.widget-view+json": {
       "model_id": "d8f2f21bcca74296ae9e003eefbf64d6",
       "version_major": 2,
       "version_minor": 0
      },
      "text/plain": [
       "Output()"
      ]
     },
     "metadata": {},
     "output_type": "display_data"
    },
    {
     "name": "stdout",
     "output_type": "stream",
     "text": [
      "epoch 52: Mean Reward = -0.0031343356893237476\n"
     ]
    },
    {
     "data": {
      "text/html": [
       "<pre style=\"white-space:pre;overflow-x:auto;line-height:normal;font-family:Menlo,'DejaVu Sans Mono',consolas,'Courier New',monospace\">mean: -0.007472434488665877, r: -2.241730346599763, md: 300\n",
       "</pre>\n"
      ],
      "text/plain": [
       "mean: -0.007472434488665877, r: -2.241730346599763, md: 300\n"
      ]
     },
     "metadata": {},
     "output_type": "display_data"
    },
    {
     "data": {
      "text/html": [
       "<pre style=\"white-space:pre;overflow-x:auto;line-height:normal;font-family:Menlo,'DejaVu Sans Mono',consolas,'Courier New',monospace\">mean: -0.005156950723252786, r: -1.5470852169758358, md: 300\n",
       "</pre>\n"
      ],
      "text/plain": [
       "mean: -0.005156950723252786, r: -1.5470852169758358, md: 300\n"
      ]
     },
     "metadata": {},
     "output_type": "display_data"
    },
    {
     "data": {
      "text/html": [
       "<pre style=\"white-space:pre;overflow-x:auto;line-height:normal;font-family:Menlo,'DejaVu Sans Mono',consolas,'Courier New',monospace\">mean: -0.0032060117233591746, r: -0.9618035170077522, md: 300\n",
       "</pre>\n"
      ],
      "text/plain": [
       "mean: -0.0032060117233591746, r: -0.9618035170077522, md: 300\n"
      ]
     },
     "metadata": {},
     "output_type": "display_data"
    },
    {
     "data": {
      "text/html": [
       "<pre style=\"white-space:pre;overflow-x:auto;line-height:normal;font-family:Menlo,'DejaVu Sans Mono',consolas,'Courier New',monospace\">mean: -0.005546278981145963, r: -1.663883694343789, md: 300\n",
       "</pre>\n"
      ],
      "text/plain": [
       "mean: -0.005546278981145963, r: -1.663883694343789, md: 300\n"
      ]
     },
     "metadata": {},
     "output_type": "display_data"
    },
    {
     "data": {
      "text/html": [
       "<pre style=\"white-space:pre;overflow-x:auto;line-height:normal;font-family:Menlo,'DejaVu Sans Mono',consolas,'Courier New',monospace\">mean: -0.003726491691288957, r: -1.117947507386687, md: 300\n",
       "</pre>\n"
      ],
      "text/plain": [
       "mean: -0.003726491691288957, r: -1.117947507386687, md: 300\n"
      ]
     },
     "metadata": {},
     "output_type": "display_data"
    },
    {
     "data": {
      "text/html": [
       "<pre style=\"white-space:pre;overflow-x:auto;line-height:normal;font-family:Menlo,'DejaVu Sans Mono',consolas,'Courier New',monospace\"></pre>\n"
      ],
      "text/plain": []
     },
     "metadata": {},
     "output_type": "display_data"
    },
    {
     "data": {
      "text/html": [
       "<pre style=\"white-space:pre;overflow-x:auto;line-height:normal;font-family:Menlo,'DejaVu Sans Mono',consolas,'Courier New',monospace\">\n",
       "</pre>\n"
      ],
      "text/plain": [
       "\n"
      ]
     },
     "metadata": {},
     "output_type": "display_data"
    },
    {
     "data": {
      "application/vnd.jupyter.widget-view+json": {
       "model_id": "5f479ebb42e84ef58ee52f9f4d98a157",
       "version_major": 2,
       "version_minor": 0
      },
      "text/plain": [
       "Output()"
      ]
     },
     "metadata": {},
     "output_type": "display_data"
    },
    {
     "name": "stdout",
     "output_type": "stream",
     "text": [
      "epoch 53: Mean Reward = -0.003726491691288957\n"
     ]
    },
    {
     "data": {
      "text/html": [
       "<pre style=\"white-space:pre;overflow-x:auto;line-height:normal;font-family:Menlo,'DejaVu Sans Mono',consolas,'Courier New',monospace\">mean: -0.005371091742151935, r: -1.6113275226455803, md: 300\n",
       "</pre>\n"
      ],
      "text/plain": [
       "mean: -0.005371091742151935, r: -1.6113275226455803, md: 300\n"
      ]
     },
     "metadata": {},
     "output_type": "display_data"
    },
    {
     "data": {
      "text/html": [
       "<pre style=\"white-space:pre;overflow-x:auto;line-height:normal;font-family:Menlo,'DejaVu Sans Mono',consolas,'Courier New',monospace\">mean: -0.0024498240931207687, r: -0.7349472279362306, md: 300\n",
       "</pre>\n"
      ],
      "text/plain": [
       "mean: -0.0024498240931207687, r: -0.7349472279362306, md: 300\n"
      ]
     },
     "metadata": {},
     "output_type": "display_data"
    },
    {
     "data": {
      "text/html": [
       "<pre style=\"white-space:pre;overflow-x:auto;line-height:normal;font-family:Menlo,'DejaVu Sans Mono',consolas,'Courier New',monospace\">mean: -0.007097782459006473, r: -2.1293347377019423, md: 300\n",
       "</pre>\n"
      ],
      "text/plain": [
       "mean: -0.007097782459006473, r: -2.1293347377019423, md: 300\n"
      ]
     },
     "metadata": {},
     "output_type": "display_data"
    },
    {
     "data": {
      "text/html": [
       "<pre style=\"white-space:pre;overflow-x:auto;line-height:normal;font-family:Menlo,'DejaVu Sans Mono',consolas,'Courier New',monospace\">mean: -0.006158950644493756, r: -1.8476851933481266, md: 300\n",
       "</pre>\n"
      ],
      "text/plain": [
       "mean: -0.006158950644493756, r: -1.8476851933481266, md: 300\n"
      ]
     },
     "metadata": {},
     "output_type": "display_data"
    },
    {
     "data": {
      "text/html": [
       "<pre style=\"white-space:pre;overflow-x:auto;line-height:normal;font-family:Menlo,'DejaVu Sans Mono',consolas,'Courier New',monospace\">mean: -0.002962773853946346, r: -0.8888321561839038, md: 300\n",
       "</pre>\n"
      ],
      "text/plain": [
       "mean: -0.002962773853946346, r: -0.8888321561839038, md: 300\n"
      ]
     },
     "metadata": {},
     "output_type": "display_data"
    },
    {
     "data": {
      "text/html": [
       "<pre style=\"white-space:pre;overflow-x:auto;line-height:normal;font-family:Menlo,'DejaVu Sans Mono',consolas,'Courier New',monospace\"></pre>\n"
      ],
      "text/plain": []
     },
     "metadata": {},
     "output_type": "display_data"
    },
    {
     "data": {
      "text/html": [
       "<pre style=\"white-space:pre;overflow-x:auto;line-height:normal;font-family:Menlo,'DejaVu Sans Mono',consolas,'Courier New',monospace\">\n",
       "</pre>\n"
      ],
      "text/plain": [
       "\n"
      ]
     },
     "metadata": {},
     "output_type": "display_data"
    },
    {
     "data": {
      "application/vnd.jupyter.widget-view+json": {
       "model_id": "325c5170ced749dba8d2ed3605a9e12a",
       "version_major": 2,
       "version_minor": 0
      },
      "text/plain": [
       "Output()"
      ]
     },
     "metadata": {},
     "output_type": "display_data"
    },
    {
     "name": "stdout",
     "output_type": "stream",
     "text": [
      "epoch 54: Mean Reward = -0.002962773853946346\n"
     ]
    },
    {
     "data": {
      "text/html": [
       "<pre style=\"white-space:pre;overflow-x:auto;line-height:normal;font-family:Menlo,'DejaVu Sans Mono',consolas,'Courier New',monospace\">mean: 0.03361081296424118, r: 10.083243889272353, md: 300\n",
       "</pre>\n"
      ],
      "text/plain": [
       "mean: 0.03361081296424118, r: 10.083243889272353, md: 300\n"
      ]
     },
     "metadata": {},
     "output_type": "display_data"
    },
    {
     "data": {
      "text/html": [
       "<pre style=\"white-space:pre;overflow-x:auto;line-height:normal;font-family:Menlo,'DejaVu Sans Mono',consolas,'Courier New',monospace\">mean: -0.001628901822745385, r: -0.4886705468236155, md: 300\n",
       "</pre>\n"
      ],
      "text/plain": [
       "mean: -0.001628901822745385, r: -0.4886705468236155, md: 300\n"
      ]
     },
     "metadata": {},
     "output_type": "display_data"
    },
    {
     "data": {
      "text/html": [
       "<pre style=\"white-space:pre;overflow-x:auto;line-height:normal;font-family:Menlo,'DejaVu Sans Mono',consolas,'Courier New',monospace\">mean: -0.005261394702390966, r: -1.5784184107172896, md: 300\n",
       "</pre>\n"
      ],
      "text/plain": [
       "mean: -0.005261394702390966, r: -1.5784184107172896, md: 300\n"
      ]
     },
     "metadata": {},
     "output_type": "display_data"
    },
    {
     "data": {
      "text/html": [
       "<pre style=\"white-space:pre;overflow-x:auto;line-height:normal;font-family:Menlo,'DejaVu Sans Mono',consolas,'Courier New',monospace\">mean: -0.002528864489667294, r: -0.7586593469001883, md: 300\n",
       "</pre>\n"
      ],
      "text/plain": [
       "mean: -0.002528864489667294, r: -0.7586593469001883, md: 300\n"
      ]
     },
     "metadata": {},
     "output_type": "display_data"
    },
    {
     "data": {
      "text/html": [
       "<pre style=\"white-space:pre;overflow-x:auto;line-height:normal;font-family:Menlo,'DejaVu Sans Mono',consolas,'Courier New',monospace\">mean: -0.007306951950939339, r: -2.1920855852818018, md: 300\n",
       "</pre>\n"
      ],
      "text/plain": [
       "mean: -0.007306951950939339, r: -2.1920855852818018, md: 300\n"
      ]
     },
     "metadata": {},
     "output_type": "display_data"
    },
    {
     "data": {
      "text/html": [
       "<pre style=\"white-space:pre;overflow-x:auto;line-height:normal;font-family:Menlo,'DejaVu Sans Mono',consolas,'Courier New',monospace\"></pre>\n"
      ],
      "text/plain": []
     },
     "metadata": {},
     "output_type": "display_data"
    },
    {
     "data": {
      "text/html": [
       "<pre style=\"white-space:pre;overflow-x:auto;line-height:normal;font-family:Menlo,'DejaVu Sans Mono',consolas,'Courier New',monospace\">\n",
       "</pre>\n"
      ],
      "text/plain": [
       "\n"
      ]
     },
     "metadata": {},
     "output_type": "display_data"
    },
    {
     "data": {
      "application/vnd.jupyter.widget-view+json": {
       "model_id": "ff0c3973f88c4f50a45719d8b128b974",
       "version_major": 2,
       "version_minor": 0
      },
      "text/plain": [
       "Output()"
      ]
     },
     "metadata": {},
     "output_type": "display_data"
    },
    {
     "name": "stdout",
     "output_type": "stream",
     "text": [
      "epoch 55: Mean Reward = -0.007306951950939339\n"
     ]
    },
    {
     "data": {
      "text/html": [
       "<pre style=\"white-space:pre;overflow-x:auto;line-height:normal;font-family:Menlo,'DejaVu Sans Mono',consolas,'Courier New',monospace\">mean: -0.006096006323301564, r: -1.828801896990469, md: 300\n",
       "</pre>\n"
      ],
      "text/plain": [
       "mean: -0.006096006323301564, r: -1.828801896990469, md: 300\n"
      ]
     },
     "metadata": {},
     "output_type": "display_data"
    },
    {
     "data": {
      "text/html": [
       "<pre style=\"white-space:pre;overflow-x:auto;line-height:normal;font-family:Menlo,'DejaVu Sans Mono',consolas,'Courier New',monospace\">mean: -0.004034955218548736, r: -1.2104865655646209, md: 300\n",
       "</pre>\n"
      ],
      "text/plain": [
       "mean: -0.004034955218548736, r: -1.2104865655646209, md: 300\n"
      ]
     },
     "metadata": {},
     "output_type": "display_data"
    },
    {
     "data": {
      "text/html": [
       "<pre style=\"white-space:pre;overflow-x:auto;line-height:normal;font-family:Menlo,'DejaVu Sans Mono',consolas,'Courier New',monospace\">mean: -0.00334667776203582, r: -1.0040033286107461, md: 300\n",
       "</pre>\n"
      ],
      "text/plain": [
       "mean: -0.00334667776203582, r: -1.0040033286107461, md: 300\n"
      ]
     },
     "metadata": {},
     "output_type": "display_data"
    },
    {
     "data": {
      "text/html": [
       "<pre style=\"white-space:pre;overflow-x:auto;line-height:normal;font-family:Menlo,'DejaVu Sans Mono',consolas,'Courier New',monospace\">mean: -0.008297702168031398, r: -2.48931065040942, md: 300\n",
       "</pre>\n"
      ],
      "text/plain": [
       "mean: -0.008297702168031398, r: -2.48931065040942, md: 300\n"
      ]
     },
     "metadata": {},
     "output_type": "display_data"
    },
    {
     "data": {
      "text/html": [
       "<pre style=\"white-space:pre;overflow-x:auto;line-height:normal;font-family:Menlo,'DejaVu Sans Mono',consolas,'Courier New',monospace\">mean: 0.00010569710815645116, r: 0.031709132446935344, md: 300\n",
       "</pre>\n"
      ],
      "text/plain": [
       "mean: 0.00010569710815645116, r: 0.031709132446935344, md: 300\n"
      ]
     },
     "metadata": {},
     "output_type": "display_data"
    },
    {
     "data": {
      "text/html": [
       "<pre style=\"white-space:pre;overflow-x:auto;line-height:normal;font-family:Menlo,'DejaVu Sans Mono',consolas,'Courier New',monospace\"></pre>\n"
      ],
      "text/plain": []
     },
     "metadata": {},
     "output_type": "display_data"
    },
    {
     "data": {
      "text/html": [
       "<pre style=\"white-space:pre;overflow-x:auto;line-height:normal;font-family:Menlo,'DejaVu Sans Mono',consolas,'Courier New',monospace\">\n",
       "</pre>\n"
      ],
      "text/plain": [
       "\n"
      ]
     },
     "metadata": {},
     "output_type": "display_data"
    },
    {
     "data": {
      "application/vnd.jupyter.widget-view+json": {
       "model_id": "83d150aa638d4768b4b0f1945060fea9",
       "version_major": 2,
       "version_minor": 0
      },
      "text/plain": [
       "Output()"
      ]
     },
     "metadata": {},
     "output_type": "display_data"
    },
    {
     "name": "stdout",
     "output_type": "stream",
     "text": [
      "epoch 56: Mean Reward = 0.00010569710815645116\n"
     ]
    },
    {
     "data": {
      "text/html": [
       "<pre style=\"white-space:pre;overflow-x:auto;line-height:normal;font-family:Menlo,'DejaVu Sans Mono',consolas,'Courier New',monospace\">mean: -0.006070574092381802, r: -1.8211722277145406, md: 300\n",
       "</pre>\n"
      ],
      "text/plain": [
       "mean: -0.006070574092381802, r: -1.8211722277145406, md: 300\n"
      ]
     },
     "metadata": {},
     "output_type": "display_data"
    },
    {
     "data": {
      "text/html": [
       "<pre style=\"white-space:pre;overflow-x:auto;line-height:normal;font-family:Menlo,'DejaVu Sans Mono',consolas,'Courier New',monospace\">mean: -0.004103192135028978, r: -1.2309576405086933, md: 300\n",
       "</pre>\n"
      ],
      "text/plain": [
       "mean: -0.004103192135028978, r: -1.2309576405086933, md: 300\n"
      ]
     },
     "metadata": {},
     "output_type": "display_data"
    },
    {
     "data": {
      "text/html": [
       "<pre style=\"white-space:pre;overflow-x:auto;line-height:normal;font-family:Menlo,'DejaVu Sans Mono',consolas,'Courier New',monospace\">mean: -0.0020763104941757234, r: -0.622893148252717, md: 300\n",
       "</pre>\n"
      ],
      "text/plain": [
       "mean: -0.0020763104941757234, r: -0.622893148252717, md: 300\n"
      ]
     },
     "metadata": {},
     "output_type": "display_data"
    },
    {
     "data": {
      "text/html": [
       "<pre style=\"white-space:pre;overflow-x:auto;line-height:normal;font-family:Menlo,'DejaVu Sans Mono',consolas,'Courier New',monospace\">mean: 0.0014687196580204203, r: 0.44061589740612617, md: 300\n",
       "</pre>\n"
      ],
      "text/plain": [
       "mean: 0.0014687196580204203, r: 0.44061589740612617, md: 300\n"
      ]
     },
     "metadata": {},
     "output_type": "display_data"
    },
    {
     "data": {
      "text/html": [
       "<pre style=\"white-space:pre;overflow-x:auto;line-height:normal;font-family:Menlo,'DejaVu Sans Mono',consolas,'Courier New',monospace\">mean: -0.003647788266026358, r: -1.0943364798079074, md: 300\n",
       "</pre>\n"
      ],
      "text/plain": [
       "mean: -0.003647788266026358, r: -1.0943364798079074, md: 300\n"
      ]
     },
     "metadata": {},
     "output_type": "display_data"
    },
    {
     "data": {
      "text/html": [
       "<pre style=\"white-space:pre;overflow-x:auto;line-height:normal;font-family:Menlo,'DejaVu Sans Mono',consolas,'Courier New',monospace\"></pre>\n"
      ],
      "text/plain": []
     },
     "metadata": {},
     "output_type": "display_data"
    },
    {
     "data": {
      "text/html": [
       "<pre style=\"white-space:pre;overflow-x:auto;line-height:normal;font-family:Menlo,'DejaVu Sans Mono',consolas,'Courier New',monospace\">\n",
       "</pre>\n"
      ],
      "text/plain": [
       "\n"
      ]
     },
     "metadata": {},
     "output_type": "display_data"
    },
    {
     "data": {
      "application/vnd.jupyter.widget-view+json": {
       "model_id": "1ea60c9588a2428d8d75230f60b1637f",
       "version_major": 2,
       "version_minor": 0
      },
      "text/plain": [
       "Output()"
      ]
     },
     "metadata": {},
     "output_type": "display_data"
    },
    {
     "name": "stdout",
     "output_type": "stream",
     "text": [
      "epoch 57: Mean Reward = -0.003647788266026358\n"
     ]
    },
    {
     "data": {
      "text/html": [
       "<pre style=\"white-space:pre;overflow-x:auto;line-height:normal;font-family:Menlo,'DejaVu Sans Mono',consolas,'Courier New',monospace\">mean: 0.06043320756023187, r: 18.129962268069562, md: 300\n",
       "</pre>\n"
      ],
      "text/plain": [
       "mean: 0.06043320756023187, r: 18.129962268069562, md: 300\n"
      ]
     },
     "metadata": {},
     "output_type": "display_data"
    },
    {
     "data": {
      "text/html": [
       "<pre style=\"white-space:pre;overflow-x:auto;line-height:normal;font-family:Menlo,'DejaVu Sans Mono',consolas,'Courier New',monospace\">mean: -0.002944147745305327, r: -0.8832443235915981, md: 300\n",
       "</pre>\n"
      ],
      "text/plain": [
       "mean: -0.002944147745305327, r: -0.8832443235915981, md: 300\n"
      ]
     },
     "metadata": {},
     "output_type": "display_data"
    },
    {
     "data": {
      "text/html": [
       "<pre style=\"white-space:pre;overflow-x:auto;line-height:normal;font-family:Menlo,'DejaVu Sans Mono',consolas,'Courier New',monospace\">mean: -0.005074855276206318, r: -1.5224565828618954, md: 300\n",
       "</pre>\n"
      ],
      "text/plain": [
       "mean: -0.005074855276206318, r: -1.5224565828618954, md: 300\n"
      ]
     },
     "metadata": {},
     "output_type": "display_data"
    },
    {
     "data": {
      "text/html": [
       "<pre style=\"white-space:pre;overflow-x:auto;line-height:normal;font-family:Menlo,'DejaVu Sans Mono',consolas,'Courier New',monospace\">mean: -0.002665112350445831, r: -0.7995337051337492, md: 300\n",
       "</pre>\n"
      ],
      "text/plain": [
       "mean: -0.002665112350445831, r: -0.7995337051337492, md: 300\n"
      ]
     },
     "metadata": {},
     "output_type": "display_data"
    },
    {
     "data": {
      "text/html": [
       "<pre style=\"white-space:pre;overflow-x:auto;line-height:normal;font-family:Menlo,'DejaVu Sans Mono',consolas,'Courier New',monospace\">mean: -0.0032430134384192357, r: -0.9729040315257707, md: 300\n",
       "</pre>\n"
      ],
      "text/plain": [
       "mean: -0.0032430134384192357, r: -0.9729040315257707, md: 300\n"
      ]
     },
     "metadata": {},
     "output_type": "display_data"
    },
    {
     "data": {
      "text/html": [
       "<pre style=\"white-space:pre;overflow-x:auto;line-height:normal;font-family:Menlo,'DejaVu Sans Mono',consolas,'Courier New',monospace\"></pre>\n"
      ],
      "text/plain": []
     },
     "metadata": {},
     "output_type": "display_data"
    },
    {
     "data": {
      "text/html": [
       "<pre style=\"white-space:pre;overflow-x:auto;line-height:normal;font-family:Menlo,'DejaVu Sans Mono',consolas,'Courier New',monospace\">\n",
       "</pre>\n"
      ],
      "text/plain": [
       "\n"
      ]
     },
     "metadata": {},
     "output_type": "display_data"
    },
    {
     "data": {
      "application/vnd.jupyter.widget-view+json": {
       "model_id": "d016a5ea398d4e63a31e6989142aba8f",
       "version_major": 2,
       "version_minor": 0
      },
      "text/plain": [
       "Output()"
      ]
     },
     "metadata": {},
     "output_type": "display_data"
    },
    {
     "name": "stdout",
     "output_type": "stream",
     "text": [
      "epoch 58: Mean Reward = -0.0032430134384192357\n"
     ]
    },
    {
     "data": {
      "text/html": [
       "<pre style=\"white-space:pre;overflow-x:auto;line-height:normal;font-family:Menlo,'DejaVu Sans Mono',consolas,'Courier New',monospace\">mean: -0.006243637068859055, r: -1.8730911206577163, md: 300\n",
       "</pre>\n"
      ],
      "text/plain": [
       "mean: -0.006243637068859055, r: -1.8730911206577163, md: 300\n"
      ]
     },
     "metadata": {},
     "output_type": "display_data"
    },
    {
     "data": {
      "text/html": [
       "<pre style=\"white-space:pre;overflow-x:auto;line-height:normal;font-family:Menlo,'DejaVu Sans Mono',consolas,'Courier New',monospace\">mean: -0.002871291704515013, r: -0.861387511354504, md: 300\n",
       "</pre>\n"
      ],
      "text/plain": [
       "mean: -0.002871291704515013, r: -0.861387511354504, md: 300\n"
      ]
     },
     "metadata": {},
     "output_type": "display_data"
    },
    {
     "data": {
      "text/html": [
       "<pre style=\"white-space:pre;overflow-x:auto;line-height:normal;font-family:Menlo,'DejaVu Sans Mono',consolas,'Courier New',monospace\">mean: 0.025641699799430668, r: 7.6925099398292005, md: 300\n",
       "</pre>\n"
      ],
      "text/plain": [
       "mean: 0.025641699799430668, r: 7.6925099398292005, md: 300\n"
      ]
     },
     "metadata": {},
     "output_type": "display_data"
    },
    {
     "data": {
      "text/html": [
       "<pre style=\"white-space:pre;overflow-x:auto;line-height:normal;font-family:Menlo,'DejaVu Sans Mono',consolas,'Courier New',monospace\">mean: -0.005702349565743165, r: -1.7107048697229494, md: 300\n",
       "</pre>\n"
      ],
      "text/plain": [
       "mean: -0.005702349565743165, r: -1.7107048697229494, md: 300\n"
      ]
     },
     "metadata": {},
     "output_type": "display_data"
    },
    {
     "data": {
      "text/html": [
       "<pre style=\"white-space:pre;overflow-x:auto;line-height:normal;font-family:Menlo,'DejaVu Sans Mono',consolas,'Courier New',monospace\">mean: -0.005768719994733046, r: -1.7306159984199139, md: 300\n",
       "</pre>\n"
      ],
      "text/plain": [
       "mean: -0.005768719994733046, r: -1.7306159984199139, md: 300\n"
      ]
     },
     "metadata": {},
     "output_type": "display_data"
    },
    {
     "data": {
      "text/html": [
       "<pre style=\"white-space:pre;overflow-x:auto;line-height:normal;font-family:Menlo,'DejaVu Sans Mono',consolas,'Courier New',monospace\"></pre>\n"
      ],
      "text/plain": []
     },
     "metadata": {},
     "output_type": "display_data"
    },
    {
     "data": {
      "text/html": [
       "<pre style=\"white-space:pre;overflow-x:auto;line-height:normal;font-family:Menlo,'DejaVu Sans Mono',consolas,'Courier New',monospace\">\n",
       "</pre>\n"
      ],
      "text/plain": [
       "\n"
      ]
     },
     "metadata": {},
     "output_type": "display_data"
    },
    {
     "data": {
      "application/vnd.jupyter.widget-view+json": {
       "model_id": "353284b0af9c4a11b417beda5847b6d1",
       "version_major": 2,
       "version_minor": 0
      },
      "text/plain": [
       "Output()"
      ]
     },
     "metadata": {},
     "output_type": "display_data"
    },
    {
     "name": "stdout",
     "output_type": "stream",
     "text": [
      "epoch 59: Mean Reward = -0.005768719994733046\n"
     ]
    },
    {
     "data": {
      "text/html": [
       "<pre style=\"white-space:pre;overflow-x:auto;line-height:normal;font-family:Menlo,'DejaVu Sans Mono',consolas,'Courier New',monospace\">mean: -0.0020234598694986077, r: -0.6070379608495824, md: 300\n",
       "</pre>\n"
      ],
      "text/plain": [
       "mean: -0.0020234598694986077, r: -0.6070379608495824, md: 300\n"
      ]
     },
     "metadata": {},
     "output_type": "display_data"
    },
    {
     "data": {
      "text/html": [
       "<pre style=\"white-space:pre;overflow-x:auto;line-height:normal;font-family:Menlo,'DejaVu Sans Mono',consolas,'Courier New',monospace\">mean: -0.006380079805303994, r: -1.9140239415911982, md: 300\n",
       "</pre>\n"
      ],
      "text/plain": [
       "mean: -0.006380079805303994, r: -1.9140239415911982, md: 300\n"
      ]
     },
     "metadata": {},
     "output_type": "display_data"
    },
    {
     "data": {
      "text/html": [
       "<pre style=\"white-space:pre;overflow-x:auto;line-height:normal;font-family:Menlo,'DejaVu Sans Mono',consolas,'Courier New',monospace\">mean: -0.0036877640796264613, r: -1.1063292238879385, md: 300\n",
       "</pre>\n"
      ],
      "text/plain": [
       "mean: -0.0036877640796264613, r: -1.1063292238879385, md: 300\n"
      ]
     },
     "metadata": {},
     "output_type": "display_data"
    },
    {
     "data": {
      "text/html": [
       "<pre style=\"white-space:pre;overflow-x:auto;line-height:normal;font-family:Menlo,'DejaVu Sans Mono',consolas,'Courier New',monospace\">mean: -0.005548338355882248, r: -1.6645015067646742, md: 300\n",
       "</pre>\n"
      ],
      "text/plain": [
       "mean: -0.005548338355882248, r: -1.6645015067646742, md: 300\n"
      ]
     },
     "metadata": {},
     "output_type": "display_data"
    },
    {
     "data": {
      "text/html": [
       "<pre style=\"white-space:pre;overflow-x:auto;line-height:normal;font-family:Menlo,'DejaVu Sans Mono',consolas,'Courier New',monospace\">mean: -0.0023666577639362037, r: -0.709997329180861, md: 300\n",
       "</pre>\n"
      ],
      "text/plain": [
       "mean: -0.0023666577639362037, r: -0.709997329180861, md: 300\n"
      ]
     },
     "metadata": {},
     "output_type": "display_data"
    },
    {
     "data": {
      "text/html": [
       "<pre style=\"white-space:pre;overflow-x:auto;line-height:normal;font-family:Menlo,'DejaVu Sans Mono',consolas,'Courier New',monospace\"></pre>\n"
      ],
      "text/plain": []
     },
     "metadata": {},
     "output_type": "display_data"
    },
    {
     "data": {
      "text/html": [
       "<pre style=\"white-space:pre;overflow-x:auto;line-height:normal;font-family:Menlo,'DejaVu Sans Mono',consolas,'Courier New',monospace\">\n",
       "</pre>\n"
      ],
      "text/plain": [
       "\n"
      ]
     },
     "metadata": {},
     "output_type": "display_data"
    },
    {
     "data": {
      "application/vnd.jupyter.widget-view+json": {
       "model_id": "56c6e27985564fe6b9acf79579f4a217",
       "version_major": 2,
       "version_minor": 0
      },
      "text/plain": [
       "Output()"
      ]
     },
     "metadata": {},
     "output_type": "display_data"
    },
    {
     "name": "stdout",
     "output_type": "stream",
     "text": [
      "epoch 60: Mean Reward = -0.0023666577639362037\n"
     ]
    },
    {
     "data": {
      "text/html": [
       "<pre style=\"white-space:pre;overflow-x:auto;line-height:normal;font-family:Menlo,'DejaVu Sans Mono',consolas,'Courier New',monospace\">mean: -0.0031663880345977847, r: -0.9499164103793354, md: 300\n",
       "</pre>\n"
      ],
      "text/plain": [
       "mean: -0.0031663880345977847, r: -0.9499164103793354, md: 300\n"
      ]
     },
     "metadata": {},
     "output_type": "display_data"
    },
    {
     "data": {
      "text/html": [
       "<pre style=\"white-space:pre;overflow-x:auto;line-height:normal;font-family:Menlo,'DejaVu Sans Mono',consolas,'Courier New',monospace\">mean: -0.006380571933699378, r: -1.9141715801098136, md: 300\n",
       "</pre>\n"
      ],
      "text/plain": [
       "mean: -0.006380571933699378, r: -1.9141715801098136, md: 300\n"
      ]
     },
     "metadata": {},
     "output_type": "display_data"
    },
    {
     "data": {
      "text/html": [
       "<pre style=\"white-space:pre;overflow-x:auto;line-height:normal;font-family:Menlo,'DejaVu Sans Mono',consolas,'Courier New',monospace\">mean: 0.008541050045151745, r: 2.5623150135455233, md: 300\n",
       "</pre>\n"
      ],
      "text/plain": [
       "mean: 0.008541050045151745, r: 2.5623150135455233, md: 300\n"
      ]
     },
     "metadata": {},
     "output_type": "display_data"
    },
    {
     "data": {
      "text/html": [
       "<pre style=\"white-space:pre;overflow-x:auto;line-height:normal;font-family:Menlo,'DejaVu Sans Mono',consolas,'Courier New',monospace\">mean: -0.0017338464894425367, r: -0.520153946832761, md: 300\n",
       "</pre>\n"
      ],
      "text/plain": [
       "mean: -0.0017338464894425367, r: -0.520153946832761, md: 300\n"
      ]
     },
     "metadata": {},
     "output_type": "display_data"
    },
    {
     "data": {
      "text/html": [
       "<pre style=\"white-space:pre;overflow-x:auto;line-height:normal;font-family:Menlo,'DejaVu Sans Mono',consolas,'Courier New',monospace\">mean: 0.04244581973230818, r: 12.733745919692453, md: 300\n",
       "</pre>\n"
      ],
      "text/plain": [
       "mean: 0.04244581973230818, r: 12.733745919692453, md: 300\n"
      ]
     },
     "metadata": {},
     "output_type": "display_data"
    },
    {
     "data": {
      "text/html": [
       "<pre style=\"white-space:pre;overflow-x:auto;line-height:normal;font-family:Menlo,'DejaVu Sans Mono',consolas,'Courier New',monospace\"></pre>\n"
      ],
      "text/plain": []
     },
     "metadata": {},
     "output_type": "display_data"
    },
    {
     "data": {
      "text/html": [
       "<pre style=\"white-space:pre;overflow-x:auto;line-height:normal;font-family:Menlo,'DejaVu Sans Mono',consolas,'Courier New',monospace\">\n",
       "</pre>\n"
      ],
      "text/plain": [
       "\n"
      ]
     },
     "metadata": {},
     "output_type": "display_data"
    },
    {
     "data": {
      "application/vnd.jupyter.widget-view+json": {
       "model_id": "e644a85eba9b4cf6907b87bd43465162",
       "version_major": 2,
       "version_minor": 0
      },
      "text/plain": [
       "Output()"
      ]
     },
     "metadata": {},
     "output_type": "display_data"
    },
    {
     "name": "stdout",
     "output_type": "stream",
     "text": [
      "epoch 61: Mean Reward = 0.04244581973230818\n"
     ]
    },
    {
     "data": {
      "text/html": [
       "<pre style=\"white-space:pre;overflow-x:auto;line-height:normal;font-family:Menlo,'DejaVu Sans Mono',consolas,'Courier New',monospace\">mean: -0.0030010300455621287, r: -0.9003090136686387, md: 300\n",
       "</pre>\n"
      ],
      "text/plain": [
       "mean: -0.0030010300455621287, r: -0.9003090136686387, md: 300\n"
      ]
     },
     "metadata": {},
     "output_type": "display_data"
    },
    {
     "data": {
      "text/html": [
       "<pre style=\"white-space:pre;overflow-x:auto;line-height:normal;font-family:Menlo,'DejaVu Sans Mono',consolas,'Courier New',monospace\">mean: -0.003913413615323177, r: -1.1740240845969532, md: 300\n",
       "</pre>\n"
      ],
      "text/plain": [
       "mean: -0.003913413615323177, r: -1.1740240845969532, md: 300\n"
      ]
     },
     "metadata": {},
     "output_type": "display_data"
    },
    {
     "data": {
      "text/html": [
       "<pre style=\"white-space:pre;overflow-x:auto;line-height:normal;font-family:Menlo,'DejaVu Sans Mono',consolas,'Courier New',monospace\">mean: -0.0023496286233296044, r: -0.7048885869988812, md: 300\n",
       "</pre>\n"
      ],
      "text/plain": [
       "mean: -0.0023496286233296044, r: -0.7048885869988812, md: 300\n"
      ]
     },
     "metadata": {},
     "output_type": "display_data"
    },
    {
     "data": {
      "text/html": [
       "<pre style=\"white-space:pre;overflow-x:auto;line-height:normal;font-family:Menlo,'DejaVu Sans Mono',consolas,'Courier New',monospace\">mean: -0.0072779192100984845, r: -2.183375763029545, md: 300\n",
       "</pre>\n"
      ],
      "text/plain": [
       "mean: -0.0072779192100984845, r: -2.183375763029545, md: 300\n"
      ]
     },
     "metadata": {},
     "output_type": "display_data"
    },
    {
     "data": {
      "text/html": [
       "<pre style=\"white-space:pre;overflow-x:auto;line-height:normal;font-family:Menlo,'DejaVu Sans Mono',consolas,'Courier New',monospace\">mean: -0.0022681318098076025, r: -0.6804395429422807, md: 300\n",
       "</pre>\n"
      ],
      "text/plain": [
       "mean: -0.0022681318098076025, r: -0.6804395429422807, md: 300\n"
      ]
     },
     "metadata": {},
     "output_type": "display_data"
    },
    {
     "data": {
      "text/html": [
       "<pre style=\"white-space:pre;overflow-x:auto;line-height:normal;font-family:Menlo,'DejaVu Sans Mono',consolas,'Courier New',monospace\"></pre>\n"
      ],
      "text/plain": []
     },
     "metadata": {},
     "output_type": "display_data"
    },
    {
     "data": {
      "text/html": [
       "<pre style=\"white-space:pre;overflow-x:auto;line-height:normal;font-family:Menlo,'DejaVu Sans Mono',consolas,'Courier New',monospace\">\n",
       "</pre>\n"
      ],
      "text/plain": [
       "\n"
      ]
     },
     "metadata": {},
     "output_type": "display_data"
    },
    {
     "data": {
      "application/vnd.jupyter.widget-view+json": {
       "model_id": "9b65d68b255c47609df5837e7b3a718d",
       "version_major": 2,
       "version_minor": 0
      },
      "text/plain": [
       "Output()"
      ]
     },
     "metadata": {},
     "output_type": "display_data"
    },
    {
     "name": "stdout",
     "output_type": "stream",
     "text": [
      "epoch 62: Mean Reward = -0.0022681318098076025\n"
     ]
    },
    {
     "data": {
      "text/html": [
       "<pre style=\"white-space:pre;overflow-x:auto;line-height:normal;font-family:Menlo,'DejaVu Sans Mono',consolas,'Courier New',monospace\">mean: -0.005020674799008808, r: -1.5062024397026423, md: 300\n",
       "</pre>\n"
      ],
      "text/plain": [
       "mean: -0.005020674799008808, r: -1.5062024397026423, md: 300\n"
      ]
     },
     "metadata": {},
     "output_type": "display_data"
    },
    {
     "data": {
      "text/html": [
       "<pre style=\"white-space:pre;overflow-x:auto;line-height:normal;font-family:Menlo,'DejaVu Sans Mono',consolas,'Courier New',monospace\">mean: -0.005239700289223669, r: -1.5719100867671005, md: 300\n",
       "</pre>\n"
      ],
      "text/plain": [
       "mean: -0.005239700289223669, r: -1.5719100867671005, md: 300\n"
      ]
     },
     "metadata": {},
     "output_type": "display_data"
    },
    {
     "data": {
      "text/html": [
       "<pre style=\"white-space:pre;overflow-x:auto;line-height:normal;font-family:Menlo,'DejaVu Sans Mono',consolas,'Courier New',monospace\">mean: -0.007371249894462044, r: -2.211374968338613, md: 300\n",
       "</pre>\n"
      ],
      "text/plain": [
       "mean: -0.007371249894462044, r: -2.211374968338613, md: 300\n"
      ]
     },
     "metadata": {},
     "output_type": "display_data"
    },
    {
     "data": {
      "text/html": [
       "<pre style=\"white-space:pre;overflow-x:auto;line-height:normal;font-family:Menlo,'DejaVu Sans Mono',consolas,'Courier New',monospace\">mean: -0.004002696325085646, r: -1.2008088975256939, md: 300\n",
       "</pre>\n"
      ],
      "text/plain": [
       "mean: -0.004002696325085646, r: -1.2008088975256939, md: 300\n"
      ]
     },
     "metadata": {},
     "output_type": "display_data"
    },
    {
     "data": {
      "text/html": [
       "<pre style=\"white-space:pre;overflow-x:auto;line-height:normal;font-family:Menlo,'DejaVu Sans Mono',consolas,'Courier New',monospace\">mean: 0.07095665599393952, r: 21.28699679818186, md: 300\n",
       "</pre>\n"
      ],
      "text/plain": [
       "mean: 0.07095665599393952, r: 21.28699679818186, md: 300\n"
      ]
     },
     "metadata": {},
     "output_type": "display_data"
    },
    {
     "data": {
      "text/html": [
       "<pre style=\"white-space:pre;overflow-x:auto;line-height:normal;font-family:Menlo,'DejaVu Sans Mono',consolas,'Courier New',monospace\"></pre>\n"
      ],
      "text/plain": []
     },
     "metadata": {},
     "output_type": "display_data"
    },
    {
     "data": {
      "text/html": [
       "<pre style=\"white-space:pre;overflow-x:auto;line-height:normal;font-family:Menlo,'DejaVu Sans Mono',consolas,'Courier New',monospace\">\n",
       "</pre>\n"
      ],
      "text/plain": [
       "\n"
      ]
     },
     "metadata": {},
     "output_type": "display_data"
    },
    {
     "data": {
      "application/vnd.jupyter.widget-view+json": {
       "model_id": "cc8a7d9cae2b4176b07d1c51462d7802",
       "version_major": 2,
       "version_minor": 0
      },
      "text/plain": [
       "Output()"
      ]
     },
     "metadata": {},
     "output_type": "display_data"
    },
    {
     "name": "stdout",
     "output_type": "stream",
     "text": [
      "epoch 63: Mean Reward = 0.07095665599393952\n"
     ]
    },
    {
     "data": {
      "text/html": [
       "<pre style=\"white-space:pre;overflow-x:auto;line-height:normal;font-family:Menlo,'DejaVu Sans Mono',consolas,'Courier New',monospace\">mean: -0.003043599107116434, r: -0.9130797321349303, md: 300\n",
       "</pre>\n"
      ],
      "text/plain": [
       "mean: -0.003043599107116434, r: -0.9130797321349303, md: 300\n"
      ]
     },
     "metadata": {},
     "output_type": "display_data"
    },
    {
     "data": {
      "text/html": [
       "<pre style=\"white-space:pre;overflow-x:auto;line-height:normal;font-family:Menlo,'DejaVu Sans Mono',consolas,'Courier New',monospace\">mean: -0.0020973151776850505, r: -0.629194553305515, md: 300\n",
       "</pre>\n"
      ],
      "text/plain": [
       "mean: -0.0020973151776850505, r: -0.629194553305515, md: 300\n"
      ]
     },
     "metadata": {},
     "output_type": "display_data"
    },
    {
     "data": {
      "text/html": [
       "<pre style=\"white-space:pre;overflow-x:auto;line-height:normal;font-family:Menlo,'DejaVu Sans Mono',consolas,'Courier New',monospace\">mean: -0.006399613746496056, r: -1.9198841239488167, md: 300\n",
       "</pre>\n"
      ],
      "text/plain": [
       "mean: -0.006399613746496056, r: -1.9198841239488167, md: 300\n"
      ]
     },
     "metadata": {},
     "output_type": "display_data"
    },
    {
     "data": {
      "text/html": [
       "<pre style=\"white-space:pre;overflow-x:auto;line-height:normal;font-family:Menlo,'DejaVu Sans Mono',consolas,'Courier New',monospace\">mean: 0.0015417176574218975, r: 0.46251529722656926, md: 300\n",
       "</pre>\n"
      ],
      "text/plain": [
       "mean: 0.0015417176574218975, r: 0.46251529722656926, md: 300\n"
      ]
     },
     "metadata": {},
     "output_type": "display_data"
    },
    {
     "data": {
      "text/html": [
       "<pre style=\"white-space:pre;overflow-x:auto;line-height:normal;font-family:Menlo,'DejaVu Sans Mono',consolas,'Courier New',monospace\">mean: 0.015901069869721444, r: 4.770320960916434, md: 300\n",
       "</pre>\n"
      ],
      "text/plain": [
       "mean: 0.015901069869721444, r: 4.770320960916434, md: 300\n"
      ]
     },
     "metadata": {},
     "output_type": "display_data"
    },
    {
     "data": {
      "text/html": [
       "<pre style=\"white-space:pre;overflow-x:auto;line-height:normal;font-family:Menlo,'DejaVu Sans Mono',consolas,'Courier New',monospace\"></pre>\n"
      ],
      "text/plain": []
     },
     "metadata": {},
     "output_type": "display_data"
    },
    {
     "data": {
      "text/html": [
       "<pre style=\"white-space:pre;overflow-x:auto;line-height:normal;font-family:Menlo,'DejaVu Sans Mono',consolas,'Courier New',monospace\">\n",
       "</pre>\n"
      ],
      "text/plain": [
       "\n"
      ]
     },
     "metadata": {},
     "output_type": "display_data"
    },
    {
     "data": {
      "application/vnd.jupyter.widget-view+json": {
       "model_id": "5168507d01ee4bdbb0c2770144bc7c9c",
       "version_major": 2,
       "version_minor": 0
      },
      "text/plain": [
       "Output()"
      ]
     },
     "metadata": {},
     "output_type": "display_data"
    },
    {
     "name": "stdout",
     "output_type": "stream",
     "text": [
      "epoch 64: Mean Reward = 0.015901069869721444\n"
     ]
    },
    {
     "data": {
      "text/html": [
       "<pre style=\"white-space:pre;overflow-x:auto;line-height:normal;font-family:Menlo,'DejaVu Sans Mono',consolas,'Courier New',monospace\">mean: -0.003063116458919353, r: -0.9189349376758058, md: 300\n",
       "</pre>\n"
      ],
      "text/plain": [
       "mean: -0.003063116458919353, r: -0.9189349376758058, md: 300\n"
      ]
     },
     "metadata": {},
     "output_type": "display_data"
    },
    {
     "data": {
      "text/html": [
       "<pre style=\"white-space:pre;overflow-x:auto;line-height:normal;font-family:Menlo,'DejaVu Sans Mono',consolas,'Courier New',monospace\">mean: -0.002560342615527639, r: -0.7681027846582917, md: 300\n",
       "</pre>\n"
      ],
      "text/plain": [
       "mean: -0.002560342615527639, r: -0.7681027846582917, md: 300\n"
      ]
     },
     "metadata": {},
     "output_type": "display_data"
    },
    {
     "data": {
      "text/html": [
       "<pre style=\"white-space:pre;overflow-x:auto;line-height:normal;font-family:Menlo,'DejaVu Sans Mono',consolas,'Courier New',monospace\">mean: -0.0032837767640514436, r: -0.9851330292154332, md: 300\n",
       "</pre>\n"
      ],
      "text/plain": [
       "mean: -0.0032837767640514436, r: -0.9851330292154332, md: 300\n"
      ]
     },
     "metadata": {},
     "output_type": "display_data"
    },
    {
     "data": {
      "text/html": [
       "<pre style=\"white-space:pre;overflow-x:auto;line-height:normal;font-family:Menlo,'DejaVu Sans Mono',consolas,'Courier New',monospace\">mean: -0.006008275304067447, r: -1.802482591220234, md: 300\n",
       "</pre>\n"
      ],
      "text/plain": [
       "mean: -0.006008275304067447, r: -1.802482591220234, md: 300\n"
      ]
     },
     "metadata": {},
     "output_type": "display_data"
    },
    {
     "data": {
      "text/html": [
       "<pre style=\"white-space:pre;overflow-x:auto;line-height:normal;font-family:Menlo,'DejaVu Sans Mono',consolas,'Courier New',monospace\">mean: -0.007741067697595135, r: -2.3223203092785405, md: 300\n",
       "</pre>\n"
      ],
      "text/plain": [
       "mean: -0.007741067697595135, r: -2.3223203092785405, md: 300\n"
      ]
     },
     "metadata": {},
     "output_type": "display_data"
    },
    {
     "data": {
      "text/html": [
       "<pre style=\"white-space:pre;overflow-x:auto;line-height:normal;font-family:Menlo,'DejaVu Sans Mono',consolas,'Courier New',monospace\"></pre>\n"
      ],
      "text/plain": []
     },
     "metadata": {},
     "output_type": "display_data"
    },
    {
     "data": {
      "text/html": [
       "<pre style=\"white-space:pre;overflow-x:auto;line-height:normal;font-family:Menlo,'DejaVu Sans Mono',consolas,'Courier New',monospace\">\n",
       "</pre>\n"
      ],
      "text/plain": [
       "\n"
      ]
     },
     "metadata": {},
     "output_type": "display_data"
    },
    {
     "data": {
      "application/vnd.jupyter.widget-view+json": {
       "model_id": "7c54ef2e050c463eaed4d5db5041bd30",
       "version_major": 2,
       "version_minor": 0
      },
      "text/plain": [
       "Output()"
      ]
     },
     "metadata": {},
     "output_type": "display_data"
    },
    {
     "name": "stdout",
     "output_type": "stream",
     "text": [
      "epoch 65: Mean Reward = -0.007741067697595135\n"
     ]
    },
    {
     "data": {
      "text/html": [
       "<pre style=\"white-space:pre;overflow-x:auto;line-height:normal;font-family:Menlo,'DejaVu Sans Mono',consolas,'Courier New',monospace\">mean: -0.002324937548793594, r: -0.6974812646380781, md: 300\n",
       "</pre>\n"
      ],
      "text/plain": [
       "mean: -0.002324937548793594, r: -0.6974812646380781, md: 300\n"
      ]
     },
     "metadata": {},
     "output_type": "display_data"
    },
    {
     "data": {
      "text/html": [
       "<pre style=\"white-space:pre;overflow-x:auto;line-height:normal;font-family:Menlo,'DejaVu Sans Mono',consolas,'Courier New',monospace\">mean: -0.00298857271632854, r: -0.8965718148985619, md: 300\n",
       "</pre>\n"
      ],
      "text/plain": [
       "mean: -0.00298857271632854, r: -0.8965718148985619, md: 300\n"
      ]
     },
     "metadata": {},
     "output_type": "display_data"
    },
    {
     "data": {
      "text/html": [
       "<pre style=\"white-space:pre;overflow-x:auto;line-height:normal;font-family:Menlo,'DejaVu Sans Mono',consolas,'Courier New',monospace\">mean: -0.006158342135785657, r: -1.8475026407356971, md: 300\n",
       "</pre>\n"
      ],
      "text/plain": [
       "mean: -0.006158342135785657, r: -1.8475026407356971, md: 300\n"
      ]
     },
     "metadata": {},
     "output_type": "display_data"
    },
    {
     "data": {
      "text/html": [
       "<pre style=\"white-space:pre;overflow-x:auto;line-height:normal;font-family:Menlo,'DejaVu Sans Mono',consolas,'Courier New',monospace\">mean: -0.0061166084094741585, r: -1.8349825228422474, md: 300\n",
       "</pre>\n"
      ],
      "text/plain": [
       "mean: -0.0061166084094741585, r: -1.8349825228422474, md: 300\n"
      ]
     },
     "metadata": {},
     "output_type": "display_data"
    },
    {
     "data": {
      "text/html": [
       "<pre style=\"white-space:pre;overflow-x:auto;line-height:normal;font-family:Menlo,'DejaVu Sans Mono',consolas,'Courier New',monospace\">mean: -0.003462916190645774, r: -1.0388748571937323, md: 300\n",
       "</pre>\n"
      ],
      "text/plain": [
       "mean: -0.003462916190645774, r: -1.0388748571937323, md: 300\n"
      ]
     },
     "metadata": {},
     "output_type": "display_data"
    },
    {
     "data": {
      "text/html": [
       "<pre style=\"white-space:pre;overflow-x:auto;line-height:normal;font-family:Menlo,'DejaVu Sans Mono',consolas,'Courier New',monospace\"></pre>\n"
      ],
      "text/plain": []
     },
     "metadata": {},
     "output_type": "display_data"
    },
    {
     "data": {
      "text/html": [
       "<pre style=\"white-space:pre;overflow-x:auto;line-height:normal;font-family:Menlo,'DejaVu Sans Mono',consolas,'Courier New',monospace\">\n",
       "</pre>\n"
      ],
      "text/plain": [
       "\n"
      ]
     },
     "metadata": {},
     "output_type": "display_data"
    },
    {
     "data": {
      "application/vnd.jupyter.widget-view+json": {
       "model_id": "1d520c3880db4696a051f6c24c02807a",
       "version_major": 2,
       "version_minor": 0
      },
      "text/plain": [
       "Output()"
      ]
     },
     "metadata": {},
     "output_type": "display_data"
    },
    {
     "name": "stdout",
     "output_type": "stream",
     "text": [
      "epoch 66: Mean Reward = -0.003462916190645774\n"
     ]
    },
    {
     "data": {
      "text/html": [
       "<pre style=\"white-space:pre;overflow-x:auto;line-height:normal;font-family:Menlo,'DejaVu Sans Mono',consolas,'Courier New',monospace\">mean: -0.00544813370386458, r: -1.634440111159374, md: 300\n",
       "</pre>\n"
      ],
      "text/plain": [
       "mean: -0.00544813370386458, r: -1.634440111159374, md: 300\n"
      ]
     },
     "metadata": {},
     "output_type": "display_data"
    },
    {
     "data": {
      "text/html": [
       "<pre style=\"white-space:pre;overflow-x:auto;line-height:normal;font-family:Menlo,'DejaVu Sans Mono',consolas,'Courier New',monospace\">mean: -0.0037638486399767528, r: -1.129154591993026, md: 300\n",
       "</pre>\n"
      ],
      "text/plain": [
       "mean: -0.0037638486399767528, r: -1.129154591993026, md: 300\n"
      ]
     },
     "metadata": {},
     "output_type": "display_data"
    },
    {
     "data": {
      "text/html": [
       "<pre style=\"white-space:pre;overflow-x:auto;line-height:normal;font-family:Menlo,'DejaVu Sans Mono',consolas,'Courier New',monospace\">mean: -0.0012840592838805865, r: -0.3852177851641759, md: 300\n",
       "</pre>\n"
      ],
      "text/plain": [
       "mean: -0.0012840592838805865, r: -0.3852177851641759, md: 300\n"
      ]
     },
     "metadata": {},
     "output_type": "display_data"
    },
    {
     "data": {
      "text/html": [
       "<pre style=\"white-space:pre;overflow-x:auto;line-height:normal;font-family:Menlo,'DejaVu Sans Mono',consolas,'Courier New',monospace\">mean: -0.0026221866701724925, r: -0.7866560010517477, md: 300\n",
       "</pre>\n"
      ],
      "text/plain": [
       "mean: -0.0026221866701724925, r: -0.7866560010517477, md: 300\n"
      ]
     },
     "metadata": {},
     "output_type": "display_data"
    },
    {
     "data": {
      "text/html": [
       "<pre style=\"white-space:pre;overflow-x:auto;line-height:normal;font-family:Menlo,'DejaVu Sans Mono',consolas,'Courier New',monospace\">mean: -0.00584494017910271, r: -1.7534820537308131, md: 300\n",
       "</pre>\n"
      ],
      "text/plain": [
       "mean: -0.00584494017910271, r: -1.7534820537308131, md: 300\n"
      ]
     },
     "metadata": {},
     "output_type": "display_data"
    },
    {
     "data": {
      "text/html": [
       "<pre style=\"white-space:pre;overflow-x:auto;line-height:normal;font-family:Menlo,'DejaVu Sans Mono',consolas,'Courier New',monospace\"></pre>\n"
      ],
      "text/plain": []
     },
     "metadata": {},
     "output_type": "display_data"
    },
    {
     "data": {
      "text/html": [
       "<pre style=\"white-space:pre;overflow-x:auto;line-height:normal;font-family:Menlo,'DejaVu Sans Mono',consolas,'Courier New',monospace\">\n",
       "</pre>\n"
      ],
      "text/plain": [
       "\n"
      ]
     },
     "metadata": {},
     "output_type": "display_data"
    },
    {
     "data": {
      "application/vnd.jupyter.widget-view+json": {
       "model_id": "d756ff3990454c2db955c241866a9642",
       "version_major": 2,
       "version_minor": 0
      },
      "text/plain": [
       "Output()"
      ]
     },
     "metadata": {},
     "output_type": "display_data"
    },
    {
     "name": "stdout",
     "output_type": "stream",
     "text": [
      "epoch 67: Mean Reward = -0.00584494017910271\n"
     ]
    },
    {
     "data": {
      "text/html": [
       "<pre style=\"white-space:pre;overflow-x:auto;line-height:normal;font-family:Menlo,'DejaVu Sans Mono',consolas,'Courier New',monospace\">mean: 0.002392446175274247, r: 0.7177338525822741, md: 300\n",
       "</pre>\n"
      ],
      "text/plain": [
       "mean: 0.002392446175274247, r: 0.7177338525822741, md: 300\n"
      ]
     },
     "metadata": {},
     "output_type": "display_data"
    },
    {
     "data": {
      "text/html": [
       "<pre style=\"white-space:pre;overflow-x:auto;line-height:normal;font-family:Menlo,'DejaVu Sans Mono',consolas,'Courier New',monospace\">mean: -0.0015499496869578807, r: -0.4649849060873642, md: 300\n",
       "</pre>\n"
      ],
      "text/plain": [
       "mean: -0.0015499496869578807, r: -0.4649849060873642, md: 300\n"
      ]
     },
     "metadata": {},
     "output_type": "display_data"
    },
    {
     "data": {
      "text/html": [
       "<pre style=\"white-space:pre;overflow-x:auto;line-height:normal;font-family:Menlo,'DejaVu Sans Mono',consolas,'Courier New',monospace\">mean: -0.0023228055381563804, r: -0.6968416614469142, md: 300\n",
       "</pre>\n"
      ],
      "text/plain": [
       "mean: -0.0023228055381563804, r: -0.6968416614469142, md: 300\n"
      ]
     },
     "metadata": {},
     "output_type": "display_data"
    },
    {
     "data": {
      "text/html": [
       "<pre style=\"white-space:pre;overflow-x:auto;line-height:normal;font-family:Menlo,'DejaVu Sans Mono',consolas,'Courier New',monospace\">mean: -0.007376894750381255, r: -2.2130684251143764, md: 300\n",
       "</pre>\n"
      ],
      "text/plain": [
       "mean: -0.007376894750381255, r: -2.2130684251143764, md: 300\n"
      ]
     },
     "metadata": {},
     "output_type": "display_data"
    },
    {
     "data": {
      "text/html": [
       "<pre style=\"white-space:pre;overflow-x:auto;line-height:normal;font-family:Menlo,'DejaVu Sans Mono',consolas,'Courier New',monospace\">mean: -0.003354297744812246, r: -1.0062893234436738, md: 300\n",
       "</pre>\n"
      ],
      "text/plain": [
       "mean: -0.003354297744812246, r: -1.0062893234436738, md: 300\n"
      ]
     },
     "metadata": {},
     "output_type": "display_data"
    },
    {
     "data": {
      "text/html": [
       "<pre style=\"white-space:pre;overflow-x:auto;line-height:normal;font-family:Menlo,'DejaVu Sans Mono',consolas,'Courier New',monospace\"></pre>\n"
      ],
      "text/plain": []
     },
     "metadata": {},
     "output_type": "display_data"
    },
    {
     "data": {
      "text/html": [
       "<pre style=\"white-space:pre;overflow-x:auto;line-height:normal;font-family:Menlo,'DejaVu Sans Mono',consolas,'Courier New',monospace\">\n",
       "</pre>\n"
      ],
      "text/plain": [
       "\n"
      ]
     },
     "metadata": {},
     "output_type": "display_data"
    },
    {
     "data": {
      "application/vnd.jupyter.widget-view+json": {
       "model_id": "cc4d61e4771d479ab52c68c3b3a1ca3b",
       "version_major": 2,
       "version_minor": 0
      },
      "text/plain": [
       "Output()"
      ]
     },
     "metadata": {},
     "output_type": "display_data"
    },
    {
     "name": "stdout",
     "output_type": "stream",
     "text": [
      "epoch 68: Mean Reward = -0.003354297744812246\n"
     ]
    },
    {
     "data": {
      "text/html": [
       "<pre style=\"white-space:pre;overflow-x:auto;line-height:normal;font-family:Menlo,'DejaVu Sans Mono',consolas,'Courier New',monospace\">mean: -0.001477753307514216, r: -0.44332599225426483, md: 300\n",
       "</pre>\n"
      ],
      "text/plain": [
       "mean: -0.001477753307514216, r: -0.44332599225426483, md: 300\n"
      ]
     },
     "metadata": {},
     "output_type": "display_data"
    },
    {
     "data": {
      "text/html": [
       "<pre style=\"white-space:pre;overflow-x:auto;line-height:normal;font-family:Menlo,'DejaVu Sans Mono',consolas,'Courier New',monospace\">mean: -0.006280442952533003, r: -1.884132885759901, md: 300\n",
       "</pre>\n"
      ],
      "text/plain": [
       "mean: -0.006280442952533003, r: -1.884132885759901, md: 300\n"
      ]
     },
     "metadata": {},
     "output_type": "display_data"
    },
    {
     "data": {
      "text/html": [
       "<pre style=\"white-space:pre;overflow-x:auto;line-height:normal;font-family:Menlo,'DejaVu Sans Mono',consolas,'Courier New',monospace\">mean: -0.006242391418606117, r: -1.872717425581835, md: 300\n",
       "</pre>\n"
      ],
      "text/plain": [
       "mean: -0.006242391418606117, r: -1.872717425581835, md: 300\n"
      ]
     },
     "metadata": {},
     "output_type": "display_data"
    },
    {
     "data": {
      "text/html": [
       "<pre style=\"white-space:pre;overflow-x:auto;line-height:normal;font-family:Menlo,'DejaVu Sans Mono',consolas,'Courier New',monospace\">mean: -0.001861946789883243, r: -0.5585840369649728, md: 300\n",
       "</pre>\n"
      ],
      "text/plain": [
       "mean: -0.001861946789883243, r: -0.5585840369649728, md: 300\n"
      ]
     },
     "metadata": {},
     "output_type": "display_data"
    },
    {
     "data": {
      "text/html": [
       "<pre style=\"white-space:pre;overflow-x:auto;line-height:normal;font-family:Menlo,'DejaVu Sans Mono',consolas,'Courier New',monospace\">mean: -0.007682459318462894, r: -2.304737795538868, md: 300\n",
       "</pre>\n"
      ],
      "text/plain": [
       "mean: -0.007682459318462894, r: -2.304737795538868, md: 300\n"
      ]
     },
     "metadata": {},
     "output_type": "display_data"
    },
    {
     "data": {
      "text/html": [
       "<pre style=\"white-space:pre;overflow-x:auto;line-height:normal;font-family:Menlo,'DejaVu Sans Mono',consolas,'Courier New',monospace\"></pre>\n"
      ],
      "text/plain": []
     },
     "metadata": {},
     "output_type": "display_data"
    },
    {
     "data": {
      "text/html": [
       "<pre style=\"white-space:pre;overflow-x:auto;line-height:normal;font-family:Menlo,'DejaVu Sans Mono',consolas,'Courier New',monospace\">\n",
       "</pre>\n"
      ],
      "text/plain": [
       "\n"
      ]
     },
     "metadata": {},
     "output_type": "display_data"
    },
    {
     "data": {
      "application/vnd.jupyter.widget-view+json": {
       "model_id": "aa98d3e9962e48dd8506cd6344b5fefe",
       "version_major": 2,
       "version_minor": 0
      },
      "text/plain": [
       "Output()"
      ]
     },
     "metadata": {},
     "output_type": "display_data"
    },
    {
     "name": "stdout",
     "output_type": "stream",
     "text": [
      "epoch 69: Mean Reward = -0.007682459318462894\n"
     ]
    },
    {
     "data": {
      "text/html": [
       "<pre style=\"white-space:pre;overflow-x:auto;line-height:normal;font-family:Menlo,'DejaVu Sans Mono',consolas,'Courier New',monospace\">mean: -0.004732253177602111, r: -1.419675953280633, md: 300\n",
       "</pre>\n"
      ],
      "text/plain": [
       "mean: -0.004732253177602111, r: -1.419675953280633, md: 300\n"
      ]
     },
     "metadata": {},
     "output_type": "display_data"
    },
    {
     "data": {
      "text/html": [
       "<pre style=\"white-space:pre;overflow-x:auto;line-height:normal;font-family:Menlo,'DejaVu Sans Mono',consolas,'Courier New',monospace\">mean: -0.0045071603213768414, r: -1.3521480964130523, md: 300\n",
       "</pre>\n"
      ],
      "text/plain": [
       "mean: -0.0045071603213768414, r: -1.3521480964130523, md: 300\n"
      ]
     },
     "metadata": {},
     "output_type": "display_data"
    },
    {
     "data": {
      "text/html": [
       "<pre style=\"white-space:pre;overflow-x:auto;line-height:normal;font-family:Menlo,'DejaVu Sans Mono',consolas,'Courier New',monospace\">mean: -0.0059332560496267485, r: -1.7799768148880246, md: 300\n",
       "</pre>\n"
      ],
      "text/plain": [
       "mean: -0.0059332560496267485, r: -1.7799768148880246, md: 300\n"
      ]
     },
     "metadata": {},
     "output_type": "display_data"
    },
    {
     "data": {
      "text/html": [
       "<pre style=\"white-space:pre;overflow-x:auto;line-height:normal;font-family:Menlo,'DejaVu Sans Mono',consolas,'Courier New',monospace\">mean: -0.0010806928032626546, r: -0.3242078409787964, md: 300\n",
       "</pre>\n"
      ],
      "text/plain": [
       "mean: -0.0010806928032626546, r: -0.3242078409787964, md: 300\n"
      ]
     },
     "metadata": {},
     "output_type": "display_data"
    },
    {
     "data": {
      "text/html": [
       "<pre style=\"white-space:pre;overflow-x:auto;line-height:normal;font-family:Menlo,'DejaVu Sans Mono',consolas,'Courier New',monospace\">mean: -0.002255659713398886, r: -0.6766979140196658, md: 300\n",
       "</pre>\n"
      ],
      "text/plain": [
       "mean: -0.002255659713398886, r: -0.6766979140196658, md: 300\n"
      ]
     },
     "metadata": {},
     "output_type": "display_data"
    },
    {
     "data": {
      "text/html": [
       "<pre style=\"white-space:pre;overflow-x:auto;line-height:normal;font-family:Menlo,'DejaVu Sans Mono',consolas,'Courier New',monospace\"></pre>\n"
      ],
      "text/plain": []
     },
     "metadata": {},
     "output_type": "display_data"
    },
    {
     "data": {
      "text/html": [
       "<pre style=\"white-space:pre;overflow-x:auto;line-height:normal;font-family:Menlo,'DejaVu Sans Mono',consolas,'Courier New',monospace\">\n",
       "</pre>\n"
      ],
      "text/plain": [
       "\n"
      ]
     },
     "metadata": {},
     "output_type": "display_data"
    },
    {
     "data": {
      "application/vnd.jupyter.widget-view+json": {
       "model_id": "3f9476d2ab414ed4ace7e32e29d6378c",
       "version_major": 2,
       "version_minor": 0
      },
      "text/plain": [
       "Output()"
      ]
     },
     "metadata": {},
     "output_type": "display_data"
    },
    {
     "name": "stdout",
     "output_type": "stream",
     "text": [
      "epoch 70: Mean Reward = -0.002255659713398886\n"
     ]
    },
    {
     "data": {
      "text/html": [
       "<pre style=\"white-space:pre;overflow-x:auto;line-height:normal;font-family:Menlo,'DejaVu Sans Mono',consolas,'Courier New',monospace\">mean: -0.005469920474232136, r: -1.6409761422696407, md: 300\n",
       "</pre>\n"
      ],
      "text/plain": [
       "mean: -0.005469920474232136, r: -1.6409761422696407, md: 300\n"
      ]
     },
     "metadata": {},
     "output_type": "display_data"
    },
    {
     "data": {
      "text/html": [
       "<pre style=\"white-space:pre;overflow-x:auto;line-height:normal;font-family:Menlo,'DejaVu Sans Mono',consolas,'Courier New',monospace\">mean: -0.006658194712065489, r: -1.9974584136196465, md: 300\n",
       "</pre>\n"
      ],
      "text/plain": [
       "mean: -0.006658194712065489, r: -1.9974584136196465, md: 300\n"
      ]
     },
     "metadata": {},
     "output_type": "display_data"
    },
    {
     "data": {
      "text/html": [
       "<pre style=\"white-space:pre;overflow-x:auto;line-height:normal;font-family:Menlo,'DejaVu Sans Mono',consolas,'Courier New',monospace\">mean: -0.0007615203365340154, r: -0.22845610096020463, md: 300\n",
       "</pre>\n"
      ],
      "text/plain": [
       "mean: -0.0007615203365340154, r: -0.22845610096020463, md: 300\n"
      ]
     },
     "metadata": {},
     "output_type": "display_data"
    },
    {
     "data": {
      "text/html": [
       "<pre style=\"white-space:pre;overflow-x:auto;line-height:normal;font-family:Menlo,'DejaVu Sans Mono',consolas,'Courier New',monospace\">mean: -0.004927219753921897, r: -1.478165926176569, md: 300\n",
       "</pre>\n"
      ],
      "text/plain": [
       "mean: -0.004927219753921897, r: -1.478165926176569, md: 300\n"
      ]
     },
     "metadata": {},
     "output_type": "display_data"
    },
    {
     "data": {
      "text/html": [
       "<pre style=\"white-space:pre;overflow-x:auto;line-height:normal;font-family:Menlo,'DejaVu Sans Mono',consolas,'Courier New',monospace\">mean: -0.005214138051269229, r: -1.5642414153807689, md: 300\n",
       "</pre>\n"
      ],
      "text/plain": [
       "mean: -0.005214138051269229, r: -1.5642414153807689, md: 300\n"
      ]
     },
     "metadata": {},
     "output_type": "display_data"
    },
    {
     "data": {
      "text/html": [
       "<pre style=\"white-space:pre;overflow-x:auto;line-height:normal;font-family:Menlo,'DejaVu Sans Mono',consolas,'Courier New',monospace\"></pre>\n"
      ],
      "text/plain": []
     },
     "metadata": {},
     "output_type": "display_data"
    },
    {
     "data": {
      "text/html": [
       "<pre style=\"white-space:pre;overflow-x:auto;line-height:normal;font-family:Menlo,'DejaVu Sans Mono',consolas,'Courier New',monospace\">\n",
       "</pre>\n"
      ],
      "text/plain": [
       "\n"
      ]
     },
     "metadata": {},
     "output_type": "display_data"
    },
    {
     "data": {
      "application/vnd.jupyter.widget-view+json": {
       "model_id": "1bc123b5c7944d2cab6febd1e5ae341f",
       "version_major": 2,
       "version_minor": 0
      },
      "text/plain": [
       "Output()"
      ]
     },
     "metadata": {},
     "output_type": "display_data"
    },
    {
     "name": "stdout",
     "output_type": "stream",
     "text": [
      "epoch 71: Mean Reward = -0.005214138051269229\n"
     ]
    },
    {
     "data": {
      "text/html": [
       "<pre style=\"white-space:pre;overflow-x:auto;line-height:normal;font-family:Menlo,'DejaVu Sans Mono',consolas,'Courier New',monospace\">mean: -0.0031881568974648517, r: -0.9564470692394554, md: 300\n",
       "</pre>\n"
      ],
      "text/plain": [
       "mean: -0.0031881568974648517, r: -0.9564470692394554, md: 300\n"
      ]
     },
     "metadata": {},
     "output_type": "display_data"
    },
    {
     "data": {
      "text/html": [
       "<pre style=\"white-space:pre;overflow-x:auto;line-height:normal;font-family:Menlo,'DejaVu Sans Mono',consolas,'Courier New',monospace\">mean: -0.007736340858142961, r: -2.3209022574428886, md: 300\n",
       "</pre>\n"
      ],
      "text/plain": [
       "mean: -0.007736340858142961, r: -2.3209022574428886, md: 300\n"
      ]
     },
     "metadata": {},
     "output_type": "display_data"
    },
    {
     "data": {
      "text/html": [
       "<pre style=\"white-space:pre;overflow-x:auto;line-height:normal;font-family:Menlo,'DejaVu Sans Mono',consolas,'Courier New',monospace\">mean: -0.003986456219466819, r: -1.1959368658400455, md: 300\n",
       "</pre>\n"
      ],
      "text/plain": [
       "mean: -0.003986456219466819, r: -1.1959368658400455, md: 300\n"
      ]
     },
     "metadata": {},
     "output_type": "display_data"
    },
    {
     "data": {
      "text/html": [
       "<pre style=\"white-space:pre;overflow-x:auto;line-height:normal;font-family:Menlo,'DejaVu Sans Mono',consolas,'Courier New',monospace\">mean: 0.002783474778248292, r: 0.8350424334744877, md: 300\n",
       "</pre>\n"
      ],
      "text/plain": [
       "mean: 0.002783474778248292, r: 0.8350424334744877, md: 300\n"
      ]
     },
     "metadata": {},
     "output_type": "display_data"
    },
    {
     "data": {
      "text/html": [
       "<pre style=\"white-space:pre;overflow-x:auto;line-height:normal;font-family:Menlo,'DejaVu Sans Mono',consolas,'Courier New',monospace\">mean: 0.0020011129013737215, r: 0.6003338704121165, md: 300\n",
       "</pre>\n"
      ],
      "text/plain": [
       "mean: 0.0020011129013737215, r: 0.6003338704121165, md: 300\n"
      ]
     },
     "metadata": {},
     "output_type": "display_data"
    },
    {
     "data": {
      "text/html": [
       "<pre style=\"white-space:pre;overflow-x:auto;line-height:normal;font-family:Menlo,'DejaVu Sans Mono',consolas,'Courier New',monospace\"></pre>\n"
      ],
      "text/plain": []
     },
     "metadata": {},
     "output_type": "display_data"
    },
    {
     "data": {
      "text/html": [
       "<pre style=\"white-space:pre;overflow-x:auto;line-height:normal;font-family:Menlo,'DejaVu Sans Mono',consolas,'Courier New',monospace\">\n",
       "</pre>\n"
      ],
      "text/plain": [
       "\n"
      ]
     },
     "metadata": {},
     "output_type": "display_data"
    },
    {
     "data": {
      "application/vnd.jupyter.widget-view+json": {
       "model_id": "8b83a84113c44194bab800bc7b1ab174",
       "version_major": 2,
       "version_minor": 0
      },
      "text/plain": [
       "Output()"
      ]
     },
     "metadata": {},
     "output_type": "display_data"
    },
    {
     "name": "stdout",
     "output_type": "stream",
     "text": [
      "epoch 72: Mean Reward = 0.0020011129013737215\n"
     ]
    },
    {
     "data": {
      "text/html": [
       "<pre style=\"white-space:pre;overflow-x:auto;line-height:normal;font-family:Menlo,'DejaVu Sans Mono',consolas,'Courier New',monospace\">mean: -0.007166282465511951, r: -2.1498847396535856, md: 300\n",
       "</pre>\n"
      ],
      "text/plain": [
       "mean: -0.007166282465511951, r: -2.1498847396535856, md: 300\n"
      ]
     },
     "metadata": {},
     "output_type": "display_data"
    },
    {
     "data": {
      "text/html": [
       "<pre style=\"white-space:pre;overflow-x:auto;line-height:normal;font-family:Menlo,'DejaVu Sans Mono',consolas,'Courier New',monospace\">mean: -0.005813799582618845, r: -1.7441398747856538, md: 300\n",
       "</pre>\n"
      ],
      "text/plain": [
       "mean: -0.005813799582618845, r: -1.7441398747856538, md: 300\n"
      ]
     },
     "metadata": {},
     "output_type": "display_data"
    },
    {
     "data": {
      "text/html": [
       "<pre style=\"white-space:pre;overflow-x:auto;line-height:normal;font-family:Menlo,'DejaVu Sans Mono',consolas,'Courier New',monospace\">mean: -0.004674744024443587, r: -1.4024232073330758, md: 300\n",
       "</pre>\n"
      ],
      "text/plain": [
       "mean: -0.004674744024443587, r: -1.4024232073330758, md: 300\n"
      ]
     },
     "metadata": {},
     "output_type": "display_data"
    },
    {
     "data": {
      "text/html": [
       "<pre style=\"white-space:pre;overflow-x:auto;line-height:normal;font-family:Menlo,'DejaVu Sans Mono',consolas,'Courier New',monospace\">mean: -0.005332095563340508, r: -1.5996286690021524, md: 300\n",
       "</pre>\n"
      ],
      "text/plain": [
       "mean: -0.005332095563340508, r: -1.5996286690021524, md: 300\n"
      ]
     },
     "metadata": {},
     "output_type": "display_data"
    },
    {
     "data": {
      "text/html": [
       "<pre style=\"white-space:pre;overflow-x:auto;line-height:normal;font-family:Menlo,'DejaVu Sans Mono',consolas,'Courier New',monospace\">mean: -0.004687000996144795, r: -1.4061002988434383, md: 300\n",
       "</pre>\n"
      ],
      "text/plain": [
       "mean: -0.004687000996144795, r: -1.4061002988434383, md: 300\n"
      ]
     },
     "metadata": {},
     "output_type": "display_data"
    },
    {
     "data": {
      "text/html": [
       "<pre style=\"white-space:pre;overflow-x:auto;line-height:normal;font-family:Menlo,'DejaVu Sans Mono',consolas,'Courier New',monospace\"></pre>\n"
      ],
      "text/plain": []
     },
     "metadata": {},
     "output_type": "display_data"
    },
    {
     "data": {
      "text/html": [
       "<pre style=\"white-space:pre;overflow-x:auto;line-height:normal;font-family:Menlo,'DejaVu Sans Mono',consolas,'Courier New',monospace\">\n",
       "</pre>\n"
      ],
      "text/plain": [
       "\n"
      ]
     },
     "metadata": {},
     "output_type": "display_data"
    },
    {
     "data": {
      "application/vnd.jupyter.widget-view+json": {
       "model_id": "80e46cfc507741bea04e0f9ea11272b1",
       "version_major": 2,
       "version_minor": 0
      },
      "text/plain": [
       "Output()"
      ]
     },
     "metadata": {},
     "output_type": "display_data"
    },
    {
     "name": "stdout",
     "output_type": "stream",
     "text": [
      "epoch 73: Mean Reward = -0.004687000996144795\n"
     ]
    },
    {
     "data": {
      "text/html": [
       "<pre style=\"white-space:pre;overflow-x:auto;line-height:normal;font-family:Menlo,'DejaVu Sans Mono',consolas,'Courier New',monospace\">mean: 0.004423733204360271, r: 1.3271199613080813, md: 300\n",
       "</pre>\n"
      ],
      "text/plain": [
       "mean: 0.004423733204360271, r: 1.3271199613080813, md: 300\n"
      ]
     },
     "metadata": {},
     "output_type": "display_data"
    },
    {
     "data": {
      "text/html": [
       "<pre style=\"white-space:pre;overflow-x:auto;line-height:normal;font-family:Menlo,'DejaVu Sans Mono',consolas,'Courier New',monospace\">mean: -0.0061655597123800865, r: -1.849667913714026, md: 300\n",
       "</pre>\n"
      ],
      "text/plain": [
       "mean: -0.0061655597123800865, r: -1.849667913714026, md: 300\n"
      ]
     },
     "metadata": {},
     "output_type": "display_data"
    },
    {
     "data": {
      "text/html": [
       "<pre style=\"white-space:pre;overflow-x:auto;line-height:normal;font-family:Menlo,'DejaVu Sans Mono',consolas,'Courier New',monospace\">mean: -0.004062935229963454, r: -1.218880568989036, md: 300\n",
       "</pre>\n"
      ],
      "text/plain": [
       "mean: -0.004062935229963454, r: -1.218880568989036, md: 300\n"
      ]
     },
     "metadata": {},
     "output_type": "display_data"
    },
    {
     "data": {
      "text/html": [
       "<pre style=\"white-space:pre;overflow-x:auto;line-height:normal;font-family:Menlo,'DejaVu Sans Mono',consolas,'Courier New',monospace\">mean: -0.008519465658365095, r: -2.555839697509528, md: 300\n",
       "</pre>\n"
      ],
      "text/plain": [
       "mean: -0.008519465658365095, r: -2.555839697509528, md: 300\n"
      ]
     },
     "metadata": {},
     "output_type": "display_data"
    },
    {
     "data": {
      "text/html": [
       "<pre style=\"white-space:pre;overflow-x:auto;line-height:normal;font-family:Menlo,'DejaVu Sans Mono',consolas,'Courier New',monospace\">mean: -0.0021573810822433414, r: -0.6472143246730024, md: 300\n",
       "</pre>\n"
      ],
      "text/plain": [
       "mean: -0.0021573810822433414, r: -0.6472143246730024, md: 300\n"
      ]
     },
     "metadata": {},
     "output_type": "display_data"
    },
    {
     "data": {
      "text/html": [
       "<pre style=\"white-space:pre;overflow-x:auto;line-height:normal;font-family:Menlo,'DejaVu Sans Mono',consolas,'Courier New',monospace\"></pre>\n"
      ],
      "text/plain": []
     },
     "metadata": {},
     "output_type": "display_data"
    },
    {
     "data": {
      "text/html": [
       "<pre style=\"white-space:pre;overflow-x:auto;line-height:normal;font-family:Menlo,'DejaVu Sans Mono',consolas,'Courier New',monospace\">\n",
       "</pre>\n"
      ],
      "text/plain": [
       "\n"
      ]
     },
     "metadata": {},
     "output_type": "display_data"
    },
    {
     "data": {
      "application/vnd.jupyter.widget-view+json": {
       "model_id": "75a4f900c5034295a9724affd15484a6",
       "version_major": 2,
       "version_minor": 0
      },
      "text/plain": [
       "Output()"
      ]
     },
     "metadata": {},
     "output_type": "display_data"
    },
    {
     "name": "stdout",
     "output_type": "stream",
     "text": [
      "epoch 74: Mean Reward = -0.0021573810822433414\n"
     ]
    },
    {
     "data": {
      "text/html": [
       "<pre style=\"white-space:pre;overflow-x:auto;line-height:normal;font-family:Menlo,'DejaVu Sans Mono',consolas,'Courier New',monospace\">mean: 0.06621081313507132, r: 19.8632439405214, md: 300\n",
       "</pre>\n"
      ],
      "text/plain": [
       "mean: 0.06621081313507132, r: 19.8632439405214, md: 300\n"
      ]
     },
     "metadata": {},
     "output_type": "display_data"
    },
    {
     "data": {
      "text/html": [
       "<pre style=\"white-space:pre;overflow-x:auto;line-height:normal;font-family:Menlo,'DejaVu Sans Mono',consolas,'Courier New',monospace\">mean: -0.005106342007516447, r: -1.531902602254934, md: 300\n",
       "</pre>\n"
      ],
      "text/plain": [
       "mean: -0.005106342007516447, r: -1.531902602254934, md: 300\n"
      ]
     },
     "metadata": {},
     "output_type": "display_data"
    }
   ],
   "source": [
    "s = np.array((1,2,3,4,5,6,7,8,9,10,11,12))\n",
    "s = np.expand_dims(s, axis=0)\n",
    "\n",
    "preds = policy(s)\n",
    "print(preds)\n",
    "\n",
    "EPOCHS = 300\n",
    "EPISODES = 5\n",
    "\n",
    "def u(epoch, episode):\n",
    "    prog_rem = 1 - (epoch * EPISODES + episode) / (EPOCHS * EPISODES - 1)\n",
    "    f = lambda x: x\n",
    "    maxval = 1.5\n",
    "    endpt = 0.667\n",
    "    return max((f(prog_rem) - f(1 - endpt)) / (f(1) - f(1 - endpt)), 0) * maxval\n",
    "\n",
    "i_0 = 74\n",
    "\n",
    "u_shifted = lambda epoch, episode: u(epoch + i_0, episode)\n",
    "\n",
    "agent.train(300, EPISODES, EPOCHS-i_0, added_uncertainty=u)\n",
    "\n",
    "preds = policy(s)\n",
    "print(preds)"
   ]
  },
  {
   "cell_type": "code",
   "execution_count": null,
   "id": "d5da3563-f94d-48be-8c6e-a77741b1b997",
   "metadata": {},
   "outputs": [],
   "source": [
    "r_mean, states = agent.training_step(100)\n",
    "# print(states)\n",
    "states = zip(*(state[:3] for state in states))\n",
    "states = list(states)[0]\n",
    "# print(states)\n",
    "\n",
    "plt.plot([x for x in range(100)], states)"
   ]
  },
  {
   "cell_type": "code",
   "execution_count": null,
   "id": "4862c5d7-26a9-4a35-82b3-220cdc889bb1",
   "metadata": {},
   "outputs": [],
   "source": [
    "agent.train(100, 5, 100)"
   ]
  },
  {
   "cell_type": "code",
   "execution_count": null,
   "id": "ba221585-8877-48a7-9342-b86cfb129338",
   "metadata": {},
   "outputs": [],
   "source": [
    "print(world.V)"
   ]
  },
  {
   "cell_type": "code",
   "execution_count": null,
   "id": "5f42c168-8e2b-46c5-ab6a-7d6e0a0c7848",
   "metadata": {},
   "outputs": [],
   "source": []
  }
 ],
 "metadata": {
  "kernelspec": {
   "display_name": "Python 3 (ipykernel)",
   "language": "python",
   "name": "python3"
  },
  "language_info": {
   "codemirror_mode": {
    "name": "ipython",
    "version": 3
   },
   "file_extension": ".py",
   "mimetype": "text/x-python",
   "name": "python",
   "nbconvert_exporter": "python",
   "pygments_lexer": "ipython3",
   "version": "3.11.9"
  }
 },
 "nbformat": 4,
 "nbformat_minor": 5
}
