{
 "cells": [
  {
   "cell_type": "markdown",
   "id": "ecc2acb0-91e3-4065-84a2-084e515d0993",
   "metadata": {},
   "source": [
    "# RL Agent Test\n",
    "---\n",
    "\n",
    "## Imports"
   ]
  },
  {
   "cell_type": "code",
   "execution_count": 1,
   "id": "8d81916e-2b83-46d1-b0d6-89b959a388cd",
   "metadata": {},
   "outputs": [
    {
     "name": "stderr",
     "output_type": "stream",
     "text": [
      "2024-06-28 00:26:16.313616: I external/local_tsl/tsl/cuda/cudart_stub.cc:32] Could not find cuda drivers on your machine, GPU will not be used.\n",
      "2024-06-28 00:26:16.592489: I external/local_tsl/tsl/cuda/cudart_stub.cc:32] Could not find cuda drivers on your machine, GPU will not be used.\n",
      "2024-06-28 00:26:17.613584: I tensorflow/core/platform/cpu_feature_guard.cc:210] This TensorFlow binary is optimized to use available CPU instructions in performance-critical operations.\n",
      "To enable the following instructions: AVX2 FMA, in other operations, rebuild TensorFlow with the appropriate compiler flags.\n",
      "2024-06-28 00:26:19.897038: W tensorflow/compiler/tf2tensorrt/utils/py_utils.cc:38] TF-TRT Warning: Could not find TensorRT\n"
     ]
    },
    {
     "name": "stdout",
     "output_type": "stream",
     "text": [
      "TensorFlow version: 2.16.1\n"
     ]
    }
   ],
   "source": [
    "import os\n",
    "import sys\n",
    "current = os.getcwd()\n",
    "if (os.path.basename(current) == 'rl_agent'):\n",
    "    top_level_dir = os.path.dirname(os.getcwd())\n",
    "else:\n",
    "    top_level_dir = current\n",
    "sys.path.append(os.path.abspath(top_level_dir))\n",
    "os.chdir(top_level_dir)\n",
    "\n",
    "%reload_ext autoreload\n",
    "%autoreload 2\n",
    "\n",
    "from math import pi\n",
    "import numpy as np\n",
    "from rl_agent.World import *\n",
    "from rl_agent.Agent import *\n",
    "\n",
    "import matplotlib.pyplot as plt\n",
    "\n",
    "import tensorflow_probability as tfp\n",
    "import tensorflow as tf\n",
    "from tensorflow.keras.layers import *\n",
    "from tensorflow.keras import Model\n",
    "print(f'TensorFlow version: {tf.__version__}')"
   ]
  },
  {
   "cell_type": "markdown",
   "id": "272b7a26-617d-4c12-b14f-6f95766751c5",
   "metadata": {},
   "source": [
    "## Instantiate Neural Networks for Policy and Q"
   ]
  },
  {
   "cell_type": "markdown",
   "id": "54a7ec1a-dee1-4359-8f13-def08fe3d268",
   "metadata": {},
   "source": [
    "So for now I am using pretty uninformed choices for neural network\n",
    "architecture just to get this running asap, but we might want to \n",
    "keep the networks small even when we do this for real."
   ]
  },
  {
   "cell_type": "code",
   "execution_count": 2,
   "id": "6b9164cb-2f60-4610-a1c1-76f33f66649d",
   "metadata": {
    "scrolled": true
   },
   "outputs": [
    {
     "name": "stdout",
     "output_type": "stream",
     "text": [
      "input: \n",
      "[[0.42748666 0.9458392  0.9460415  0.35670117 0.83005764 0.91816991\n",
      "  0.58487537 0.51552538 0.68525477 0.72309771 0.34377917 0.72340027]\n",
      " [0.47212723 0.13208062 0.73505553 0.95417377 0.28065273 0.91705073\n",
      "  0.2803358  0.04114788 0.76907146 0.84822475 0.36851814 0.26537574]\n",
      " [0.54229446 0.38571328 0.99404726 0.04492365 0.30922848 0.62649696\n",
      "  0.25752389 0.25275324 0.60796529 0.01884727 0.59945147 0.81747342]\n",
      " [0.32671238 0.37290311 0.53306459 0.42351307 0.83436283 0.85074474\n",
      "  0.50593595 0.99254072 0.20639378 0.5568514  0.69033099 0.50587156]\n",
      " [0.42972094 0.57500695 0.77652682 0.35926912 0.19726382 0.93156316\n",
      "  0.701689   0.13531798 0.23869297 0.80900829 0.56743514 0.80692068]\n",
      " [0.59600368 0.93452305 0.31340575 0.23751725 0.7854374  0.08155778\n",
      "  0.1305707  0.8668369  0.27749344 0.64670944 0.81267529 0.0551046 ]\n",
      " [0.43809052 0.11886712 0.14210065 0.56710102 0.57381682 0.75078019\n",
      "  0.55218433 0.03191328 0.87484657 0.4805679  0.2564551  0.50024585]\n",
      " [0.4854429  0.07305427 0.94753309 0.68489164 0.70920435 0.91974538\n",
      "  0.57796995 0.71519473 0.28280154 0.20802475 0.80827579 0.84717513]\n",
      " [0.73352191 0.55956509 0.67124959 0.44069376 0.99155914 0.97717999\n",
      "  0.77769175 0.79155163 0.19248866 0.48453258 0.64667104 0.76790398]\n",
      " [0.23437312 0.25808114 0.44620031 0.54181692 0.95085316 0.08164841\n",
      "  0.6765054  0.03290216 0.61538716 0.1639033  0.97828672 0.66795517]\n",
      " [0.55798085 0.37006656 0.03408098 0.94386588 0.01225318 0.00246235\n",
      "  0.86871268 0.08707087 0.24784299 0.0236346  0.08597193 0.36178638]\n",
      " [0.97305377 0.57432792 0.99569717 0.61409173 0.89355709 0.24951808\n",
      "  0.97968633 0.16295232 0.32961692 0.62317939 0.69210064 0.10558308]]\n",
      "\n",
      "mu: \n",
      "[[-0.6173528  -0.47546816]\n",
      " [-0.6407651  -0.46359864]\n",
      " [-0.59511685 -0.47244585]\n",
      " [-0.5987657  -0.45956594]\n",
      " [-0.60468143 -0.47770104]\n",
      " [-0.5922559  -0.4591172 ]\n",
      " [-0.6334756  -0.46601713]\n",
      " [-0.59619033 -0.46684554]\n",
      " [-0.5894556  -0.4705984 ]\n",
      " [-0.6147679  -0.47547632]\n",
      " [-0.58476734 -0.46319526]\n",
      " [-0.60049844 -0.47273868]]\n",
      "sigma: \n",
      "[[0.54103726 0.37860513]\n",
      " [0.5393747  0.39115953]\n",
      " [0.5301511  0.3768509 ]\n",
      " [0.5379728  0.38564676]\n",
      " [0.5336423  0.38592952]\n",
      " [0.53646964 0.39215234]\n",
      " [0.5382848  0.3869275 ]\n",
      " [0.53266263 0.3756916 ]\n",
      " [0.53395605 0.37895653]\n",
      " [0.52796316 0.3774048 ]\n",
      " [0.5272606  0.3910261 ]\n",
      " [0.533055   0.38594788]]\n",
      "\n"
     ]
    },
    {
     "name": "stderr",
     "output_type": "stream",
     "text": [
      "/home/virtual/miniconda3/envs/plasma/lib/python3.11/site-packages/keras/src/layers/core/dense.py:87: UserWarning: Do not pass an `input_shape`/`input_dim` argument to a layer. When using Sequential models, prefer using an `Input(shape)` object as the first layer in the model instead.\n",
      "  super().__init__(activity_regularizer=activity_regularizer, **kwargs)\n"
     ]
    },
    {
     "name": "stdout",
     "output_type": "stream",
     "text": [
      "dists: \n",
      ":tfp.distributions.Normal(\"Normal\", batch_shape=[12, 2], event_shape=[], dtype=float32)\n",
      "\n",
      "samples: \n",
      "[[-0.8365582   0.06716502]\n",
      " [-0.5356643  -0.6736687 ]\n",
      " [-0.68408936 -0.7206426 ]\n",
      " [-0.11661416 -0.21892415]\n",
      " [-0.9122709  -0.6640986 ]\n",
      " [-0.34905568  0.14937052]\n",
      " [ 0.00490189 -0.7393435 ]\n",
      " [-0.6371808  -0.41522956]\n",
      " [-1.1422186  -0.339051  ]\n",
      " [ 0.27249408 -0.3461929 ]\n",
      " [-1.0238682  -0.646448  ]\n",
      " [-0.24048889 -0.06649816]]\n",
      "\n",
      "log probs: [[-0.38674778 -0.97476983]\n",
      " [-0.32057834 -0.12450704]\n",
      " [-0.2984279  -0.15991469]\n",
      " [-0.7006123  -0.16079015]\n",
      " [-0.45702535 -0.08347452]\n",
      " [-0.39894927 -1.1866605 ]\n",
      " [-1.0028068  -0.2189225 ]\n",
      " [-0.29203245  0.05061031]\n",
      " [-0.8273389  -0.00885453]\n",
      " [-1.6923132  -0.00317501]\n",
      " [-0.6256533  -0.08977203]\n",
      " [-0.5178704  -0.5208465 ]]\n",
      "\n"
     ]
    },
    {
     "data": {
      "text/html": [
       "<pre style=\"white-space:pre;overflow-x:auto;line-height:normal;font-family:Menlo,'DejaVu Sans Mono',consolas,'Courier New',monospace\"><span style=\"font-weight: bold\">Model: \"policy\"</span>\n",
       "</pre>\n"
      ],
      "text/plain": [
       "\u001b[1mModel: \"policy\"\u001b[0m\n"
      ]
     },
     "metadata": {},
     "output_type": "display_data"
    },
    {
     "data": {
      "text/html": [
       "<pre style=\"white-space:pre;overflow-x:auto;line-height:normal;font-family:Menlo,'DejaVu Sans Mono',consolas,'Courier New',monospace\">┏━━━━━━━━━━━━━━━━━━━━━━━━━━━━━━━━━┳━━━━━━━━━━━━━━━━━━━━━━━━┳━━━━━━━━━━━━━━━┓\n",
       "┃<span style=\"font-weight: bold\"> Layer (type)                    </span>┃<span style=\"font-weight: bold\"> Output Shape           </span>┃<span style=\"font-weight: bold\">       Param # </span>┃\n",
       "┡━━━━━━━━━━━━━━━━━━━━━━━━━━━━━━━━━╇━━━━━━━━━━━━━━━━━━━━━━━━╇━━━━━━━━━━━━━━━┩\n",
       "│ dense (<span style=\"color: #0087ff; text-decoration-color: #0087ff\">Dense</span>)                   │ ?                      │         <span style=\"color: #00af00; text-decoration-color: #00af00\">6,656</span> │\n",
       "├─────────────────────────────────┼────────────────────────┼───────────────┤\n",
       "│ dense_1 (<span style=\"color: #0087ff; text-decoration-color: #0087ff\">Dense</span>)                 │ ?                      │       <span style=\"color: #00af00; text-decoration-color: #00af00\">131,328</span> │\n",
       "├─────────────────────────────────┼────────────────────────┼───────────────┤\n",
       "│ dense_2 (<span style=\"color: #0087ff; text-decoration-color: #0087ff\">Dense</span>)                 │ ?                      │        <span style=\"color: #00af00; text-decoration-color: #00af00\">16,448</span> │\n",
       "├─────────────────────────────────┼────────────────────────┼───────────────┤\n",
       "│ dropout (<span style=\"color: #0087ff; text-decoration-color: #0087ff\">Dropout</span>)               │ ?                      │             <span style=\"color: #00af00; text-decoration-color: #00af00\">0</span> │\n",
       "├─────────────────────────────────┼────────────────────────┼───────────────┤\n",
       "│ dense_3 (<span style=\"color: #0087ff; text-decoration-color: #0087ff\">Dense</span>)                 │ ?                      │           <span style=\"color: #00af00; text-decoration-color: #00af00\">130</span> │\n",
       "├─────────────────────────────────┼────────────────────────┼───────────────┤\n",
       "│ dense_4 (<span style=\"color: #0087ff; text-decoration-color: #0087ff\">Dense</span>)                 │ ?                      │           <span style=\"color: #00af00; text-decoration-color: #00af00\">130</span> │\n",
       "└─────────────────────────────────┴────────────────────────┴───────────────┘\n",
       "</pre>\n"
      ],
      "text/plain": [
       "┏━━━━━━━━━━━━━━━━━━━━━━━━━━━━━━━━━┳━━━━━━━━━━━━━━━━━━━━━━━━┳━━━━━━━━━━━━━━━┓\n",
       "┃\u001b[1m \u001b[0m\u001b[1mLayer (type)                   \u001b[0m\u001b[1m \u001b[0m┃\u001b[1m \u001b[0m\u001b[1mOutput Shape          \u001b[0m\u001b[1m \u001b[0m┃\u001b[1m \u001b[0m\u001b[1m      Param #\u001b[0m\u001b[1m \u001b[0m┃\n",
       "┡━━━━━━━━━━━━━━━━━━━━━━━━━━━━━━━━━╇━━━━━━━━━━━━━━━━━━━━━━━━╇━━━━━━━━━━━━━━━┩\n",
       "│ dense (\u001b[38;5;33mDense\u001b[0m)                   │ ?                      │         \u001b[38;5;34m6,656\u001b[0m │\n",
       "├─────────────────────────────────┼────────────────────────┼───────────────┤\n",
       "│ dense_1 (\u001b[38;5;33mDense\u001b[0m)                 │ ?                      │       \u001b[38;5;34m131,328\u001b[0m │\n",
       "├─────────────────────────────────┼────────────────────────┼───────────────┤\n",
       "│ dense_2 (\u001b[38;5;33mDense\u001b[0m)                 │ ?                      │        \u001b[38;5;34m16,448\u001b[0m │\n",
       "├─────────────────────────────────┼────────────────────────┼───────────────┤\n",
       "│ dropout (\u001b[38;5;33mDropout\u001b[0m)               │ ?                      │             \u001b[38;5;34m0\u001b[0m │\n",
       "├─────────────────────────────────┼────────────────────────┼───────────────┤\n",
       "│ dense_3 (\u001b[38;5;33mDense\u001b[0m)                 │ ?                      │           \u001b[38;5;34m130\u001b[0m │\n",
       "├─────────────────────────────────┼────────────────────────┼───────────────┤\n",
       "│ dense_4 (\u001b[38;5;33mDense\u001b[0m)                 │ ?                      │           \u001b[38;5;34m130\u001b[0m │\n",
       "└─────────────────────────────────┴────────────────────────┴───────────────┘\n"
      ]
     },
     "metadata": {},
     "output_type": "display_data"
    },
    {
     "data": {
      "text/html": [
       "<pre style=\"white-space:pre;overflow-x:auto;line-height:normal;font-family:Menlo,'DejaVu Sans Mono',consolas,'Courier New',monospace\"><span style=\"font-weight: bold\"> Total params: </span><span style=\"color: #00af00; text-decoration-color: #00af00\">154,692</span> (604.27 KB)\n",
       "</pre>\n"
      ],
      "text/plain": [
       "\u001b[1m Total params: \u001b[0m\u001b[38;5;34m154,692\u001b[0m (604.27 KB)\n"
      ]
     },
     "metadata": {},
     "output_type": "display_data"
    },
    {
     "data": {
      "text/html": [
       "<pre style=\"white-space:pre;overflow-x:auto;line-height:normal;font-family:Menlo,'DejaVu Sans Mono',consolas,'Courier New',monospace\"><span style=\"font-weight: bold\"> Trainable params: </span><span style=\"color: #00af00; text-decoration-color: #00af00\">154,692</span> (604.27 KB)\n",
       "</pre>\n"
      ],
      "text/plain": [
       "\u001b[1m Trainable params: \u001b[0m\u001b[38;5;34m154,692\u001b[0m (604.27 KB)\n"
      ]
     },
     "metadata": {},
     "output_type": "display_data"
    },
    {
     "data": {
      "text/html": [
       "<pre style=\"white-space:pre;overflow-x:auto;line-height:normal;font-family:Menlo,'DejaVu Sans Mono',consolas,'Courier New',monospace\"><span style=\"font-weight: bold\"> Non-trainable params: </span><span style=\"color: #00af00; text-decoration-color: #00af00\">0</span> (0.00 B)\n",
       "</pre>\n"
      ],
      "text/plain": [
       "\u001b[1m Non-trainable params: \u001b[0m\u001b[38;5;34m0\u001b[0m (0.00 B)\n"
      ]
     },
     "metadata": {},
     "output_type": "display_data"
    },
    {
     "name": "stderr",
     "output_type": "stream",
     "text": [
      "/home/virtual/miniconda3/envs/plasma/lib/python3.11/site-packages/keras/src/layers/core/dense.py:87: UserWarning: Do not pass an `input_shape`/`input_dim` argument to a layer. When using Sequential models, prefer using an `Input(shape)` object as the first layer in the model instead.\n",
      "  super().__init__(activity_regularizer=activity_regularizer, **kwargs)\n"
     ]
    },
    {
     "data": {
      "text/html": [
       "<pre style=\"white-space:pre;overflow-x:auto;line-height:normal;font-family:Menlo,'DejaVu Sans Mono',consolas,'Courier New',monospace\"><span style=\"font-weight: bold\">Model: \"Q(s,a)\"</span>\n",
       "</pre>\n"
      ],
      "text/plain": [
       "\u001b[1mModel: \"Q(s,a)\"\u001b[0m\n"
      ]
     },
     "metadata": {},
     "output_type": "display_data"
    },
    {
     "data": {
      "text/html": [
       "<pre style=\"white-space:pre;overflow-x:auto;line-height:normal;font-family:Menlo,'DejaVu Sans Mono',consolas,'Courier New',monospace\">┏━━━━━━━━━━━━━━━━━━━━━━━━━━━━━━━━━┳━━━━━━━━━━━━━━━━━━━━━━━━┳━━━━━━━━━━━━━━━┓\n",
       "┃<span style=\"font-weight: bold\"> Layer (type)                    </span>┃<span style=\"font-weight: bold\"> Output Shape           </span>┃<span style=\"font-weight: bold\">       Param # </span>┃\n",
       "┡━━━━━━━━━━━━━━━━━━━━━━━━━━━━━━━━━╇━━━━━━━━━━━━━━━━━━━━━━━━╇━━━━━━━━━━━━━━━┩\n",
       "│ dense_5 (<span style=\"color: #0087ff; text-decoration-color: #0087ff\">Dense</span>)                 │ (<span style=\"color: #00d7ff; text-decoration-color: #00d7ff\">None</span>, <span style=\"color: #00af00; text-decoration-color: #00af00\">512</span>)            │         <span style=\"color: #00af00; text-decoration-color: #00af00\">7,680</span> │\n",
       "├─────────────────────────────────┼────────────────────────┼───────────────┤\n",
       "│ dense_6 (<span style=\"color: #0087ff; text-decoration-color: #0087ff\">Dense</span>)                 │ (<span style=\"color: #00d7ff; text-decoration-color: #00d7ff\">None</span>, <span style=\"color: #00af00; text-decoration-color: #00af00\">256</span>)            │       <span style=\"color: #00af00; text-decoration-color: #00af00\">131,328</span> │\n",
       "├─────────────────────────────────┼────────────────────────┼───────────────┤\n",
       "│ dense_7 (<span style=\"color: #0087ff; text-decoration-color: #0087ff\">Dense</span>)                 │ (<span style=\"color: #00d7ff; text-decoration-color: #00d7ff\">None</span>, <span style=\"color: #00af00; text-decoration-color: #00af00\">128</span>)            │        <span style=\"color: #00af00; text-decoration-color: #00af00\">32,896</span> │\n",
       "├─────────────────────────────────┼────────────────────────┼───────────────┤\n",
       "│ dropout_1 (<span style=\"color: #0087ff; text-decoration-color: #0087ff\">Dropout</span>)             │ (<span style=\"color: #00d7ff; text-decoration-color: #00d7ff\">None</span>, <span style=\"color: #00af00; text-decoration-color: #00af00\">128</span>)            │             <span style=\"color: #00af00; text-decoration-color: #00af00\">0</span> │\n",
       "├─────────────────────────────────┼────────────────────────┼───────────────┤\n",
       "│ dense_8 (<span style=\"color: #0087ff; text-decoration-color: #0087ff\">Dense</span>)                 │ (<span style=\"color: #00d7ff; text-decoration-color: #00d7ff\">None</span>, <span style=\"color: #00af00; text-decoration-color: #00af00\">1</span>)              │           <span style=\"color: #00af00; text-decoration-color: #00af00\">129</span> │\n",
       "└─────────────────────────────────┴────────────────────────┴───────────────┘\n",
       "</pre>\n"
      ],
      "text/plain": [
       "┏━━━━━━━━━━━━━━━━━━━━━━━━━━━━━━━━━┳━━━━━━━━━━━━━━━━━━━━━━━━┳━━━━━━━━━━━━━━━┓\n",
       "┃\u001b[1m \u001b[0m\u001b[1mLayer (type)                   \u001b[0m\u001b[1m \u001b[0m┃\u001b[1m \u001b[0m\u001b[1mOutput Shape          \u001b[0m\u001b[1m \u001b[0m┃\u001b[1m \u001b[0m\u001b[1m      Param #\u001b[0m\u001b[1m \u001b[0m┃\n",
       "┡━━━━━━━━━━━━━━━━━━━━━━━━━━━━━━━━━╇━━━━━━━━━━━━━━━━━━━━━━━━╇━━━━━━━━━━━━━━━┩\n",
       "│ dense_5 (\u001b[38;5;33mDense\u001b[0m)                 │ (\u001b[38;5;45mNone\u001b[0m, \u001b[38;5;34m512\u001b[0m)            │         \u001b[38;5;34m7,680\u001b[0m │\n",
       "├─────────────────────────────────┼────────────────────────┼───────────────┤\n",
       "│ dense_6 (\u001b[38;5;33mDense\u001b[0m)                 │ (\u001b[38;5;45mNone\u001b[0m, \u001b[38;5;34m256\u001b[0m)            │       \u001b[38;5;34m131,328\u001b[0m │\n",
       "├─────────────────────────────────┼────────────────────────┼───────────────┤\n",
       "│ dense_7 (\u001b[38;5;33mDense\u001b[0m)                 │ (\u001b[38;5;45mNone\u001b[0m, \u001b[38;5;34m128\u001b[0m)            │        \u001b[38;5;34m32,896\u001b[0m │\n",
       "├─────────────────────────────────┼────────────────────────┼───────────────┤\n",
       "│ dropout_1 (\u001b[38;5;33mDropout\u001b[0m)             │ (\u001b[38;5;45mNone\u001b[0m, \u001b[38;5;34m128\u001b[0m)            │             \u001b[38;5;34m0\u001b[0m │\n",
       "├─────────────────────────────────┼────────────────────────┼───────────────┤\n",
       "│ dense_8 (\u001b[38;5;33mDense\u001b[0m)                 │ (\u001b[38;5;45mNone\u001b[0m, \u001b[38;5;34m1\u001b[0m)              │           \u001b[38;5;34m129\u001b[0m │\n",
       "└─────────────────────────────────┴────────────────────────┴───────────────┘\n"
      ]
     },
     "metadata": {},
     "output_type": "display_data"
    },
    {
     "data": {
      "text/html": [
       "<pre style=\"white-space:pre;overflow-x:auto;line-height:normal;font-family:Menlo,'DejaVu Sans Mono',consolas,'Courier New',monospace\"><span style=\"font-weight: bold\"> Total params: </span><span style=\"color: #00af00; text-decoration-color: #00af00\">172,033</span> (672.00 KB)\n",
       "</pre>\n"
      ],
      "text/plain": [
       "\u001b[1m Total params: \u001b[0m\u001b[38;5;34m172,033\u001b[0m (672.00 KB)\n"
      ]
     },
     "metadata": {},
     "output_type": "display_data"
    },
    {
     "data": {
      "text/html": [
       "<pre style=\"white-space:pre;overflow-x:auto;line-height:normal;font-family:Menlo,'DejaVu Sans Mono',consolas,'Courier New',monospace\"><span style=\"font-weight: bold\"> Trainable params: </span><span style=\"color: #00af00; text-decoration-color: #00af00\">172,033</span> (672.00 KB)\n",
       "</pre>\n"
      ],
      "text/plain": [
       "\u001b[1m Trainable params: \u001b[0m\u001b[38;5;34m172,033\u001b[0m (672.00 KB)\n"
      ]
     },
     "metadata": {},
     "output_type": "display_data"
    },
    {
     "data": {
      "text/html": [
       "<pre style=\"white-space:pre;overflow-x:auto;line-height:normal;font-family:Menlo,'DejaVu Sans Mono',consolas,'Courier New',monospace\"><span style=\"font-weight: bold\"> Non-trainable params: </span><span style=\"color: #00af00; text-decoration-color: #00af00\">0</span> (0.00 B)\n",
       "</pre>\n"
      ],
      "text/plain": [
       "\u001b[1m Non-trainable params: \u001b[0m\u001b[38;5;34m0\u001b[0m (0.00 B)\n"
      ]
     },
     "metadata": {},
     "output_type": "display_data"
    }
   ],
   "source": [
    "class Policy(Model):\n",
    "    min_action = -pi\n",
    "    max_action = pi\n",
    "    \n",
    "    def __init__(self):\n",
    "        super().__init__()\n",
    "        self.dense1 = Dense(512, activation='relu', input_shape=(12,))\n",
    "        self.dense2 = Dense(256, activation='relu')\n",
    "        self.dense3 = Dense(64, activation='sigmoid')\n",
    "        self.dropout = Dropout(0.1)\n",
    "        self.mu = Dense(2)\n",
    "        self.sigma = Dense(2)    \n",
    "\n",
    "    def call(self, x):\n",
    "        x = self.dense1(x)\n",
    "        x = self.dense2(x)\n",
    "        x = self.dense3(x)\n",
    "        x = self.dropout(x)\n",
    "        mu = self.mu(x)\n",
    "        sigma = self.sigma(x)\n",
    "        sigma = tf.math.softplus(sigma)\n",
    "        sigma = tf.clip_by_value(sigma, 1e-2, 2*3.14)\n",
    "        return mu, sigma \n",
    "\n",
    "# Create an instance of the model\n",
    "policy = Policy()\n",
    "inp = np.random.random((12,12))\n",
    "print(f'input: \\n{inp}\\n')\n",
    "mu, sigma = policy(inp)\n",
    "print(f'mu: \\n{mu}\\nsigma: \\n{sigma}\\n')\n",
    "\n",
    "dists = tfp.distributions.Normal(mu, sigma)\n",
    "\n",
    "print(f'dists: \\n:{dists}\\n')\n",
    "\n",
    "samples = dists.sample()\n",
    "print(f'samples: \\n{samples}\\n')\n",
    "\n",
    "print(f'log probs: {dists.log_prob(samples.numpy())}\\n')\n",
    "\n",
    "policy.summary()\n",
    "\n",
    "Q = tf.keras.models.Sequential([\n",
    "  tf.keras.layers.Dense(512, activation='relu', input_shape=(14,)),\n",
    "  tf.keras.layers.Dense(256, activation='relu'),\n",
    "  tf.keras.layers.Dense(128, activation='sigmoid'),\n",
    "  tf.keras.layers.Dropout(0.1),\n",
    "  tf.keras.layers.Dense(1)\n",
    "], name='Q(s,a)')\n",
    "Q.summary()"
   ]
  },
  {
   "cell_type": "code",
   "execution_count": 3,
   "id": "8f289616-5394-4813-a934-10f7a14ffad6",
   "metadata": {},
   "outputs": [
    {
     "name": "stdout",
     "output_type": "stream",
     "text": [
      "tf.Tensor(\n",
      "[[0.1722055  0.5455282  0.8676614 ]\n",
      " [0.33518815 0.15592375 0.32361728]\n",
      " [0.03432227 0.36234856 0.8238042 ]\n",
      " [0.34115583 0.24849282 0.3662879 ]\n",
      " [0.5952342  0.35049495 0.06810068]\n",
      " [0.5452762  0.93510777 0.655711  ]\n",
      " [0.19297367 0.46223673 0.12422057]\n",
      " [0.8556645  0.53312844 0.64928627]\n",
      " [0.6593245  0.2836185  0.3427189 ]\n",
      " [0.1626291  0.23043735 0.6069645 ]], shape=(10, 3), dtype=float32)\n",
      "sum grad: [3.89397396 4.10731712 4.82837269]\n",
      "len: 1 \n",
      " [[3.8939738 4.107317  4.828373 ]]\n"
     ]
    }
   ],
   "source": [
    "x = np.random.random((10,3))\n",
    "a = tf.ones((1,3))\n",
    "with tf.GradientTape() as tape:\n",
    "    tape.watch(a)\n",
    "    y = a * x\n",
    "print(y)\n",
    "grad = tape.gradient(y, a)\n",
    "print(f'sum grad: {tf.reduce_sum(x, axis=0)}')\n",
    "print(f'len: {len(grad)} \\n {grad}')"
   ]
  },
  {
   "cell_type": "markdown",
   "id": "47be3c01-cb58-4c21-9f24-8b224e89bab5",
   "metadata": {},
   "source": [
    "## Instantiate World"
   ]
  },
  {
   "cell_type": "code",
   "execution_count": 4,
   "id": "20d2c305-acc7-41ca-b711-b341de970140",
   "metadata": {},
   "outputs": [],
   "source": [
    "world = ParallelTrackNEO(num_sails=8192)"
   ]
  },
  {
   "cell_type": "markdown",
   "id": "713ed2d9-66a9-48e8-a86b-353579bae281",
   "metadata": {},
   "source": [
    "## Instantiate Agent"
   ]
  },
  {
   "cell_type": "code",
   "execution_count": 5,
   "id": "9a3a38a9-13c0-4e73-96c8-c5406de8d524",
   "metadata": {},
   "outputs": [],
   "source": [
    "agent = ParallelAgent(world, policy, Q, learning_rate_policy=0.00001, learning_rate_Q=0.00056)"
   ]
  },
  {
   "cell_type": "markdown",
   "id": "9c44e28e-759b-4451-85e8-d00f1facf436",
   "metadata": {},
   "source": [
    "## Train Agent"
   ]
  },
  {
   "cell_type": "code",
   "execution_count": 6,
   "id": "b608859d-fa68-4452-b477-389ae31a89a6",
   "metadata": {},
   "outputs": [],
   "source": [
    "policy.load_weights('./checkpoints/policy.weights.h5')\n",
    "Q.load_weights('./checkpoints/Q.weights.h5')"
   ]
  },
  {
   "cell_type": "code",
   "execution_count": null,
   "id": "6823703f-f737-4488-9bb3-41e994fa6b34",
   "metadata": {
    "scrolled": true
   },
   "outputs": [
    {
     "data": {
      "application/vnd.jupyter.widget-view+json": {
       "model_id": "ad3d216454bc4ff8b30985d36ea380e0",
       "version_major": 2,
       "version_minor": 0
      },
      "text/plain": [
       "Output()"
      ]
     },
     "metadata": {},
     "output_type": "display_data"
    },
    {
     "name": "stdout",
     "output_type": "stream",
     "text": [
      "(<tf.Tensor: shape=(1, 2), dtype=float32, numpy=array([[ 1.6609491, -0.6109071]], dtype=float32)>, <tf.Tensor: shape=(1, 2), dtype=float32, numpy=array([[0.01, 0.01]], dtype=float32)>)\n"
     ]
    },
    {
     "data": {
      "text/html": [
       "<pre style=\"white-space:pre;overflow-x:auto;line-height:normal;font-family:Menlo,'DejaVu Sans Mono',consolas,'Courier New',monospace\">mean: 0.00014254473259426881, r: 0.042763419778280645, md: 300\n",
       "</pre>\n"
      ],
      "text/plain": [
       "mean: 0.00014254473259426881, r: 0.042763419778280645, md: 300\n"
      ]
     },
     "metadata": {},
     "output_type": "display_data"
    },
    {
     "data": {
      "text/html": [
       "<pre style=\"white-space:pre;overflow-x:auto;line-height:normal;font-family:Menlo,'DejaVu Sans Mono',consolas,'Courier New',monospace\">mean: 0.006004003674343952, r: 1.8012011023031858, md: 300\n",
       "</pre>\n"
      ],
      "text/plain": [
       "mean: 0.006004003674343952, r: 1.8012011023031858, md: 300\n"
      ]
     },
     "metadata": {},
     "output_type": "display_data"
    },
    {
     "data": {
      "text/html": [
       "<pre style=\"white-space:pre;overflow-x:auto;line-height:normal;font-family:Menlo,'DejaVu Sans Mono',consolas,'Courier New',monospace\">mean: 0.0014078297755566573, r: 0.42234893266699713, md: 300\n",
       "</pre>\n"
      ],
      "text/plain": [
       "mean: 0.0014078297755566573, r: 0.42234893266699713, md: 300\n"
      ]
     },
     "metadata": {},
     "output_type": "display_data"
    },
    {
     "data": {
      "text/html": [
       "<pre style=\"white-space:pre;overflow-x:auto;line-height:normal;font-family:Menlo,'DejaVu Sans Mono',consolas,'Courier New',monospace\">mean: 0.00013964983407600026, r: 0.04189495022280008, md: 300\n",
       "</pre>\n"
      ],
      "text/plain": [
       "mean: 0.00013964983407600026, r: 0.04189495022280008, md: 300\n"
      ]
     },
     "metadata": {},
     "output_type": "display_data"
    },
    {
     "data": {
      "text/html": [
       "<pre style=\"white-space:pre;overflow-x:auto;line-height:normal;font-family:Menlo,'DejaVu Sans Mono',consolas,'Courier New',monospace\">mean: 0.0011144552022213441, r: 0.33433656066640327, md: 300\n",
       "</pre>\n"
      ],
      "text/plain": [
       "mean: 0.0011144552022213441, r: 0.33433656066640327, md: 300\n"
      ]
     },
     "metadata": {},
     "output_type": "display_data"
    },
    {
     "data": {
      "text/html": [
       "<pre style=\"white-space:pre;overflow-x:auto;line-height:normal;font-family:Menlo,'DejaVu Sans Mono',consolas,'Courier New',monospace\"></pre>\n"
      ],
      "text/plain": []
     },
     "metadata": {},
     "output_type": "display_data"
    },
    {
     "data": {
      "text/html": [
       "<pre style=\"white-space:pre;overflow-x:auto;line-height:normal;font-family:Menlo,'DejaVu Sans Mono',consolas,'Courier New',monospace\">\n",
       "</pre>\n"
      ],
      "text/plain": [
       "\n"
      ]
     },
     "metadata": {},
     "output_type": "display_data"
    },
    {
     "data": {
      "application/vnd.jupyter.widget-view+json": {
       "model_id": "2fce0711975c48e787d3da3e9fb2483f",
       "version_major": 2,
       "version_minor": 0
      },
      "text/plain": [
       "Output()"
      ]
     },
     "metadata": {},
     "output_type": "display_data"
    },
    {
     "name": "stdout",
     "output_type": "stream",
     "text": [
      "epoch 0: Mean Reward = 0.0011144552022213441\n"
     ]
    },
    {
     "data": {
      "text/html": [
       "<pre style=\"white-space:pre;overflow-x:auto;line-height:normal;font-family:Menlo,'DejaVu Sans Mono',consolas,'Courier New',monospace\">mean: 0.00015904429331984053, r: 0.047713287995952154, md: 300\n",
       "</pre>\n"
      ],
      "text/plain": [
       "mean: 0.00015904429331984053, r: 0.047713287995952154, md: 300\n"
      ]
     },
     "metadata": {},
     "output_type": "display_data"
    },
    {
     "data": {
      "text/html": [
       "<pre style=\"white-space:pre;overflow-x:auto;line-height:normal;font-family:Menlo,'DejaVu Sans Mono',consolas,'Courier New',monospace\">mean: 0.0026509287608469, r: 0.79527862825407, md: 300\n",
       "</pre>\n"
      ],
      "text/plain": [
       "mean: 0.0026509287608469, r: 0.79527862825407, md: 300\n"
      ]
     },
     "metadata": {},
     "output_type": "display_data"
    },
    {
     "data": {
      "text/html": [
       "<pre style=\"white-space:pre;overflow-x:auto;line-height:normal;font-family:Menlo,'DejaVu Sans Mono',consolas,'Courier New',monospace\">mean: 0.00025465219486645643, r: 0.07639565845993693, md: 300\n",
       "</pre>\n"
      ],
      "text/plain": [
       "mean: 0.00025465219486645643, r: 0.07639565845993693, md: 300\n"
      ]
     },
     "metadata": {},
     "output_type": "display_data"
    },
    {
     "data": {
      "text/html": [
       "<pre style=\"white-space:pre;overflow-x:auto;line-height:normal;font-family:Menlo,'DejaVu Sans Mono',consolas,'Courier New',monospace\">mean: 0.0038351382944485533, r: 1.1505414883345662, md: 300\n",
       "</pre>\n"
      ],
      "text/plain": [
       "mean: 0.0038351382944485533, r: 1.1505414883345662, md: 300\n"
      ]
     },
     "metadata": {},
     "output_type": "display_data"
    },
    {
     "data": {
      "text/html": [
       "<pre style=\"white-space:pre;overflow-x:auto;line-height:normal;font-family:Menlo,'DejaVu Sans Mono',consolas,'Courier New',monospace\">mean: 0.0004018601537040011, r: 0.12055804611120033, md: 300\n",
       "</pre>\n"
      ],
      "text/plain": [
       "mean: 0.0004018601537040011, r: 0.12055804611120033, md: 300\n"
      ]
     },
     "metadata": {},
     "output_type": "display_data"
    },
    {
     "data": {
      "text/html": [
       "<pre style=\"white-space:pre;overflow-x:auto;line-height:normal;font-family:Menlo,'DejaVu Sans Mono',consolas,'Courier New',monospace\"></pre>\n"
      ],
      "text/plain": []
     },
     "metadata": {},
     "output_type": "display_data"
    },
    {
     "data": {
      "text/html": [
       "<pre style=\"white-space:pre;overflow-x:auto;line-height:normal;font-family:Menlo,'DejaVu Sans Mono',consolas,'Courier New',monospace\">\n",
       "</pre>\n"
      ],
      "text/plain": [
       "\n"
      ]
     },
     "metadata": {},
     "output_type": "display_data"
    },
    {
     "data": {
      "application/vnd.jupyter.widget-view+json": {
       "model_id": "1394cd04c20743069268063bd475d612",
       "version_major": 2,
       "version_minor": 0
      },
      "text/plain": [
       "Output()"
      ]
     },
     "metadata": {},
     "output_type": "display_data"
    },
    {
     "name": "stdout",
     "output_type": "stream",
     "text": [
      "epoch 1: Mean Reward = 0.0004018601537040011\n"
     ]
    },
    {
     "data": {
      "text/html": [
       "<pre style=\"white-space:pre;overflow-x:auto;line-height:normal;font-family:Menlo,'DejaVu Sans Mono',consolas,'Courier New',monospace\">mean: 0.0002682011295143107, r: 0.08046033885429321, md: 300\n",
       "</pre>\n"
      ],
      "text/plain": [
       "mean: 0.0002682011295143107, r: 0.08046033885429321, md: 300\n"
      ]
     },
     "metadata": {},
     "output_type": "display_data"
    },
    {
     "data": {
      "text/html": [
       "<pre style=\"white-space:pre;overflow-x:auto;line-height:normal;font-family:Menlo,'DejaVu Sans Mono',consolas,'Courier New',monospace\">mean: 0.0019445364747689518, r: 0.5833609424306856, md: 300\n",
       "</pre>\n"
      ],
      "text/plain": [
       "mean: 0.0019445364747689518, r: 0.5833609424306856, md: 300\n"
      ]
     },
     "metadata": {},
     "output_type": "display_data"
    },
    {
     "data": {
      "text/html": [
       "<pre style=\"white-space:pre;overflow-x:auto;line-height:normal;font-family:Menlo,'DejaVu Sans Mono',consolas,'Courier New',monospace\">mean: 0.00024024875955519162, r: 0.07207462786655748, md: 300\n",
       "</pre>\n"
      ],
      "text/plain": [
       "mean: 0.00024024875955519162, r: 0.07207462786655748, md: 300\n"
      ]
     },
     "metadata": {},
     "output_type": "display_data"
    },
    {
     "data": {
      "text/html": [
       "<pre style=\"white-space:pre;overflow-x:auto;line-height:normal;font-family:Menlo,'DejaVu Sans Mono',consolas,'Courier New',monospace\">mean: 0.0020503822834978336, r: 0.6151146850493501, md: 300\n",
       "</pre>\n"
      ],
      "text/plain": [
       "mean: 0.0020503822834978336, r: 0.6151146850493501, md: 300\n"
      ]
     },
     "metadata": {},
     "output_type": "display_data"
    },
    {
     "data": {
      "text/html": [
       "<pre style=\"white-space:pre;overflow-x:auto;line-height:normal;font-family:Menlo,'DejaVu Sans Mono',consolas,'Courier New',monospace\">mean: 0.002318058661872676, r: 0.6954175985618027, md: 300\n",
       "</pre>\n"
      ],
      "text/plain": [
       "mean: 0.002318058661872676, r: 0.6954175985618027, md: 300\n"
      ]
     },
     "metadata": {},
     "output_type": "display_data"
    },
    {
     "data": {
      "text/html": [
       "<pre style=\"white-space:pre;overflow-x:auto;line-height:normal;font-family:Menlo,'DejaVu Sans Mono',consolas,'Courier New',monospace\"></pre>\n"
      ],
      "text/plain": []
     },
     "metadata": {},
     "output_type": "display_data"
    },
    {
     "data": {
      "text/html": [
       "<pre style=\"white-space:pre;overflow-x:auto;line-height:normal;font-family:Menlo,'DejaVu Sans Mono',consolas,'Courier New',monospace\">\n",
       "</pre>\n"
      ],
      "text/plain": [
       "\n"
      ]
     },
     "metadata": {},
     "output_type": "display_data"
    },
    {
     "data": {
      "application/vnd.jupyter.widget-view+json": {
       "model_id": "a253e97f5d584cce9cea5cde2b1b6b73",
       "version_major": 2,
       "version_minor": 0
      },
      "text/plain": [
       "Output()"
      ]
     },
     "metadata": {},
     "output_type": "display_data"
    },
    {
     "name": "stdout",
     "output_type": "stream",
     "text": [
      "epoch 2: Mean Reward = 0.002318058661872676\n"
     ]
    },
    {
     "data": {
      "text/html": [
       "<pre style=\"white-space:pre;overflow-x:auto;line-height:normal;font-family:Menlo,'DejaVu Sans Mono',consolas,'Courier New',monospace\">mean: 0.00015262555130526485, r: 0.045787665391579455, md: 300\n",
       "</pre>\n"
      ],
      "text/plain": [
       "mean: 0.00015262555130526485, r: 0.045787665391579455, md: 300\n"
      ]
     },
     "metadata": {},
     "output_type": "display_data"
    },
    {
     "data": {
      "text/html": [
       "<pre style=\"white-space:pre;overflow-x:auto;line-height:normal;font-family:Menlo,'DejaVu Sans Mono',consolas,'Courier New',monospace\">mean: 0.00015217916478614668, r: 0.04565374943584401, md: 300\n",
       "</pre>\n"
      ],
      "text/plain": [
       "mean: 0.00015217916478614668, r: 0.04565374943584401, md: 300\n"
      ]
     },
     "metadata": {},
     "output_type": "display_data"
    },
    {
     "data": {
      "text/html": [
       "<pre style=\"white-space:pre;overflow-x:auto;line-height:normal;font-family:Menlo,'DejaVu Sans Mono',consolas,'Courier New',monospace\">mean: 0.00022342079015042854, r: 0.06702623704512857, md: 300\n",
       "</pre>\n"
      ],
      "text/plain": [
       "mean: 0.00022342079015042854, r: 0.06702623704512857, md: 300\n"
      ]
     },
     "metadata": {},
     "output_type": "display_data"
    },
    {
     "data": {
      "text/html": [
       "<pre style=\"white-space:pre;overflow-x:auto;line-height:normal;font-family:Menlo,'DejaVu Sans Mono',consolas,'Courier New',monospace\">mean: 0.00822123949451306, r: 2.466371848353918, md: 300\n",
       "</pre>\n"
      ],
      "text/plain": [
       "mean: 0.00822123949451306, r: 2.466371848353918, md: 300\n"
      ]
     },
     "metadata": {},
     "output_type": "display_data"
    },
    {
     "data": {
      "text/html": [
       "<pre style=\"white-space:pre;overflow-x:auto;line-height:normal;font-family:Menlo,'DejaVu Sans Mono',consolas,'Courier New',monospace\">mean: 0.0004939402980151933, r: 0.14818208940455796, md: 300\n",
       "</pre>\n"
      ],
      "text/plain": [
       "mean: 0.0004939402980151933, r: 0.14818208940455796, md: 300\n"
      ]
     },
     "metadata": {},
     "output_type": "display_data"
    },
    {
     "data": {
      "text/html": [
       "<pre style=\"white-space:pre;overflow-x:auto;line-height:normal;font-family:Menlo,'DejaVu Sans Mono',consolas,'Courier New',monospace\"></pre>\n"
      ],
      "text/plain": []
     },
     "metadata": {},
     "output_type": "display_data"
    },
    {
     "data": {
      "text/html": [
       "<pre style=\"white-space:pre;overflow-x:auto;line-height:normal;font-family:Menlo,'DejaVu Sans Mono',consolas,'Courier New',monospace\">\n",
       "</pre>\n"
      ],
      "text/plain": [
       "\n"
      ]
     },
     "metadata": {},
     "output_type": "display_data"
    },
    {
     "data": {
      "application/vnd.jupyter.widget-view+json": {
       "model_id": "b690a7812d644f2bb70f92b84ef436d9",
       "version_major": 2,
       "version_minor": 0
      },
      "text/plain": [
       "Output()"
      ]
     },
     "metadata": {},
     "output_type": "display_data"
    },
    {
     "name": "stdout",
     "output_type": "stream",
     "text": [
      "epoch 3: Mean Reward = 0.0004939402980151933\n"
     ]
    },
    {
     "data": {
      "text/html": [
       "<pre style=\"white-space:pre;overflow-x:auto;line-height:normal;font-family:Menlo,'DejaVu Sans Mono',consolas,'Courier New',monospace\">mean: 0.0001441763679303179, r: 0.04325291037909537, md: 300\n",
       "</pre>\n"
      ],
      "text/plain": [
       "mean: 0.0001441763679303179, r: 0.04325291037909537, md: 300\n"
      ]
     },
     "metadata": {},
     "output_type": "display_data"
    },
    {
     "data": {
      "text/html": [
       "<pre style=\"white-space:pre;overflow-x:auto;line-height:normal;font-family:Menlo,'DejaVu Sans Mono',consolas,'Courier New',monospace\">mean: 0.0003738419469215894, r: 0.11215258407647681, md: 300\n",
       "</pre>\n"
      ],
      "text/plain": [
       "mean: 0.0003738419469215894, r: 0.11215258407647681, md: 300\n"
      ]
     },
     "metadata": {},
     "output_type": "display_data"
    },
    {
     "data": {
      "text/html": [
       "<pre style=\"white-space:pre;overflow-x:auto;line-height:normal;font-family:Menlo,'DejaVu Sans Mono',consolas,'Courier New',monospace\">mean: 0.0006575237923584362, r: 0.19725713770753084, md: 300\n",
       "</pre>\n"
      ],
      "text/plain": [
       "mean: 0.0006575237923584362, r: 0.19725713770753084, md: 300\n"
      ]
     },
     "metadata": {},
     "output_type": "display_data"
    },
    {
     "data": {
      "text/html": [
       "<pre style=\"white-space:pre;overflow-x:auto;line-height:normal;font-family:Menlo,'DejaVu Sans Mono',consolas,'Courier New',monospace\">mean: 0.0001385476158749759, r: 0.04156428476249276, md: 300\n",
       "</pre>\n"
      ],
      "text/plain": [
       "mean: 0.0001385476158749759, r: 0.04156428476249276, md: 300\n"
      ]
     },
     "metadata": {},
     "output_type": "display_data"
    },
    {
     "data": {
      "text/html": [
       "<pre style=\"white-space:pre;overflow-x:auto;line-height:normal;font-family:Menlo,'DejaVu Sans Mono',consolas,'Courier New',monospace\">mean: 0.0005460370048455229, r: 0.16381110145365688, md: 300\n",
       "</pre>\n"
      ],
      "text/plain": [
       "mean: 0.0005460370048455229, r: 0.16381110145365688, md: 300\n"
      ]
     },
     "metadata": {},
     "output_type": "display_data"
    },
    {
     "data": {
      "text/html": [
       "<pre style=\"white-space:pre;overflow-x:auto;line-height:normal;font-family:Menlo,'DejaVu Sans Mono',consolas,'Courier New',monospace\"></pre>\n"
      ],
      "text/plain": []
     },
     "metadata": {},
     "output_type": "display_data"
    },
    {
     "data": {
      "text/html": [
       "<pre style=\"white-space:pre;overflow-x:auto;line-height:normal;font-family:Menlo,'DejaVu Sans Mono',consolas,'Courier New',monospace\">\n",
       "</pre>\n"
      ],
      "text/plain": [
       "\n"
      ]
     },
     "metadata": {},
     "output_type": "display_data"
    },
    {
     "data": {
      "application/vnd.jupyter.widget-view+json": {
       "model_id": "bcf115f905034668884d131afbd28214",
       "version_major": 2,
       "version_minor": 0
      },
      "text/plain": [
       "Output()"
      ]
     },
     "metadata": {},
     "output_type": "display_data"
    },
    {
     "name": "stdout",
     "output_type": "stream",
     "text": [
      "epoch 4: Mean Reward = 0.0005460370048455229\n"
     ]
    },
    {
     "data": {
      "text/html": [
       "<pre style=\"white-space:pre;overflow-x:auto;line-height:normal;font-family:Menlo,'DejaVu Sans Mono',consolas,'Courier New',monospace\">mean: 0.00013965102165248826, r: 0.041895306495746486, md: 300\n",
       "</pre>\n"
      ],
      "text/plain": [
       "mean: 0.00013965102165248826, r: 0.041895306495746486, md: 300\n"
      ]
     },
     "metadata": {},
     "output_type": "display_data"
    },
    {
     "data": {
      "text/html": [
       "<pre style=\"white-space:pre;overflow-x:auto;line-height:normal;font-family:Menlo,'DejaVu Sans Mono',consolas,'Courier New',monospace\">mean: 0.0007671524943976822, r: 0.23014574831930468, md: 300\n",
       "</pre>\n"
      ],
      "text/plain": [
       "mean: 0.0007671524943976822, r: 0.23014574831930468, md: 300\n"
      ]
     },
     "metadata": {},
     "output_type": "display_data"
    },
    {
     "data": {
      "text/html": [
       "<pre style=\"white-space:pre;overflow-x:auto;line-height:normal;font-family:Menlo,'DejaVu Sans Mono',consolas,'Courier New',monospace\">mean: 0.00259512068004917, r: 0.778536204014751, md: 300\n",
       "</pre>\n"
      ],
      "text/plain": [
       "mean: 0.00259512068004917, r: 0.778536204014751, md: 300\n"
      ]
     },
     "metadata": {},
     "output_type": "display_data"
    },
    {
     "data": {
      "text/html": [
       "<pre style=\"white-space:pre;overflow-x:auto;line-height:normal;font-family:Menlo,'DejaVu Sans Mono',consolas,'Courier New',monospace\">mean: 0.00024015556749517955, r: 0.07204667024855385, md: 300\n",
       "</pre>\n"
      ],
      "text/plain": [
       "mean: 0.00024015556749517955, r: 0.07204667024855385, md: 300\n"
      ]
     },
     "metadata": {},
     "output_type": "display_data"
    },
    {
     "data": {
      "text/html": [
       "<pre style=\"white-space:pre;overflow-x:auto;line-height:normal;font-family:Menlo,'DejaVu Sans Mono',consolas,'Courier New',monospace\">mean: 0.0001933205564154689, r: 0.05799616692464067, md: 300\n",
       "</pre>\n"
      ],
      "text/plain": [
       "mean: 0.0001933205564154689, r: 0.05799616692464067, md: 300\n"
      ]
     },
     "metadata": {},
     "output_type": "display_data"
    },
    {
     "data": {
      "text/html": [
       "<pre style=\"white-space:pre;overflow-x:auto;line-height:normal;font-family:Menlo,'DejaVu Sans Mono',consolas,'Courier New',monospace\"></pre>\n"
      ],
      "text/plain": []
     },
     "metadata": {},
     "output_type": "display_data"
    },
    {
     "data": {
      "text/html": [
       "<pre style=\"white-space:pre;overflow-x:auto;line-height:normal;font-family:Menlo,'DejaVu Sans Mono',consolas,'Courier New',monospace\">\n",
       "</pre>\n"
      ],
      "text/plain": [
       "\n"
      ]
     },
     "metadata": {},
     "output_type": "display_data"
    },
    {
     "data": {
      "application/vnd.jupyter.widget-view+json": {
       "model_id": "4cf0c5a618ed4672a2bcd82f3c29e621",
       "version_major": 2,
       "version_minor": 0
      },
      "text/plain": [
       "Output()"
      ]
     },
     "metadata": {},
     "output_type": "display_data"
    },
    {
     "name": "stdout",
     "output_type": "stream",
     "text": [
      "epoch 5: Mean Reward = 0.0001933205564154689\n"
     ]
    },
    {
     "data": {
      "text/html": [
       "<pre style=\"white-space:pre;overflow-x:auto;line-height:normal;font-family:Menlo,'DejaVu Sans Mono',consolas,'Courier New',monospace\">mean: 0.003644750796024259, r: 1.0934252388072778, md: 300\n",
       "</pre>\n"
      ],
      "text/plain": [
       "mean: 0.003644750796024259, r: 1.0934252388072778, md: 300\n"
      ]
     },
     "metadata": {},
     "output_type": "display_data"
    },
    {
     "data": {
      "text/html": [
       "<pre style=\"white-space:pre;overflow-x:auto;line-height:normal;font-family:Menlo,'DejaVu Sans Mono',consolas,'Courier New',monospace\">mean: 0.0004288656233607919, r: 0.12865968700823757, md: 300\n",
       "</pre>\n"
      ],
      "text/plain": [
       "mean: 0.0004288656233607919, r: 0.12865968700823757, md: 300\n"
      ]
     },
     "metadata": {},
     "output_type": "display_data"
    },
    {
     "data": {
      "text/html": [
       "<pre style=\"white-space:pre;overflow-x:auto;line-height:normal;font-family:Menlo,'DejaVu Sans Mono',consolas,'Courier New',monospace\">mean: 0.0012458417074786856, r: 0.3737525122436057, md: 300\n",
       "</pre>\n"
      ],
      "text/plain": [
       "mean: 0.0012458417074786856, r: 0.3737525122436057, md: 300\n"
      ]
     },
     "metadata": {},
     "output_type": "display_data"
    },
    {
     "data": {
      "text/html": [
       "<pre style=\"white-space:pre;overflow-x:auto;line-height:normal;font-family:Menlo,'DejaVu Sans Mono',consolas,'Courier New',monospace\">mean: 0.00014989162032706178, r: 0.044967486098118535, md: 300\n",
       "</pre>\n"
      ],
      "text/plain": [
       "mean: 0.00014989162032706178, r: 0.044967486098118535, md: 300\n"
      ]
     },
     "metadata": {},
     "output_type": "display_data"
    },
    {
     "data": {
      "text/html": [
       "<pre style=\"white-space:pre;overflow-x:auto;line-height:normal;font-family:Menlo,'DejaVu Sans Mono',consolas,'Courier New',monospace\">mean: 0.00014909616326115458, r: 0.04472884897834638, md: 300\n",
       "</pre>\n"
      ],
      "text/plain": [
       "mean: 0.00014909616326115458, r: 0.04472884897834638, md: 300\n"
      ]
     },
     "metadata": {},
     "output_type": "display_data"
    },
    {
     "data": {
      "text/html": [
       "<pre style=\"white-space:pre;overflow-x:auto;line-height:normal;font-family:Menlo,'DejaVu Sans Mono',consolas,'Courier New',monospace\"></pre>\n"
      ],
      "text/plain": []
     },
     "metadata": {},
     "output_type": "display_data"
    },
    {
     "data": {
      "text/html": [
       "<pre style=\"white-space:pre;overflow-x:auto;line-height:normal;font-family:Menlo,'DejaVu Sans Mono',consolas,'Courier New',monospace\">\n",
       "</pre>\n"
      ],
      "text/plain": [
       "\n"
      ]
     },
     "metadata": {},
     "output_type": "display_data"
    },
    {
     "data": {
      "application/vnd.jupyter.widget-view+json": {
       "model_id": "c03001a5b2804940ab3db56dece2e620",
       "version_major": 2,
       "version_minor": 0
      },
      "text/plain": [
       "Output()"
      ]
     },
     "metadata": {},
     "output_type": "display_data"
    },
    {
     "name": "stdout",
     "output_type": "stream",
     "text": [
      "epoch 6: Mean Reward = 0.00014909616326115458\n"
     ]
    },
    {
     "data": {
      "text/html": [
       "<pre style=\"white-space:pre;overflow-x:auto;line-height:normal;font-family:Menlo,'DejaVu Sans Mono',consolas,'Courier New',monospace\">mean: 0.00022977244465459808, r: 0.06893173339637942, md: 300\n",
       "</pre>\n"
      ],
      "text/plain": [
       "mean: 0.00022977244465459808, r: 0.06893173339637942, md: 300\n"
      ]
     },
     "metadata": {},
     "output_type": "display_data"
    },
    {
     "data": {
      "text/html": [
       "<pre style=\"white-space:pre;overflow-x:auto;line-height:normal;font-family:Menlo,'DejaVu Sans Mono',consolas,'Courier New',monospace\">mean: 0.0002920809578402965, r: 0.08762428735208896, md: 300\n",
       "</pre>\n"
      ],
      "text/plain": [
       "mean: 0.0002920809578402965, r: 0.08762428735208896, md: 300\n"
      ]
     },
     "metadata": {},
     "output_type": "display_data"
    },
    {
     "data": {
      "text/html": [
       "<pre style=\"white-space:pre;overflow-x:auto;line-height:normal;font-family:Menlo,'DejaVu Sans Mono',consolas,'Courier New',monospace\">mean: 0.002094839283404743, r: 0.6284517850214228, md: 300\n",
       "</pre>\n"
      ],
      "text/plain": [
       "mean: 0.002094839283404743, r: 0.6284517850214228, md: 300\n"
      ]
     },
     "metadata": {},
     "output_type": "display_data"
    },
    {
     "data": {
      "text/html": [
       "<pre style=\"white-space:pre;overflow-x:auto;line-height:normal;font-family:Menlo,'DejaVu Sans Mono',consolas,'Courier New',monospace\">mean: 0.0003264547668855735, r: 0.09793643006567204, md: 300\n",
       "</pre>\n"
      ],
      "text/plain": [
       "mean: 0.0003264547668855735, r: 0.09793643006567204, md: 300\n"
      ]
     },
     "metadata": {},
     "output_type": "display_data"
    },
    {
     "data": {
      "text/html": [
       "<pre style=\"white-space:pre;overflow-x:auto;line-height:normal;font-family:Menlo,'DejaVu Sans Mono',consolas,'Courier New',monospace\">mean: 0.0005122492243877097, r: 0.1536747673163129, md: 300\n",
       "</pre>\n"
      ],
      "text/plain": [
       "mean: 0.0005122492243877097, r: 0.1536747673163129, md: 300\n"
      ]
     },
     "metadata": {},
     "output_type": "display_data"
    },
    {
     "data": {
      "text/html": [
       "<pre style=\"white-space:pre;overflow-x:auto;line-height:normal;font-family:Menlo,'DejaVu Sans Mono',consolas,'Courier New',monospace\"></pre>\n"
      ],
      "text/plain": []
     },
     "metadata": {},
     "output_type": "display_data"
    },
    {
     "data": {
      "text/html": [
       "<pre style=\"white-space:pre;overflow-x:auto;line-height:normal;font-family:Menlo,'DejaVu Sans Mono',consolas,'Courier New',monospace\">\n",
       "</pre>\n"
      ],
      "text/plain": [
       "\n"
      ]
     },
     "metadata": {},
     "output_type": "display_data"
    },
    {
     "data": {
      "application/vnd.jupyter.widget-view+json": {
       "model_id": "a8bc9e778bb34d5cbd7226cb4ef92844",
       "version_major": 2,
       "version_minor": 0
      },
      "text/plain": [
       "Output()"
      ]
     },
     "metadata": {},
     "output_type": "display_data"
    },
    {
     "name": "stdout",
     "output_type": "stream",
     "text": [
      "epoch 7: Mean Reward = 0.0005122492243877097\n"
     ]
    },
    {
     "data": {
      "text/html": [
       "<pre style=\"white-space:pre;overflow-x:auto;line-height:normal;font-family:Menlo,'DejaVu Sans Mono',consolas,'Courier New',monospace\">mean: 0.00041382396405792915, r: 0.12414718921737875, md: 300\n",
       "</pre>\n"
      ],
      "text/plain": [
       "mean: 0.00041382396405792915, r: 0.12414718921737875, md: 300\n"
      ]
     },
     "metadata": {},
     "output_type": "display_data"
    },
    {
     "data": {
      "text/html": [
       "<pre style=\"white-space:pre;overflow-x:auto;line-height:normal;font-family:Menlo,'DejaVu Sans Mono',consolas,'Courier New',monospace\">mean: 0.0006230048682998603, r: 0.1869014604899581, md: 300\n",
       "</pre>\n"
      ],
      "text/plain": [
       "mean: 0.0006230048682998603, r: 0.1869014604899581, md: 300\n"
      ]
     },
     "metadata": {},
     "output_type": "display_data"
    },
    {
     "data": {
      "text/html": [
       "<pre style=\"white-space:pre;overflow-x:auto;line-height:normal;font-family:Menlo,'DejaVu Sans Mono',consolas,'Courier New',monospace\">mean: 0.0006736387114602809, r: 0.20209161343808432, md: 300\n",
       "</pre>\n"
      ],
      "text/plain": [
       "mean: 0.0006736387114602809, r: 0.20209161343808432, md: 300\n"
      ]
     },
     "metadata": {},
     "output_type": "display_data"
    },
    {
     "data": {
      "text/html": [
       "<pre style=\"white-space:pre;overflow-x:auto;line-height:normal;font-family:Menlo,'DejaVu Sans Mono',consolas,'Courier New',monospace\">mean: 0.0007126376747032107, r: 0.21379130241096322, md: 300\n",
       "</pre>\n"
      ],
      "text/plain": [
       "mean: 0.0007126376747032107, r: 0.21379130241096322, md: 300\n"
      ]
     },
     "metadata": {},
     "output_type": "display_data"
    },
    {
     "data": {
      "text/html": [
       "<pre style=\"white-space:pre;overflow-x:auto;line-height:normal;font-family:Menlo,'DejaVu Sans Mono',consolas,'Courier New',monospace\">mean: 0.00016549200661707271, r: 0.04964760198512182, md: 300\n",
       "</pre>\n"
      ],
      "text/plain": [
       "mean: 0.00016549200661707271, r: 0.04964760198512182, md: 300\n"
      ]
     },
     "metadata": {},
     "output_type": "display_data"
    },
    {
     "data": {
      "text/html": [
       "<pre style=\"white-space:pre;overflow-x:auto;line-height:normal;font-family:Menlo,'DejaVu Sans Mono',consolas,'Courier New',monospace\"></pre>\n"
      ],
      "text/plain": []
     },
     "metadata": {},
     "output_type": "display_data"
    },
    {
     "data": {
      "text/html": [
       "<pre style=\"white-space:pre;overflow-x:auto;line-height:normal;font-family:Menlo,'DejaVu Sans Mono',consolas,'Courier New',monospace\">\n",
       "</pre>\n"
      ],
      "text/plain": [
       "\n"
      ]
     },
     "metadata": {},
     "output_type": "display_data"
    },
    {
     "data": {
      "application/vnd.jupyter.widget-view+json": {
       "model_id": "9abfa456ba6845ee837ac6edae40af7b",
       "version_major": 2,
       "version_minor": 0
      },
      "text/plain": [
       "Output()"
      ]
     },
     "metadata": {},
     "output_type": "display_data"
    },
    {
     "name": "stdout",
     "output_type": "stream",
     "text": [
      "epoch 8: Mean Reward = 0.00016549200661707271\n"
     ]
    },
    {
     "data": {
      "text/html": [
       "<pre style=\"white-space:pre;overflow-x:auto;line-height:normal;font-family:Menlo,'DejaVu Sans Mono',consolas,'Courier New',monospace\">mean: 0.00013480504208556604, r: 0.040441512625669813, md: 300\n",
       "</pre>\n"
      ],
      "text/plain": [
       "mean: 0.00013480504208556604, r: 0.040441512625669813, md: 300\n"
      ]
     },
     "metadata": {},
     "output_type": "display_data"
    },
    {
     "data": {
      "text/html": [
       "<pre style=\"white-space:pre;overflow-x:auto;line-height:normal;font-family:Menlo,'DejaVu Sans Mono',consolas,'Courier New',monospace\">mean: 0.00015631445146012857, r: 0.04689433543803857, md: 300\n",
       "</pre>\n"
      ],
      "text/plain": [
       "mean: 0.00015631445146012857, r: 0.04689433543803857, md: 300\n"
      ]
     },
     "metadata": {},
     "output_type": "display_data"
    },
    {
     "data": {
      "text/html": [
       "<pre style=\"white-space:pre;overflow-x:auto;line-height:normal;font-family:Menlo,'DejaVu Sans Mono',consolas,'Courier New',monospace\">mean: 0.00014287402109287162, r: 0.042862206327861474, md: 300\n",
       "</pre>\n"
      ],
      "text/plain": [
       "mean: 0.00014287402109287162, r: 0.042862206327861474, md: 300\n"
      ]
     },
     "metadata": {},
     "output_type": "display_data"
    },
    {
     "data": {
      "text/html": [
       "<pre style=\"white-space:pre;overflow-x:auto;line-height:normal;font-family:Menlo,'DejaVu Sans Mono',consolas,'Courier New',monospace\">mean: 0.0012587208357497655, r: 0.3776162507249296, md: 300\n",
       "</pre>\n"
      ],
      "text/plain": [
       "mean: 0.0012587208357497655, r: 0.3776162507249296, md: 300\n"
      ]
     },
     "metadata": {},
     "output_type": "display_data"
    },
    {
     "data": {
      "text/html": [
       "<pre style=\"white-space:pre;overflow-x:auto;line-height:normal;font-family:Menlo,'DejaVu Sans Mono',consolas,'Courier New',monospace\">mean: 0.0004397604895474565, r: 0.13192814686423696, md: 300\n",
       "</pre>\n"
      ],
      "text/plain": [
       "mean: 0.0004397604895474565, r: 0.13192814686423696, md: 300\n"
      ]
     },
     "metadata": {},
     "output_type": "display_data"
    },
    {
     "data": {
      "text/html": [
       "<pre style=\"white-space:pre;overflow-x:auto;line-height:normal;font-family:Menlo,'DejaVu Sans Mono',consolas,'Courier New',monospace\"></pre>\n"
      ],
      "text/plain": []
     },
     "metadata": {},
     "output_type": "display_data"
    },
    {
     "data": {
      "text/html": [
       "<pre style=\"white-space:pre;overflow-x:auto;line-height:normal;font-family:Menlo,'DejaVu Sans Mono',consolas,'Courier New',monospace\">\n",
       "</pre>\n"
      ],
      "text/plain": [
       "\n"
      ]
     },
     "metadata": {},
     "output_type": "display_data"
    },
    {
     "data": {
      "application/vnd.jupyter.widget-view+json": {
       "model_id": "d715e29dba884fc8bea3233e1675c253",
       "version_major": 2,
       "version_minor": 0
      },
      "text/plain": [
       "Output()"
      ]
     },
     "metadata": {},
     "output_type": "display_data"
    },
    {
     "name": "stdout",
     "output_type": "stream",
     "text": [
      "epoch 9: Mean Reward = 0.0004397604895474565\n"
     ]
    },
    {
     "data": {
      "text/html": [
       "<pre style=\"white-space:pre;overflow-x:auto;line-height:normal;font-family:Menlo,'DejaVu Sans Mono',consolas,'Courier New',monospace\">mean: 0.00020136971958841995, r: 0.060410915876525986, md: 300\n",
       "</pre>\n"
      ],
      "text/plain": [
       "mean: 0.00020136971958841995, r: 0.060410915876525986, md: 300\n"
      ]
     },
     "metadata": {},
     "output_type": "display_data"
    },
    {
     "data": {
      "text/html": [
       "<pre style=\"white-space:pre;overflow-x:auto;line-height:normal;font-family:Menlo,'DejaVu Sans Mono',consolas,'Courier New',monospace\">mean: 0.0003346097860781674, r: 0.10038293582345023, md: 300\n",
       "</pre>\n"
      ],
      "text/plain": [
       "mean: 0.0003346097860781674, r: 0.10038293582345023, md: 300\n"
      ]
     },
     "metadata": {},
     "output_type": "display_data"
    },
    {
     "data": {
      "text/html": [
       "<pre style=\"white-space:pre;overflow-x:auto;line-height:normal;font-family:Menlo,'DejaVu Sans Mono',consolas,'Courier New',monospace\">mean: 0.00038936949159990833, r: 0.11681084747997252, md: 300\n",
       "</pre>\n"
      ],
      "text/plain": [
       "mean: 0.00038936949159990833, r: 0.11681084747997252, md: 300\n"
      ]
     },
     "metadata": {},
     "output_type": "display_data"
    },
    {
     "data": {
      "text/html": [
       "<pre style=\"white-space:pre;overflow-x:auto;line-height:normal;font-family:Menlo,'DejaVu Sans Mono',consolas,'Courier New',monospace\">mean: 0.00028258208515080435, r: 0.08477462554524132, md: 300\n",
       "</pre>\n"
      ],
      "text/plain": [
       "mean: 0.00028258208515080435, r: 0.08477462554524132, md: 300\n"
      ]
     },
     "metadata": {},
     "output_type": "display_data"
    },
    {
     "data": {
      "text/html": [
       "<pre style=\"white-space:pre;overflow-x:auto;line-height:normal;font-family:Menlo,'DejaVu Sans Mono',consolas,'Courier New',monospace\">mean: 0.00016415304973364968, r: 0.049245914920094905, md: 300\n",
       "</pre>\n"
      ],
      "text/plain": [
       "mean: 0.00016415304973364968, r: 0.049245914920094905, md: 300\n"
      ]
     },
     "metadata": {},
     "output_type": "display_data"
    },
    {
     "data": {
      "text/html": [
       "<pre style=\"white-space:pre;overflow-x:auto;line-height:normal;font-family:Menlo,'DejaVu Sans Mono',consolas,'Courier New',monospace\"></pre>\n"
      ],
      "text/plain": []
     },
     "metadata": {},
     "output_type": "display_data"
    },
    {
     "data": {
      "text/html": [
       "<pre style=\"white-space:pre;overflow-x:auto;line-height:normal;font-family:Menlo,'DejaVu Sans Mono',consolas,'Courier New',monospace\">\n",
       "</pre>\n"
      ],
      "text/plain": [
       "\n"
      ]
     },
     "metadata": {},
     "output_type": "display_data"
    },
    {
     "data": {
      "application/vnd.jupyter.widget-view+json": {
       "model_id": "afcbf0bd692b40a4a28813c8eaea9699",
       "version_major": 2,
       "version_minor": 0
      },
      "text/plain": [
       "Output()"
      ]
     },
     "metadata": {},
     "output_type": "display_data"
    },
    {
     "name": "stdout",
     "output_type": "stream",
     "text": [
      "epoch 10: Mean Reward = 0.00016415304973364968\n"
     ]
    },
    {
     "data": {
      "text/html": [
       "<pre style=\"white-space:pre;overflow-x:auto;line-height:normal;font-family:Menlo,'DejaVu Sans Mono',consolas,'Courier New',monospace\">mean: 0.0001638823318393429, r: 0.04916469955180287, md: 300\n",
       "</pre>\n"
      ],
      "text/plain": [
       "mean: 0.0001638823318393429, r: 0.04916469955180287, md: 300\n"
      ]
     },
     "metadata": {},
     "output_type": "display_data"
    },
    {
     "data": {
      "text/html": [
       "<pre style=\"white-space:pre;overflow-x:auto;line-height:normal;font-family:Menlo,'DejaVu Sans Mono',consolas,'Courier New',monospace\">mean: 0.00016854075121380395, r: 0.05056222536414119, md: 300\n",
       "</pre>\n"
      ],
      "text/plain": [
       "mean: 0.00016854075121380395, r: 0.05056222536414119, md: 300\n"
      ]
     },
     "metadata": {},
     "output_type": "display_data"
    },
    {
     "data": {
      "text/html": [
       "<pre style=\"white-space:pre;overflow-x:auto;line-height:normal;font-family:Menlo,'DejaVu Sans Mono',consolas,'Courier New',monospace\">mean: 0.001158452791773527, r: 0.34753583753205813, md: 300\n",
       "</pre>\n"
      ],
      "text/plain": [
       "mean: 0.001158452791773527, r: 0.34753583753205813, md: 300\n"
      ]
     },
     "metadata": {},
     "output_type": "display_data"
    },
    {
     "data": {
      "text/html": [
       "<pre style=\"white-space:pre;overflow-x:auto;line-height:normal;font-family:Menlo,'DejaVu Sans Mono',consolas,'Courier New',monospace\">mean: 0.00024725924790857865, r: 0.07417777437257361, md: 300\n",
       "</pre>\n"
      ],
      "text/plain": [
       "mean: 0.00024725924790857865, r: 0.07417777437257361, md: 300\n"
      ]
     },
     "metadata": {},
     "output_type": "display_data"
    },
    {
     "data": {
      "text/html": [
       "<pre style=\"white-space:pre;overflow-x:auto;line-height:normal;font-family:Menlo,'DejaVu Sans Mono',consolas,'Courier New',monospace\">mean: 0.012213882328643861, r: 3.664164698593158, md: 300\n",
       "</pre>\n"
      ],
      "text/plain": [
       "mean: 0.012213882328643861, r: 3.664164698593158, md: 300\n"
      ]
     },
     "metadata": {},
     "output_type": "display_data"
    },
    {
     "data": {
      "text/html": [
       "<pre style=\"white-space:pre;overflow-x:auto;line-height:normal;font-family:Menlo,'DejaVu Sans Mono',consolas,'Courier New',monospace\"></pre>\n"
      ],
      "text/plain": []
     },
     "metadata": {},
     "output_type": "display_data"
    },
    {
     "data": {
      "text/html": [
       "<pre style=\"white-space:pre;overflow-x:auto;line-height:normal;font-family:Menlo,'DejaVu Sans Mono',consolas,'Courier New',monospace\">\n",
       "</pre>\n"
      ],
      "text/plain": [
       "\n"
      ]
     },
     "metadata": {},
     "output_type": "display_data"
    },
    {
     "data": {
      "application/vnd.jupyter.widget-view+json": {
       "model_id": "249b7da4ecd445ebb27504f7376b4856",
       "version_major": 2,
       "version_minor": 0
      },
      "text/plain": [
       "Output()"
      ]
     },
     "metadata": {},
     "output_type": "display_data"
    },
    {
     "name": "stdout",
     "output_type": "stream",
     "text": [
      "epoch 11: Mean Reward = 0.012213882328643861\n"
     ]
    },
    {
     "data": {
      "text/html": [
       "<pre style=\"white-space:pre;overflow-x:auto;line-height:normal;font-family:Menlo,'DejaVu Sans Mono',consolas,'Courier New',monospace\">mean: 0.0004805429340778819, r: 0.14416288022336457, md: 300\n",
       "</pre>\n"
      ],
      "text/plain": [
       "mean: 0.0004805429340778819, r: 0.14416288022336457, md: 300\n"
      ]
     },
     "metadata": {},
     "output_type": "display_data"
    },
    {
     "data": {
      "text/html": [
       "<pre style=\"white-space:pre;overflow-x:auto;line-height:normal;font-family:Menlo,'DejaVu Sans Mono',consolas,'Courier New',monospace\">mean: 0.00016401993147400226, r: 0.049205979442200676, md: 300\n",
       "</pre>\n"
      ],
      "text/plain": [
       "mean: 0.00016401993147400226, r: 0.049205979442200676, md: 300\n"
      ]
     },
     "metadata": {},
     "output_type": "display_data"
    },
    {
     "data": {
      "text/html": [
       "<pre style=\"white-space:pre;overflow-x:auto;line-height:normal;font-family:Menlo,'DejaVu Sans Mono',consolas,'Courier New',monospace\">mean: 0.00014423459290144002, r: 0.043270377870432, md: 300\n",
       "</pre>\n"
      ],
      "text/plain": [
       "mean: 0.00014423459290144002, r: 0.043270377870432, md: 300\n"
      ]
     },
     "metadata": {},
     "output_type": "display_data"
    },
    {
     "data": {
      "text/html": [
       "<pre style=\"white-space:pre;overflow-x:auto;line-height:normal;font-family:Menlo,'DejaVu Sans Mono',consolas,'Courier New',monospace\">mean: 0.00015571571580631224, r: 0.046714714741893676, md: 300\n",
       "</pre>\n"
      ],
      "text/plain": [
       "mean: 0.00015571571580631224, r: 0.046714714741893676, md: 300\n"
      ]
     },
     "metadata": {},
     "output_type": "display_data"
    },
    {
     "data": {
      "text/html": [
       "<pre style=\"white-space:pre;overflow-x:auto;line-height:normal;font-family:Menlo,'DejaVu Sans Mono',consolas,'Courier New',monospace\">mean: 0.0002267242029293181, r: 0.06801726087879544, md: 300\n",
       "</pre>\n"
      ],
      "text/plain": [
       "mean: 0.0002267242029293181, r: 0.06801726087879544, md: 300\n"
      ]
     },
     "metadata": {},
     "output_type": "display_data"
    },
    {
     "data": {
      "text/html": [
       "<pre style=\"white-space:pre;overflow-x:auto;line-height:normal;font-family:Menlo,'DejaVu Sans Mono',consolas,'Courier New',monospace\"></pre>\n"
      ],
      "text/plain": []
     },
     "metadata": {},
     "output_type": "display_data"
    },
    {
     "data": {
      "text/html": [
       "<pre style=\"white-space:pre;overflow-x:auto;line-height:normal;font-family:Menlo,'DejaVu Sans Mono',consolas,'Courier New',monospace\">\n",
       "</pre>\n"
      ],
      "text/plain": [
       "\n"
      ]
     },
     "metadata": {},
     "output_type": "display_data"
    },
    {
     "data": {
      "application/vnd.jupyter.widget-view+json": {
       "model_id": "93b6fc39e2d64692bfdf76f6faea8741",
       "version_major": 2,
       "version_minor": 0
      },
      "text/plain": [
       "Output()"
      ]
     },
     "metadata": {},
     "output_type": "display_data"
    },
    {
     "name": "stdout",
     "output_type": "stream",
     "text": [
      "epoch 12: Mean Reward = 0.0002267242029293181\n"
     ]
    },
    {
     "data": {
      "text/html": [
       "<pre style=\"white-space:pre;overflow-x:auto;line-height:normal;font-family:Menlo,'DejaVu Sans Mono',consolas,'Courier New',monospace\">mean: 0.0001453679539674152, r: 0.04361038619022456, md: 300\n",
       "</pre>\n"
      ],
      "text/plain": [
       "mean: 0.0001453679539674152, r: 0.04361038619022456, md: 300\n"
      ]
     },
     "metadata": {},
     "output_type": "display_data"
    },
    {
     "data": {
      "text/html": [
       "<pre style=\"white-space:pre;overflow-x:auto;line-height:normal;font-family:Menlo,'DejaVu Sans Mono',consolas,'Courier New',monospace\">mean: 0.0005129878671153134, r: 0.15389636013459398, md: 300\n",
       "</pre>\n"
      ],
      "text/plain": [
       "mean: 0.0005129878671153134, r: 0.15389636013459398, md: 300\n"
      ]
     },
     "metadata": {},
     "output_type": "display_data"
    },
    {
     "data": {
      "text/html": [
       "<pre style=\"white-space:pre;overflow-x:auto;line-height:normal;font-family:Menlo,'DejaVu Sans Mono',consolas,'Courier New',monospace\">mean: 0.00017290747429932565, r: 0.051872242289797685, md: 300\n",
       "</pre>\n"
      ],
      "text/plain": [
       "mean: 0.00017290747429932565, r: 0.051872242289797685, md: 300\n"
      ]
     },
     "metadata": {},
     "output_type": "display_data"
    },
    {
     "data": {
      "text/html": [
       "<pre style=\"white-space:pre;overflow-x:auto;line-height:normal;font-family:Menlo,'DejaVu Sans Mono',consolas,'Courier New',monospace\">mean: 0.0013676613993067886, r: 0.4102984197920366, md: 300\n",
       "</pre>\n"
      ],
      "text/plain": [
       "mean: 0.0013676613993067886, r: 0.4102984197920366, md: 300\n"
      ]
     },
     "metadata": {},
     "output_type": "display_data"
    },
    {
     "data": {
      "text/html": [
       "<pre style=\"white-space:pre;overflow-x:auto;line-height:normal;font-family:Menlo,'DejaVu Sans Mono',consolas,'Courier New',monospace\">mean: 0.00017382692932503148, r: 0.05214807879750945, md: 300\n",
       "</pre>\n"
      ],
      "text/plain": [
       "mean: 0.00017382692932503148, r: 0.05214807879750945, md: 300\n"
      ]
     },
     "metadata": {},
     "output_type": "display_data"
    },
    {
     "data": {
      "text/html": [
       "<pre style=\"white-space:pre;overflow-x:auto;line-height:normal;font-family:Menlo,'DejaVu Sans Mono',consolas,'Courier New',monospace\"></pre>\n"
      ],
      "text/plain": []
     },
     "metadata": {},
     "output_type": "display_data"
    },
    {
     "data": {
      "text/html": [
       "<pre style=\"white-space:pre;overflow-x:auto;line-height:normal;font-family:Menlo,'DejaVu Sans Mono',consolas,'Courier New',monospace\">\n",
       "</pre>\n"
      ],
      "text/plain": [
       "\n"
      ]
     },
     "metadata": {},
     "output_type": "display_data"
    },
    {
     "data": {
      "application/vnd.jupyter.widget-view+json": {
       "model_id": "0202f9e6b2964e3d88b93c48deddab1f",
       "version_major": 2,
       "version_minor": 0
      },
      "text/plain": [
       "Output()"
      ]
     },
     "metadata": {},
     "output_type": "display_data"
    },
    {
     "name": "stdout",
     "output_type": "stream",
     "text": [
      "epoch 13: Mean Reward = 0.00017382692932503148\n"
     ]
    },
    {
     "data": {
      "text/html": [
       "<pre style=\"white-space:pre;overflow-x:auto;line-height:normal;font-family:Menlo,'DejaVu Sans Mono',consolas,'Courier New',monospace\">mean: 0.004994149529308615, r: 1.4982448587925843, md: 300\n",
       "</pre>\n"
      ],
      "text/plain": [
       "mean: 0.004994149529308615, r: 1.4982448587925843, md: 300\n"
      ]
     },
     "metadata": {},
     "output_type": "display_data"
    },
    {
     "data": {
      "text/html": [
       "<pre style=\"white-space:pre;overflow-x:auto;line-height:normal;font-family:Menlo,'DejaVu Sans Mono',consolas,'Courier New',monospace\">mean: 0.00019605009812162646, r: 0.05881502943648795, md: 300\n",
       "</pre>\n"
      ],
      "text/plain": [
       "mean: 0.00019605009812162646, r: 0.05881502943648795, md: 300\n"
      ]
     },
     "metadata": {},
     "output_type": "display_data"
    },
    {
     "data": {
      "text/html": [
       "<pre style=\"white-space:pre;overflow-x:auto;line-height:normal;font-family:Menlo,'DejaVu Sans Mono',consolas,'Courier New',monospace\">mean: 0.00015119399354740558, r: 0.04535819806422167, md: 300\n",
       "</pre>\n"
      ],
      "text/plain": [
       "mean: 0.00015119399354740558, r: 0.04535819806422167, md: 300\n"
      ]
     },
     "metadata": {},
     "output_type": "display_data"
    },
    {
     "data": {
      "text/html": [
       "<pre style=\"white-space:pre;overflow-x:auto;line-height:normal;font-family:Menlo,'DejaVu Sans Mono',consolas,'Courier New',monospace\">mean: 0.0003004906411319407, r: 0.09014719233958221, md: 300\n",
       "</pre>\n"
      ],
      "text/plain": [
       "mean: 0.0003004906411319407, r: 0.09014719233958221, md: 300\n"
      ]
     },
     "metadata": {},
     "output_type": "display_data"
    },
    {
     "data": {
      "text/html": [
       "<pre style=\"white-space:pre;overflow-x:auto;line-height:normal;font-family:Menlo,'DejaVu Sans Mono',consolas,'Courier New',monospace\">mean: 0.0014605647518941864, r: 0.4381694255682559, md: 300\n",
       "</pre>\n"
      ],
      "text/plain": [
       "mean: 0.0014605647518941864, r: 0.4381694255682559, md: 300\n"
      ]
     },
     "metadata": {},
     "output_type": "display_data"
    },
    {
     "data": {
      "text/html": [
       "<pre style=\"white-space:pre;overflow-x:auto;line-height:normal;font-family:Menlo,'DejaVu Sans Mono',consolas,'Courier New',monospace\"></pre>\n"
      ],
      "text/plain": []
     },
     "metadata": {},
     "output_type": "display_data"
    },
    {
     "data": {
      "text/html": [
       "<pre style=\"white-space:pre;overflow-x:auto;line-height:normal;font-family:Menlo,'DejaVu Sans Mono',consolas,'Courier New',monospace\">\n",
       "</pre>\n"
      ],
      "text/plain": [
       "\n"
      ]
     },
     "metadata": {},
     "output_type": "display_data"
    },
    {
     "data": {
      "application/vnd.jupyter.widget-view+json": {
       "model_id": "04fc67bdc5e54f05a3e9be5c07da1278",
       "version_major": 2,
       "version_minor": 0
      },
      "text/plain": [
       "Output()"
      ]
     },
     "metadata": {},
     "output_type": "display_data"
    },
    {
     "name": "stdout",
     "output_type": "stream",
     "text": [
      "epoch 14: Mean Reward = 0.0014605647518941864\n"
     ]
    },
    {
     "data": {
      "text/html": [
       "<pre style=\"white-space:pre;overflow-x:auto;line-height:normal;font-family:Menlo,'DejaVu Sans Mono',consolas,'Courier New',monospace\">mean: 0.000823082919366655, r: 0.2469248758099965, md: 300\n",
       "</pre>\n"
      ],
      "text/plain": [
       "mean: 0.000823082919366655, r: 0.2469248758099965, md: 300\n"
      ]
     },
     "metadata": {},
     "output_type": "display_data"
    },
    {
     "data": {
      "text/html": [
       "<pre style=\"white-space:pre;overflow-x:auto;line-height:normal;font-family:Menlo,'DejaVu Sans Mono',consolas,'Courier New',monospace\">mean: 0.00021945658061057747, r: 0.06583697418317325, md: 300\n",
       "</pre>\n"
      ],
      "text/plain": [
       "mean: 0.00021945658061057747, r: 0.06583697418317325, md: 300\n"
      ]
     },
     "metadata": {},
     "output_type": "display_data"
    },
    {
     "data": {
      "text/html": [
       "<pre style=\"white-space:pre;overflow-x:auto;line-height:normal;font-family:Menlo,'DejaVu Sans Mono',consolas,'Courier New',monospace\">mean: 0.00040636545652764447, r: 0.12190963695829334, md: 300\n",
       "</pre>\n"
      ],
      "text/plain": [
       "mean: 0.00040636545652764447, r: 0.12190963695829334, md: 300\n"
      ]
     },
     "metadata": {},
     "output_type": "display_data"
    },
    {
     "data": {
      "text/html": [
       "<pre style=\"white-space:pre;overflow-x:auto;line-height:normal;font-family:Menlo,'DejaVu Sans Mono',consolas,'Courier New',monospace\">mean: 0.00014270501035243004, r: 0.04281150310572902, md: 300\n",
       "</pre>\n"
      ],
      "text/plain": [
       "mean: 0.00014270501035243004, r: 0.04281150310572902, md: 300\n"
      ]
     },
     "metadata": {},
     "output_type": "display_data"
    },
    {
     "data": {
      "text/html": [
       "<pre style=\"white-space:pre;overflow-x:auto;line-height:normal;font-family:Menlo,'DejaVu Sans Mono',consolas,'Courier New',monospace\">mean: 0.01542167920366226, r: 4.626503761098679, md: 300\n",
       "</pre>\n"
      ],
      "text/plain": [
       "mean: 0.01542167920366226, r: 4.626503761098679, md: 300\n"
      ]
     },
     "metadata": {},
     "output_type": "display_data"
    },
    {
     "data": {
      "text/html": [
       "<pre style=\"white-space:pre;overflow-x:auto;line-height:normal;font-family:Menlo,'DejaVu Sans Mono',consolas,'Courier New',monospace\"></pre>\n"
      ],
      "text/plain": []
     },
     "metadata": {},
     "output_type": "display_data"
    },
    {
     "data": {
      "text/html": [
       "<pre style=\"white-space:pre;overflow-x:auto;line-height:normal;font-family:Menlo,'DejaVu Sans Mono',consolas,'Courier New',monospace\">\n",
       "</pre>\n"
      ],
      "text/plain": [
       "\n"
      ]
     },
     "metadata": {},
     "output_type": "display_data"
    },
    {
     "data": {
      "application/vnd.jupyter.widget-view+json": {
       "model_id": "14106454b3344f1cbbdae86718ae5878",
       "version_major": 2,
       "version_minor": 0
      },
      "text/plain": [
       "Output()"
      ]
     },
     "metadata": {},
     "output_type": "display_data"
    },
    {
     "name": "stdout",
     "output_type": "stream",
     "text": [
      "epoch 15: Mean Reward = 0.01542167920366226\n"
     ]
    },
    {
     "data": {
      "text/html": [
       "<pre style=\"white-space:pre;overflow-x:auto;line-height:normal;font-family:Menlo,'DejaVu Sans Mono',consolas,'Courier New',monospace\">mean: 0.00014791693154173735, r: 0.044375079462521214, md: 300\n",
       "</pre>\n"
      ],
      "text/plain": [
       "mean: 0.00014791693154173735, r: 0.044375079462521214, md: 300\n"
      ]
     },
     "metadata": {},
     "output_type": "display_data"
    },
    {
     "data": {
      "text/html": [
       "<pre style=\"white-space:pre;overflow-x:auto;line-height:normal;font-family:Menlo,'DejaVu Sans Mono',consolas,'Courier New',monospace\">mean: 0.0002192803226340825, r: 0.06578409679022473, md: 300\n",
       "</pre>\n"
      ],
      "text/plain": [
       "mean: 0.0002192803226340825, r: 0.06578409679022473, md: 300\n"
      ]
     },
     "metadata": {},
     "output_type": "display_data"
    },
    {
     "data": {
      "text/html": [
       "<pre style=\"white-space:pre;overflow-x:auto;line-height:normal;font-family:Menlo,'DejaVu Sans Mono',consolas,'Courier New',monospace\">mean: 0.0012360166912401237, r: 0.37080500737203714, md: 300\n",
       "</pre>\n"
      ],
      "text/plain": [
       "mean: 0.0012360166912401237, r: 0.37080500737203714, md: 300\n"
      ]
     },
     "metadata": {},
     "output_type": "display_data"
    },
    {
     "data": {
      "text/html": [
       "<pre style=\"white-space:pre;overflow-x:auto;line-height:normal;font-family:Menlo,'DejaVu Sans Mono',consolas,'Courier New',monospace\">mean: 0.0001528189350467624, r: 0.04584568051402872, md: 300\n",
       "</pre>\n"
      ],
      "text/plain": [
       "mean: 0.0001528189350467624, r: 0.04584568051402872, md: 300\n"
      ]
     },
     "metadata": {},
     "output_type": "display_data"
    },
    {
     "data": {
      "text/html": [
       "<pre style=\"white-space:pre;overflow-x:auto;line-height:normal;font-family:Menlo,'DejaVu Sans Mono',consolas,'Courier New',monospace\">mean: 0.000404498396710215, r: 0.12134951901306451, md: 300\n",
       "</pre>\n"
      ],
      "text/plain": [
       "mean: 0.000404498396710215, r: 0.12134951901306451, md: 300\n"
      ]
     },
     "metadata": {},
     "output_type": "display_data"
    },
    {
     "data": {
      "text/html": [
       "<pre style=\"white-space:pre;overflow-x:auto;line-height:normal;font-family:Menlo,'DejaVu Sans Mono',consolas,'Courier New',monospace\"></pre>\n"
      ],
      "text/plain": []
     },
     "metadata": {},
     "output_type": "display_data"
    },
    {
     "data": {
      "text/html": [
       "<pre style=\"white-space:pre;overflow-x:auto;line-height:normal;font-family:Menlo,'DejaVu Sans Mono',consolas,'Courier New',monospace\">\n",
       "</pre>\n"
      ],
      "text/plain": [
       "\n"
      ]
     },
     "metadata": {},
     "output_type": "display_data"
    },
    {
     "data": {
      "application/vnd.jupyter.widget-view+json": {
       "model_id": "bd644403b57e41699994c2e9025220cc",
       "version_major": 2,
       "version_minor": 0
      },
      "text/plain": [
       "Output()"
      ]
     },
     "metadata": {},
     "output_type": "display_data"
    },
    {
     "name": "stdout",
     "output_type": "stream",
     "text": [
      "epoch 16: Mean Reward = 0.000404498396710215\n"
     ]
    },
    {
     "data": {
      "text/html": [
       "<pre style=\"white-space:pre;overflow-x:auto;line-height:normal;font-family:Menlo,'DejaVu Sans Mono',consolas,'Courier New',monospace\">mean: 0.00303783353591817, r: 0.911350060775451, md: 300\n",
       "</pre>\n"
      ],
      "text/plain": [
       "mean: 0.00303783353591817, r: 0.911350060775451, md: 300\n"
      ]
     },
     "metadata": {},
     "output_type": "display_data"
    },
    {
     "data": {
      "text/html": [
       "<pre style=\"white-space:pre;overflow-x:auto;line-height:normal;font-family:Menlo,'DejaVu Sans Mono',consolas,'Courier New',monospace\">mean: 0.0002203756045822492, r: 0.06611268137467477, md: 300\n",
       "</pre>\n"
      ],
      "text/plain": [
       "mean: 0.0002203756045822492, r: 0.06611268137467477, md: 300\n"
      ]
     },
     "metadata": {},
     "output_type": "display_data"
    },
    {
     "data": {
      "text/html": [
       "<pre style=\"white-space:pre;overflow-x:auto;line-height:normal;font-family:Menlo,'DejaVu Sans Mono',consolas,'Courier New',monospace\">mean: 0.00022939055376933616, r: 0.06881716613080086, md: 300\n",
       "</pre>\n"
      ],
      "text/plain": [
       "mean: 0.00022939055376933616, r: 0.06881716613080086, md: 300\n"
      ]
     },
     "metadata": {},
     "output_type": "display_data"
    },
    {
     "data": {
      "text/html": [
       "<pre style=\"white-space:pre;overflow-x:auto;line-height:normal;font-family:Menlo,'DejaVu Sans Mono',consolas,'Courier New',monospace\">mean: 0.0015037727231753102, r: 0.4511318169525931, md: 300\n",
       "</pre>\n"
      ],
      "text/plain": [
       "mean: 0.0015037727231753102, r: 0.4511318169525931, md: 300\n"
      ]
     },
     "metadata": {},
     "output_type": "display_data"
    },
    {
     "data": {
      "text/html": [
       "<pre style=\"white-space:pre;overflow-x:auto;line-height:normal;font-family:Menlo,'DejaVu Sans Mono',consolas,'Courier New',monospace\">mean: 0.00015803852686185882, r: 0.047411558058557644, md: 300\n",
       "</pre>\n"
      ],
      "text/plain": [
       "mean: 0.00015803852686185882, r: 0.047411558058557644, md: 300\n"
      ]
     },
     "metadata": {},
     "output_type": "display_data"
    },
    {
     "data": {
      "text/html": [
       "<pre style=\"white-space:pre;overflow-x:auto;line-height:normal;font-family:Menlo,'DejaVu Sans Mono',consolas,'Courier New',monospace\"></pre>\n"
      ],
      "text/plain": []
     },
     "metadata": {},
     "output_type": "display_data"
    },
    {
     "data": {
      "text/html": [
       "<pre style=\"white-space:pre;overflow-x:auto;line-height:normal;font-family:Menlo,'DejaVu Sans Mono',consolas,'Courier New',monospace\">\n",
       "</pre>\n"
      ],
      "text/plain": [
       "\n"
      ]
     },
     "metadata": {},
     "output_type": "display_data"
    },
    {
     "data": {
      "application/vnd.jupyter.widget-view+json": {
       "model_id": "ba4ea2810c1e4a32a98d2df62f714d8a",
       "version_major": 2,
       "version_minor": 0
      },
      "text/plain": [
       "Output()"
      ]
     },
     "metadata": {},
     "output_type": "display_data"
    },
    {
     "name": "stdout",
     "output_type": "stream",
     "text": [
      "epoch 17: Mean Reward = 0.00015803852686185882\n"
     ]
    },
    {
     "data": {
      "text/html": [
       "<pre style=\"white-space:pre;overflow-x:auto;line-height:normal;font-family:Menlo,'DejaVu Sans Mono',consolas,'Courier New',monospace\">mean: 0.0006299984239776923, r: 0.18899952719330765, md: 300\n",
       "</pre>\n"
      ],
      "text/plain": [
       "mean: 0.0006299984239776923, r: 0.18899952719330765, md: 300\n"
      ]
     },
     "metadata": {},
     "output_type": "display_data"
    },
    {
     "data": {
      "text/html": [
       "<pre style=\"white-space:pre;overflow-x:auto;line-height:normal;font-family:Menlo,'DejaVu Sans Mono',consolas,'Courier New',monospace\">mean: 0.0055073911208075275, r: 1.6522173362422583, md: 300\n",
       "</pre>\n"
      ],
      "text/plain": [
       "mean: 0.0055073911208075275, r: 1.6522173362422583, md: 300\n"
      ]
     },
     "metadata": {},
     "output_type": "display_data"
    },
    {
     "data": {
      "text/html": [
       "<pre style=\"white-space:pre;overflow-x:auto;line-height:normal;font-family:Menlo,'DejaVu Sans Mono',consolas,'Courier New',monospace\">mean: 0.001440467993062263, r: 0.43214039791867886, md: 300\n",
       "</pre>\n"
      ],
      "text/plain": [
       "mean: 0.001440467993062263, r: 0.43214039791867886, md: 300\n"
      ]
     },
     "metadata": {},
     "output_type": "display_data"
    },
    {
     "data": {
      "text/html": [
       "<pre style=\"white-space:pre;overflow-x:auto;line-height:normal;font-family:Menlo,'DejaVu Sans Mono',consolas,'Courier New',monospace\">mean: 0.00033635284563342255, r: 0.10090585369002678, md: 300\n",
       "</pre>\n"
      ],
      "text/plain": [
       "mean: 0.00033635284563342255, r: 0.10090585369002678, md: 300\n"
      ]
     },
     "metadata": {},
     "output_type": "display_data"
    },
    {
     "data": {
      "text/html": [
       "<pre style=\"white-space:pre;overflow-x:auto;line-height:normal;font-family:Menlo,'DejaVu Sans Mono',consolas,'Courier New',monospace\">mean: 0.0004822588906294383, r: 0.1446776671888315, md: 300\n",
       "</pre>\n"
      ],
      "text/plain": [
       "mean: 0.0004822588906294383, r: 0.1446776671888315, md: 300\n"
      ]
     },
     "metadata": {},
     "output_type": "display_data"
    },
    {
     "data": {
      "text/html": [
       "<pre style=\"white-space:pre;overflow-x:auto;line-height:normal;font-family:Menlo,'DejaVu Sans Mono',consolas,'Courier New',monospace\"></pre>\n"
      ],
      "text/plain": []
     },
     "metadata": {},
     "output_type": "display_data"
    },
    {
     "data": {
      "text/html": [
       "<pre style=\"white-space:pre;overflow-x:auto;line-height:normal;font-family:Menlo,'DejaVu Sans Mono',consolas,'Courier New',monospace\">\n",
       "</pre>\n"
      ],
      "text/plain": [
       "\n"
      ]
     },
     "metadata": {},
     "output_type": "display_data"
    },
    {
     "data": {
      "application/vnd.jupyter.widget-view+json": {
       "model_id": "1965e0f32626452e819c2c73e78d3290",
       "version_major": 2,
       "version_minor": 0
      },
      "text/plain": [
       "Output()"
      ]
     },
     "metadata": {},
     "output_type": "display_data"
    },
    {
     "name": "stdout",
     "output_type": "stream",
     "text": [
      "epoch 18: Mean Reward = 0.0004822588906294383\n"
     ]
    },
    {
     "data": {
      "text/html": [
       "<pre style=\"white-space:pre;overflow-x:auto;line-height:normal;font-family:Menlo,'DejaVu Sans Mono',consolas,'Courier New',monospace\">mean: 0.00013877588683280383, r: 0.041632766049841154, md: 300\n",
       "</pre>\n"
      ],
      "text/plain": [
       "mean: 0.00013877588683280383, r: 0.041632766049841154, md: 300\n"
      ]
     },
     "metadata": {},
     "output_type": "display_data"
    },
    {
     "data": {
      "text/html": [
       "<pre style=\"white-space:pre;overflow-x:auto;line-height:normal;font-family:Menlo,'DejaVu Sans Mono',consolas,'Courier New',monospace\">mean: 0.0027283760991887486, r: 0.8185128297566244, md: 300\n",
       "</pre>\n"
      ],
      "text/plain": [
       "mean: 0.0027283760991887486, r: 0.8185128297566244, md: 300\n"
      ]
     },
     "metadata": {},
     "output_type": "display_data"
    },
    {
     "data": {
      "text/html": [
       "<pre style=\"white-space:pre;overflow-x:auto;line-height:normal;font-family:Menlo,'DejaVu Sans Mono',consolas,'Courier New',monospace\">mean: 0.0013111799323355946, r: 0.3933539797006784, md: 300\n",
       "</pre>\n"
      ],
      "text/plain": [
       "mean: 0.0013111799323355946, r: 0.3933539797006784, md: 300\n"
      ]
     },
     "metadata": {},
     "output_type": "display_data"
    },
    {
     "data": {
      "text/html": [
       "<pre style=\"white-space:pre;overflow-x:auto;line-height:normal;font-family:Menlo,'DejaVu Sans Mono',consolas,'Courier New',monospace\">mean: 0.0025331602508186462, r: 0.7599480752455938, md: 300\n",
       "</pre>\n"
      ],
      "text/plain": [
       "mean: 0.0025331602508186462, r: 0.7599480752455938, md: 300\n"
      ]
     },
     "metadata": {},
     "output_type": "display_data"
    },
    {
     "data": {
      "text/html": [
       "<pre style=\"white-space:pre;overflow-x:auto;line-height:normal;font-family:Menlo,'DejaVu Sans Mono',consolas,'Courier New',monospace\">mean: 0.0001855040805860687, r: 0.05565122417582062, md: 300\n",
       "</pre>\n"
      ],
      "text/plain": [
       "mean: 0.0001855040805860687, r: 0.05565122417582062, md: 300\n"
      ]
     },
     "metadata": {},
     "output_type": "display_data"
    },
    {
     "data": {
      "text/html": [
       "<pre style=\"white-space:pre;overflow-x:auto;line-height:normal;font-family:Menlo,'DejaVu Sans Mono',consolas,'Courier New',monospace\"></pre>\n"
      ],
      "text/plain": []
     },
     "metadata": {},
     "output_type": "display_data"
    },
    {
     "data": {
      "text/html": [
       "<pre style=\"white-space:pre;overflow-x:auto;line-height:normal;font-family:Menlo,'DejaVu Sans Mono',consolas,'Courier New',monospace\">\n",
       "</pre>\n"
      ],
      "text/plain": [
       "\n"
      ]
     },
     "metadata": {},
     "output_type": "display_data"
    },
    {
     "data": {
      "application/vnd.jupyter.widget-view+json": {
       "model_id": "d1b123e725ec45e69d87b413a4707560",
       "version_major": 2,
       "version_minor": 0
      },
      "text/plain": [
       "Output()"
      ]
     },
     "metadata": {},
     "output_type": "display_data"
    },
    {
     "name": "stdout",
     "output_type": "stream",
     "text": [
      "epoch 19: Mean Reward = 0.0001855040805860687\n"
     ]
    },
    {
     "data": {
      "text/html": [
       "<pre style=\"white-space:pre;overflow-x:auto;line-height:normal;font-family:Menlo,'DejaVu Sans Mono',consolas,'Courier New',monospace\">mean: 0.00020635439920586182, r: 0.061906319761758546, md: 300\n",
       "</pre>\n"
      ],
      "text/plain": [
       "mean: 0.00020635439920586182, r: 0.061906319761758546, md: 300\n"
      ]
     },
     "metadata": {},
     "output_type": "display_data"
    },
    {
     "data": {
      "text/html": [
       "<pre style=\"white-space:pre;overflow-x:auto;line-height:normal;font-family:Menlo,'DejaVu Sans Mono',consolas,'Courier New',monospace\">mean: 0.0006343142244822375, r: 0.19029426734467125, md: 300\n",
       "</pre>\n"
      ],
      "text/plain": [
       "mean: 0.0006343142244822375, r: 0.19029426734467125, md: 300\n"
      ]
     },
     "metadata": {},
     "output_type": "display_data"
    },
    {
     "data": {
      "text/html": [
       "<pre style=\"white-space:pre;overflow-x:auto;line-height:normal;font-family:Menlo,'DejaVu Sans Mono',consolas,'Courier New',monospace\">mean: 0.0017760830777007646, r: 0.5328249233102293, md: 300\n",
       "</pre>\n"
      ],
      "text/plain": [
       "mean: 0.0017760830777007646, r: 0.5328249233102293, md: 300\n"
      ]
     },
     "metadata": {},
     "output_type": "display_data"
    },
    {
     "data": {
      "text/html": [
       "<pre style=\"white-space:pre;overflow-x:auto;line-height:normal;font-family:Menlo,'DejaVu Sans Mono',consolas,'Courier New',monospace\">mean: 0.00014220157424639306, r: 0.04266047227391792, md: 300\n",
       "</pre>\n"
      ],
      "text/plain": [
       "mean: 0.00014220157424639306, r: 0.04266047227391792, md: 300\n"
      ]
     },
     "metadata": {},
     "output_type": "display_data"
    },
    {
     "data": {
      "text/html": [
       "<pre style=\"white-space:pre;overflow-x:auto;line-height:normal;font-family:Menlo,'DejaVu Sans Mono',consolas,'Courier New',monospace\">mean: 0.00017032513130360713, r: 0.051097539391082136, md: 300\n",
       "</pre>\n"
      ],
      "text/plain": [
       "mean: 0.00017032513130360713, r: 0.051097539391082136, md: 300\n"
      ]
     },
     "metadata": {},
     "output_type": "display_data"
    },
    {
     "data": {
      "text/html": [
       "<pre style=\"white-space:pre;overflow-x:auto;line-height:normal;font-family:Menlo,'DejaVu Sans Mono',consolas,'Courier New',monospace\"></pre>\n"
      ],
      "text/plain": []
     },
     "metadata": {},
     "output_type": "display_data"
    },
    {
     "data": {
      "text/html": [
       "<pre style=\"white-space:pre;overflow-x:auto;line-height:normal;font-family:Menlo,'DejaVu Sans Mono',consolas,'Courier New',monospace\">\n",
       "</pre>\n"
      ],
      "text/plain": [
       "\n"
      ]
     },
     "metadata": {},
     "output_type": "display_data"
    },
    {
     "data": {
      "application/vnd.jupyter.widget-view+json": {
       "model_id": "939f9ba3c0494f199c2831c39263a5d5",
       "version_major": 2,
       "version_minor": 0
      },
      "text/plain": [
       "Output()"
      ]
     },
     "metadata": {},
     "output_type": "display_data"
    },
    {
     "name": "stdout",
     "output_type": "stream",
     "text": [
      "epoch 20: Mean Reward = 0.00017032513130360713\n"
     ]
    },
    {
     "data": {
      "text/html": [
       "<pre style=\"white-space:pre;overflow-x:auto;line-height:normal;font-family:Menlo,'DejaVu Sans Mono',consolas,'Courier New',monospace\">mean: 0.0006652216778684161, r: 0.19956650336052487, md: 300\n",
       "</pre>\n"
      ],
      "text/plain": [
       "mean: 0.0006652216778684161, r: 0.19956650336052487, md: 300\n"
      ]
     },
     "metadata": {},
     "output_type": "display_data"
    },
    {
     "data": {
      "text/html": [
       "<pre style=\"white-space:pre;overflow-x:auto;line-height:normal;font-family:Menlo,'DejaVu Sans Mono',consolas,'Courier New',monospace\">mean: 0.0036920558288058504, r: 1.107616748641755, md: 300\n",
       "</pre>\n"
      ],
      "text/plain": [
       "mean: 0.0036920558288058504, r: 1.107616748641755, md: 300\n"
      ]
     },
     "metadata": {},
     "output_type": "display_data"
    },
    {
     "data": {
      "text/html": [
       "<pre style=\"white-space:pre;overflow-x:auto;line-height:normal;font-family:Menlo,'DejaVu Sans Mono',consolas,'Courier New',monospace\">mean: 0.001547972272020302, r: 0.46439168160609057, md: 300\n",
       "</pre>\n"
      ],
      "text/plain": [
       "mean: 0.001547972272020302, r: 0.46439168160609057, md: 300\n"
      ]
     },
     "metadata": {},
     "output_type": "display_data"
    },
    {
     "data": {
      "text/html": [
       "<pre style=\"white-space:pre;overflow-x:auto;line-height:normal;font-family:Menlo,'DejaVu Sans Mono',consolas,'Courier New',monospace\">mean: 0.0008168149344186598, r: 0.24504448032559795, md: 300\n",
       "</pre>\n"
      ],
      "text/plain": [
       "mean: 0.0008168149344186598, r: 0.24504448032559795, md: 300\n"
      ]
     },
     "metadata": {},
     "output_type": "display_data"
    },
    {
     "data": {
      "text/html": [
       "<pre style=\"white-space:pre;overflow-x:auto;line-height:normal;font-family:Menlo,'DejaVu Sans Mono',consolas,'Courier New',monospace\">mean: 0.004064281052282268, r: 1.2192843156846807, md: 300\n",
       "</pre>\n"
      ],
      "text/plain": [
       "mean: 0.004064281052282268, r: 1.2192843156846807, md: 300\n"
      ]
     },
     "metadata": {},
     "output_type": "display_data"
    },
    {
     "data": {
      "text/html": [
       "<pre style=\"white-space:pre;overflow-x:auto;line-height:normal;font-family:Menlo,'DejaVu Sans Mono',consolas,'Courier New',monospace\"></pre>\n"
      ],
      "text/plain": []
     },
     "metadata": {},
     "output_type": "display_data"
    },
    {
     "data": {
      "text/html": [
       "<pre style=\"white-space:pre;overflow-x:auto;line-height:normal;font-family:Menlo,'DejaVu Sans Mono',consolas,'Courier New',monospace\">\n",
       "</pre>\n"
      ],
      "text/plain": [
       "\n"
      ]
     },
     "metadata": {},
     "output_type": "display_data"
    },
    {
     "data": {
      "application/vnd.jupyter.widget-view+json": {
       "model_id": "5a9bb14f9956456eb904136bcc15cc1c",
       "version_major": 2,
       "version_minor": 0
      },
      "text/plain": [
       "Output()"
      ]
     },
     "metadata": {},
     "output_type": "display_data"
    },
    {
     "name": "stdout",
     "output_type": "stream",
     "text": [
      "epoch 21: Mean Reward = 0.004064281052282268\n"
     ]
    },
    {
     "data": {
      "text/html": [
       "<pre style=\"white-space:pre;overflow-x:auto;line-height:normal;font-family:Menlo,'DejaVu Sans Mono',consolas,'Courier New',monospace\">mean: 0.005113184881317437, r: 1.533955464395231, md: 300\n",
       "</pre>\n"
      ],
      "text/plain": [
       "mean: 0.005113184881317437, r: 1.533955464395231, md: 300\n"
      ]
     },
     "metadata": {},
     "output_type": "display_data"
    },
    {
     "data": {
      "text/html": [
       "<pre style=\"white-space:pre;overflow-x:auto;line-height:normal;font-family:Menlo,'DejaVu Sans Mono',consolas,'Courier New',monospace\">mean: 0.00015900144308765037, r: 0.047700432926295104, md: 300\n",
       "</pre>\n"
      ],
      "text/plain": [
       "mean: 0.00015900144308765037, r: 0.047700432926295104, md: 300\n"
      ]
     },
     "metadata": {},
     "output_type": "display_data"
    },
    {
     "data": {
      "text/html": [
       "<pre style=\"white-space:pre;overflow-x:auto;line-height:normal;font-family:Menlo,'DejaVu Sans Mono',consolas,'Courier New',monospace\">mean: 0.0004932636730057119, r: 0.14797910190171357, md: 300\n",
       "</pre>\n"
      ],
      "text/plain": [
       "mean: 0.0004932636730057119, r: 0.14797910190171357, md: 300\n"
      ]
     },
     "metadata": {},
     "output_type": "display_data"
    },
    {
     "data": {
      "text/html": [
       "<pre style=\"white-space:pre;overflow-x:auto;line-height:normal;font-family:Menlo,'DejaVu Sans Mono',consolas,'Courier New',monospace\">mean: 0.00018628367920111327, r: 0.05588510376033398, md: 300\n",
       "</pre>\n"
      ],
      "text/plain": [
       "mean: 0.00018628367920111327, r: 0.05588510376033398, md: 300\n"
      ]
     },
     "metadata": {},
     "output_type": "display_data"
    },
    {
     "data": {
      "text/html": [
       "<pre style=\"white-space:pre;overflow-x:auto;line-height:normal;font-family:Menlo,'DejaVu Sans Mono',consolas,'Courier New',monospace\">mean: 0.0002540271766003742, r: 0.07620815298011226, md: 300\n",
       "</pre>\n"
      ],
      "text/plain": [
       "mean: 0.0002540271766003742, r: 0.07620815298011226, md: 300\n"
      ]
     },
     "metadata": {},
     "output_type": "display_data"
    },
    {
     "data": {
      "text/html": [
       "<pre style=\"white-space:pre;overflow-x:auto;line-height:normal;font-family:Menlo,'DejaVu Sans Mono',consolas,'Courier New',monospace\"></pre>\n"
      ],
      "text/plain": []
     },
     "metadata": {},
     "output_type": "display_data"
    },
    {
     "data": {
      "text/html": [
       "<pre style=\"white-space:pre;overflow-x:auto;line-height:normal;font-family:Menlo,'DejaVu Sans Mono',consolas,'Courier New',monospace\">\n",
       "</pre>\n"
      ],
      "text/plain": [
       "\n"
      ]
     },
     "metadata": {},
     "output_type": "display_data"
    },
    {
     "data": {
      "application/vnd.jupyter.widget-view+json": {
       "model_id": "b488616e09904c07b7b0c3222362c08e",
       "version_major": 2,
       "version_minor": 0
      },
      "text/plain": [
       "Output()"
      ]
     },
     "metadata": {},
     "output_type": "display_data"
    },
    {
     "name": "stdout",
     "output_type": "stream",
     "text": [
      "epoch 22: Mean Reward = 0.0002540271766003742\n"
     ]
    },
    {
     "data": {
      "text/html": [
       "<pre style=\"white-space:pre;overflow-x:auto;line-height:normal;font-family:Menlo,'DejaVu Sans Mono',consolas,'Courier New',monospace\">mean: 0.0003597847964278392, r: 0.10793543892835175, md: 300\n",
       "</pre>\n"
      ],
      "text/plain": [
       "mean: 0.0003597847964278392, r: 0.10793543892835175, md: 300\n"
      ]
     },
     "metadata": {},
     "output_type": "display_data"
    },
    {
     "data": {
      "text/html": [
       "<pre style=\"white-space:pre;overflow-x:auto;line-height:normal;font-family:Menlo,'DejaVu Sans Mono',consolas,'Courier New',monospace\">mean: 0.0030861284520673567, r: 0.9258385356202069, md: 300\n",
       "</pre>\n"
      ],
      "text/plain": [
       "mean: 0.0030861284520673567, r: 0.9258385356202069, md: 300\n"
      ]
     },
     "metadata": {},
     "output_type": "display_data"
    },
    {
     "data": {
      "text/html": [
       "<pre style=\"white-space:pre;overflow-x:auto;line-height:normal;font-family:Menlo,'DejaVu Sans Mono',consolas,'Courier New',monospace\">mean: 0.0001347611313763163, r: 0.040428339412894886, md: 300\n",
       "</pre>\n"
      ],
      "text/plain": [
       "mean: 0.0001347611313763163, r: 0.040428339412894886, md: 300\n"
      ]
     },
     "metadata": {},
     "output_type": "display_data"
    },
    {
     "data": {
      "text/html": [
       "<pre style=\"white-space:pre;overflow-x:auto;line-height:normal;font-family:Menlo,'DejaVu Sans Mono',consolas,'Courier New',monospace\">mean: 0.0028536075473442083, r: 0.8560822642032626, md: 300\n",
       "</pre>\n"
      ],
      "text/plain": [
       "mean: 0.0028536075473442083, r: 0.8560822642032626, md: 300\n"
      ]
     },
     "metadata": {},
     "output_type": "display_data"
    },
    {
     "data": {
      "text/html": [
       "<pre style=\"white-space:pre;overflow-x:auto;line-height:normal;font-family:Menlo,'DejaVu Sans Mono',consolas,'Courier New',monospace\">mean: 0.0010206720997776183, r: 0.3062016299332854, md: 300\n",
       "</pre>\n"
      ],
      "text/plain": [
       "mean: 0.0010206720997776183, r: 0.3062016299332854, md: 300\n"
      ]
     },
     "metadata": {},
     "output_type": "display_data"
    },
    {
     "data": {
      "text/html": [
       "<pre style=\"white-space:pre;overflow-x:auto;line-height:normal;font-family:Menlo,'DejaVu Sans Mono',consolas,'Courier New',monospace\"></pre>\n"
      ],
      "text/plain": []
     },
     "metadata": {},
     "output_type": "display_data"
    },
    {
     "data": {
      "text/html": [
       "<pre style=\"white-space:pre;overflow-x:auto;line-height:normal;font-family:Menlo,'DejaVu Sans Mono',consolas,'Courier New',monospace\">\n",
       "</pre>\n"
      ],
      "text/plain": [
       "\n"
      ]
     },
     "metadata": {},
     "output_type": "display_data"
    },
    {
     "data": {
      "application/vnd.jupyter.widget-view+json": {
       "model_id": "2e72b70072d140b5b67cb64ab84fdfb1",
       "version_major": 2,
       "version_minor": 0
      },
      "text/plain": [
       "Output()"
      ]
     },
     "metadata": {},
     "output_type": "display_data"
    },
    {
     "name": "stdout",
     "output_type": "stream",
     "text": [
      "epoch 23: Mean Reward = 0.0010206720997776183\n"
     ]
    },
    {
     "data": {
      "text/html": [
       "<pre style=\"white-space:pre;overflow-x:auto;line-height:normal;font-family:Menlo,'DejaVu Sans Mono',consolas,'Courier New',monospace\">mean: 0.00019612619595226583, r: 0.05883785878567975, md: 300\n",
       "</pre>\n"
      ],
      "text/plain": [
       "mean: 0.00019612619595226583, r: 0.05883785878567975, md: 300\n"
      ]
     },
     "metadata": {},
     "output_type": "display_data"
    },
    {
     "data": {
      "text/html": [
       "<pre style=\"white-space:pre;overflow-x:auto;line-height:normal;font-family:Menlo,'DejaVu Sans Mono',consolas,'Courier New',monospace\">mean: 0.00029721874336357103, r: 0.08916562300907131, md: 300\n",
       "</pre>\n"
      ],
      "text/plain": [
       "mean: 0.00029721874336357103, r: 0.08916562300907131, md: 300\n"
      ]
     },
     "metadata": {},
     "output_type": "display_data"
    },
    {
     "data": {
      "text/html": [
       "<pre style=\"white-space:pre;overflow-x:auto;line-height:normal;font-family:Menlo,'DejaVu Sans Mono',consolas,'Courier New',monospace\">mean: 0.00014665570875848749, r: 0.043996712627546244, md: 300\n",
       "</pre>\n"
      ],
      "text/plain": [
       "mean: 0.00014665570875848749, r: 0.043996712627546244, md: 300\n"
      ]
     },
     "metadata": {},
     "output_type": "display_data"
    },
    {
     "data": {
      "text/html": [
       "<pre style=\"white-space:pre;overflow-x:auto;line-height:normal;font-family:Menlo,'DejaVu Sans Mono',consolas,'Courier New',monospace\">mean: 0.00026854684356208535, r: 0.0805640530686256, md: 300\n",
       "</pre>\n"
      ],
      "text/plain": [
       "mean: 0.00026854684356208535, r: 0.0805640530686256, md: 300\n"
      ]
     },
     "metadata": {},
     "output_type": "display_data"
    },
    {
     "data": {
      "text/html": [
       "<pre style=\"white-space:pre;overflow-x:auto;line-height:normal;font-family:Menlo,'DejaVu Sans Mono',consolas,'Courier New',monospace\">mean: 0.0001529391039640306, r: 0.045881731189209185, md: 300\n",
       "</pre>\n"
      ],
      "text/plain": [
       "mean: 0.0001529391039640306, r: 0.045881731189209185, md: 300\n"
      ]
     },
     "metadata": {},
     "output_type": "display_data"
    },
    {
     "data": {
      "text/html": [
       "<pre style=\"white-space:pre;overflow-x:auto;line-height:normal;font-family:Menlo,'DejaVu Sans Mono',consolas,'Courier New',monospace\"></pre>\n"
      ],
      "text/plain": []
     },
     "metadata": {},
     "output_type": "display_data"
    },
    {
     "data": {
      "text/html": [
       "<pre style=\"white-space:pre;overflow-x:auto;line-height:normal;font-family:Menlo,'DejaVu Sans Mono',consolas,'Courier New',monospace\">\n",
       "</pre>\n"
      ],
      "text/plain": [
       "\n"
      ]
     },
     "metadata": {},
     "output_type": "display_data"
    },
    {
     "data": {
      "application/vnd.jupyter.widget-view+json": {
       "model_id": "ef280150dae94d9d9cbe1be1f1e9a0b5",
       "version_major": 2,
       "version_minor": 0
      },
      "text/plain": [
       "Output()"
      ]
     },
     "metadata": {},
     "output_type": "display_data"
    },
    {
     "name": "stdout",
     "output_type": "stream",
     "text": [
      "epoch 24: Mean Reward = 0.0001529391039640306\n"
     ]
    },
    {
     "data": {
      "text/html": [
       "<pre style=\"white-space:pre;overflow-x:auto;line-height:normal;font-family:Menlo,'DejaVu Sans Mono',consolas,'Courier New',monospace\">mean: 0.00019020474448352685, r: 0.05706142334505805, md: 300\n",
       "</pre>\n"
      ],
      "text/plain": [
       "mean: 0.00019020474448352685, r: 0.05706142334505805, md: 300\n"
      ]
     },
     "metadata": {},
     "output_type": "display_data"
    },
    {
     "data": {
      "text/html": [
       "<pre style=\"white-space:pre;overflow-x:auto;line-height:normal;font-family:Menlo,'DejaVu Sans Mono',consolas,'Courier New',monospace\">mean: 0.0023443964402237597, r: 0.7033189320671278, md: 300\n",
       "</pre>\n"
      ],
      "text/plain": [
       "mean: 0.0023443964402237597, r: 0.7033189320671278, md: 300\n"
      ]
     },
     "metadata": {},
     "output_type": "display_data"
    },
    {
     "data": {
      "text/html": [
       "<pre style=\"white-space:pre;overflow-x:auto;line-height:normal;font-family:Menlo,'DejaVu Sans Mono',consolas,'Courier New',monospace\">mean: 0.00023969973466139277, r: 0.07190992039841784, md: 300\n",
       "</pre>\n"
      ],
      "text/plain": [
       "mean: 0.00023969973466139277, r: 0.07190992039841784, md: 300\n"
      ]
     },
     "metadata": {},
     "output_type": "display_data"
    },
    {
     "data": {
      "text/html": [
       "<pre style=\"white-space:pre;overflow-x:auto;line-height:normal;font-family:Menlo,'DejaVu Sans Mono',consolas,'Courier New',monospace\">mean: 0.00017685099779257327, r: 0.05305529933777198, md: 300\n",
       "</pre>\n"
      ],
      "text/plain": [
       "mean: 0.00017685099779257327, r: 0.05305529933777198, md: 300\n"
      ]
     },
     "metadata": {},
     "output_type": "display_data"
    },
    {
     "data": {
      "text/html": [
       "<pre style=\"white-space:pre;overflow-x:auto;line-height:normal;font-family:Menlo,'DejaVu Sans Mono',consolas,'Courier New',monospace\">mean: 0.00048956983208898, r: 0.146870949626694, md: 300\n",
       "</pre>\n"
      ],
      "text/plain": [
       "mean: 0.00048956983208898, r: 0.146870949626694, md: 300\n"
      ]
     },
     "metadata": {},
     "output_type": "display_data"
    },
    {
     "data": {
      "text/html": [
       "<pre style=\"white-space:pre;overflow-x:auto;line-height:normal;font-family:Menlo,'DejaVu Sans Mono',consolas,'Courier New',monospace\"></pre>\n"
      ],
      "text/plain": []
     },
     "metadata": {},
     "output_type": "display_data"
    },
    {
     "data": {
      "text/html": [
       "<pre style=\"white-space:pre;overflow-x:auto;line-height:normal;font-family:Menlo,'DejaVu Sans Mono',consolas,'Courier New',monospace\">\n",
       "</pre>\n"
      ],
      "text/plain": [
       "\n"
      ]
     },
     "metadata": {},
     "output_type": "display_data"
    },
    {
     "data": {
      "application/vnd.jupyter.widget-view+json": {
       "model_id": "ce69bf9920af4abcbb9ea426361e299c",
       "version_major": 2,
       "version_minor": 0
      },
      "text/plain": [
       "Output()"
      ]
     },
     "metadata": {},
     "output_type": "display_data"
    },
    {
     "name": "stdout",
     "output_type": "stream",
     "text": [
      "epoch 25: Mean Reward = 0.00048956983208898\n"
     ]
    },
    {
     "data": {
      "text/html": [
       "<pre style=\"white-space:pre;overflow-x:auto;line-height:normal;font-family:Menlo,'DejaVu Sans Mono',consolas,'Courier New',monospace\">mean: 0.00016441098996586133, r: 0.0493232969897584, md: 300\n",
       "</pre>\n"
      ],
      "text/plain": [
       "mean: 0.00016441098996586133, r: 0.0493232969897584, md: 300\n"
      ]
     },
     "metadata": {},
     "output_type": "display_data"
    },
    {
     "data": {
      "text/html": [
       "<pre style=\"white-space:pre;overflow-x:auto;line-height:normal;font-family:Menlo,'DejaVu Sans Mono',consolas,'Courier New',monospace\">mean: 0.00016585824540931517, r: 0.04975747362279455, md: 300\n",
       "</pre>\n"
      ],
      "text/plain": [
       "mean: 0.00016585824540931517, r: 0.04975747362279455, md: 300\n"
      ]
     },
     "metadata": {},
     "output_type": "display_data"
    },
    {
     "data": {
      "text/html": [
       "<pre style=\"white-space:pre;overflow-x:auto;line-height:normal;font-family:Menlo,'DejaVu Sans Mono',consolas,'Courier New',monospace\">mean: 0.0005809102777450876, r: 0.17427308332352626, md: 300\n",
       "</pre>\n"
      ],
      "text/plain": [
       "mean: 0.0005809102777450876, r: 0.17427308332352626, md: 300\n"
      ]
     },
     "metadata": {},
     "output_type": "display_data"
    },
    {
     "data": {
      "text/html": [
       "<pre style=\"white-space:pre;overflow-x:auto;line-height:normal;font-family:Menlo,'DejaVu Sans Mono',consolas,'Courier New',monospace\">mean: 0.00040678561582046233, r: 0.1220356847461387, md: 300\n",
       "</pre>\n"
      ],
      "text/plain": [
       "mean: 0.00040678561582046233, r: 0.1220356847461387, md: 300\n"
      ]
     },
     "metadata": {},
     "output_type": "display_data"
    },
    {
     "data": {
      "text/html": [
       "<pre style=\"white-space:pre;overflow-x:auto;line-height:normal;font-family:Menlo,'DejaVu Sans Mono',consolas,'Courier New',monospace\">mean: 0.0001480361152422026, r: 0.044410834572660776, md: 300\n",
       "</pre>\n"
      ],
      "text/plain": [
       "mean: 0.0001480361152422026, r: 0.044410834572660776, md: 300\n"
      ]
     },
     "metadata": {},
     "output_type": "display_data"
    },
    {
     "data": {
      "text/html": [
       "<pre style=\"white-space:pre;overflow-x:auto;line-height:normal;font-family:Menlo,'DejaVu Sans Mono',consolas,'Courier New',monospace\"></pre>\n"
      ],
      "text/plain": []
     },
     "metadata": {},
     "output_type": "display_data"
    },
    {
     "data": {
      "text/html": [
       "<pre style=\"white-space:pre;overflow-x:auto;line-height:normal;font-family:Menlo,'DejaVu Sans Mono',consolas,'Courier New',monospace\">\n",
       "</pre>\n"
      ],
      "text/plain": [
       "\n"
      ]
     },
     "metadata": {},
     "output_type": "display_data"
    },
    {
     "data": {
      "application/vnd.jupyter.widget-view+json": {
       "model_id": "54e90071c1664b368edb1df22b600cd0",
       "version_major": 2,
       "version_minor": 0
      },
      "text/plain": [
       "Output()"
      ]
     },
     "metadata": {},
     "output_type": "display_data"
    },
    {
     "name": "stdout",
     "output_type": "stream",
     "text": [
      "epoch 26: Mean Reward = 0.0001480361152422026\n"
     ]
    },
    {
     "data": {
      "text/html": [
       "<pre style=\"white-space:pre;overflow-x:auto;line-height:normal;font-family:Menlo,'DejaVu Sans Mono',consolas,'Courier New',monospace\">mean: 0.00014754429369735566, r: 0.0442632881092067, md: 300\n",
       "</pre>\n"
      ],
      "text/plain": [
       "mean: 0.00014754429369735566, r: 0.0442632881092067, md: 300\n"
      ]
     },
     "metadata": {},
     "output_type": "display_data"
    },
    {
     "data": {
      "text/html": [
       "<pre style=\"white-space:pre;overflow-x:auto;line-height:normal;font-family:Menlo,'DejaVu Sans Mono',consolas,'Courier New',monospace\">mean: 0.005188579457274687, r: 1.5565738371824063, md: 300\n",
       "</pre>\n"
      ],
      "text/plain": [
       "mean: 0.005188579457274687, r: 1.5565738371824063, md: 300\n"
      ]
     },
     "metadata": {},
     "output_type": "display_data"
    },
    {
     "data": {
      "text/html": [
       "<pre style=\"white-space:pre;overflow-x:auto;line-height:normal;font-family:Menlo,'DejaVu Sans Mono',consolas,'Courier New',monospace\">mean: 0.012806549682060592, r: 3.841964904618178, md: 300\n",
       "</pre>\n"
      ],
      "text/plain": [
       "mean: 0.012806549682060592, r: 3.841964904618178, md: 300\n"
      ]
     },
     "metadata": {},
     "output_type": "display_data"
    },
    {
     "data": {
      "text/html": [
       "<pre style=\"white-space:pre;overflow-x:auto;line-height:normal;font-family:Menlo,'DejaVu Sans Mono',consolas,'Courier New',monospace\">mean: 0.0020048933590624844, r: 0.6014680077187453, md: 300\n",
       "</pre>\n"
      ],
      "text/plain": [
       "mean: 0.0020048933590624844, r: 0.6014680077187453, md: 300\n"
      ]
     },
     "metadata": {},
     "output_type": "display_data"
    },
    {
     "data": {
      "text/html": [
       "<pre style=\"white-space:pre;overflow-x:auto;line-height:normal;font-family:Menlo,'DejaVu Sans Mono',consolas,'Courier New',monospace\">mean: 0.002445408721471945, r: 0.7336226164415836, md: 300\n",
       "</pre>\n"
      ],
      "text/plain": [
       "mean: 0.002445408721471945, r: 0.7336226164415836, md: 300\n"
      ]
     },
     "metadata": {},
     "output_type": "display_data"
    },
    {
     "data": {
      "text/html": [
       "<pre style=\"white-space:pre;overflow-x:auto;line-height:normal;font-family:Menlo,'DejaVu Sans Mono',consolas,'Courier New',monospace\"></pre>\n"
      ],
      "text/plain": []
     },
     "metadata": {},
     "output_type": "display_data"
    },
    {
     "data": {
      "text/html": [
       "<pre style=\"white-space:pre;overflow-x:auto;line-height:normal;font-family:Menlo,'DejaVu Sans Mono',consolas,'Courier New',monospace\">\n",
       "</pre>\n"
      ],
      "text/plain": [
       "\n"
      ]
     },
     "metadata": {},
     "output_type": "display_data"
    },
    {
     "data": {
      "application/vnd.jupyter.widget-view+json": {
       "model_id": "4d192d71923149f380ec2d70042b6506",
       "version_major": 2,
       "version_minor": 0
      },
      "text/plain": [
       "Output()"
      ]
     },
     "metadata": {},
     "output_type": "display_data"
    },
    {
     "name": "stdout",
     "output_type": "stream",
     "text": [
      "epoch 27: Mean Reward = 0.002445408721471945\n"
     ]
    },
    {
     "data": {
      "text/html": [
       "<pre style=\"white-space:pre;overflow-x:auto;line-height:normal;font-family:Menlo,'DejaVu Sans Mono',consolas,'Courier New',monospace\">mean: 0.0013615993572294839, r: 0.40847980716884524, md: 300\n",
       "</pre>\n"
      ],
      "text/plain": [
       "mean: 0.0013615993572294839, r: 0.40847980716884524, md: 300\n"
      ]
     },
     "metadata": {},
     "output_type": "display_data"
    },
    {
     "data": {
      "text/html": [
       "<pre style=\"white-space:pre;overflow-x:auto;line-height:normal;font-family:Menlo,'DejaVu Sans Mono',consolas,'Courier New',monospace\">mean: 0.0036997899452260456, r: 1.1099369835678137, md: 300\n",
       "</pre>\n"
      ],
      "text/plain": [
       "mean: 0.0036997899452260456, r: 1.1099369835678137, md: 300\n"
      ]
     },
     "metadata": {},
     "output_type": "display_data"
    },
    {
     "data": {
      "text/html": [
       "<pre style=\"white-space:pre;overflow-x:auto;line-height:normal;font-family:Menlo,'DejaVu Sans Mono',consolas,'Courier New',monospace\">mean: 0.00016143656625729023, r: 0.04843096987718706, md: 300\n",
       "</pre>\n"
      ],
      "text/plain": [
       "mean: 0.00016143656625729023, r: 0.04843096987718706, md: 300\n"
      ]
     },
     "metadata": {},
     "output_type": "display_data"
    },
    {
     "data": {
      "text/html": [
       "<pre style=\"white-space:pre;overflow-x:auto;line-height:normal;font-family:Menlo,'DejaVu Sans Mono',consolas,'Courier New',monospace\">mean: 0.00016069311002813152, r: 0.04820793300843945, md: 300\n",
       "</pre>\n"
      ],
      "text/plain": [
       "mean: 0.00016069311002813152, r: 0.04820793300843945, md: 300\n"
      ]
     },
     "metadata": {},
     "output_type": "display_data"
    },
    {
     "data": {
      "text/html": [
       "<pre style=\"white-space:pre;overflow-x:auto;line-height:normal;font-family:Menlo,'DejaVu Sans Mono',consolas,'Courier New',monospace\">mean: 0.00014851900370245607, r: 0.044555701110736826, md: 300\n",
       "</pre>\n"
      ],
      "text/plain": [
       "mean: 0.00014851900370245607, r: 0.044555701110736826, md: 300\n"
      ]
     },
     "metadata": {},
     "output_type": "display_data"
    },
    {
     "data": {
      "text/html": [
       "<pre style=\"white-space:pre;overflow-x:auto;line-height:normal;font-family:Menlo,'DejaVu Sans Mono',consolas,'Courier New',monospace\"></pre>\n"
      ],
      "text/plain": []
     },
     "metadata": {},
     "output_type": "display_data"
    },
    {
     "data": {
      "text/html": [
       "<pre style=\"white-space:pre;overflow-x:auto;line-height:normal;font-family:Menlo,'DejaVu Sans Mono',consolas,'Courier New',monospace\">\n",
       "</pre>\n"
      ],
      "text/plain": [
       "\n"
      ]
     },
     "metadata": {},
     "output_type": "display_data"
    },
    {
     "data": {
      "application/vnd.jupyter.widget-view+json": {
       "model_id": "04fd4b7931ec4ec4b8029693e275570d",
       "version_major": 2,
       "version_minor": 0
      },
      "text/plain": [
       "Output()"
      ]
     },
     "metadata": {},
     "output_type": "display_data"
    },
    {
     "name": "stdout",
     "output_type": "stream",
     "text": [
      "epoch 28: Mean Reward = 0.00014851900370245607\n"
     ]
    },
    {
     "data": {
      "text/html": [
       "<pre style=\"white-space:pre;overflow-x:auto;line-height:normal;font-family:Menlo,'DejaVu Sans Mono',consolas,'Courier New',monospace\">mean: 0.0004970466326514442, r: 0.14911398979543322, md: 300\n",
       "</pre>\n"
      ],
      "text/plain": [
       "mean: 0.0004970466326514442, r: 0.14911398979543322, md: 300\n"
      ]
     },
     "metadata": {},
     "output_type": "display_data"
    },
    {
     "data": {
      "text/html": [
       "<pre style=\"white-space:pre;overflow-x:auto;line-height:normal;font-family:Menlo,'DejaVu Sans Mono',consolas,'Courier New',monospace\">mean: 0.008202949297635076, r: 2.460884789290523, md: 300\n",
       "</pre>\n"
      ],
      "text/plain": [
       "mean: 0.008202949297635076, r: 2.460884789290523, md: 300\n"
      ]
     },
     "metadata": {},
     "output_type": "display_data"
    },
    {
     "data": {
      "text/html": [
       "<pre style=\"white-space:pre;overflow-x:auto;line-height:normal;font-family:Menlo,'DejaVu Sans Mono',consolas,'Courier New',monospace\">mean: 0.000144603683386625, r: 0.043381105015987506, md: 300\n",
       "</pre>\n"
      ],
      "text/plain": [
       "mean: 0.000144603683386625, r: 0.043381105015987506, md: 300\n"
      ]
     },
     "metadata": {},
     "output_type": "display_data"
    },
    {
     "data": {
      "text/html": [
       "<pre style=\"white-space:pre;overflow-x:auto;line-height:normal;font-family:Menlo,'DejaVu Sans Mono',consolas,'Courier New',monospace\">mean: 0.00015707041918679816, r: 0.047121125756039446, md: 300\n",
       "</pre>\n"
      ],
      "text/plain": [
       "mean: 0.00015707041918679816, r: 0.047121125756039446, md: 300\n"
      ]
     },
     "metadata": {},
     "output_type": "display_data"
    },
    {
     "data": {
      "text/html": [
       "<pre style=\"white-space:pre;overflow-x:auto;line-height:normal;font-family:Menlo,'DejaVu Sans Mono',consolas,'Courier New',monospace\">mean: 0.0001632653513802653, r: 0.048979605414079586, md: 300\n",
       "</pre>\n"
      ],
      "text/plain": [
       "mean: 0.0001632653513802653, r: 0.048979605414079586, md: 300\n"
      ]
     },
     "metadata": {},
     "output_type": "display_data"
    },
    {
     "data": {
      "text/html": [
       "<pre style=\"white-space:pre;overflow-x:auto;line-height:normal;font-family:Menlo,'DejaVu Sans Mono',consolas,'Courier New',monospace\"></pre>\n"
      ],
      "text/plain": []
     },
     "metadata": {},
     "output_type": "display_data"
    },
    {
     "data": {
      "text/html": [
       "<pre style=\"white-space:pre;overflow-x:auto;line-height:normal;font-family:Menlo,'DejaVu Sans Mono',consolas,'Courier New',monospace\">\n",
       "</pre>\n"
      ],
      "text/plain": [
       "\n"
      ]
     },
     "metadata": {},
     "output_type": "display_data"
    },
    {
     "data": {
      "application/vnd.jupyter.widget-view+json": {
       "model_id": "c03cc116ea134771a2de1ac745e13ecd",
       "version_major": 2,
       "version_minor": 0
      },
      "text/plain": [
       "Output()"
      ]
     },
     "metadata": {},
     "output_type": "display_data"
    },
    {
     "name": "stdout",
     "output_type": "stream",
     "text": [
      "epoch 29: Mean Reward = 0.0001632653513802653\n"
     ]
    },
    {
     "data": {
      "text/html": [
       "<pre style=\"white-space:pre;overflow-x:auto;line-height:normal;font-family:Menlo,'DejaVu Sans Mono',consolas,'Courier New',monospace\">mean: 0.00013542274076151615, r: 0.04062682222845485, md: 300\n",
       "</pre>\n"
      ],
      "text/plain": [
       "mean: 0.00013542274076151615, r: 0.04062682222845485, md: 300\n"
      ]
     },
     "metadata": {},
     "output_type": "display_data"
    },
    {
     "data": {
      "text/html": [
       "<pre style=\"white-space:pre;overflow-x:auto;line-height:normal;font-family:Menlo,'DejaVu Sans Mono',consolas,'Courier New',monospace\">mean: 0.0001593565472351558, r: 0.04780696417054674, md: 300\n",
       "</pre>\n"
      ],
      "text/plain": [
       "mean: 0.0001593565472351558, r: 0.04780696417054674, md: 300\n"
      ]
     },
     "metadata": {},
     "output_type": "display_data"
    },
    {
     "data": {
      "text/html": [
       "<pre style=\"white-space:pre;overflow-x:auto;line-height:normal;font-family:Menlo,'DejaVu Sans Mono',consolas,'Courier New',monospace\">mean: 0.0017207816688708268, r: 0.516234500661248, md: 300\n",
       "</pre>\n"
      ],
      "text/plain": [
       "mean: 0.0017207816688708268, r: 0.516234500661248, md: 300\n"
      ]
     },
     "metadata": {},
     "output_type": "display_data"
    },
    {
     "data": {
      "text/html": [
       "<pre style=\"white-space:pre;overflow-x:auto;line-height:normal;font-family:Menlo,'DejaVu Sans Mono',consolas,'Courier New',monospace\">mean: 0.003272738779024304, r: 0.9818216337072911, md: 300\n",
       "</pre>\n"
      ],
      "text/plain": [
       "mean: 0.003272738779024304, r: 0.9818216337072911, md: 300\n"
      ]
     },
     "metadata": {},
     "output_type": "display_data"
    },
    {
     "data": {
      "text/html": [
       "<pre style=\"white-space:pre;overflow-x:auto;line-height:normal;font-family:Menlo,'DejaVu Sans Mono',consolas,'Courier New',monospace\">mean: 0.0007952271005177004, r: 0.23856813015531014, md: 300\n",
       "</pre>\n"
      ],
      "text/plain": [
       "mean: 0.0007952271005177004, r: 0.23856813015531014, md: 300\n"
      ]
     },
     "metadata": {},
     "output_type": "display_data"
    },
    {
     "data": {
      "text/html": [
       "<pre style=\"white-space:pre;overflow-x:auto;line-height:normal;font-family:Menlo,'DejaVu Sans Mono',consolas,'Courier New',monospace\"></pre>\n"
      ],
      "text/plain": []
     },
     "metadata": {},
     "output_type": "display_data"
    },
    {
     "data": {
      "text/html": [
       "<pre style=\"white-space:pre;overflow-x:auto;line-height:normal;font-family:Menlo,'DejaVu Sans Mono',consolas,'Courier New',monospace\">\n",
       "</pre>\n"
      ],
      "text/plain": [
       "\n"
      ]
     },
     "metadata": {},
     "output_type": "display_data"
    },
    {
     "data": {
      "application/vnd.jupyter.widget-view+json": {
       "model_id": "ed4a12e4a3d44f39abf9a4dee5b9bd39",
       "version_major": 2,
       "version_minor": 0
      },
      "text/plain": [
       "Output()"
      ]
     },
     "metadata": {},
     "output_type": "display_data"
    },
    {
     "name": "stdout",
     "output_type": "stream",
     "text": [
      "epoch 30: Mean Reward = 0.0007952271005177004\n"
     ]
    },
    {
     "data": {
      "text/html": [
       "<pre style=\"white-space:pre;overflow-x:auto;line-height:normal;font-family:Menlo,'DejaVu Sans Mono',consolas,'Courier New',monospace\">mean: 0.011333624174800296, r: 3.4000872524400885, md: 300\n",
       "</pre>\n"
      ],
      "text/plain": [
       "mean: 0.011333624174800296, r: 3.4000872524400885, md: 300\n"
      ]
     },
     "metadata": {},
     "output_type": "display_data"
    },
    {
     "data": {
      "text/html": [
       "<pre style=\"white-space:pre;overflow-x:auto;line-height:normal;font-family:Menlo,'DejaVu Sans Mono',consolas,'Courier New',monospace\">mean: 0.0002821836549540339, r: 0.08465509648621017, md: 300\n",
       "</pre>\n"
      ],
      "text/plain": [
       "mean: 0.0002821836549540339, r: 0.08465509648621017, md: 300\n"
      ]
     },
     "metadata": {},
     "output_type": "display_data"
    },
    {
     "data": {
      "text/html": [
       "<pre style=\"white-space:pre;overflow-x:auto;line-height:normal;font-family:Menlo,'DejaVu Sans Mono',consolas,'Courier New',monospace\">mean: 0.0017420702056924775, r: 0.5226210617077434, md: 300\n",
       "</pre>\n"
      ],
      "text/plain": [
       "mean: 0.0017420702056924775, r: 0.5226210617077434, md: 300\n"
      ]
     },
     "metadata": {},
     "output_type": "display_data"
    },
    {
     "data": {
      "text/html": [
       "<pre style=\"white-space:pre;overflow-x:auto;line-height:normal;font-family:Menlo,'DejaVu Sans Mono',consolas,'Courier New',monospace\">mean: 0.001239195854516917, r: 0.3717587563550751, md: 300\n",
       "</pre>\n"
      ],
      "text/plain": [
       "mean: 0.001239195854516917, r: 0.3717587563550751, md: 300\n"
      ]
     },
     "metadata": {},
     "output_type": "display_data"
    },
    {
     "data": {
      "text/html": [
       "<pre style=\"white-space:pre;overflow-x:auto;line-height:normal;font-family:Menlo,'DejaVu Sans Mono',consolas,'Courier New',monospace\">mean: 0.0004003165047621063, r: 0.12009495142863189, md: 300\n",
       "</pre>\n"
      ],
      "text/plain": [
       "mean: 0.0004003165047621063, r: 0.12009495142863189, md: 300\n"
      ]
     },
     "metadata": {},
     "output_type": "display_data"
    },
    {
     "data": {
      "text/html": [
       "<pre style=\"white-space:pre;overflow-x:auto;line-height:normal;font-family:Menlo,'DejaVu Sans Mono',consolas,'Courier New',monospace\"></pre>\n"
      ],
      "text/plain": []
     },
     "metadata": {},
     "output_type": "display_data"
    },
    {
     "data": {
      "text/html": [
       "<pre style=\"white-space:pre;overflow-x:auto;line-height:normal;font-family:Menlo,'DejaVu Sans Mono',consolas,'Courier New',monospace\">\n",
       "</pre>\n"
      ],
      "text/plain": [
       "\n"
      ]
     },
     "metadata": {},
     "output_type": "display_data"
    },
    {
     "data": {
      "application/vnd.jupyter.widget-view+json": {
       "model_id": "723af6ae306d4b3b82de79f04b8a4ad1",
       "version_major": 2,
       "version_minor": 0
      },
      "text/plain": [
       "Output()"
      ]
     },
     "metadata": {},
     "output_type": "display_data"
    },
    {
     "name": "stdout",
     "output_type": "stream",
     "text": [
      "epoch 31: Mean Reward = 0.0004003165047621063\n"
     ]
    },
    {
     "data": {
      "text/html": [
       "<pre style=\"white-space:pre;overflow-x:auto;line-height:normal;font-family:Menlo,'DejaVu Sans Mono',consolas,'Courier New',monospace\">mean: 0.00014161721639582866, r: 0.0424851649187486, md: 300\n",
       "</pre>\n"
      ],
      "text/plain": [
       "mean: 0.00014161721639582866, r: 0.0424851649187486, md: 300\n"
      ]
     },
     "metadata": {},
     "output_type": "display_data"
    },
    {
     "data": {
      "text/html": [
       "<pre style=\"white-space:pre;overflow-x:auto;line-height:normal;font-family:Menlo,'DejaVu Sans Mono',consolas,'Courier New',monospace\">mean: 0.0008000012909922821, r: 0.2400003872976846, md: 300\n",
       "</pre>\n"
      ],
      "text/plain": [
       "mean: 0.0008000012909922821, r: 0.2400003872976846, md: 300\n"
      ]
     },
     "metadata": {},
     "output_type": "display_data"
    },
    {
     "data": {
      "text/html": [
       "<pre style=\"white-space:pre;overflow-x:auto;line-height:normal;font-family:Menlo,'DejaVu Sans Mono',consolas,'Courier New',monospace\">mean: 0.0006963848828835306, r: 0.20891546486505919, md: 300\n",
       "</pre>\n"
      ],
      "text/plain": [
       "mean: 0.0006963848828835306, r: 0.20891546486505919, md: 300\n"
      ]
     },
     "metadata": {},
     "output_type": "display_data"
    },
    {
     "data": {
      "text/html": [
       "<pre style=\"white-space:pre;overflow-x:auto;line-height:normal;font-family:Menlo,'DejaVu Sans Mono',consolas,'Courier New',monospace\">mean: 0.0013934744028733246, r: 0.4180423208619974, md: 300\n",
       "</pre>\n"
      ],
      "text/plain": [
       "mean: 0.0013934744028733246, r: 0.4180423208619974, md: 300\n"
      ]
     },
     "metadata": {},
     "output_type": "display_data"
    },
    {
     "data": {
      "text/html": [
       "<pre style=\"white-space:pre;overflow-x:auto;line-height:normal;font-family:Menlo,'DejaVu Sans Mono',consolas,'Courier New',monospace\">mean: 0.00022856939749967437, r: 0.06857081924990231, md: 300\n",
       "</pre>\n"
      ],
      "text/plain": [
       "mean: 0.00022856939749967437, r: 0.06857081924990231, md: 300\n"
      ]
     },
     "metadata": {},
     "output_type": "display_data"
    },
    {
     "data": {
      "text/html": [
       "<pre style=\"white-space:pre;overflow-x:auto;line-height:normal;font-family:Menlo,'DejaVu Sans Mono',consolas,'Courier New',monospace\"></pre>\n"
      ],
      "text/plain": []
     },
     "metadata": {},
     "output_type": "display_data"
    },
    {
     "data": {
      "text/html": [
       "<pre style=\"white-space:pre;overflow-x:auto;line-height:normal;font-family:Menlo,'DejaVu Sans Mono',consolas,'Courier New',monospace\">\n",
       "</pre>\n"
      ],
      "text/plain": [
       "\n"
      ]
     },
     "metadata": {},
     "output_type": "display_data"
    },
    {
     "data": {
      "application/vnd.jupyter.widget-view+json": {
       "model_id": "8c6f5797037f4f5690ff32a87c0e73fb",
       "version_major": 2,
       "version_minor": 0
      },
      "text/plain": [
       "Output()"
      ]
     },
     "metadata": {},
     "output_type": "display_data"
    },
    {
     "name": "stdout",
     "output_type": "stream",
     "text": [
      "epoch 32: Mean Reward = 0.00022856939749967437\n"
     ]
    },
    {
     "data": {
      "text/html": [
       "<pre style=\"white-space:pre;overflow-x:auto;line-height:normal;font-family:Menlo,'DejaVu Sans Mono',consolas,'Courier New',monospace\">mean: 0.00018737755700323303, r: 0.0562132671009699, md: 300\n",
       "</pre>\n"
      ],
      "text/plain": [
       "mean: 0.00018737755700323303, r: 0.0562132671009699, md: 300\n"
      ]
     },
     "metadata": {},
     "output_type": "display_data"
    },
    {
     "data": {
      "text/html": [
       "<pre style=\"white-space:pre;overflow-x:auto;line-height:normal;font-family:Menlo,'DejaVu Sans Mono',consolas,'Courier New',monospace\">mean: 0.0003466878504462575, r: 0.10400635513387725, md: 300\n",
       "</pre>\n"
      ],
      "text/plain": [
       "mean: 0.0003466878504462575, r: 0.10400635513387725, md: 300\n"
      ]
     },
     "metadata": {},
     "output_type": "display_data"
    },
    {
     "data": {
      "text/html": [
       "<pre style=\"white-space:pre;overflow-x:auto;line-height:normal;font-family:Menlo,'DejaVu Sans Mono',consolas,'Courier New',monospace\">mean: 0.006236365465353763, r: 1.8709096396061289, md: 300\n",
       "</pre>\n"
      ],
      "text/plain": [
       "mean: 0.006236365465353763, r: 1.8709096396061289, md: 300\n"
      ]
     },
     "metadata": {},
     "output_type": "display_data"
    },
    {
     "data": {
      "text/html": [
       "<pre style=\"white-space:pre;overflow-x:auto;line-height:normal;font-family:Menlo,'DejaVu Sans Mono',consolas,'Courier New',monospace\">mean: 0.00036387190642264006, r: 0.10916157192679203, md: 300\n",
       "</pre>\n"
      ],
      "text/plain": [
       "mean: 0.00036387190642264006, r: 0.10916157192679203, md: 300\n"
      ]
     },
     "metadata": {},
     "output_type": "display_data"
    },
    {
     "data": {
      "text/html": [
       "<pre style=\"white-space:pre;overflow-x:auto;line-height:normal;font-family:Menlo,'DejaVu Sans Mono',consolas,'Courier New',monospace\">mean: 0.0008421872588711878, r: 0.25265617766135634, md: 300\n",
       "</pre>\n"
      ],
      "text/plain": [
       "mean: 0.0008421872588711878, r: 0.25265617766135634, md: 300\n"
      ]
     },
     "metadata": {},
     "output_type": "display_data"
    },
    {
     "data": {
      "text/html": [
       "<pre style=\"white-space:pre;overflow-x:auto;line-height:normal;font-family:Menlo,'DejaVu Sans Mono',consolas,'Courier New',monospace\"></pre>\n"
      ],
      "text/plain": []
     },
     "metadata": {},
     "output_type": "display_data"
    },
    {
     "data": {
      "text/html": [
       "<pre style=\"white-space:pre;overflow-x:auto;line-height:normal;font-family:Menlo,'DejaVu Sans Mono',consolas,'Courier New',monospace\">\n",
       "</pre>\n"
      ],
      "text/plain": [
       "\n"
      ]
     },
     "metadata": {},
     "output_type": "display_data"
    },
    {
     "data": {
      "application/vnd.jupyter.widget-view+json": {
       "model_id": "77b2886b5a22449ca617867a3f3eaffa",
       "version_major": 2,
       "version_minor": 0
      },
      "text/plain": [
       "Output()"
      ]
     },
     "metadata": {},
     "output_type": "display_data"
    },
    {
     "name": "stdout",
     "output_type": "stream",
     "text": [
      "epoch 33: Mean Reward = 0.0008421872588711878\n"
     ]
    },
    {
     "data": {
      "text/html": [
       "<pre style=\"white-space:pre;overflow-x:auto;line-height:normal;font-family:Menlo,'DejaVu Sans Mono',consolas,'Courier New',monospace\">mean: 0.0013480718136534707, r: 0.40442154409604125, md: 300\n",
       "</pre>\n"
      ],
      "text/plain": [
       "mean: 0.0013480718136534707, r: 0.40442154409604125, md: 300\n"
      ]
     },
     "metadata": {},
     "output_type": "display_data"
    },
    {
     "data": {
      "text/html": [
       "<pre style=\"white-space:pre;overflow-x:auto;line-height:normal;font-family:Menlo,'DejaVu Sans Mono',consolas,'Courier New',monospace\">mean: 0.0002470582521516738, r: 0.07411747564550214, md: 300\n",
       "</pre>\n"
      ],
      "text/plain": [
       "mean: 0.0002470582521516738, r: 0.07411747564550214, md: 300\n"
      ]
     },
     "metadata": {},
     "output_type": "display_data"
    },
    {
     "data": {
      "text/html": [
       "<pre style=\"white-space:pre;overflow-x:auto;line-height:normal;font-family:Menlo,'DejaVu Sans Mono',consolas,'Courier New',monospace\">mean: 0.0015466659570563409, r: 0.46399978711690226, md: 300\n",
       "</pre>\n"
      ],
      "text/plain": [
       "mean: 0.0015466659570563409, r: 0.46399978711690226, md: 300\n"
      ]
     },
     "metadata": {},
     "output_type": "display_data"
    },
    {
     "data": {
      "text/html": [
       "<pre style=\"white-space:pre;overflow-x:auto;line-height:normal;font-family:Menlo,'DejaVu Sans Mono',consolas,'Courier New',monospace\">mean: 0.00043603193848877847, r: 0.13080958154663352, md: 300\n",
       "</pre>\n"
      ],
      "text/plain": [
       "mean: 0.00043603193848877847, r: 0.13080958154663352, md: 300\n"
      ]
     },
     "metadata": {},
     "output_type": "display_data"
    },
    {
     "data": {
      "text/html": [
       "<pre style=\"white-space:pre;overflow-x:auto;line-height:normal;font-family:Menlo,'DejaVu Sans Mono',consolas,'Courier New',monospace\">mean: 0.0017841565312970338, r: 0.53524695938911, md: 300\n",
       "</pre>\n"
      ],
      "text/plain": [
       "mean: 0.0017841565312970338, r: 0.53524695938911, md: 300\n"
      ]
     },
     "metadata": {},
     "output_type": "display_data"
    },
    {
     "data": {
      "text/html": [
       "<pre style=\"white-space:pre;overflow-x:auto;line-height:normal;font-family:Menlo,'DejaVu Sans Mono',consolas,'Courier New',monospace\"></pre>\n"
      ],
      "text/plain": []
     },
     "metadata": {},
     "output_type": "display_data"
    },
    {
     "data": {
      "text/html": [
       "<pre style=\"white-space:pre;overflow-x:auto;line-height:normal;font-family:Menlo,'DejaVu Sans Mono',consolas,'Courier New',monospace\">\n",
       "</pre>\n"
      ],
      "text/plain": [
       "\n"
      ]
     },
     "metadata": {},
     "output_type": "display_data"
    },
    {
     "data": {
      "application/vnd.jupyter.widget-view+json": {
       "model_id": "c04d27e2a28b4260bdf06c0e75f971dd",
       "version_major": 2,
       "version_minor": 0
      },
      "text/plain": [
       "Output()"
      ]
     },
     "metadata": {},
     "output_type": "display_data"
    },
    {
     "name": "stdout",
     "output_type": "stream",
     "text": [
      "epoch 34: Mean Reward = 0.0017841565312970338\n"
     ]
    },
    {
     "data": {
      "text/html": [
       "<pre style=\"white-space:pre;overflow-x:auto;line-height:normal;font-family:Menlo,'DejaVu Sans Mono',consolas,'Courier New',monospace\">mean: 0.005324438455373525, r: 1.5973315366120575, md: 300\n",
       "</pre>\n"
      ],
      "text/plain": [
       "mean: 0.005324438455373525, r: 1.5973315366120575, md: 300\n"
      ]
     },
     "metadata": {},
     "output_type": "display_data"
    },
    {
     "data": {
      "text/html": [
       "<pre style=\"white-space:pre;overflow-x:auto;line-height:normal;font-family:Menlo,'DejaVu Sans Mono',consolas,'Courier New',monospace\">mean: 0.00016626906927423127, r: 0.04988072078226938, md: 300\n",
       "</pre>\n"
      ],
      "text/plain": [
       "mean: 0.00016626906927423127, r: 0.04988072078226938, md: 300\n"
      ]
     },
     "metadata": {},
     "output_type": "display_data"
    },
    {
     "data": {
      "text/html": [
       "<pre style=\"white-space:pre;overflow-x:auto;line-height:normal;font-family:Menlo,'DejaVu Sans Mono',consolas,'Courier New',monospace\">mean: 0.0002169965067897573, r: 0.0650989520369272, md: 300\n",
       "</pre>\n"
      ],
      "text/plain": [
       "mean: 0.0002169965067897573, r: 0.0650989520369272, md: 300\n"
      ]
     },
     "metadata": {},
     "output_type": "display_data"
    },
    {
     "data": {
      "text/html": [
       "<pre style=\"white-space:pre;overflow-x:auto;line-height:normal;font-family:Menlo,'DejaVu Sans Mono',consolas,'Courier New',monospace\">mean: 0.00022974756862566064, r: 0.06892427058769819, md: 300\n",
       "</pre>\n"
      ],
      "text/plain": [
       "mean: 0.00022974756862566064, r: 0.06892427058769819, md: 300\n"
      ]
     },
     "metadata": {},
     "output_type": "display_data"
    },
    {
     "data": {
      "text/html": [
       "<pre style=\"white-space:pre;overflow-x:auto;line-height:normal;font-family:Menlo,'DejaVu Sans Mono',consolas,'Courier New',monospace\">mean: 0.00040981356138222204, r: 0.1229440684146666, md: 300\n",
       "</pre>\n"
      ],
      "text/plain": [
       "mean: 0.00040981356138222204, r: 0.1229440684146666, md: 300\n"
      ]
     },
     "metadata": {},
     "output_type": "display_data"
    },
    {
     "data": {
      "text/html": [
       "<pre style=\"white-space:pre;overflow-x:auto;line-height:normal;font-family:Menlo,'DejaVu Sans Mono',consolas,'Courier New',monospace\"></pre>\n"
      ],
      "text/plain": []
     },
     "metadata": {},
     "output_type": "display_data"
    },
    {
     "data": {
      "text/html": [
       "<pre style=\"white-space:pre;overflow-x:auto;line-height:normal;font-family:Menlo,'DejaVu Sans Mono',consolas,'Courier New',monospace\">\n",
       "</pre>\n"
      ],
      "text/plain": [
       "\n"
      ]
     },
     "metadata": {},
     "output_type": "display_data"
    },
    {
     "data": {
      "application/vnd.jupyter.widget-view+json": {
       "model_id": "79f8c7ebcbbb45dab2a8d4722061a2d1",
       "version_major": 2,
       "version_minor": 0
      },
      "text/plain": [
       "Output()"
      ]
     },
     "metadata": {},
     "output_type": "display_data"
    },
    {
     "name": "stdout",
     "output_type": "stream",
     "text": [
      "epoch 35: Mean Reward = 0.00040981356138222204\n"
     ]
    },
    {
     "data": {
      "text/html": [
       "<pre style=\"white-space:pre;overflow-x:auto;line-height:normal;font-family:Menlo,'DejaVu Sans Mono',consolas,'Courier New',monospace\">mean: 0.0001633588947611378, r: 0.04900766842834134, md: 300\n",
       "</pre>\n"
      ],
      "text/plain": [
       "mean: 0.0001633588947611378, r: 0.04900766842834134, md: 300\n"
      ]
     },
     "metadata": {},
     "output_type": "display_data"
    },
    {
     "data": {
      "text/html": [
       "<pre style=\"white-space:pre;overflow-x:auto;line-height:normal;font-family:Menlo,'DejaVu Sans Mono',consolas,'Courier New',monospace\">mean: 0.008369933479302823, r: 2.510980043790847, md: 300\n",
       "</pre>\n"
      ],
      "text/plain": [
       "mean: 0.008369933479302823, r: 2.510980043790847, md: 300\n"
      ]
     },
     "metadata": {},
     "output_type": "display_data"
    },
    {
     "data": {
      "text/html": [
       "<pre style=\"white-space:pre;overflow-x:auto;line-height:normal;font-family:Menlo,'DejaVu Sans Mono',consolas,'Courier New',monospace\">mean: 0.00033861920934299267, r: 0.10158576280289779, md: 300\n",
       "</pre>\n"
      ],
      "text/plain": [
       "mean: 0.00033861920934299267, r: 0.10158576280289779, md: 300\n"
      ]
     },
     "metadata": {},
     "output_type": "display_data"
    },
    {
     "data": {
      "text/html": [
       "<pre style=\"white-space:pre;overflow-x:auto;line-height:normal;font-family:Menlo,'DejaVu Sans Mono',consolas,'Courier New',monospace\">mean: 0.000149391118190082, r: 0.0448173354570246, md: 300\n",
       "</pre>\n"
      ],
      "text/plain": [
       "mean: 0.000149391118190082, r: 0.0448173354570246, md: 300\n"
      ]
     },
     "metadata": {},
     "output_type": "display_data"
    },
    {
     "data": {
      "text/html": [
       "<pre style=\"white-space:pre;overflow-x:auto;line-height:normal;font-family:Menlo,'DejaVu Sans Mono',consolas,'Courier New',monospace\">mean: 0.00020911859609739822, r: 0.06273557882921946, md: 300\n",
       "</pre>\n"
      ],
      "text/plain": [
       "mean: 0.00020911859609739822, r: 0.06273557882921946, md: 300\n"
      ]
     },
     "metadata": {},
     "output_type": "display_data"
    },
    {
     "data": {
      "text/html": [
       "<pre style=\"white-space:pre;overflow-x:auto;line-height:normal;font-family:Menlo,'DejaVu Sans Mono',consolas,'Courier New',monospace\"></pre>\n"
      ],
      "text/plain": []
     },
     "metadata": {},
     "output_type": "display_data"
    },
    {
     "data": {
      "text/html": [
       "<pre style=\"white-space:pre;overflow-x:auto;line-height:normal;font-family:Menlo,'DejaVu Sans Mono',consolas,'Courier New',monospace\">\n",
       "</pre>\n"
      ],
      "text/plain": [
       "\n"
      ]
     },
     "metadata": {},
     "output_type": "display_data"
    },
    {
     "data": {
      "application/vnd.jupyter.widget-view+json": {
       "model_id": "ae7647c929fb4200bde7f03e43f7635f",
       "version_major": 2,
       "version_minor": 0
      },
      "text/plain": [
       "Output()"
      ]
     },
     "metadata": {},
     "output_type": "display_data"
    },
    {
     "name": "stdout",
     "output_type": "stream",
     "text": [
      "epoch 36: Mean Reward = 0.00020911859609739822\n"
     ]
    },
    {
     "data": {
      "text/html": [
       "<pre style=\"white-space:pre;overflow-x:auto;line-height:normal;font-family:Menlo,'DejaVu Sans Mono',consolas,'Courier New',monospace\">mean: 0.00023664747127447356, r: 0.07099424138234207, md: 300\n",
       "</pre>\n"
      ],
      "text/plain": [
       "mean: 0.00023664747127447356, r: 0.07099424138234207, md: 300\n"
      ]
     },
     "metadata": {},
     "output_type": "display_data"
    },
    {
     "data": {
      "text/html": [
       "<pre style=\"white-space:pre;overflow-x:auto;line-height:normal;font-family:Menlo,'DejaVu Sans Mono',consolas,'Courier New',monospace\">mean: 0.00024380872563395313, r: 0.07314261769018596, md: 300\n",
       "</pre>\n"
      ],
      "text/plain": [
       "mean: 0.00024380872563395313, r: 0.07314261769018596, md: 300\n"
      ]
     },
     "metadata": {},
     "output_type": "display_data"
    },
    {
     "data": {
      "text/html": [
       "<pre style=\"white-space:pre;overflow-x:auto;line-height:normal;font-family:Menlo,'DejaVu Sans Mono',consolas,'Courier New',monospace\">mean: 0.00020881189673230459, r: 0.06264356901969137, md: 300\n",
       "</pre>\n"
      ],
      "text/plain": [
       "mean: 0.00020881189673230459, r: 0.06264356901969137, md: 300\n"
      ]
     },
     "metadata": {},
     "output_type": "display_data"
    },
    {
     "data": {
      "text/html": [
       "<pre style=\"white-space:pre;overflow-x:auto;line-height:normal;font-family:Menlo,'DejaVu Sans Mono',consolas,'Courier New',monospace\">mean: 0.00016911305900084396, r: 0.050733917700253185, md: 300\n",
       "</pre>\n"
      ],
      "text/plain": [
       "mean: 0.00016911305900084396, r: 0.050733917700253185, md: 300\n"
      ]
     },
     "metadata": {},
     "output_type": "display_data"
    },
    {
     "data": {
      "text/html": [
       "<pre style=\"white-space:pre;overflow-x:auto;line-height:normal;font-family:Menlo,'DejaVu Sans Mono',consolas,'Courier New',monospace\">mean: 0.00023860294690428434, r: 0.07158088407128531, md: 300\n",
       "</pre>\n"
      ],
      "text/plain": [
       "mean: 0.00023860294690428434, r: 0.07158088407128531, md: 300\n"
      ]
     },
     "metadata": {},
     "output_type": "display_data"
    },
    {
     "data": {
      "text/html": [
       "<pre style=\"white-space:pre;overflow-x:auto;line-height:normal;font-family:Menlo,'DejaVu Sans Mono',consolas,'Courier New',monospace\"></pre>\n"
      ],
      "text/plain": []
     },
     "metadata": {},
     "output_type": "display_data"
    },
    {
     "data": {
      "text/html": [
       "<pre style=\"white-space:pre;overflow-x:auto;line-height:normal;font-family:Menlo,'DejaVu Sans Mono',consolas,'Courier New',monospace\">\n",
       "</pre>\n"
      ],
      "text/plain": [
       "\n"
      ]
     },
     "metadata": {},
     "output_type": "display_data"
    },
    {
     "data": {
      "application/vnd.jupyter.widget-view+json": {
       "model_id": "36603e5e96d74dd5a02b59811828887d",
       "version_major": 2,
       "version_minor": 0
      },
      "text/plain": [
       "Output()"
      ]
     },
     "metadata": {},
     "output_type": "display_data"
    },
    {
     "name": "stdout",
     "output_type": "stream",
     "text": [
      "epoch 37: Mean Reward = 0.00023860294690428434\n"
     ]
    },
    {
     "data": {
      "text/html": [
       "<pre style=\"white-space:pre;overflow-x:auto;line-height:normal;font-family:Menlo,'DejaVu Sans Mono',consolas,'Courier New',monospace\">mean: 0.0001709539624159577, r: 0.05128618872478732, md: 300\n",
       "</pre>\n"
      ],
      "text/plain": [
       "mean: 0.0001709539624159577, r: 0.05128618872478732, md: 300\n"
      ]
     },
     "metadata": {},
     "output_type": "display_data"
    },
    {
     "data": {
      "text/html": [
       "<pre style=\"white-space:pre;overflow-x:auto;line-height:normal;font-family:Menlo,'DejaVu Sans Mono',consolas,'Courier New',monospace\">mean: 0.00017454957155781635, r: 0.052364871467344906, md: 300\n",
       "</pre>\n"
      ],
      "text/plain": [
       "mean: 0.00017454957155781635, r: 0.052364871467344906, md: 300\n"
      ]
     },
     "metadata": {},
     "output_type": "display_data"
    },
    {
     "data": {
      "text/html": [
       "<pre style=\"white-space:pre;overflow-x:auto;line-height:normal;font-family:Menlo,'DejaVu Sans Mono',consolas,'Courier New',monospace\">mean: 0.00016210827189247468, r: 0.0486324815677424, md: 300\n",
       "</pre>\n"
      ],
      "text/plain": [
       "mean: 0.00016210827189247468, r: 0.0486324815677424, md: 300\n"
      ]
     },
     "metadata": {},
     "output_type": "display_data"
    },
    {
     "data": {
      "text/html": [
       "<pre style=\"white-space:pre;overflow-x:auto;line-height:normal;font-family:Menlo,'DejaVu Sans Mono',consolas,'Courier New',monospace\">mean: 0.00029639988690979125, r: 0.08891996607293737, md: 300\n",
       "</pre>\n"
      ],
      "text/plain": [
       "mean: 0.00029639988690979125, r: 0.08891996607293737, md: 300\n"
      ]
     },
     "metadata": {},
     "output_type": "display_data"
    },
    {
     "data": {
      "text/html": [
       "<pre style=\"white-space:pre;overflow-x:auto;line-height:normal;font-family:Menlo,'DejaVu Sans Mono',consolas,'Courier New',monospace\">mean: 0.0007277211275928394, r: 0.2183163382778518, md: 300\n",
       "</pre>\n"
      ],
      "text/plain": [
       "mean: 0.0007277211275928394, r: 0.2183163382778518, md: 300\n"
      ]
     },
     "metadata": {},
     "output_type": "display_data"
    },
    {
     "data": {
      "text/html": [
       "<pre style=\"white-space:pre;overflow-x:auto;line-height:normal;font-family:Menlo,'DejaVu Sans Mono',consolas,'Courier New',monospace\"></pre>\n"
      ],
      "text/plain": []
     },
     "metadata": {},
     "output_type": "display_data"
    },
    {
     "data": {
      "text/html": [
       "<pre style=\"white-space:pre;overflow-x:auto;line-height:normal;font-family:Menlo,'DejaVu Sans Mono',consolas,'Courier New',monospace\">\n",
       "</pre>\n"
      ],
      "text/plain": [
       "\n"
      ]
     },
     "metadata": {},
     "output_type": "display_data"
    },
    {
     "data": {
      "application/vnd.jupyter.widget-view+json": {
       "model_id": "fa65e6f98e214e97a12fc17930255cd5",
       "version_major": 2,
       "version_minor": 0
      },
      "text/plain": [
       "Output()"
      ]
     },
     "metadata": {},
     "output_type": "display_data"
    },
    {
     "name": "stdout",
     "output_type": "stream",
     "text": [
      "epoch 38: Mean Reward = 0.0007277211275928394\n"
     ]
    },
    {
     "data": {
      "text/html": [
       "<pre style=\"white-space:pre;overflow-x:auto;line-height:normal;font-family:Menlo,'DejaVu Sans Mono',consolas,'Courier New',monospace\">mean: 0.0001380774348494774, r: 0.041423230454843224, md: 300\n",
       "</pre>\n"
      ],
      "text/plain": [
       "mean: 0.0001380774348494774, r: 0.041423230454843224, md: 300\n"
      ]
     },
     "metadata": {},
     "output_type": "display_data"
    },
    {
     "data": {
      "text/html": [
       "<pre style=\"white-space:pre;overflow-x:auto;line-height:normal;font-family:Menlo,'DejaVu Sans Mono',consolas,'Courier New',monospace\">mean: 0.0003579938687570098, r: 0.10739816062710293, md: 300\n",
       "</pre>\n"
      ],
      "text/plain": [
       "mean: 0.0003579938687570098, r: 0.10739816062710293, md: 300\n"
      ]
     },
     "metadata": {},
     "output_type": "display_data"
    },
    {
     "data": {
      "text/html": [
       "<pre style=\"white-space:pre;overflow-x:auto;line-height:normal;font-family:Menlo,'DejaVu Sans Mono',consolas,'Courier New',monospace\">mean: 0.0030345390505816723, r: 0.9103617151745016, md: 300\n",
       "</pre>\n"
      ],
      "text/plain": [
       "mean: 0.0030345390505816723, r: 0.9103617151745016, md: 300\n"
      ]
     },
     "metadata": {},
     "output_type": "display_data"
    },
    {
     "data": {
      "text/html": [
       "<pre style=\"white-space:pre;overflow-x:auto;line-height:normal;font-family:Menlo,'DejaVu Sans Mono',consolas,'Courier New',monospace\">mean: 0.0001747068696510918, r: 0.052412060895327545, md: 300\n",
       "</pre>\n"
      ],
      "text/plain": [
       "mean: 0.0001747068696510918, r: 0.052412060895327545, md: 300\n"
      ]
     },
     "metadata": {},
     "output_type": "display_data"
    },
    {
     "data": {
      "text/html": [
       "<pre style=\"white-space:pre;overflow-x:auto;line-height:normal;font-family:Menlo,'DejaVu Sans Mono',consolas,'Courier New',monospace\">mean: 0.005981318148623255, r: 1.7943954445869768, md: 300\n",
       "</pre>\n"
      ],
      "text/plain": [
       "mean: 0.005981318148623255, r: 1.7943954445869768, md: 300\n"
      ]
     },
     "metadata": {},
     "output_type": "display_data"
    },
    {
     "data": {
      "text/html": [
       "<pre style=\"white-space:pre;overflow-x:auto;line-height:normal;font-family:Menlo,'DejaVu Sans Mono',consolas,'Courier New',monospace\"></pre>\n"
      ],
      "text/plain": []
     },
     "metadata": {},
     "output_type": "display_data"
    },
    {
     "data": {
      "text/html": [
       "<pre style=\"white-space:pre;overflow-x:auto;line-height:normal;font-family:Menlo,'DejaVu Sans Mono',consolas,'Courier New',monospace\">\n",
       "</pre>\n"
      ],
      "text/plain": [
       "\n"
      ]
     },
     "metadata": {},
     "output_type": "display_data"
    },
    {
     "data": {
      "application/vnd.jupyter.widget-view+json": {
       "model_id": "a2f37e37d56c4ff7acee85e2f50e6a7b",
       "version_major": 2,
       "version_minor": 0
      },
      "text/plain": [
       "Output()"
      ]
     },
     "metadata": {},
     "output_type": "display_data"
    },
    {
     "name": "stdout",
     "output_type": "stream",
     "text": [
      "epoch 39: Mean Reward = 0.005981318148623255\n"
     ]
    },
    {
     "data": {
      "text/html": [
       "<pre style=\"white-space:pre;overflow-x:auto;line-height:normal;font-family:Menlo,'DejaVu Sans Mono',consolas,'Courier New',monospace\">mean: 0.00015969450502102125, r: 0.047908351506306374, md: 300\n",
       "</pre>\n"
      ],
      "text/plain": [
       "mean: 0.00015969450502102125, r: 0.047908351506306374, md: 300\n"
      ]
     },
     "metadata": {},
     "output_type": "display_data"
    },
    {
     "data": {
      "text/html": [
       "<pre style=\"white-space:pre;overflow-x:auto;line-height:normal;font-family:Menlo,'DejaVu Sans Mono',consolas,'Courier New',monospace\">mean: 0.0005150346115112257, r: 0.1545103834533677, md: 300\n",
       "</pre>\n"
      ],
      "text/plain": [
       "mean: 0.0005150346115112257, r: 0.1545103834533677, md: 300\n"
      ]
     },
     "metadata": {},
     "output_type": "display_data"
    },
    {
     "data": {
      "text/html": [
       "<pre style=\"white-space:pre;overflow-x:auto;line-height:normal;font-family:Menlo,'DejaVu Sans Mono',consolas,'Courier New',monospace\">mean: 0.00015423941131562625, r: 0.046271823394687876, md: 300\n",
       "</pre>\n"
      ],
      "text/plain": [
       "mean: 0.00015423941131562625, r: 0.046271823394687876, md: 300\n"
      ]
     },
     "metadata": {},
     "output_type": "display_data"
    },
    {
     "data": {
      "text/html": [
       "<pre style=\"white-space:pre;overflow-x:auto;line-height:normal;font-family:Menlo,'DejaVu Sans Mono',consolas,'Courier New',monospace\">mean: 0.0092583090800205, r: 2.7774927240061498, md: 300\n",
       "</pre>\n"
      ],
      "text/plain": [
       "mean: 0.0092583090800205, r: 2.7774927240061498, md: 300\n"
      ]
     },
     "metadata": {},
     "output_type": "display_data"
    },
    {
     "data": {
      "text/html": [
       "<pre style=\"white-space:pre;overflow-x:auto;line-height:normal;font-family:Menlo,'DejaVu Sans Mono',consolas,'Courier New',monospace\">mean: 0.00015698242886784234, r: 0.047094728660352705, md: 300\n",
       "</pre>\n"
      ],
      "text/plain": [
       "mean: 0.00015698242886784234, r: 0.047094728660352705, md: 300\n"
      ]
     },
     "metadata": {},
     "output_type": "display_data"
    },
    {
     "data": {
      "text/html": [
       "<pre style=\"white-space:pre;overflow-x:auto;line-height:normal;font-family:Menlo,'DejaVu Sans Mono',consolas,'Courier New',monospace\"></pre>\n"
      ],
      "text/plain": []
     },
     "metadata": {},
     "output_type": "display_data"
    },
    {
     "data": {
      "text/html": [
       "<pre style=\"white-space:pre;overflow-x:auto;line-height:normal;font-family:Menlo,'DejaVu Sans Mono',consolas,'Courier New',monospace\">\n",
       "</pre>\n"
      ],
      "text/plain": [
       "\n"
      ]
     },
     "metadata": {},
     "output_type": "display_data"
    },
    {
     "data": {
      "application/vnd.jupyter.widget-view+json": {
       "model_id": "67c80cdb3d814678a6491506fac9c7c5",
       "version_major": 2,
       "version_minor": 0
      },
      "text/plain": [
       "Output()"
      ]
     },
     "metadata": {},
     "output_type": "display_data"
    },
    {
     "name": "stdout",
     "output_type": "stream",
     "text": [
      "epoch 40: Mean Reward = 0.00015698242886784234\n"
     ]
    },
    {
     "data": {
      "text/html": [
       "<pre style=\"white-space:pre;overflow-x:auto;line-height:normal;font-family:Menlo,'DejaVu Sans Mono',consolas,'Courier New',monospace\">mean: 0.001058793671263129, r: 0.31763810137893866, md: 300\n",
       "</pre>\n"
      ],
      "text/plain": [
       "mean: 0.001058793671263129, r: 0.31763810137893866, md: 300\n"
      ]
     },
     "metadata": {},
     "output_type": "display_data"
    },
    {
     "data": {
      "text/html": [
       "<pre style=\"white-space:pre;overflow-x:auto;line-height:normal;font-family:Menlo,'DejaVu Sans Mono',consolas,'Courier New',monospace\">mean: 0.00021867019263264174, r: 0.06560105778979253, md: 300\n",
       "</pre>\n"
      ],
      "text/plain": [
       "mean: 0.00021867019263264174, r: 0.06560105778979253, md: 300\n"
      ]
     },
     "metadata": {},
     "output_type": "display_data"
    },
    {
     "data": {
      "text/html": [
       "<pre style=\"white-space:pre;overflow-x:auto;line-height:normal;font-family:Menlo,'DejaVu Sans Mono',consolas,'Courier New',monospace\">mean: 0.00016058825186026843, r: 0.04817647555808053, md: 300\n",
       "</pre>\n"
      ],
      "text/plain": [
       "mean: 0.00016058825186026843, r: 0.04817647555808053, md: 300\n"
      ]
     },
     "metadata": {},
     "output_type": "display_data"
    },
    {
     "data": {
      "text/html": [
       "<pre style=\"white-space:pre;overflow-x:auto;line-height:normal;font-family:Menlo,'DejaVu Sans Mono',consolas,'Courier New',monospace\">mean: 0.00022038924624687587, r: 0.06611677387406276, md: 300\n",
       "</pre>\n"
      ],
      "text/plain": [
       "mean: 0.00022038924624687587, r: 0.06611677387406276, md: 300\n"
      ]
     },
     "metadata": {},
     "output_type": "display_data"
    },
    {
     "data": {
      "text/html": [
       "<pre style=\"white-space:pre;overflow-x:auto;line-height:normal;font-family:Menlo,'DejaVu Sans Mono',consolas,'Courier New',monospace\">mean: 0.0014086421177015554, r: 0.42259263531046654, md: 300\n",
       "</pre>\n"
      ],
      "text/plain": [
       "mean: 0.0014086421177015554, r: 0.42259263531046654, md: 300\n"
      ]
     },
     "metadata": {},
     "output_type": "display_data"
    },
    {
     "data": {
      "text/html": [
       "<pre style=\"white-space:pre;overflow-x:auto;line-height:normal;font-family:Menlo,'DejaVu Sans Mono',consolas,'Courier New',monospace\"></pre>\n"
      ],
      "text/plain": []
     },
     "metadata": {},
     "output_type": "display_data"
    },
    {
     "data": {
      "text/html": [
       "<pre style=\"white-space:pre;overflow-x:auto;line-height:normal;font-family:Menlo,'DejaVu Sans Mono',consolas,'Courier New',monospace\">\n",
       "</pre>\n"
      ],
      "text/plain": [
       "\n"
      ]
     },
     "metadata": {},
     "output_type": "display_data"
    },
    {
     "data": {
      "application/vnd.jupyter.widget-view+json": {
       "model_id": "4681f2668c7941cc8b0e487c1be790ae",
       "version_major": 2,
       "version_minor": 0
      },
      "text/plain": [
       "Output()"
      ]
     },
     "metadata": {},
     "output_type": "display_data"
    },
    {
     "name": "stdout",
     "output_type": "stream",
     "text": [
      "epoch 41: Mean Reward = 0.0014086421177015554\n"
     ]
    },
    {
     "data": {
      "text/html": [
       "<pre style=\"white-space:pre;overflow-x:auto;line-height:normal;font-family:Menlo,'DejaVu Sans Mono',consolas,'Courier New',monospace\">mean: 0.00016334871039905778, r: 0.04900461311971734, md: 300\n",
       "</pre>\n"
      ],
      "text/plain": [
       "mean: 0.00016334871039905778, r: 0.04900461311971734, md: 300\n"
      ]
     },
     "metadata": {},
     "output_type": "display_data"
    },
    {
     "data": {
      "text/html": [
       "<pre style=\"white-space:pre;overflow-x:auto;line-height:normal;font-family:Menlo,'DejaVu Sans Mono',consolas,'Courier New',monospace\">mean: 0.00013697591685710452, r: 0.04109277505713135, md: 300\n",
       "</pre>\n"
      ],
      "text/plain": [
       "mean: 0.00013697591685710452, r: 0.04109277505713135, md: 300\n"
      ]
     },
     "metadata": {},
     "output_type": "display_data"
    },
    {
     "data": {
      "text/html": [
       "<pre style=\"white-space:pre;overflow-x:auto;line-height:normal;font-family:Menlo,'DejaVu Sans Mono',consolas,'Courier New',monospace\">mean: 0.00033702686852389894, r: 0.10110806055716967, md: 300\n",
       "</pre>\n"
      ],
      "text/plain": [
       "mean: 0.00033702686852389894, r: 0.10110806055716967, md: 300\n"
      ]
     },
     "metadata": {},
     "output_type": "display_data"
    },
    {
     "data": {
      "text/html": [
       "<pre style=\"white-space:pre;overflow-x:auto;line-height:normal;font-family:Menlo,'DejaVu Sans Mono',consolas,'Courier New',monospace\">mean: 0.002843806278665836, r: 0.8531418835997508, md: 300\n",
       "</pre>\n"
      ],
      "text/plain": [
       "mean: 0.002843806278665836, r: 0.8531418835997508, md: 300\n"
      ]
     },
     "metadata": {},
     "output_type": "display_data"
    },
    {
     "data": {
      "text/html": [
       "<pre style=\"white-space:pre;overflow-x:auto;line-height:normal;font-family:Menlo,'DejaVu Sans Mono',consolas,'Courier New',monospace\">mean: 0.0003893986460464894, r: 0.11681959381394683, md: 300\n",
       "</pre>\n"
      ],
      "text/plain": [
       "mean: 0.0003893986460464894, r: 0.11681959381394683, md: 300\n"
      ]
     },
     "metadata": {},
     "output_type": "display_data"
    },
    {
     "data": {
      "text/html": [
       "<pre style=\"white-space:pre;overflow-x:auto;line-height:normal;font-family:Menlo,'DejaVu Sans Mono',consolas,'Courier New',monospace\"></pre>\n"
      ],
      "text/plain": []
     },
     "metadata": {},
     "output_type": "display_data"
    },
    {
     "data": {
      "text/html": [
       "<pre style=\"white-space:pre;overflow-x:auto;line-height:normal;font-family:Menlo,'DejaVu Sans Mono',consolas,'Courier New',monospace\">\n",
       "</pre>\n"
      ],
      "text/plain": [
       "\n"
      ]
     },
     "metadata": {},
     "output_type": "display_data"
    },
    {
     "data": {
      "application/vnd.jupyter.widget-view+json": {
       "model_id": "9193f7b6ed5f45cfb687b3a40d73b1dc",
       "version_major": 2,
       "version_minor": 0
      },
      "text/plain": [
       "Output()"
      ]
     },
     "metadata": {},
     "output_type": "display_data"
    },
    {
     "name": "stdout",
     "output_type": "stream",
     "text": [
      "epoch 42: Mean Reward = 0.0003893986460464894\n"
     ]
    },
    {
     "data": {
      "text/html": [
       "<pre style=\"white-space:pre;overflow-x:auto;line-height:normal;font-family:Menlo,'DejaVu Sans Mono',consolas,'Courier New',monospace\">mean: 0.0022334639206060035, r: 0.670039176181801, md: 300\n",
       "</pre>\n"
      ],
      "text/plain": [
       "mean: 0.0022334639206060035, r: 0.670039176181801, md: 300\n"
      ]
     },
     "metadata": {},
     "output_type": "display_data"
    },
    {
     "data": {
      "text/html": [
       "<pre style=\"white-space:pre;overflow-x:auto;line-height:normal;font-family:Menlo,'DejaVu Sans Mono',consolas,'Courier New',monospace\">mean: 0.00016431961475797918, r: 0.04929588442739375, md: 300\n",
       "</pre>\n"
      ],
      "text/plain": [
       "mean: 0.00016431961475797918, r: 0.04929588442739375, md: 300\n"
      ]
     },
     "metadata": {},
     "output_type": "display_data"
    },
    {
     "data": {
      "text/html": [
       "<pre style=\"white-space:pre;overflow-x:auto;line-height:normal;font-family:Menlo,'DejaVu Sans Mono',consolas,'Courier New',monospace\">mean: 0.00020871713589402675, r: 0.06261514076820802, md: 300\n",
       "</pre>\n"
      ],
      "text/plain": [
       "mean: 0.00020871713589402675, r: 0.06261514076820802, md: 300\n"
      ]
     },
     "metadata": {},
     "output_type": "display_data"
    },
    {
     "data": {
      "text/html": [
       "<pre style=\"white-space:pre;overflow-x:auto;line-height:normal;font-family:Menlo,'DejaVu Sans Mono',consolas,'Courier New',monospace\">mean: 0.00017417957365752085, r: 0.05225387209725626, md: 300\n",
       "</pre>\n"
      ],
      "text/plain": [
       "mean: 0.00017417957365752085, r: 0.05225387209725626, md: 300\n"
      ]
     },
     "metadata": {},
     "output_type": "display_data"
    },
    {
     "data": {
      "text/html": [
       "<pre style=\"white-space:pre;overflow-x:auto;line-height:normal;font-family:Menlo,'DejaVu Sans Mono',consolas,'Courier New',monospace\">mean: 0.00016976353483972673, r: 0.05092906045191802, md: 300\n",
       "</pre>\n"
      ],
      "text/plain": [
       "mean: 0.00016976353483972673, r: 0.05092906045191802, md: 300\n"
      ]
     },
     "metadata": {},
     "output_type": "display_data"
    },
    {
     "data": {
      "text/html": [
       "<pre style=\"white-space:pre;overflow-x:auto;line-height:normal;font-family:Menlo,'DejaVu Sans Mono',consolas,'Courier New',monospace\"></pre>\n"
      ],
      "text/plain": []
     },
     "metadata": {},
     "output_type": "display_data"
    },
    {
     "data": {
      "text/html": [
       "<pre style=\"white-space:pre;overflow-x:auto;line-height:normal;font-family:Menlo,'DejaVu Sans Mono',consolas,'Courier New',monospace\">\n",
       "</pre>\n"
      ],
      "text/plain": [
       "\n"
      ]
     },
     "metadata": {},
     "output_type": "display_data"
    },
    {
     "data": {
      "application/vnd.jupyter.widget-view+json": {
       "model_id": "066e972a46504068b66e73c5a28e4647",
       "version_major": 2,
       "version_minor": 0
      },
      "text/plain": [
       "Output()"
      ]
     },
     "metadata": {},
     "output_type": "display_data"
    },
    {
     "name": "stdout",
     "output_type": "stream",
     "text": [
      "epoch 43: Mean Reward = 0.00016976353483972673\n"
     ]
    },
    {
     "data": {
      "text/html": [
       "<pre style=\"white-space:pre;overflow-x:auto;line-height:normal;font-family:Menlo,'DejaVu Sans Mono',consolas,'Courier New',monospace\">mean: 0.00017307857912419425, r: 0.05192357373725827, md: 300\n",
       "</pre>\n"
      ],
      "text/plain": [
       "mean: 0.00017307857912419425, r: 0.05192357373725827, md: 300\n"
      ]
     },
     "metadata": {},
     "output_type": "display_data"
    },
    {
     "data": {
      "text/html": [
       "<pre style=\"white-space:pre;overflow-x:auto;line-height:normal;font-family:Menlo,'DejaVu Sans Mono',consolas,'Courier New',monospace\">mean: 0.00020048480009865867, r: 0.0601454400295976, md: 300\n",
       "</pre>\n"
      ],
      "text/plain": [
       "mean: 0.00020048480009865867, r: 0.0601454400295976, md: 300\n"
      ]
     },
     "metadata": {},
     "output_type": "display_data"
    },
    {
     "data": {
      "text/html": [
       "<pre style=\"white-space:pre;overflow-x:auto;line-height:normal;font-family:Menlo,'DejaVu Sans Mono',consolas,'Courier New',monospace\">mean: 0.0012310623001136481, r: 0.36931869003409445, md: 300\n",
       "</pre>\n"
      ],
      "text/plain": [
       "mean: 0.0012310623001136481, r: 0.36931869003409445, md: 300\n"
      ]
     },
     "metadata": {},
     "output_type": "display_data"
    },
    {
     "data": {
      "text/html": [
       "<pre style=\"white-space:pre;overflow-x:auto;line-height:normal;font-family:Menlo,'DejaVu Sans Mono',consolas,'Courier New',monospace\">mean: 0.0035208393212830535, r: 1.0562517963849163, md: 300\n",
       "</pre>\n"
      ],
      "text/plain": [
       "mean: 0.0035208393212830535, r: 1.0562517963849163, md: 300\n"
      ]
     },
     "metadata": {},
     "output_type": "display_data"
    },
    {
     "data": {
      "text/html": [
       "<pre style=\"white-space:pre;overflow-x:auto;line-height:normal;font-family:Menlo,'DejaVu Sans Mono',consolas,'Courier New',monospace\">mean: 0.00015638863942825365, r: 0.046916591828476094, md: 300\n",
       "</pre>\n"
      ],
      "text/plain": [
       "mean: 0.00015638863942825365, r: 0.046916591828476094, md: 300\n"
      ]
     },
     "metadata": {},
     "output_type": "display_data"
    },
    {
     "data": {
      "text/html": [
       "<pre style=\"white-space:pre;overflow-x:auto;line-height:normal;font-family:Menlo,'DejaVu Sans Mono',consolas,'Courier New',monospace\"></pre>\n"
      ],
      "text/plain": []
     },
     "metadata": {},
     "output_type": "display_data"
    },
    {
     "data": {
      "text/html": [
       "<pre style=\"white-space:pre;overflow-x:auto;line-height:normal;font-family:Menlo,'DejaVu Sans Mono',consolas,'Courier New',monospace\">\n",
       "</pre>\n"
      ],
      "text/plain": [
       "\n"
      ]
     },
     "metadata": {},
     "output_type": "display_data"
    },
    {
     "data": {
      "application/vnd.jupyter.widget-view+json": {
       "model_id": "405b78ea24084e17962a65cd2668a27e",
       "version_major": 2,
       "version_minor": 0
      },
      "text/plain": [
       "Output()"
      ]
     },
     "metadata": {},
     "output_type": "display_data"
    },
    {
     "name": "stdout",
     "output_type": "stream",
     "text": [
      "epoch 44: Mean Reward = 0.00015638863942825365\n"
     ]
    },
    {
     "data": {
      "text/html": [
       "<pre style=\"white-space:pre;overflow-x:auto;line-height:normal;font-family:Menlo,'DejaVu Sans Mono',consolas,'Courier New',monospace\">mean: 0.0008962959890443671, r: 0.2688887967133101, md: 300\n",
       "</pre>\n"
      ],
      "text/plain": [
       "mean: 0.0008962959890443671, r: 0.2688887967133101, md: 300\n"
      ]
     },
     "metadata": {},
     "output_type": "display_data"
    },
    {
     "data": {
      "text/html": [
       "<pre style=\"white-space:pre;overflow-x:auto;line-height:normal;font-family:Menlo,'DejaVu Sans Mono',consolas,'Courier New',monospace\">mean: 0.0005656555564444662, r: 0.16969666693333987, md: 300\n",
       "</pre>\n"
      ],
      "text/plain": [
       "mean: 0.0005656555564444662, r: 0.16969666693333987, md: 300\n"
      ]
     },
     "metadata": {},
     "output_type": "display_data"
    },
    {
     "data": {
      "text/html": [
       "<pre style=\"white-space:pre;overflow-x:auto;line-height:normal;font-family:Menlo,'DejaVu Sans Mono',consolas,'Courier New',monospace\">mean: 0.0001433155172581353, r: 0.04299465517744059, md: 300\n",
       "</pre>\n"
      ],
      "text/plain": [
       "mean: 0.0001433155172581353, r: 0.04299465517744059, md: 300\n"
      ]
     },
     "metadata": {},
     "output_type": "display_data"
    },
    {
     "data": {
      "text/html": [
       "<pre style=\"white-space:pre;overflow-x:auto;line-height:normal;font-family:Menlo,'DejaVu Sans Mono',consolas,'Courier New',monospace\">mean: 0.0002239544367353994, r: 0.06718633102061981, md: 300\n",
       "</pre>\n"
      ],
      "text/plain": [
       "mean: 0.0002239544367353994, r: 0.06718633102061981, md: 300\n"
      ]
     },
     "metadata": {},
     "output_type": "display_data"
    },
    {
     "data": {
      "text/html": [
       "<pre style=\"white-space:pre;overflow-x:auto;line-height:normal;font-family:Menlo,'DejaVu Sans Mono',consolas,'Courier New',monospace\">mean: 0.0005537945626564206, r: 0.1661383687969262, md: 300\n",
       "</pre>\n"
      ],
      "text/plain": [
       "mean: 0.0005537945626564206, r: 0.1661383687969262, md: 300\n"
      ]
     },
     "metadata": {},
     "output_type": "display_data"
    },
    {
     "data": {
      "text/html": [
       "<pre style=\"white-space:pre;overflow-x:auto;line-height:normal;font-family:Menlo,'DejaVu Sans Mono',consolas,'Courier New',monospace\"></pre>\n"
      ],
      "text/plain": []
     },
     "metadata": {},
     "output_type": "display_data"
    },
    {
     "data": {
      "text/html": [
       "<pre style=\"white-space:pre;overflow-x:auto;line-height:normal;font-family:Menlo,'DejaVu Sans Mono',consolas,'Courier New',monospace\">\n",
       "</pre>\n"
      ],
      "text/plain": [
       "\n"
      ]
     },
     "metadata": {},
     "output_type": "display_data"
    },
    {
     "data": {
      "application/vnd.jupyter.widget-view+json": {
       "model_id": "d0aac184a6fc4fbebb30df1c9ee0a65f",
       "version_major": 2,
       "version_minor": 0
      },
      "text/plain": [
       "Output()"
      ]
     },
     "metadata": {},
     "output_type": "display_data"
    },
    {
     "name": "stdout",
     "output_type": "stream",
     "text": [
      "epoch 45: Mean Reward = 0.0005537945626564206\n"
     ]
    },
    {
     "data": {
      "text/html": [
       "<pre style=\"white-space:pre;overflow-x:auto;line-height:normal;font-family:Menlo,'DejaVu Sans Mono',consolas,'Courier New',monospace\">mean: 0.00013495223659771834, r: 0.040485670979315505, md: 300\n",
       "</pre>\n"
      ],
      "text/plain": [
       "mean: 0.00013495223659771834, r: 0.040485670979315505, md: 300\n"
      ]
     },
     "metadata": {},
     "output_type": "display_data"
    },
    {
     "data": {
      "text/html": [
       "<pre style=\"white-space:pre;overflow-x:auto;line-height:normal;font-family:Menlo,'DejaVu Sans Mono',consolas,'Courier New',monospace\">mean: 0.0005249606755074346, r: 0.15748820265223037, md: 300\n",
       "</pre>\n"
      ],
      "text/plain": [
       "mean: 0.0005249606755074346, r: 0.15748820265223037, md: 300\n"
      ]
     },
     "metadata": {},
     "output_type": "display_data"
    },
    {
     "data": {
      "text/html": [
       "<pre style=\"white-space:pre;overflow-x:auto;line-height:normal;font-family:Menlo,'DejaVu Sans Mono',consolas,'Courier New',monospace\">mean: 0.00015716830940217574, r: 0.047150492820652715, md: 300\n",
       "</pre>\n"
      ],
      "text/plain": [
       "mean: 0.00015716830940217574, r: 0.047150492820652715, md: 300\n"
      ]
     },
     "metadata": {},
     "output_type": "display_data"
    },
    {
     "data": {
      "text/html": [
       "<pre style=\"white-space:pre;overflow-x:auto;line-height:normal;font-family:Menlo,'DejaVu Sans Mono',consolas,'Courier New',monospace\">mean: 0.00022253444586801965, r: 0.0667603337604059, md: 300\n",
       "</pre>\n"
      ],
      "text/plain": [
       "mean: 0.00022253444586801965, r: 0.0667603337604059, md: 300\n"
      ]
     },
     "metadata": {},
     "output_type": "display_data"
    },
    {
     "data": {
      "text/html": [
       "<pre style=\"white-space:pre;overflow-x:auto;line-height:normal;font-family:Menlo,'DejaVu Sans Mono',consolas,'Courier New',monospace\">mean: 0.0009658497655471684, r: 0.2897549296641505, md: 300\n",
       "</pre>\n"
      ],
      "text/plain": [
       "mean: 0.0009658497655471684, r: 0.2897549296641505, md: 300\n"
      ]
     },
     "metadata": {},
     "output_type": "display_data"
    },
    {
     "data": {
      "text/html": [
       "<pre style=\"white-space:pre;overflow-x:auto;line-height:normal;font-family:Menlo,'DejaVu Sans Mono',consolas,'Courier New',monospace\"></pre>\n"
      ],
      "text/plain": []
     },
     "metadata": {},
     "output_type": "display_data"
    },
    {
     "data": {
      "text/html": [
       "<pre style=\"white-space:pre;overflow-x:auto;line-height:normal;font-family:Menlo,'DejaVu Sans Mono',consolas,'Courier New',monospace\">\n",
       "</pre>\n"
      ],
      "text/plain": [
       "\n"
      ]
     },
     "metadata": {},
     "output_type": "display_data"
    },
    {
     "data": {
      "application/vnd.jupyter.widget-view+json": {
       "model_id": "1308c4101a6648faa80e580879b816d6",
       "version_major": 2,
       "version_minor": 0
      },
      "text/plain": [
       "Output()"
      ]
     },
     "metadata": {},
     "output_type": "display_data"
    },
    {
     "name": "stdout",
     "output_type": "stream",
     "text": [
      "epoch 46: Mean Reward = 0.0009658497655471684\n"
     ]
    },
    {
     "data": {
      "text/html": [
       "<pre style=\"white-space:pre;overflow-x:auto;line-height:normal;font-family:Menlo,'DejaVu Sans Mono',consolas,'Courier New',monospace\">mean: 0.00016105089628200755, r: 0.04831526888460227, md: 300\n",
       "</pre>\n"
      ],
      "text/plain": [
       "mean: 0.00016105089628200755, r: 0.04831526888460227, md: 300\n"
      ]
     },
     "metadata": {},
     "output_type": "display_data"
    },
    {
     "data": {
      "text/html": [
       "<pre style=\"white-space:pre;overflow-x:auto;line-height:normal;font-family:Menlo,'DejaVu Sans Mono',consolas,'Courier New',monospace\">mean: 0.0014765273304616264, r: 0.4429581991384879, md: 300\n",
       "</pre>\n"
      ],
      "text/plain": [
       "mean: 0.0014765273304616264, r: 0.4429581991384879, md: 300\n"
      ]
     },
     "metadata": {},
     "output_type": "display_data"
    },
    {
     "data": {
      "text/html": [
       "<pre style=\"white-space:pre;overflow-x:auto;line-height:normal;font-family:Menlo,'DejaVu Sans Mono',consolas,'Courier New',monospace\">mean: 0.00022942125888941324, r: 0.06882637766682397, md: 300\n",
       "</pre>\n"
      ],
      "text/plain": [
       "mean: 0.00022942125888941324, r: 0.06882637766682397, md: 300\n"
      ]
     },
     "metadata": {},
     "output_type": "display_data"
    },
    {
     "data": {
      "text/html": [
       "<pre style=\"white-space:pre;overflow-x:auto;line-height:normal;font-family:Menlo,'DejaVu Sans Mono',consolas,'Courier New',monospace\">mean: 0.000408762112129789, r: 0.12262863363893667, md: 300\n",
       "</pre>\n"
      ],
      "text/plain": [
       "mean: 0.000408762112129789, r: 0.12262863363893667, md: 300\n"
      ]
     },
     "metadata": {},
     "output_type": "display_data"
    },
    {
     "data": {
      "text/html": [
       "<pre style=\"white-space:pre;overflow-x:auto;line-height:normal;font-family:Menlo,'DejaVu Sans Mono',consolas,'Courier New',monospace\">mean: 0.00018063498029459668, r: 0.054190494088379004, md: 300\n",
       "</pre>\n"
      ],
      "text/plain": [
       "mean: 0.00018063498029459668, r: 0.054190494088379004, md: 300\n"
      ]
     },
     "metadata": {},
     "output_type": "display_data"
    },
    {
     "data": {
      "text/html": [
       "<pre style=\"white-space:pre;overflow-x:auto;line-height:normal;font-family:Menlo,'DejaVu Sans Mono',consolas,'Courier New',monospace\"></pre>\n"
      ],
      "text/plain": []
     },
     "metadata": {},
     "output_type": "display_data"
    },
    {
     "data": {
      "text/html": [
       "<pre style=\"white-space:pre;overflow-x:auto;line-height:normal;font-family:Menlo,'DejaVu Sans Mono',consolas,'Courier New',monospace\">\n",
       "</pre>\n"
      ],
      "text/plain": [
       "\n"
      ]
     },
     "metadata": {},
     "output_type": "display_data"
    },
    {
     "data": {
      "application/vnd.jupyter.widget-view+json": {
       "model_id": "a324ed4947c2461b99c97ae371a9eef6",
       "version_major": 2,
       "version_minor": 0
      },
      "text/plain": [
       "Output()"
      ]
     },
     "metadata": {},
     "output_type": "display_data"
    },
    {
     "name": "stdout",
     "output_type": "stream",
     "text": [
      "epoch 47: Mean Reward = 0.00018063498029459668\n"
     ]
    },
    {
     "data": {
      "text/html": [
       "<pre style=\"white-space:pre;overflow-x:auto;line-height:normal;font-family:Menlo,'DejaVu Sans Mono',consolas,'Courier New',monospace\">mean: 0.00020660776457360027, r: 0.061982329372080085, md: 300\n",
       "</pre>\n"
      ],
      "text/plain": [
       "mean: 0.00020660776457360027, r: 0.061982329372080085, md: 300\n"
      ]
     },
     "metadata": {},
     "output_type": "display_data"
    },
    {
     "data": {
      "text/html": [
       "<pre style=\"white-space:pre;overflow-x:auto;line-height:normal;font-family:Menlo,'DejaVu Sans Mono',consolas,'Courier New',monospace\">mean: 0.0024602916114275708, r: 0.7380874834282711, md: 300\n",
       "</pre>\n"
      ],
      "text/plain": [
       "mean: 0.0024602916114275708, r: 0.7380874834282711, md: 300\n"
      ]
     },
     "metadata": {},
     "output_type": "display_data"
    },
    {
     "data": {
      "text/html": [
       "<pre style=\"white-space:pre;overflow-x:auto;line-height:normal;font-family:Menlo,'DejaVu Sans Mono',consolas,'Courier New',monospace\">mean: 0.00027132190819064453, r: 0.08139657245719337, md: 300\n",
       "</pre>\n"
      ],
      "text/plain": [
       "mean: 0.00027132190819064453, r: 0.08139657245719337, md: 300\n"
      ]
     },
     "metadata": {},
     "output_type": "display_data"
    },
    {
     "data": {
      "text/html": [
       "<pre style=\"white-space:pre;overflow-x:auto;line-height:normal;font-family:Menlo,'DejaVu Sans Mono',consolas,'Courier New',monospace\">mean: 0.002061742203542877, r: 0.6185226610628631, md: 300\n",
       "</pre>\n"
      ],
      "text/plain": [
       "mean: 0.002061742203542877, r: 0.6185226610628631, md: 300\n"
      ]
     },
     "metadata": {},
     "output_type": "display_data"
    },
    {
     "data": {
      "text/html": [
       "<pre style=\"white-space:pre;overflow-x:auto;line-height:normal;font-family:Menlo,'DejaVu Sans Mono',consolas,'Courier New',monospace\">mean: 0.00016216128243043242, r: 0.04864838472912972, md: 300\n",
       "</pre>\n"
      ],
      "text/plain": [
       "mean: 0.00016216128243043242, r: 0.04864838472912972, md: 300\n"
      ]
     },
     "metadata": {},
     "output_type": "display_data"
    },
    {
     "data": {
      "text/html": [
       "<pre style=\"white-space:pre;overflow-x:auto;line-height:normal;font-family:Menlo,'DejaVu Sans Mono',consolas,'Courier New',monospace\"></pre>\n"
      ],
      "text/plain": []
     },
     "metadata": {},
     "output_type": "display_data"
    },
    {
     "data": {
      "text/html": [
       "<pre style=\"white-space:pre;overflow-x:auto;line-height:normal;font-family:Menlo,'DejaVu Sans Mono',consolas,'Courier New',monospace\">\n",
       "</pre>\n"
      ],
      "text/plain": [
       "\n"
      ]
     },
     "metadata": {},
     "output_type": "display_data"
    },
    {
     "data": {
      "application/vnd.jupyter.widget-view+json": {
       "model_id": "9a8f6e174dac44dea6cab8c950477d82",
       "version_major": 2,
       "version_minor": 0
      },
      "text/plain": [
       "Output()"
      ]
     },
     "metadata": {},
     "output_type": "display_data"
    },
    {
     "name": "stdout",
     "output_type": "stream",
     "text": [
      "epoch 48: Mean Reward = 0.00016216128243043242\n"
     ]
    },
    {
     "data": {
      "text/html": [
       "<pre style=\"white-space:pre;overflow-x:auto;line-height:normal;font-family:Menlo,'DejaVu Sans Mono',consolas,'Courier New',monospace\">mean: 0.001822749499307252, r: 0.5468248497921757, md: 300\n",
       "</pre>\n"
      ],
      "text/plain": [
       "mean: 0.001822749499307252, r: 0.5468248497921757, md: 300\n"
      ]
     },
     "metadata": {},
     "output_type": "display_data"
    },
    {
     "data": {
      "text/html": [
       "<pre style=\"white-space:pre;overflow-x:auto;line-height:normal;font-family:Menlo,'DejaVu Sans Mono',consolas,'Courier New',monospace\">mean: 0.00013538904077632473, r: 0.040616712232897416, md: 300\n",
       "</pre>\n"
      ],
      "text/plain": [
       "mean: 0.00013538904077632473, r: 0.040616712232897416, md: 300\n"
      ]
     },
     "metadata": {},
     "output_type": "display_data"
    },
    {
     "data": {
      "text/html": [
       "<pre style=\"white-space:pre;overflow-x:auto;line-height:normal;font-family:Menlo,'DejaVu Sans Mono',consolas,'Courier New',monospace\">mean: 0.0017226732095229533, r: 0.516801962856886, md: 300\n",
       "</pre>\n"
      ],
      "text/plain": [
       "mean: 0.0017226732095229533, r: 0.516801962856886, md: 300\n"
      ]
     },
     "metadata": {},
     "output_type": "display_data"
    },
    {
     "data": {
      "text/html": [
       "<pre style=\"white-space:pre;overflow-x:auto;line-height:normal;font-family:Menlo,'DejaVu Sans Mono',consolas,'Courier New',monospace\">mean: 0.00015973955335246164, r: 0.04792186600573849, md: 300\n",
       "</pre>\n"
      ],
      "text/plain": [
       "mean: 0.00015973955335246164, r: 0.04792186600573849, md: 300\n"
      ]
     },
     "metadata": {},
     "output_type": "display_data"
    },
    {
     "data": {
      "text/html": [
       "<pre style=\"white-space:pre;overflow-x:auto;line-height:normal;font-family:Menlo,'DejaVu Sans Mono',consolas,'Courier New',monospace\">mean: 0.0002469615175048239, r: 0.07408845525144715, md: 300\n",
       "</pre>\n"
      ],
      "text/plain": [
       "mean: 0.0002469615175048239, r: 0.07408845525144715, md: 300\n"
      ]
     },
     "metadata": {},
     "output_type": "display_data"
    },
    {
     "data": {
      "text/html": [
       "<pre style=\"white-space:pre;overflow-x:auto;line-height:normal;font-family:Menlo,'DejaVu Sans Mono',consolas,'Courier New',monospace\"></pre>\n"
      ],
      "text/plain": []
     },
     "metadata": {},
     "output_type": "display_data"
    },
    {
     "data": {
      "text/html": [
       "<pre style=\"white-space:pre;overflow-x:auto;line-height:normal;font-family:Menlo,'DejaVu Sans Mono',consolas,'Courier New',monospace\">\n",
       "</pre>\n"
      ],
      "text/plain": [
       "\n"
      ]
     },
     "metadata": {},
     "output_type": "display_data"
    },
    {
     "data": {
      "application/vnd.jupyter.widget-view+json": {
       "model_id": "455f4046fc0747ddb8b46025154723a1",
       "version_major": 2,
       "version_minor": 0
      },
      "text/plain": [
       "Output()"
      ]
     },
     "metadata": {},
     "output_type": "display_data"
    },
    {
     "name": "stdout",
     "output_type": "stream",
     "text": [
      "epoch 49: Mean Reward = 0.0002469615175048239\n"
     ]
    },
    {
     "data": {
      "text/html": [
       "<pre style=\"white-space:pre;overflow-x:auto;line-height:normal;font-family:Menlo,'DejaVu Sans Mono',consolas,'Courier New',monospace\">mean: 0.0008882358162545502, r: 0.2664707448763651, md: 300\n",
       "</pre>\n"
      ],
      "text/plain": [
       "mean: 0.0008882358162545502, r: 0.2664707448763651, md: 300\n"
      ]
     },
     "metadata": {},
     "output_type": "display_data"
    },
    {
     "data": {
      "text/html": [
       "<pre style=\"white-space:pre;overflow-x:auto;line-height:normal;font-family:Menlo,'DejaVu Sans Mono',consolas,'Courier New',monospace\">mean: 0.003995608220400175, r: 1.1986824661200526, md: 300\n",
       "</pre>\n"
      ],
      "text/plain": [
       "mean: 0.003995608220400175, r: 1.1986824661200526, md: 300\n"
      ]
     },
     "metadata": {},
     "output_type": "display_data"
    },
    {
     "data": {
      "text/html": [
       "<pre style=\"white-space:pre;overflow-x:auto;line-height:normal;font-family:Menlo,'DejaVu Sans Mono',consolas,'Courier New',monospace\">mean: 0.001232843248343868, r: 0.36985297450316035, md: 300\n",
       "</pre>\n"
      ],
      "text/plain": [
       "mean: 0.001232843248343868, r: 0.36985297450316035, md: 300\n"
      ]
     },
     "metadata": {},
     "output_type": "display_data"
    },
    {
     "data": {
      "text/html": [
       "<pre style=\"white-space:pre;overflow-x:auto;line-height:normal;font-family:Menlo,'DejaVu Sans Mono',consolas,'Courier New',monospace\">mean: 0.0004139957269907665, r: 0.12419871809722995, md: 300\n",
       "</pre>\n"
      ],
      "text/plain": [
       "mean: 0.0004139957269907665, r: 0.12419871809722995, md: 300\n"
      ]
     },
     "metadata": {},
     "output_type": "display_data"
    },
    {
     "data": {
      "text/html": [
       "<pre style=\"white-space:pre;overflow-x:auto;line-height:normal;font-family:Menlo,'DejaVu Sans Mono',consolas,'Courier New',monospace\">mean: 0.00018681314213538062, r: 0.05604394264061419, md: 300\n",
       "</pre>\n"
      ],
      "text/plain": [
       "mean: 0.00018681314213538062, r: 0.05604394264061419, md: 300\n"
      ]
     },
     "metadata": {},
     "output_type": "display_data"
    },
    {
     "data": {
      "text/html": [
       "<pre style=\"white-space:pre;overflow-x:auto;line-height:normal;font-family:Menlo,'DejaVu Sans Mono',consolas,'Courier New',monospace\"></pre>\n"
      ],
      "text/plain": []
     },
     "metadata": {},
     "output_type": "display_data"
    },
    {
     "data": {
      "text/html": [
       "<pre style=\"white-space:pre;overflow-x:auto;line-height:normal;font-family:Menlo,'DejaVu Sans Mono',consolas,'Courier New',monospace\">\n",
       "</pre>\n"
      ],
      "text/plain": [
       "\n"
      ]
     },
     "metadata": {},
     "output_type": "display_data"
    },
    {
     "data": {
      "application/vnd.jupyter.widget-view+json": {
       "model_id": "a07adfe9a65149fa890df33ee326a2c8",
       "version_major": 2,
       "version_minor": 0
      },
      "text/plain": [
       "Output()"
      ]
     },
     "metadata": {},
     "output_type": "display_data"
    },
    {
     "name": "stdout",
     "output_type": "stream",
     "text": [
      "epoch 50: Mean Reward = 0.00018681314213538062\n"
     ]
    },
    {
     "data": {
      "text/html": [
       "<pre style=\"white-space:pre;overflow-x:auto;line-height:normal;font-family:Menlo,'DejaVu Sans Mono',consolas,'Courier New',monospace\">mean: 0.00018017131357574243, r: 0.05405139407272273, md: 300\n",
       "</pre>\n"
      ],
      "text/plain": [
       "mean: 0.00018017131357574243, r: 0.05405139407272273, md: 300\n"
      ]
     },
     "metadata": {},
     "output_type": "display_data"
    },
    {
     "data": {
      "text/html": [
       "<pre style=\"white-space:pre;overflow-x:auto;line-height:normal;font-family:Menlo,'DejaVu Sans Mono',consolas,'Courier New',monospace\">mean: 0.0004360635546859497, r: 0.13081906640578492, md: 300\n",
       "</pre>\n"
      ],
      "text/plain": [
       "mean: 0.0004360635546859497, r: 0.13081906640578492, md: 300\n"
      ]
     },
     "metadata": {},
     "output_type": "display_data"
    },
    {
     "data": {
      "text/html": [
       "<pre style=\"white-space:pre;overflow-x:auto;line-height:normal;font-family:Menlo,'DejaVu Sans Mono',consolas,'Courier New',monospace\">mean: 0.0004970600498574504, r: 0.14911801495723515, md: 300\n",
       "</pre>\n"
      ],
      "text/plain": [
       "mean: 0.0004970600498574504, r: 0.14911801495723515, md: 300\n"
      ]
     },
     "metadata": {},
     "output_type": "display_data"
    },
    {
     "data": {
      "text/html": [
       "<pre style=\"white-space:pre;overflow-x:auto;line-height:normal;font-family:Menlo,'DejaVu Sans Mono',consolas,'Courier New',monospace\">mean: 0.0002705493767851001, r: 0.08116481303553005, md: 300\n",
       "</pre>\n"
      ],
      "text/plain": [
       "mean: 0.0002705493767851001, r: 0.08116481303553005, md: 300\n"
      ]
     },
     "metadata": {},
     "output_type": "display_data"
    },
    {
     "data": {
      "text/html": [
       "<pre style=\"white-space:pre;overflow-x:auto;line-height:normal;font-family:Menlo,'DejaVu Sans Mono',consolas,'Courier New',monospace\">mean: 0.00021725295536580123, r: 0.06517588660974036, md: 300\n",
       "</pre>\n"
      ],
      "text/plain": [
       "mean: 0.00021725295536580123, r: 0.06517588660974036, md: 300\n"
      ]
     },
     "metadata": {},
     "output_type": "display_data"
    },
    {
     "data": {
      "text/html": [
       "<pre style=\"white-space:pre;overflow-x:auto;line-height:normal;font-family:Menlo,'DejaVu Sans Mono',consolas,'Courier New',monospace\"></pre>\n"
      ],
      "text/plain": []
     },
     "metadata": {},
     "output_type": "display_data"
    },
    {
     "data": {
      "text/html": [
       "<pre style=\"white-space:pre;overflow-x:auto;line-height:normal;font-family:Menlo,'DejaVu Sans Mono',consolas,'Courier New',monospace\">\n",
       "</pre>\n"
      ],
      "text/plain": [
       "\n"
      ]
     },
     "metadata": {},
     "output_type": "display_data"
    },
    {
     "data": {
      "application/vnd.jupyter.widget-view+json": {
       "model_id": "d5ecbf8aa37b4b789b29c555ae24afb4",
       "version_major": 2,
       "version_minor": 0
      },
      "text/plain": [
       "Output()"
      ]
     },
     "metadata": {},
     "output_type": "display_data"
    },
    {
     "name": "stdout",
     "output_type": "stream",
     "text": [
      "epoch 51: Mean Reward = 0.00021725295536580123\n"
     ]
    },
    {
     "data": {
      "text/html": [
       "<pre style=\"white-space:pre;overflow-x:auto;line-height:normal;font-family:Menlo,'DejaVu Sans Mono',consolas,'Courier New',monospace\">mean: 0.0007571617336068943, r: 0.22714852008206826, md: 300\n",
       "</pre>\n"
      ],
      "text/plain": [
       "mean: 0.0007571617336068943, r: 0.22714852008206826, md: 300\n"
      ]
     },
     "metadata": {},
     "output_type": "display_data"
    },
    {
     "data": {
      "text/html": [
       "<pre style=\"white-space:pre;overflow-x:auto;line-height:normal;font-family:Menlo,'DejaVu Sans Mono',consolas,'Courier New',monospace\">mean: 0.0019379742865188966, r: 0.581392285955669, md: 300\n",
       "</pre>\n"
      ],
      "text/plain": [
       "mean: 0.0019379742865188966, r: 0.581392285955669, md: 300\n"
      ]
     },
     "metadata": {},
     "output_type": "display_data"
    },
    {
     "data": {
      "text/html": [
       "<pre style=\"white-space:pre;overflow-x:auto;line-height:normal;font-family:Menlo,'DejaVu Sans Mono',consolas,'Courier New',monospace\">mean: 0.0001908387453548116, r: 0.05725162360644348, md: 300\n",
       "</pre>\n"
      ],
      "text/plain": [
       "mean: 0.0001908387453548116, r: 0.05725162360644348, md: 300\n"
      ]
     },
     "metadata": {},
     "output_type": "display_data"
    },
    {
     "data": {
      "text/html": [
       "<pre style=\"white-space:pre;overflow-x:auto;line-height:normal;font-family:Menlo,'DejaVu Sans Mono',consolas,'Courier New',monospace\">mean: 0.011899502280061812, r: 3.5698506840185438, md: 300\n",
       "</pre>\n"
      ],
      "text/plain": [
       "mean: 0.011899502280061812, r: 3.5698506840185438, md: 300\n"
      ]
     },
     "metadata": {},
     "output_type": "display_data"
    },
    {
     "data": {
      "text/html": [
       "<pre style=\"white-space:pre;overflow-x:auto;line-height:normal;font-family:Menlo,'DejaVu Sans Mono',consolas,'Courier New',monospace\">mean: 0.0010669672262243303, r: 0.32009016786729916, md: 300\n",
       "</pre>\n"
      ],
      "text/plain": [
       "mean: 0.0010669672262243303, r: 0.32009016786729916, md: 300\n"
      ]
     },
     "metadata": {},
     "output_type": "display_data"
    },
    {
     "data": {
      "text/html": [
       "<pre style=\"white-space:pre;overflow-x:auto;line-height:normal;font-family:Menlo,'DejaVu Sans Mono',consolas,'Courier New',monospace\"></pre>\n"
      ],
      "text/plain": []
     },
     "metadata": {},
     "output_type": "display_data"
    },
    {
     "data": {
      "text/html": [
       "<pre style=\"white-space:pre;overflow-x:auto;line-height:normal;font-family:Menlo,'DejaVu Sans Mono',consolas,'Courier New',monospace\">\n",
       "</pre>\n"
      ],
      "text/plain": [
       "\n"
      ]
     },
     "metadata": {},
     "output_type": "display_data"
    },
    {
     "data": {
      "application/vnd.jupyter.widget-view+json": {
       "model_id": "6fc209bcc11d45c1869c3bef79f89300",
       "version_major": 2,
       "version_minor": 0
      },
      "text/plain": [
       "Output()"
      ]
     },
     "metadata": {},
     "output_type": "display_data"
    },
    {
     "name": "stdout",
     "output_type": "stream",
     "text": [
      "epoch 52: Mean Reward = 0.0010669672262243303\n"
     ]
    },
    {
     "data": {
      "text/html": [
       "<pre style=\"white-space:pre;overflow-x:auto;line-height:normal;font-family:Menlo,'DejaVu Sans Mono',consolas,'Courier New',monospace\">mean: 0.00016708709536349134, r: 0.0501261286090474, md: 300\n",
       "</pre>\n"
      ],
      "text/plain": [
       "mean: 0.00016708709536349134, r: 0.0501261286090474, md: 300\n"
      ]
     },
     "metadata": {},
     "output_type": "display_data"
    },
    {
     "data": {
      "text/html": [
       "<pre style=\"white-space:pre;overflow-x:auto;line-height:normal;font-family:Menlo,'DejaVu Sans Mono',consolas,'Courier New',monospace\">mean: 0.0018227078069657367, r: 0.5468123420897211, md: 300\n",
       "</pre>\n"
      ],
      "text/plain": [
       "mean: 0.0018227078069657367, r: 0.5468123420897211, md: 300\n"
      ]
     },
     "metadata": {},
     "output_type": "display_data"
    },
    {
     "data": {
      "text/html": [
       "<pre style=\"white-space:pre;overflow-x:auto;line-height:normal;font-family:Menlo,'DejaVu Sans Mono',consolas,'Courier New',monospace\">mean: 0.0025162983161114054, r: 0.7548894948334216, md: 300\n",
       "</pre>\n"
      ],
      "text/plain": [
       "mean: 0.0025162983161114054, r: 0.7548894948334216, md: 300\n"
      ]
     },
     "metadata": {},
     "output_type": "display_data"
    },
    {
     "data": {
      "text/html": [
       "<pre style=\"white-space:pre;overflow-x:auto;line-height:normal;font-family:Menlo,'DejaVu Sans Mono',consolas,'Courier New',monospace\">mean: 0.007547879978672045, r: 2.264363993601614, md: 300\n",
       "</pre>\n"
      ],
      "text/plain": [
       "mean: 0.007547879978672045, r: 2.264363993601614, md: 300\n"
      ]
     },
     "metadata": {},
     "output_type": "display_data"
    },
    {
     "data": {
      "text/html": [
       "<pre style=\"white-space:pre;overflow-x:auto;line-height:normal;font-family:Menlo,'DejaVu Sans Mono',consolas,'Courier New',monospace\">mean: 0.0002730515198259236, r: 0.08191545594777709, md: 300\n",
       "</pre>\n"
      ],
      "text/plain": [
       "mean: 0.0002730515198259236, r: 0.08191545594777709, md: 300\n"
      ]
     },
     "metadata": {},
     "output_type": "display_data"
    },
    {
     "data": {
      "text/html": [
       "<pre style=\"white-space:pre;overflow-x:auto;line-height:normal;font-family:Menlo,'DejaVu Sans Mono',consolas,'Courier New',monospace\"></pre>\n"
      ],
      "text/plain": []
     },
     "metadata": {},
     "output_type": "display_data"
    },
    {
     "data": {
      "text/html": [
       "<pre style=\"white-space:pre;overflow-x:auto;line-height:normal;font-family:Menlo,'DejaVu Sans Mono',consolas,'Courier New',monospace\">\n",
       "</pre>\n"
      ],
      "text/plain": [
       "\n"
      ]
     },
     "metadata": {},
     "output_type": "display_data"
    },
    {
     "data": {
      "application/vnd.jupyter.widget-view+json": {
       "model_id": "5e8ab41a2f80492f8a77e1173ee3a002",
       "version_major": 2,
       "version_minor": 0
      },
      "text/plain": [
       "Output()"
      ]
     },
     "metadata": {},
     "output_type": "display_data"
    },
    {
     "name": "stdout",
     "output_type": "stream",
     "text": [
      "epoch 53: Mean Reward = 0.0002730515198259236\n"
     ]
    },
    {
     "data": {
      "text/html": [
       "<pre style=\"white-space:pre;overflow-x:auto;line-height:normal;font-family:Menlo,'DejaVu Sans Mono',consolas,'Courier New',monospace\">mean: 0.0011226084914604765, r: 0.3367825474381429, md: 300\n",
       "</pre>\n"
      ],
      "text/plain": [
       "mean: 0.0011226084914604765, r: 0.3367825474381429, md: 300\n"
      ]
     },
     "metadata": {},
     "output_type": "display_data"
    },
    {
     "data": {
      "text/html": [
       "<pre style=\"white-space:pre;overflow-x:auto;line-height:normal;font-family:Menlo,'DejaVu Sans Mono',consolas,'Courier New',monospace\">mean: 0.001044476499266889, r: 0.3133429497800667, md: 300\n",
       "</pre>\n"
      ],
      "text/plain": [
       "mean: 0.001044476499266889, r: 0.3133429497800667, md: 300\n"
      ]
     },
     "metadata": {},
     "output_type": "display_data"
    },
    {
     "data": {
      "text/html": [
       "<pre style=\"white-space:pre;overflow-x:auto;line-height:normal;font-family:Menlo,'DejaVu Sans Mono',consolas,'Courier New',monospace\">mean: 0.012014958458318853, r: 3.6044875374956558, md: 300\n",
       "</pre>\n"
      ],
      "text/plain": [
       "mean: 0.012014958458318853, r: 3.6044875374956558, md: 300\n"
      ]
     },
     "metadata": {},
     "output_type": "display_data"
    },
    {
     "data": {
      "text/html": [
       "<pre style=\"white-space:pre;overflow-x:auto;line-height:normal;font-family:Menlo,'DejaVu Sans Mono',consolas,'Courier New',monospace\">mean: 0.0027287618134492595, r: 0.8186285440347779, md: 300\n",
       "</pre>\n"
      ],
      "text/plain": [
       "mean: 0.0027287618134492595, r: 0.8186285440347779, md: 300\n"
      ]
     },
     "metadata": {},
     "output_type": "display_data"
    },
    {
     "data": {
      "text/html": [
       "<pre style=\"white-space:pre;overflow-x:auto;line-height:normal;font-family:Menlo,'DejaVu Sans Mono',consolas,'Courier New',monospace\">mean: 0.00015699163524634754, r: 0.04709749057390426, md: 300\n",
       "</pre>\n"
      ],
      "text/plain": [
       "mean: 0.00015699163524634754, r: 0.04709749057390426, md: 300\n"
      ]
     },
     "metadata": {},
     "output_type": "display_data"
    },
    {
     "data": {
      "text/html": [
       "<pre style=\"white-space:pre;overflow-x:auto;line-height:normal;font-family:Menlo,'DejaVu Sans Mono',consolas,'Courier New',monospace\"></pre>\n"
      ],
      "text/plain": []
     },
     "metadata": {},
     "output_type": "display_data"
    },
    {
     "data": {
      "text/html": [
       "<pre style=\"white-space:pre;overflow-x:auto;line-height:normal;font-family:Menlo,'DejaVu Sans Mono',consolas,'Courier New',monospace\">\n",
       "</pre>\n"
      ],
      "text/plain": [
       "\n"
      ]
     },
     "metadata": {},
     "output_type": "display_data"
    },
    {
     "data": {
      "application/vnd.jupyter.widget-view+json": {
       "model_id": "c30b4daa0e794e9683b8d0795c870889",
       "version_major": 2,
       "version_minor": 0
      },
      "text/plain": [
       "Output()"
      ]
     },
     "metadata": {},
     "output_type": "display_data"
    },
    {
     "name": "stdout",
     "output_type": "stream",
     "text": [
      "epoch 54: Mean Reward = 0.00015699163524634754\n"
     ]
    },
    {
     "data": {
      "text/html": [
       "<pre style=\"white-space:pre;overflow-x:auto;line-height:normal;font-family:Menlo,'DejaVu Sans Mono',consolas,'Courier New',monospace\">mean: 0.0018196572482312252, r: 0.5458971744693676, md: 300\n",
       "</pre>\n"
      ],
      "text/plain": [
       "mean: 0.0018196572482312252, r: 0.5458971744693676, md: 300\n"
      ]
     },
     "metadata": {},
     "output_type": "display_data"
    },
    {
     "data": {
      "text/html": [
       "<pre style=\"white-space:pre;overflow-x:auto;line-height:normal;font-family:Menlo,'DejaVu Sans Mono',consolas,'Courier New',monospace\">mean: 0.0004328803673361893, r: 0.1298641102008568, md: 300\n",
       "</pre>\n"
      ],
      "text/plain": [
       "mean: 0.0004328803673361893, r: 0.1298641102008568, md: 300\n"
      ]
     },
     "metadata": {},
     "output_type": "display_data"
    },
    {
     "data": {
      "text/html": [
       "<pre style=\"white-space:pre;overflow-x:auto;line-height:normal;font-family:Menlo,'DejaVu Sans Mono',consolas,'Courier New',monospace\">mean: 0.00032429581767277833, r: 0.09728874530183348, md: 300\n",
       "</pre>\n"
      ],
      "text/plain": [
       "mean: 0.00032429581767277833, r: 0.09728874530183348, md: 300\n"
      ]
     },
     "metadata": {},
     "output_type": "display_data"
    },
    {
     "data": {
      "text/html": [
       "<pre style=\"white-space:pre;overflow-x:auto;line-height:normal;font-family:Menlo,'DejaVu Sans Mono',consolas,'Courier New',monospace\">mean: 0.0001747229934387556, r: 0.05241689803162668, md: 300\n",
       "</pre>\n"
      ],
      "text/plain": [
       "mean: 0.0001747229934387556, r: 0.05241689803162668, md: 300\n"
      ]
     },
     "metadata": {},
     "output_type": "display_data"
    },
    {
     "data": {
      "text/html": [
       "<pre style=\"white-space:pre;overflow-x:auto;line-height:normal;font-family:Menlo,'DejaVu Sans Mono',consolas,'Courier New',monospace\">mean: 0.00016308372100696166, r: 0.048925116302088505, md: 300\n",
       "</pre>\n"
      ],
      "text/plain": [
       "mean: 0.00016308372100696166, r: 0.048925116302088505, md: 300\n"
      ]
     },
     "metadata": {},
     "output_type": "display_data"
    },
    {
     "data": {
      "text/html": [
       "<pre style=\"white-space:pre;overflow-x:auto;line-height:normal;font-family:Menlo,'DejaVu Sans Mono',consolas,'Courier New',monospace\"></pre>\n"
      ],
      "text/plain": []
     },
     "metadata": {},
     "output_type": "display_data"
    },
    {
     "data": {
      "text/html": [
       "<pre style=\"white-space:pre;overflow-x:auto;line-height:normal;font-family:Menlo,'DejaVu Sans Mono',consolas,'Courier New',monospace\">\n",
       "</pre>\n"
      ],
      "text/plain": [
       "\n"
      ]
     },
     "metadata": {},
     "output_type": "display_data"
    },
    {
     "data": {
      "application/vnd.jupyter.widget-view+json": {
       "model_id": "2a08ad0af1144feaaa4329d8b9bbd14b",
       "version_major": 2,
       "version_minor": 0
      },
      "text/plain": [
       "Output()"
      ]
     },
     "metadata": {},
     "output_type": "display_data"
    },
    {
     "name": "stdout",
     "output_type": "stream",
     "text": [
      "epoch 55: Mean Reward = 0.00016308372100696166\n"
     ]
    },
    {
     "data": {
      "text/html": [
       "<pre style=\"white-space:pre;overflow-x:auto;line-height:normal;font-family:Menlo,'DejaVu Sans Mono',consolas,'Courier New',monospace\">mean: 0.002946019848536887, r: 0.883805954561066, md: 300\n",
       "</pre>\n"
      ],
      "text/plain": [
       "mean: 0.002946019848536887, r: 0.883805954561066, md: 300\n"
      ]
     },
     "metadata": {},
     "output_type": "display_data"
    },
    {
     "data": {
      "text/html": [
       "<pre style=\"white-space:pre;overflow-x:auto;line-height:normal;font-family:Menlo,'DejaVu Sans Mono',consolas,'Courier New',monospace\">mean: 0.00036597473907526944, r: 0.10979242172258083, md: 300\n",
       "</pre>\n"
      ],
      "text/plain": [
       "mean: 0.00036597473907526944, r: 0.10979242172258083, md: 300\n"
      ]
     },
     "metadata": {},
     "output_type": "display_data"
    },
    {
     "data": {
      "text/html": [
       "<pre style=\"white-space:pre;overflow-x:auto;line-height:normal;font-family:Menlo,'DejaVu Sans Mono',consolas,'Courier New',monospace\">mean: 0.0009737739115697186, r: 0.2921321734709156, md: 300\n",
       "</pre>\n"
      ],
      "text/plain": [
       "mean: 0.0009737739115697186, r: 0.2921321734709156, md: 300\n"
      ]
     },
     "metadata": {},
     "output_type": "display_data"
    },
    {
     "data": {
      "text/html": [
       "<pre style=\"white-space:pre;overflow-x:auto;line-height:normal;font-family:Menlo,'DejaVu Sans Mono',consolas,'Courier New',monospace\">mean: 0.0030776001738900827, r: 0.9232800521670247, md: 300\n",
       "</pre>\n"
      ],
      "text/plain": [
       "mean: 0.0030776001738900827, r: 0.9232800521670247, md: 300\n"
      ]
     },
     "metadata": {},
     "output_type": "display_data"
    },
    {
     "data": {
      "text/html": [
       "<pre style=\"white-space:pre;overflow-x:auto;line-height:normal;font-family:Menlo,'DejaVu Sans Mono',consolas,'Courier New',monospace\">mean: 0.00016866313235048983, r: 0.05059893970514695, md: 300\n",
       "</pre>\n"
      ],
      "text/plain": [
       "mean: 0.00016866313235048983, r: 0.05059893970514695, md: 300\n"
      ]
     },
     "metadata": {},
     "output_type": "display_data"
    },
    {
     "data": {
      "text/html": [
       "<pre style=\"white-space:pre;overflow-x:auto;line-height:normal;font-family:Menlo,'DejaVu Sans Mono',consolas,'Courier New',monospace\"></pre>\n"
      ],
      "text/plain": []
     },
     "metadata": {},
     "output_type": "display_data"
    },
    {
     "data": {
      "text/html": [
       "<pre style=\"white-space:pre;overflow-x:auto;line-height:normal;font-family:Menlo,'DejaVu Sans Mono',consolas,'Courier New',monospace\">\n",
       "</pre>\n"
      ],
      "text/plain": [
       "\n"
      ]
     },
     "metadata": {},
     "output_type": "display_data"
    },
    {
     "data": {
      "application/vnd.jupyter.widget-view+json": {
       "model_id": "6908bc108e1046c2a74ba24e2aeedac3",
       "version_major": 2,
       "version_minor": 0
      },
      "text/plain": [
       "Output()"
      ]
     },
     "metadata": {},
     "output_type": "display_data"
    },
    {
     "name": "stdout",
     "output_type": "stream",
     "text": [
      "epoch 56: Mean Reward = 0.00016866313235048983\n"
     ]
    },
    {
     "data": {
      "text/html": [
       "<pre style=\"white-space:pre;overflow-x:auto;line-height:normal;font-family:Menlo,'DejaVu Sans Mono',consolas,'Courier New',monospace\">mean: 0.0022608428969756516, r: 0.6782528690926954, md: 300\n",
       "</pre>\n"
      ],
      "text/plain": [
       "mean: 0.0022608428969756516, r: 0.6782528690926954, md: 300\n"
      ]
     },
     "metadata": {},
     "output_type": "display_data"
    },
    {
     "data": {
      "text/html": [
       "<pre style=\"white-space:pre;overflow-x:auto;line-height:normal;font-family:Menlo,'DejaVu Sans Mono',consolas,'Courier New',monospace\">mean: 0.0007502638786401488, r: 0.22507916359204466, md: 300\n",
       "</pre>\n"
      ],
      "text/plain": [
       "mean: 0.0007502638786401488, r: 0.22507916359204466, md: 300\n"
      ]
     },
     "metadata": {},
     "output_type": "display_data"
    },
    {
     "data": {
      "text/html": [
       "<pre style=\"white-space:pre;overflow-x:auto;line-height:normal;font-family:Menlo,'DejaVu Sans Mono',consolas,'Courier New',monospace\">mean: 0.00016755342757970068, r: 0.0502660282739102, md: 300\n",
       "</pre>\n"
      ],
      "text/plain": [
       "mean: 0.00016755342757970068, r: 0.0502660282739102, md: 300\n"
      ]
     },
     "metadata": {},
     "output_type": "display_data"
    },
    {
     "data": {
      "text/html": [
       "<pre style=\"white-space:pre;overflow-x:auto;line-height:normal;font-family:Menlo,'DejaVu Sans Mono',consolas,'Courier New',monospace\">mean: 0.0002901809004604592, r: 0.08705427013813775, md: 300\n",
       "</pre>\n"
      ],
      "text/plain": [
       "mean: 0.0002901809004604592, r: 0.08705427013813775, md: 300\n"
      ]
     },
     "metadata": {},
     "output_type": "display_data"
    },
    {
     "data": {
      "text/html": [
       "<pre style=\"white-space:pre;overflow-x:auto;line-height:normal;font-family:Menlo,'DejaVu Sans Mono',consolas,'Courier New',monospace\">mean: 0.0002794785805847715, r: 0.08384357417543145, md: 300\n",
       "</pre>\n"
      ],
      "text/plain": [
       "mean: 0.0002794785805847715, r: 0.08384357417543145, md: 300\n"
      ]
     },
     "metadata": {},
     "output_type": "display_data"
    },
    {
     "data": {
      "text/html": [
       "<pre style=\"white-space:pre;overflow-x:auto;line-height:normal;font-family:Menlo,'DejaVu Sans Mono',consolas,'Courier New',monospace\"></pre>\n"
      ],
      "text/plain": []
     },
     "metadata": {},
     "output_type": "display_data"
    },
    {
     "data": {
      "text/html": [
       "<pre style=\"white-space:pre;overflow-x:auto;line-height:normal;font-family:Menlo,'DejaVu Sans Mono',consolas,'Courier New',monospace\">\n",
       "</pre>\n"
      ],
      "text/plain": [
       "\n"
      ]
     },
     "metadata": {},
     "output_type": "display_data"
    },
    {
     "data": {
      "application/vnd.jupyter.widget-view+json": {
       "model_id": "a2de25aa7392464eb63c9d95202b6317",
       "version_major": 2,
       "version_minor": 0
      },
      "text/plain": [
       "Output()"
      ]
     },
     "metadata": {},
     "output_type": "display_data"
    },
    {
     "name": "stdout",
     "output_type": "stream",
     "text": [
      "epoch 57: Mean Reward = 0.0002794785805847715\n"
     ]
    },
    {
     "data": {
      "text/html": [
       "<pre style=\"white-space:pre;overflow-x:auto;line-height:normal;font-family:Menlo,'DejaVu Sans Mono',consolas,'Courier New',monospace\">mean: 0.00014015320110723366, r: 0.0420459603321701, md: 300\n",
       "</pre>\n"
      ],
      "text/plain": [
       "mean: 0.00014015320110723366, r: 0.0420459603321701, md: 300\n"
      ]
     },
     "metadata": {},
     "output_type": "display_data"
    },
    {
     "data": {
      "text/html": [
       "<pre style=\"white-space:pre;overflow-x:auto;line-height:normal;font-family:Menlo,'DejaVu Sans Mono',consolas,'Courier New',monospace\">mean: 0.002273974887190653, r: 0.682192466157196, md: 300\n",
       "</pre>\n"
      ],
      "text/plain": [
       "mean: 0.002273974887190653, r: 0.682192466157196, md: 300\n"
      ]
     },
     "metadata": {},
     "output_type": "display_data"
    },
    {
     "data": {
      "text/html": [
       "<pre style=\"white-space:pre;overflow-x:auto;line-height:normal;font-family:Menlo,'DejaVu Sans Mono',consolas,'Courier New',monospace\">mean: 0.0019985268081273563, r: 0.599558042438207, md: 300\n",
       "</pre>\n"
      ],
      "text/plain": [
       "mean: 0.0019985268081273563, r: 0.599558042438207, md: 300\n"
      ]
     },
     "metadata": {},
     "output_type": "display_data"
    },
    {
     "data": {
      "text/html": [
       "<pre style=\"white-space:pre;overflow-x:auto;line-height:normal;font-family:Menlo,'DejaVu Sans Mono',consolas,'Courier New',monospace\">mean: 0.0011217346828059753, r: 0.3365204048417925, md: 300\n",
       "</pre>\n"
      ],
      "text/plain": [
       "mean: 0.0011217346828059753, r: 0.3365204048417925, md: 300\n"
      ]
     },
     "metadata": {},
     "output_type": "display_data"
    },
    {
     "data": {
      "text/html": [
       "<pre style=\"white-space:pre;overflow-x:auto;line-height:normal;font-family:Menlo,'DejaVu Sans Mono',consolas,'Courier New',monospace\">mean: 0.0003065279612699352, r: 0.09195838838098055, md: 300\n",
       "</pre>\n"
      ],
      "text/plain": [
       "mean: 0.0003065279612699352, r: 0.09195838838098055, md: 300\n"
      ]
     },
     "metadata": {},
     "output_type": "display_data"
    },
    {
     "data": {
      "text/html": [
       "<pre style=\"white-space:pre;overflow-x:auto;line-height:normal;font-family:Menlo,'DejaVu Sans Mono',consolas,'Courier New',monospace\"></pre>\n"
      ],
      "text/plain": []
     },
     "metadata": {},
     "output_type": "display_data"
    },
    {
     "data": {
      "text/html": [
       "<pre style=\"white-space:pre;overflow-x:auto;line-height:normal;font-family:Menlo,'DejaVu Sans Mono',consolas,'Courier New',monospace\">\n",
       "</pre>\n"
      ],
      "text/plain": [
       "\n"
      ]
     },
     "metadata": {},
     "output_type": "display_data"
    },
    {
     "data": {
      "application/vnd.jupyter.widget-view+json": {
       "model_id": "8f92b4cfd5c648af8324384c990e25fd",
       "version_major": 2,
       "version_minor": 0
      },
      "text/plain": [
       "Output()"
      ]
     },
     "metadata": {},
     "output_type": "display_data"
    },
    {
     "name": "stdout",
     "output_type": "stream",
     "text": [
      "epoch 58: Mean Reward = 0.0003065279612699352\n"
     ]
    },
    {
     "data": {
      "text/html": [
       "<pre style=\"white-space:pre;overflow-x:auto;line-height:normal;font-family:Menlo,'DejaVu Sans Mono',consolas,'Courier New',monospace\">mean: 0.0005125461993281668, r: 0.15376385979845003, md: 300\n",
       "</pre>\n"
      ],
      "text/plain": [
       "mean: 0.0005125461993281668, r: 0.15376385979845003, md: 300\n"
      ]
     },
     "metadata": {},
     "output_type": "display_data"
    },
    {
     "data": {
      "text/html": [
       "<pre style=\"white-space:pre;overflow-x:auto;line-height:normal;font-family:Menlo,'DejaVu Sans Mono',consolas,'Courier New',monospace\">mean: 0.00018384067150049947, r: 0.05515220145014984, md: 300\n",
       "</pre>\n"
      ],
      "text/plain": [
       "mean: 0.00018384067150049947, r: 0.05515220145014984, md: 300\n"
      ]
     },
     "metadata": {},
     "output_type": "display_data"
    },
    {
     "data": {
      "text/html": [
       "<pre style=\"white-space:pre;overflow-x:auto;line-height:normal;font-family:Menlo,'DejaVu Sans Mono',consolas,'Courier New',monospace\">mean: 0.00015751176672190362, r: 0.047253530016571094, md: 300\n",
       "</pre>\n"
      ],
      "text/plain": [
       "mean: 0.00015751176672190362, r: 0.047253530016571094, md: 300\n"
      ]
     },
     "metadata": {},
     "output_type": "display_data"
    },
    {
     "data": {
      "text/html": [
       "<pre style=\"white-space:pre;overflow-x:auto;line-height:normal;font-family:Menlo,'DejaVu Sans Mono',consolas,'Courier New',monospace\">mean: 0.00019219397590564024, r: 0.057658192771692075, md: 300\n",
       "</pre>\n"
      ],
      "text/plain": [
       "mean: 0.00019219397590564024, r: 0.057658192771692075, md: 300\n"
      ]
     },
     "metadata": {},
     "output_type": "display_data"
    },
    {
     "data": {
      "text/html": [
       "<pre style=\"white-space:pre;overflow-x:auto;line-height:normal;font-family:Menlo,'DejaVu Sans Mono',consolas,'Courier New',monospace\">mean: 0.0002219640709376352, r: 0.06658922128129056, md: 300\n",
       "</pre>\n"
      ],
      "text/plain": [
       "mean: 0.0002219640709376352, r: 0.06658922128129056, md: 300\n"
      ]
     },
     "metadata": {},
     "output_type": "display_data"
    },
    {
     "data": {
      "text/html": [
       "<pre style=\"white-space:pre;overflow-x:auto;line-height:normal;font-family:Menlo,'DejaVu Sans Mono',consolas,'Courier New',monospace\"></pre>\n"
      ],
      "text/plain": []
     },
     "metadata": {},
     "output_type": "display_data"
    },
    {
     "data": {
      "text/html": [
       "<pre style=\"white-space:pre;overflow-x:auto;line-height:normal;font-family:Menlo,'DejaVu Sans Mono',consolas,'Courier New',monospace\">\n",
       "</pre>\n"
      ],
      "text/plain": [
       "\n"
      ]
     },
     "metadata": {},
     "output_type": "display_data"
    },
    {
     "data": {
      "application/vnd.jupyter.widget-view+json": {
       "model_id": "21ea517b78ba4e7e90f003bfac84bfbd",
       "version_major": 2,
       "version_minor": 0
      },
      "text/plain": [
       "Output()"
      ]
     },
     "metadata": {},
     "output_type": "display_data"
    },
    {
     "name": "stdout",
     "output_type": "stream",
     "text": [
      "epoch 59: Mean Reward = 0.0002219640709376352\n"
     ]
    },
    {
     "data": {
      "text/html": [
       "<pre style=\"white-space:pre;overflow-x:auto;line-height:normal;font-family:Menlo,'DejaVu Sans Mono',consolas,'Courier New',monospace\">mean: 0.0007719034017043985, r: 0.2315710205113195, md: 300\n",
       "</pre>\n"
      ],
      "text/plain": [
       "mean: 0.0007719034017043985, r: 0.2315710205113195, md: 300\n"
      ]
     },
     "metadata": {},
     "output_type": "display_data"
    },
    {
     "data": {
      "text/html": [
       "<pre style=\"white-space:pre;overflow-x:auto;line-height:normal;font-family:Menlo,'DejaVu Sans Mono',consolas,'Courier New',monospace\">mean: 0.00015886829163870233, r: 0.047660487491610705, md: 300\n",
       "</pre>\n"
      ],
      "text/plain": [
       "mean: 0.00015886829163870233, r: 0.047660487491610705, md: 300\n"
      ]
     },
     "metadata": {},
     "output_type": "display_data"
    },
    {
     "data": {
      "text/html": [
       "<pre style=\"white-space:pre;overflow-x:auto;line-height:normal;font-family:Menlo,'DejaVu Sans Mono',consolas,'Courier New',monospace\">mean: 0.0002398905845662861, r: 0.07196717536988581, md: 300\n",
       "</pre>\n"
      ],
      "text/plain": [
       "mean: 0.0002398905845662861, r: 0.07196717536988581, md: 300\n"
      ]
     },
     "metadata": {},
     "output_type": "display_data"
    },
    {
     "data": {
      "text/html": [
       "<pre style=\"white-space:pre;overflow-x:auto;line-height:normal;font-family:Menlo,'DejaVu Sans Mono',consolas,'Courier New',monospace\">mean: 0.0037258487801051497, r: 1.1177546340315447, md: 300\n",
       "</pre>\n"
      ],
      "text/plain": [
       "mean: 0.0037258487801051497, r: 1.1177546340315447, md: 300\n"
      ]
     },
     "metadata": {},
     "output_type": "display_data"
    },
    {
     "data": {
      "text/html": [
       "<pre style=\"white-space:pre;overflow-x:auto;line-height:normal;font-family:Menlo,'DejaVu Sans Mono',consolas,'Courier New',monospace\">mean: 0.002697836588330651, r: 0.8093509764991953, md: 300\n",
       "</pre>\n"
      ],
      "text/plain": [
       "mean: 0.002697836588330651, r: 0.8093509764991953, md: 300\n"
      ]
     },
     "metadata": {},
     "output_type": "display_data"
    },
    {
     "data": {
      "text/html": [
       "<pre style=\"white-space:pre;overflow-x:auto;line-height:normal;font-family:Menlo,'DejaVu Sans Mono',consolas,'Courier New',monospace\"></pre>\n"
      ],
      "text/plain": []
     },
     "metadata": {},
     "output_type": "display_data"
    },
    {
     "data": {
      "text/html": [
       "<pre style=\"white-space:pre;overflow-x:auto;line-height:normal;font-family:Menlo,'DejaVu Sans Mono',consolas,'Courier New',monospace\">\n",
       "</pre>\n"
      ],
      "text/plain": [
       "\n"
      ]
     },
     "metadata": {},
     "output_type": "display_data"
    },
    {
     "data": {
      "application/vnd.jupyter.widget-view+json": {
       "model_id": "4ad37e86a45e4054b22449667d803b70",
       "version_major": 2,
       "version_minor": 0
      },
      "text/plain": [
       "Output()"
      ]
     },
     "metadata": {},
     "output_type": "display_data"
    },
    {
     "name": "stdout",
     "output_type": "stream",
     "text": [
      "epoch 60: Mean Reward = 0.002697836588330651\n"
     ]
    },
    {
     "data": {
      "text/html": [
       "<pre style=\"white-space:pre;overflow-x:auto;line-height:normal;font-family:Menlo,'DejaVu Sans Mono',consolas,'Courier New',monospace\">mean: 0.00014048570378204665, r: 0.042145711134613996, md: 300\n",
       "</pre>\n"
      ],
      "text/plain": [
       "mean: 0.00014048570378204665, r: 0.042145711134613996, md: 300\n"
      ]
     },
     "metadata": {},
     "output_type": "display_data"
    },
    {
     "data": {
      "text/html": [
       "<pre style=\"white-space:pre;overflow-x:auto;line-height:normal;font-family:Menlo,'DejaVu Sans Mono',consolas,'Courier New',monospace\">mean: 0.003025342033482031, r: 0.9076026100446092, md: 300\n",
       "</pre>\n"
      ],
      "text/plain": [
       "mean: 0.003025342033482031, r: 0.9076026100446092, md: 300\n"
      ]
     },
     "metadata": {},
     "output_type": "display_data"
    },
    {
     "data": {
      "text/html": [
       "<pre style=\"white-space:pre;overflow-x:auto;line-height:normal;font-family:Menlo,'DejaVu Sans Mono',consolas,'Courier New',monospace\">mean: 0.0004137138616086183, r: 0.12411415848258547, md: 300\n",
       "</pre>\n"
      ],
      "text/plain": [
       "mean: 0.0004137138616086183, r: 0.12411415848258547, md: 300\n"
      ]
     },
     "metadata": {},
     "output_type": "display_data"
    },
    {
     "data": {
      "text/html": [
       "<pre style=\"white-space:pre;overflow-x:auto;line-height:normal;font-family:Menlo,'DejaVu Sans Mono',consolas,'Courier New',monospace\">mean: 0.00029718589265781057, r: 0.08915576779734316, md: 300\n",
       "</pre>\n"
      ],
      "text/plain": [
       "mean: 0.00029718589265781057, r: 0.08915576779734316, md: 300\n"
      ]
     },
     "metadata": {},
     "output_type": "display_data"
    },
    {
     "data": {
      "text/html": [
       "<pre style=\"white-space:pre;overflow-x:auto;line-height:normal;font-family:Menlo,'DejaVu Sans Mono',consolas,'Courier New',monospace\">mean: 0.004323074977424551, r: 1.296922493227365, md: 300\n",
       "</pre>\n"
      ],
      "text/plain": [
       "mean: 0.004323074977424551, r: 1.296922493227365, md: 300\n"
      ]
     },
     "metadata": {},
     "output_type": "display_data"
    },
    {
     "data": {
      "text/html": [
       "<pre style=\"white-space:pre;overflow-x:auto;line-height:normal;font-family:Menlo,'DejaVu Sans Mono',consolas,'Courier New',monospace\"></pre>\n"
      ],
      "text/plain": []
     },
     "metadata": {},
     "output_type": "display_data"
    },
    {
     "data": {
      "text/html": [
       "<pre style=\"white-space:pre;overflow-x:auto;line-height:normal;font-family:Menlo,'DejaVu Sans Mono',consolas,'Courier New',monospace\">\n",
       "</pre>\n"
      ],
      "text/plain": [
       "\n"
      ]
     },
     "metadata": {},
     "output_type": "display_data"
    },
    {
     "data": {
      "application/vnd.jupyter.widget-view+json": {
       "model_id": "957d6d67065246d4aa3966e8e993b6da",
       "version_major": 2,
       "version_minor": 0
      },
      "text/plain": [
       "Output()"
      ]
     },
     "metadata": {},
     "output_type": "display_data"
    },
    {
     "name": "stdout",
     "output_type": "stream",
     "text": [
      "epoch 61: Mean Reward = 0.004323074977424551\n"
     ]
    },
    {
     "data": {
      "text/html": [
       "<pre style=\"white-space:pre;overflow-x:auto;line-height:normal;font-family:Menlo,'DejaVu Sans Mono',consolas,'Courier New',monospace\">mean: 0.00023556173086760333, r: 0.07066851926028099, md: 300\n",
       "</pre>\n"
      ],
      "text/plain": [
       "mean: 0.00023556173086760333, r: 0.07066851926028099, md: 300\n"
      ]
     },
     "metadata": {},
     "output_type": "display_data"
    },
    {
     "data": {
      "text/html": [
       "<pre style=\"white-space:pre;overflow-x:auto;line-height:normal;font-family:Menlo,'DejaVu Sans Mono',consolas,'Courier New',monospace\">mean: 0.000179962830673717, r: 0.053988849202115094, md: 300\n",
       "</pre>\n"
      ],
      "text/plain": [
       "mean: 0.000179962830673717, r: 0.053988849202115094, md: 300\n"
      ]
     },
     "metadata": {},
     "output_type": "display_data"
    },
    {
     "data": {
      "text/html": [
       "<pre style=\"white-space:pre;overflow-x:auto;line-height:normal;font-family:Menlo,'DejaVu Sans Mono',consolas,'Courier New',monospace\">mean: 0.0004659932133886012, r: 0.13979796401658037, md: 300\n",
       "</pre>\n"
      ],
      "text/plain": [
       "mean: 0.0004659932133886012, r: 0.13979796401658037, md: 300\n"
      ]
     },
     "metadata": {},
     "output_type": "display_data"
    },
    {
     "data": {
      "text/html": [
       "<pre style=\"white-space:pre;overflow-x:auto;line-height:normal;font-family:Menlo,'DejaVu Sans Mono',consolas,'Courier New',monospace\">mean: 0.0013400761741031368, r: 0.40202285223094103, md: 300\n",
       "</pre>\n"
      ],
      "text/plain": [
       "mean: 0.0013400761741031368, r: 0.40202285223094103, md: 300\n"
      ]
     },
     "metadata": {},
     "output_type": "display_data"
    },
    {
     "data": {
      "text/html": [
       "<pre style=\"white-space:pre;overflow-x:auto;line-height:normal;font-family:Menlo,'DejaVu Sans Mono',consolas,'Courier New',monospace\">mean: 0.00033277105377501834, r: 0.0998313161325055, md: 300\n",
       "</pre>\n"
      ],
      "text/plain": [
       "mean: 0.00033277105377501834, r: 0.0998313161325055, md: 300\n"
      ]
     },
     "metadata": {},
     "output_type": "display_data"
    },
    {
     "data": {
      "text/html": [
       "<pre style=\"white-space:pre;overflow-x:auto;line-height:normal;font-family:Menlo,'DejaVu Sans Mono',consolas,'Courier New',monospace\"></pre>\n"
      ],
      "text/plain": []
     },
     "metadata": {},
     "output_type": "display_data"
    },
    {
     "data": {
      "text/html": [
       "<pre style=\"white-space:pre;overflow-x:auto;line-height:normal;font-family:Menlo,'DejaVu Sans Mono',consolas,'Courier New',monospace\">\n",
       "</pre>\n"
      ],
      "text/plain": [
       "\n"
      ]
     },
     "metadata": {},
     "output_type": "display_data"
    },
    {
     "data": {
      "application/vnd.jupyter.widget-view+json": {
       "model_id": "51a86b2fea2d4206865aa04a774e3228",
       "version_major": 2,
       "version_minor": 0
      },
      "text/plain": [
       "Output()"
      ]
     },
     "metadata": {},
     "output_type": "display_data"
    },
    {
     "name": "stdout",
     "output_type": "stream",
     "text": [
      "epoch 62: Mean Reward = 0.00033277105377501834\n"
     ]
    },
    {
     "data": {
      "text/html": [
       "<pre style=\"white-space:pre;overflow-x:auto;line-height:normal;font-family:Menlo,'DejaVu Sans Mono',consolas,'Courier New',monospace\">mean: 0.0001873464468488823, r: 0.05620393405466469, md: 300\n",
       "</pre>\n"
      ],
      "text/plain": [
       "mean: 0.0001873464468488823, r: 0.05620393405466469, md: 300\n"
      ]
     },
     "metadata": {},
     "output_type": "display_data"
    },
    {
     "data": {
      "text/html": [
       "<pre style=\"white-space:pre;overflow-x:auto;line-height:normal;font-family:Menlo,'DejaVu Sans Mono',consolas,'Courier New',monospace\">mean: 0.0027004580522341465, r: 0.8101374156702439, md: 300\n",
       "</pre>\n"
      ],
      "text/plain": [
       "mean: 0.0027004580522341465, r: 0.8101374156702439, md: 300\n"
      ]
     },
     "metadata": {},
     "output_type": "display_data"
    },
    {
     "data": {
      "text/html": [
       "<pre style=\"white-space:pre;overflow-x:auto;line-height:normal;font-family:Menlo,'DejaVu Sans Mono',consolas,'Courier New',monospace\">mean: 0.00020125625366213196, r: 0.06037687609863959, md: 300\n",
       "</pre>\n"
      ],
      "text/plain": [
       "mean: 0.00020125625366213196, r: 0.06037687609863959, md: 300\n"
      ]
     },
     "metadata": {},
     "output_type": "display_data"
    },
    {
     "data": {
      "text/html": [
       "<pre style=\"white-space:pre;overflow-x:auto;line-height:normal;font-family:Menlo,'DejaVu Sans Mono',consolas,'Courier New',monospace\">mean: 0.0017691494364991613, r: 0.5307448309497483, md: 300\n",
       "</pre>\n"
      ],
      "text/plain": [
       "mean: 0.0017691494364991613, r: 0.5307448309497483, md: 300\n"
      ]
     },
     "metadata": {},
     "output_type": "display_data"
    },
    {
     "data": {
      "text/html": [
       "<pre style=\"white-space:pre;overflow-x:auto;line-height:normal;font-family:Menlo,'DejaVu Sans Mono',consolas,'Courier New',monospace\">mean: 0.00040681442842288834, r: 0.1220443285268665, md: 300\n",
       "</pre>\n"
      ],
      "text/plain": [
       "mean: 0.00040681442842288834, r: 0.1220443285268665, md: 300\n"
      ]
     },
     "metadata": {},
     "output_type": "display_data"
    },
    {
     "data": {
      "text/html": [
       "<pre style=\"white-space:pre;overflow-x:auto;line-height:normal;font-family:Menlo,'DejaVu Sans Mono',consolas,'Courier New',monospace\"></pre>\n"
      ],
      "text/plain": []
     },
     "metadata": {},
     "output_type": "display_data"
    },
    {
     "data": {
      "text/html": [
       "<pre style=\"white-space:pre;overflow-x:auto;line-height:normal;font-family:Menlo,'DejaVu Sans Mono',consolas,'Courier New',monospace\">\n",
       "</pre>\n"
      ],
      "text/plain": [
       "\n"
      ]
     },
     "metadata": {},
     "output_type": "display_data"
    },
    {
     "data": {
      "application/vnd.jupyter.widget-view+json": {
       "model_id": "b667e6ecf1db4a29bceb12d9595e6f00",
       "version_major": 2,
       "version_minor": 0
      },
      "text/plain": [
       "Output()"
      ]
     },
     "metadata": {},
     "output_type": "display_data"
    },
    {
     "name": "stdout",
     "output_type": "stream",
     "text": [
      "epoch 63: Mean Reward = 0.00040681442842288834\n"
     ]
    },
    {
     "data": {
      "text/html": [
       "<pre style=\"white-space:pre;overflow-x:auto;line-height:normal;font-family:Menlo,'DejaVu Sans Mono',consolas,'Courier New',monospace\">mean: 0.000496241049152967, r: 0.14887231474589008, md: 300\n",
       "</pre>\n"
      ],
      "text/plain": [
       "mean: 0.000496241049152967, r: 0.14887231474589008, md: 300\n"
      ]
     },
     "metadata": {},
     "output_type": "display_data"
    },
    {
     "data": {
      "text/html": [
       "<pre style=\"white-space:pre;overflow-x:auto;line-height:normal;font-family:Menlo,'DejaVu Sans Mono',consolas,'Courier New',monospace\">mean: 0.006617702341018019, r: 1.985310702305406, md: 300\n",
       "</pre>\n"
      ],
      "text/plain": [
       "mean: 0.006617702341018019, r: 1.985310702305406, md: 300\n"
      ]
     },
     "metadata": {},
     "output_type": "display_data"
    },
    {
     "data": {
      "text/html": [
       "<pre style=\"white-space:pre;overflow-x:auto;line-height:normal;font-family:Menlo,'DejaVu Sans Mono',consolas,'Courier New',monospace\">mean: 0.0017245336861490853, r: 0.5173601058447256, md: 300\n",
       "</pre>\n"
      ],
      "text/plain": [
       "mean: 0.0017245336861490853, r: 0.5173601058447256, md: 300\n"
      ]
     },
     "metadata": {},
     "output_type": "display_data"
    },
    {
     "data": {
      "text/html": [
       "<pre style=\"white-space:pre;overflow-x:auto;line-height:normal;font-family:Menlo,'DejaVu Sans Mono',consolas,'Courier New',monospace\">mean: 0.0003564153272521503, r: 0.10692459817564509, md: 300\n",
       "</pre>\n"
      ],
      "text/plain": [
       "mean: 0.0003564153272521503, r: 0.10692459817564509, md: 300\n"
      ]
     },
     "metadata": {},
     "output_type": "display_data"
    },
    {
     "data": {
      "text/html": [
       "<pre style=\"white-space:pre;overflow-x:auto;line-height:normal;font-family:Menlo,'DejaVu Sans Mono',consolas,'Courier New',monospace\">mean: 0.0001815418251311925, r: 0.05446254753935775, md: 300\n",
       "</pre>\n"
      ],
      "text/plain": [
       "mean: 0.0001815418251311925, r: 0.05446254753935775, md: 300\n"
      ]
     },
     "metadata": {},
     "output_type": "display_data"
    },
    {
     "data": {
      "text/html": [
       "<pre style=\"white-space:pre;overflow-x:auto;line-height:normal;font-family:Menlo,'DejaVu Sans Mono',consolas,'Courier New',monospace\"></pre>\n"
      ],
      "text/plain": []
     },
     "metadata": {},
     "output_type": "display_data"
    },
    {
     "data": {
      "text/html": [
       "<pre style=\"white-space:pre;overflow-x:auto;line-height:normal;font-family:Menlo,'DejaVu Sans Mono',consolas,'Courier New',monospace\">\n",
       "</pre>\n"
      ],
      "text/plain": [
       "\n"
      ]
     },
     "metadata": {},
     "output_type": "display_data"
    },
    {
     "data": {
      "application/vnd.jupyter.widget-view+json": {
       "model_id": "e6b60ec0e13049319a2643507fb95234",
       "version_major": 2,
       "version_minor": 0
      },
      "text/plain": [
       "Output()"
      ]
     },
     "metadata": {},
     "output_type": "display_data"
    },
    {
     "name": "stdout",
     "output_type": "stream",
     "text": [
      "epoch 64: Mean Reward = 0.0001815418251311925\n"
     ]
    },
    {
     "data": {
      "text/html": [
       "<pre style=\"white-space:pre;overflow-x:auto;line-height:normal;font-family:Menlo,'DejaVu Sans Mono',consolas,'Courier New',monospace\">mean: 0.0001387204003221102, r: 0.04161612009663307, md: 300\n",
       "</pre>\n"
      ],
      "text/plain": [
       "mean: 0.0001387204003221102, r: 0.04161612009663307, md: 300\n"
      ]
     },
     "metadata": {},
     "output_type": "display_data"
    },
    {
     "data": {
      "text/html": [
       "<pre style=\"white-space:pre;overflow-x:auto;line-height:normal;font-family:Menlo,'DejaVu Sans Mono',consolas,'Courier New',monospace\">mean: 0.00036837826852523784, r: 0.11051348055757136, md: 300\n",
       "</pre>\n"
      ],
      "text/plain": [
       "mean: 0.00036837826852523784, r: 0.11051348055757136, md: 300\n"
      ]
     },
     "metadata": {},
     "output_type": "display_data"
    },
    {
     "data": {
      "text/html": [
       "<pre style=\"white-space:pre;overflow-x:auto;line-height:normal;font-family:Menlo,'DejaVu Sans Mono',consolas,'Courier New',monospace\">mean: 0.0016585511528644198, r: 0.497565345859326, md: 300\n",
       "</pre>\n"
      ],
      "text/plain": [
       "mean: 0.0016585511528644198, r: 0.497565345859326, md: 300\n"
      ]
     },
     "metadata": {},
     "output_type": "display_data"
    },
    {
     "data": {
      "text/html": [
       "<pre style=\"white-space:pre;overflow-x:auto;line-height:normal;font-family:Menlo,'DejaVu Sans Mono',consolas,'Courier New',monospace\">mean: 0.0008633850151251313, r: 0.25901550453753946, md: 300\n",
       "</pre>\n"
      ],
      "text/plain": [
       "mean: 0.0008633850151251313, r: 0.25901550453753946, md: 300\n"
      ]
     },
     "metadata": {},
     "output_type": "display_data"
    },
    {
     "data": {
      "text/html": [
       "<pre style=\"white-space:pre;overflow-x:auto;line-height:normal;font-family:Menlo,'DejaVu Sans Mono',consolas,'Courier New',monospace\">mean: 0.0008549653006105519, r: 0.25648959018316553, md: 300\n",
       "</pre>\n"
      ],
      "text/plain": [
       "mean: 0.0008549653006105519, r: 0.25648959018316553, md: 300\n"
      ]
     },
     "metadata": {},
     "output_type": "display_data"
    },
    {
     "data": {
      "text/html": [
       "<pre style=\"white-space:pre;overflow-x:auto;line-height:normal;font-family:Menlo,'DejaVu Sans Mono',consolas,'Courier New',monospace\"></pre>\n"
      ],
      "text/plain": []
     },
     "metadata": {},
     "output_type": "display_data"
    },
    {
     "data": {
      "text/html": [
       "<pre style=\"white-space:pre;overflow-x:auto;line-height:normal;font-family:Menlo,'DejaVu Sans Mono',consolas,'Courier New',monospace\">\n",
       "</pre>\n"
      ],
      "text/plain": [
       "\n"
      ]
     },
     "metadata": {},
     "output_type": "display_data"
    },
    {
     "data": {
      "application/vnd.jupyter.widget-view+json": {
       "model_id": "bbca698eff184e1eac7560280119f547",
       "version_major": 2,
       "version_minor": 0
      },
      "text/plain": [
       "Output()"
      ]
     },
     "metadata": {},
     "output_type": "display_data"
    },
    {
     "name": "stdout",
     "output_type": "stream",
     "text": [
      "epoch 65: Mean Reward = 0.0008549653006105519\n"
     ]
    },
    {
     "data": {
      "text/html": [
       "<pre style=\"white-space:pre;overflow-x:auto;line-height:normal;font-family:Menlo,'DejaVu Sans Mono',consolas,'Courier New',monospace\">mean: 0.0014244092296944338, r: 0.42732276890833015, md: 300\n",
       "</pre>\n"
      ],
      "text/plain": [
       "mean: 0.0014244092296944338, r: 0.42732276890833015, md: 300\n"
      ]
     },
     "metadata": {},
     "output_type": "display_data"
    },
    {
     "data": {
      "text/html": [
       "<pre style=\"white-space:pre;overflow-x:auto;line-height:normal;font-family:Menlo,'DejaVu Sans Mono',consolas,'Courier New',monospace\">mean: 0.00016588001018719444, r: 0.04976400305615833, md: 300\n",
       "</pre>\n"
      ],
      "text/plain": [
       "mean: 0.00016588001018719444, r: 0.04976400305615833, md: 300\n"
      ]
     },
     "metadata": {},
     "output_type": "display_data"
    },
    {
     "data": {
      "text/html": [
       "<pre style=\"white-space:pre;overflow-x:auto;line-height:normal;font-family:Menlo,'DejaVu Sans Mono',consolas,'Courier New',monospace\">mean: 0.00016326571569065946, r: 0.04897971470719784, md: 300\n",
       "</pre>\n"
      ],
      "text/plain": [
       "mean: 0.00016326571569065946, r: 0.04897971470719784, md: 300\n"
      ]
     },
     "metadata": {},
     "output_type": "display_data"
    },
    {
     "data": {
      "text/html": [
       "<pre style=\"white-space:pre;overflow-x:auto;line-height:normal;font-family:Menlo,'DejaVu Sans Mono',consolas,'Courier New',monospace\">mean: 0.00017184747472376928, r: 0.05155424241713079, md: 300\n",
       "</pre>\n"
      ],
      "text/plain": [
       "mean: 0.00017184747472376928, r: 0.05155424241713079, md: 300\n"
      ]
     },
     "metadata": {},
     "output_type": "display_data"
    },
    {
     "data": {
      "text/html": [
       "<pre style=\"white-space:pre;overflow-x:auto;line-height:normal;font-family:Menlo,'DejaVu Sans Mono',consolas,'Courier New',monospace\">mean: 0.0001581278697342644, r: 0.047438360920279324, md: 300\n",
       "</pre>\n"
      ],
      "text/plain": [
       "mean: 0.0001581278697342644, r: 0.047438360920279324, md: 300\n"
      ]
     },
     "metadata": {},
     "output_type": "display_data"
    },
    {
     "data": {
      "text/html": [
       "<pre style=\"white-space:pre;overflow-x:auto;line-height:normal;font-family:Menlo,'DejaVu Sans Mono',consolas,'Courier New',monospace\"></pre>\n"
      ],
      "text/plain": []
     },
     "metadata": {},
     "output_type": "display_data"
    },
    {
     "data": {
      "text/html": [
       "<pre style=\"white-space:pre;overflow-x:auto;line-height:normal;font-family:Menlo,'DejaVu Sans Mono',consolas,'Courier New',monospace\">\n",
       "</pre>\n"
      ],
      "text/plain": [
       "\n"
      ]
     },
     "metadata": {},
     "output_type": "display_data"
    },
    {
     "data": {
      "application/vnd.jupyter.widget-view+json": {
       "model_id": "234179c867b84c86b373b8e895584a7f",
       "version_major": 2,
       "version_minor": 0
      },
      "text/plain": [
       "Output()"
      ]
     },
     "metadata": {},
     "output_type": "display_data"
    },
    {
     "name": "stdout",
     "output_type": "stream",
     "text": [
      "epoch 66: Mean Reward = 0.0001581278697342644\n"
     ]
    },
    {
     "data": {
      "text/html": [
       "<pre style=\"white-space:pre;overflow-x:auto;line-height:normal;font-family:Menlo,'DejaVu Sans Mono',consolas,'Courier New',monospace\">mean: 0.00017612671817449896, r: 0.05283801545234969, md: 300\n",
       "</pre>\n"
      ],
      "text/plain": [
       "mean: 0.00017612671817449896, r: 0.05283801545234969, md: 300\n"
      ]
     },
     "metadata": {},
     "output_type": "display_data"
    },
    {
     "data": {
      "text/html": [
       "<pre style=\"white-space:pre;overflow-x:auto;line-height:normal;font-family:Menlo,'DejaVu Sans Mono',consolas,'Courier New',monospace\">mean: 0.0029315724641138796, r: 0.879471739234164, md: 300\n",
       "</pre>\n"
      ],
      "text/plain": [
       "mean: 0.0029315724641138796, r: 0.879471739234164, md: 300\n"
      ]
     },
     "metadata": {},
     "output_type": "display_data"
    },
    {
     "data": {
      "text/html": [
       "<pre style=\"white-space:pre;overflow-x:auto;line-height:normal;font-family:Menlo,'DejaVu Sans Mono',consolas,'Courier New',monospace\">mean: 0.001048018660980118, r: 0.31440559829403536, md: 300\n",
       "</pre>\n"
      ],
      "text/plain": [
       "mean: 0.001048018660980118, r: 0.31440559829403536, md: 300\n"
      ]
     },
     "metadata": {},
     "output_type": "display_data"
    },
    {
     "data": {
      "text/html": [
       "<pre style=\"white-space:pre;overflow-x:auto;line-height:normal;font-family:Menlo,'DejaVu Sans Mono',consolas,'Courier New',monospace\">mean: 0.0002249545157169356, r: 0.06748635471508067, md: 300\n",
       "</pre>\n"
      ],
      "text/plain": [
       "mean: 0.0002249545157169356, r: 0.06748635471508067, md: 300\n"
      ]
     },
     "metadata": {},
     "output_type": "display_data"
    },
    {
     "data": {
      "text/html": [
       "<pre style=\"white-space:pre;overflow-x:auto;line-height:normal;font-family:Menlo,'DejaVu Sans Mono',consolas,'Courier New',monospace\">mean: 0.0002477190644629926, r: 0.07431571933889779, md: 300\n",
       "</pre>\n"
      ],
      "text/plain": [
       "mean: 0.0002477190644629926, r: 0.07431571933889779, md: 300\n"
      ]
     },
     "metadata": {},
     "output_type": "display_data"
    },
    {
     "data": {
      "text/html": [
       "<pre style=\"white-space:pre;overflow-x:auto;line-height:normal;font-family:Menlo,'DejaVu Sans Mono',consolas,'Courier New',monospace\"></pre>\n"
      ],
      "text/plain": []
     },
     "metadata": {},
     "output_type": "display_data"
    },
    {
     "data": {
      "text/html": [
       "<pre style=\"white-space:pre;overflow-x:auto;line-height:normal;font-family:Menlo,'DejaVu Sans Mono',consolas,'Courier New',monospace\">\n",
       "</pre>\n"
      ],
      "text/plain": [
       "\n"
      ]
     },
     "metadata": {},
     "output_type": "display_data"
    },
    {
     "data": {
      "application/vnd.jupyter.widget-view+json": {
       "model_id": "eedb05e520264486bbee5c8ff8459c58",
       "version_major": 2,
       "version_minor": 0
      },
      "text/plain": [
       "Output()"
      ]
     },
     "metadata": {},
     "output_type": "display_data"
    },
    {
     "name": "stdout",
     "output_type": "stream",
     "text": [
      "epoch 67: Mean Reward = 0.0002477190644629926\n"
     ]
    },
    {
     "data": {
      "text/html": [
       "<pre style=\"white-space:pre;overflow-x:auto;line-height:normal;font-family:Menlo,'DejaVu Sans Mono',consolas,'Courier New',monospace\">mean: 0.0003786065961741212, r: 0.11358197885223636, md: 300\n",
       "</pre>\n"
      ],
      "text/plain": [
       "mean: 0.0003786065961741212, r: 0.11358197885223636, md: 300\n"
      ]
     },
     "metadata": {},
     "output_type": "display_data"
    },
    {
     "data": {
      "text/html": [
       "<pre style=\"white-space:pre;overflow-x:auto;line-height:normal;font-family:Menlo,'DejaVu Sans Mono',consolas,'Courier New',monospace\">mean: 0.00015675821049898804, r: 0.047027463149696414, md: 300\n",
       "</pre>\n"
      ],
      "text/plain": [
       "mean: 0.00015675821049898804, r: 0.047027463149696414, md: 300\n"
      ]
     },
     "metadata": {},
     "output_type": "display_data"
    },
    {
     "data": {
      "text/html": [
       "<pre style=\"white-space:pre;overflow-x:auto;line-height:normal;font-family:Menlo,'DejaVu Sans Mono',consolas,'Courier New',monospace\">mean: 0.00022117726086058912, r: 0.06635317825817673, md: 300\n",
       "</pre>\n"
      ],
      "text/plain": [
       "mean: 0.00022117726086058912, r: 0.06635317825817673, md: 300\n"
      ]
     },
     "metadata": {},
     "output_type": "display_data"
    },
    {
     "data": {
      "text/html": [
       "<pre style=\"white-space:pre;overflow-x:auto;line-height:normal;font-family:Menlo,'DejaVu Sans Mono',consolas,'Courier New',monospace\">mean: 0.00015352280966358226, r: 0.04605684289907467, md: 300\n",
       "</pre>\n"
      ],
      "text/plain": [
       "mean: 0.00015352280966358226, r: 0.04605684289907467, md: 300\n"
      ]
     },
     "metadata": {},
     "output_type": "display_data"
    },
    {
     "data": {
      "text/html": [
       "<pre style=\"white-space:pre;overflow-x:auto;line-height:normal;font-family:Menlo,'DejaVu Sans Mono',consolas,'Courier New',monospace\">mean: 0.0002864789670154868, r: 0.08594369010464603, md: 300\n",
       "</pre>\n"
      ],
      "text/plain": [
       "mean: 0.0002864789670154868, r: 0.08594369010464603, md: 300\n"
      ]
     },
     "metadata": {},
     "output_type": "display_data"
    },
    {
     "data": {
      "text/html": [
       "<pre style=\"white-space:pre;overflow-x:auto;line-height:normal;font-family:Menlo,'DejaVu Sans Mono',consolas,'Courier New',monospace\"></pre>\n"
      ],
      "text/plain": []
     },
     "metadata": {},
     "output_type": "display_data"
    },
    {
     "data": {
      "text/html": [
       "<pre style=\"white-space:pre;overflow-x:auto;line-height:normal;font-family:Menlo,'DejaVu Sans Mono',consolas,'Courier New',monospace\">\n",
       "</pre>\n"
      ],
      "text/plain": [
       "\n"
      ]
     },
     "metadata": {},
     "output_type": "display_data"
    },
    {
     "data": {
      "application/vnd.jupyter.widget-view+json": {
       "model_id": "1ff673cf86194c378b8d2b98232bd40e",
       "version_major": 2,
       "version_minor": 0
      },
      "text/plain": [
       "Output()"
      ]
     },
     "metadata": {},
     "output_type": "display_data"
    },
    {
     "name": "stdout",
     "output_type": "stream",
     "text": [
      "epoch 68: Mean Reward = 0.0002864789670154868\n"
     ]
    },
    {
     "data": {
      "text/html": [
       "<pre style=\"white-space:pre;overflow-x:auto;line-height:normal;font-family:Menlo,'DejaVu Sans Mono',consolas,'Courier New',monospace\">mean: 0.0001799703046108303, r: 0.05399109138324909, md: 300\n",
       "</pre>\n"
      ],
      "text/plain": [
       "mean: 0.0001799703046108303, r: 0.05399109138324909, md: 300\n"
      ]
     },
     "metadata": {},
     "output_type": "display_data"
    },
    {
     "data": {
      "text/html": [
       "<pre style=\"white-space:pre;overflow-x:auto;line-height:normal;font-family:Menlo,'DejaVu Sans Mono',consolas,'Courier New',monospace\">mean: 0.00015635935774203403, r: 0.04690780732261021, md: 300\n",
       "</pre>\n"
      ],
      "text/plain": [
       "mean: 0.00015635935774203403, r: 0.04690780732261021, md: 300\n"
      ]
     },
     "metadata": {},
     "output_type": "display_data"
    },
    {
     "data": {
      "text/html": [
       "<pre style=\"white-space:pre;overflow-x:auto;line-height:normal;font-family:Menlo,'DejaVu Sans Mono',consolas,'Courier New',monospace\">mean: 0.00020116570146665123, r: 0.060349710439995374, md: 300\n",
       "</pre>\n"
      ],
      "text/plain": [
       "mean: 0.00020116570146665123, r: 0.060349710439995374, md: 300\n"
      ]
     },
     "metadata": {},
     "output_type": "display_data"
    },
    {
     "data": {
      "text/html": [
       "<pre style=\"white-space:pre;overflow-x:auto;line-height:normal;font-family:Menlo,'DejaVu Sans Mono',consolas,'Courier New',monospace\">mean: 0.0001786531009826781, r: 0.05359593029480343, md: 300\n",
       "</pre>\n"
      ],
      "text/plain": [
       "mean: 0.0001786531009826781, r: 0.05359593029480343, md: 300\n"
      ]
     },
     "metadata": {},
     "output_type": "display_data"
    },
    {
     "data": {
      "text/html": [
       "<pre style=\"white-space:pre;overflow-x:auto;line-height:normal;font-family:Menlo,'DejaVu Sans Mono',consolas,'Courier New',monospace\">mean: 0.0007343393497859718, r: 0.22030180493579155, md: 300\n",
       "</pre>\n"
      ],
      "text/plain": [
       "mean: 0.0007343393497859718, r: 0.22030180493579155, md: 300\n"
      ]
     },
     "metadata": {},
     "output_type": "display_data"
    },
    {
     "data": {
      "text/html": [
       "<pre style=\"white-space:pre;overflow-x:auto;line-height:normal;font-family:Menlo,'DejaVu Sans Mono',consolas,'Courier New',monospace\"></pre>\n"
      ],
      "text/plain": []
     },
     "metadata": {},
     "output_type": "display_data"
    },
    {
     "data": {
      "text/html": [
       "<pre style=\"white-space:pre;overflow-x:auto;line-height:normal;font-family:Menlo,'DejaVu Sans Mono',consolas,'Courier New',monospace\">\n",
       "</pre>\n"
      ],
      "text/plain": [
       "\n"
      ]
     },
     "metadata": {},
     "output_type": "display_data"
    },
    {
     "data": {
      "application/vnd.jupyter.widget-view+json": {
       "model_id": "b51a700e52cf4a699b45f899d0107fe9",
       "version_major": 2,
       "version_minor": 0
      },
      "text/plain": [
       "Output()"
      ]
     },
     "metadata": {},
     "output_type": "display_data"
    },
    {
     "name": "stdout",
     "output_type": "stream",
     "text": [
      "epoch 69: Mean Reward = 0.0007343393497859718\n"
     ]
    },
    {
     "data": {
      "text/html": [
       "<pre style=\"white-space:pre;overflow-x:auto;line-height:normal;font-family:Menlo,'DejaVu Sans Mono',consolas,'Courier New',monospace\">mean: 0.0014491879148050544, r: 0.43475637444151627, md: 300\n",
       "</pre>\n"
      ],
      "text/plain": [
       "mean: 0.0014491879148050544, r: 0.43475637444151627, md: 300\n"
      ]
     },
     "metadata": {},
     "output_type": "display_data"
    },
    {
     "data": {
      "text/html": [
       "<pre style=\"white-space:pre;overflow-x:auto;line-height:normal;font-family:Menlo,'DejaVu Sans Mono',consolas,'Courier New',monospace\">mean: 0.00020621439716945968, r: 0.06186431915083791, md: 300\n",
       "</pre>\n"
      ],
      "text/plain": [
       "mean: 0.00020621439716945968, r: 0.06186431915083791, md: 300\n"
      ]
     },
     "metadata": {},
     "output_type": "display_data"
    },
    {
     "data": {
      "text/html": [
       "<pre style=\"white-space:pre;overflow-x:auto;line-height:normal;font-family:Menlo,'DejaVu Sans Mono',consolas,'Courier New',monospace\">mean: 0.00020793566510997452, r: 0.06238069953299236, md: 300\n",
       "</pre>\n"
      ],
      "text/plain": [
       "mean: 0.00020793566510997452, r: 0.06238069953299236, md: 300\n"
      ]
     },
     "metadata": {},
     "output_type": "display_data"
    },
    {
     "data": {
      "text/html": [
       "<pre style=\"white-space:pre;overflow-x:auto;line-height:normal;font-family:Menlo,'DejaVu Sans Mono',consolas,'Courier New',monospace\">mean: 0.0001874462124116175, r: 0.056233863723485246, md: 300\n",
       "</pre>\n"
      ],
      "text/plain": [
       "mean: 0.0001874462124116175, r: 0.056233863723485246, md: 300\n"
      ]
     },
     "metadata": {},
     "output_type": "display_data"
    },
    {
     "data": {
      "text/html": [
       "<pre style=\"white-space:pre;overflow-x:auto;line-height:normal;font-family:Menlo,'DejaVu Sans Mono',consolas,'Courier New',monospace\">mean: 0.000177963012070185, r: 0.05338890362105549, md: 300\n",
       "</pre>\n"
      ],
      "text/plain": [
       "mean: 0.000177963012070185, r: 0.05338890362105549, md: 300\n"
      ]
     },
     "metadata": {},
     "output_type": "display_data"
    },
    {
     "data": {
      "text/html": [
       "<pre style=\"white-space:pre;overflow-x:auto;line-height:normal;font-family:Menlo,'DejaVu Sans Mono',consolas,'Courier New',monospace\"></pre>\n"
      ],
      "text/plain": []
     },
     "metadata": {},
     "output_type": "display_data"
    },
    {
     "data": {
      "text/html": [
       "<pre style=\"white-space:pre;overflow-x:auto;line-height:normal;font-family:Menlo,'DejaVu Sans Mono',consolas,'Courier New',monospace\">\n",
       "</pre>\n"
      ],
      "text/plain": [
       "\n"
      ]
     },
     "metadata": {},
     "output_type": "display_data"
    },
    {
     "data": {
      "application/vnd.jupyter.widget-view+json": {
       "model_id": "bd123e57a4204f5e8117e1fefe5652e2",
       "version_major": 2,
       "version_minor": 0
      },
      "text/plain": [
       "Output()"
      ]
     },
     "metadata": {},
     "output_type": "display_data"
    },
    {
     "name": "stdout",
     "output_type": "stream",
     "text": [
      "epoch 70: Mean Reward = 0.000177963012070185\n"
     ]
    },
    {
     "data": {
      "text/html": [
       "<pre style=\"white-space:pre;overflow-x:auto;line-height:normal;font-family:Menlo,'DejaVu Sans Mono',consolas,'Courier New',monospace\">mean: 0.0001440525058567428, r: 0.04321575175702284, md: 300\n",
       "</pre>\n"
      ],
      "text/plain": [
       "mean: 0.0001440525058567428, r: 0.04321575175702284, md: 300\n"
      ]
     },
     "metadata": {},
     "output_type": "display_data"
    },
    {
     "data": {
      "text/html": [
       "<pre style=\"white-space:pre;overflow-x:auto;line-height:normal;font-family:Menlo,'DejaVu Sans Mono',consolas,'Courier New',monospace\">mean: 0.00016094534216618505, r: 0.04828360264985551, md: 300\n",
       "</pre>\n"
      ],
      "text/plain": [
       "mean: 0.00016094534216618505, r: 0.04828360264985551, md: 300\n"
      ]
     },
     "metadata": {},
     "output_type": "display_data"
    },
    {
     "data": {
      "text/html": [
       "<pre style=\"white-space:pre;overflow-x:auto;line-height:normal;font-family:Menlo,'DejaVu Sans Mono',consolas,'Courier New',monospace\">mean: 0.0001641052361035829, r: 0.04923157083107487, md: 300\n",
       "</pre>\n"
      ],
      "text/plain": [
       "mean: 0.0001641052361035829, r: 0.04923157083107487, md: 300\n"
      ]
     },
     "metadata": {},
     "output_type": "display_data"
    },
    {
     "data": {
      "text/html": [
       "<pre style=\"white-space:pre;overflow-x:auto;line-height:normal;font-family:Menlo,'DejaVu Sans Mono',consolas,'Courier New',monospace\">mean: 0.0005545971505452645, r: 0.16637914516357935, md: 300\n",
       "</pre>\n"
      ],
      "text/plain": [
       "mean: 0.0005545971505452645, r: 0.16637914516357935, md: 300\n"
      ]
     },
     "metadata": {},
     "output_type": "display_data"
    },
    {
     "data": {
      "text/html": [
       "<pre style=\"white-space:pre;overflow-x:auto;line-height:normal;font-family:Menlo,'DejaVu Sans Mono',consolas,'Courier New',monospace\">mean: 0.0022729028866780776, r: 0.6818708660034233, md: 300\n",
       "</pre>\n"
      ],
      "text/plain": [
       "mean: 0.0022729028866780776, r: 0.6818708660034233, md: 300\n"
      ]
     },
     "metadata": {},
     "output_type": "display_data"
    },
    {
     "data": {
      "text/html": [
       "<pre style=\"white-space:pre;overflow-x:auto;line-height:normal;font-family:Menlo,'DejaVu Sans Mono',consolas,'Courier New',monospace\"></pre>\n"
      ],
      "text/plain": []
     },
     "metadata": {},
     "output_type": "display_data"
    },
    {
     "data": {
      "text/html": [
       "<pre style=\"white-space:pre;overflow-x:auto;line-height:normal;font-family:Menlo,'DejaVu Sans Mono',consolas,'Courier New',monospace\">\n",
       "</pre>\n"
      ],
      "text/plain": [
       "\n"
      ]
     },
     "metadata": {},
     "output_type": "display_data"
    },
    {
     "data": {
      "application/vnd.jupyter.widget-view+json": {
       "model_id": "28766473af5a4bf281480de629a7af30",
       "version_major": 2,
       "version_minor": 0
      },
      "text/plain": [
       "Output()"
      ]
     },
     "metadata": {},
     "output_type": "display_data"
    },
    {
     "name": "stdout",
     "output_type": "stream",
     "text": [
      "epoch 71: Mean Reward = 0.0022729028866780776\n"
     ]
    },
    {
     "data": {
      "text/html": [
       "<pre style=\"white-space:pre;overflow-x:auto;line-height:normal;font-family:Menlo,'DejaVu Sans Mono',consolas,'Courier New',monospace\">mean: 0.000759535962782742, r: 0.22786078883482258, md: 300\n",
       "</pre>\n"
      ],
      "text/plain": [
       "mean: 0.000759535962782742, r: 0.22786078883482258, md: 300\n"
      ]
     },
     "metadata": {},
     "output_type": "display_data"
    },
    {
     "data": {
      "text/html": [
       "<pre style=\"white-space:pre;overflow-x:auto;line-height:normal;font-family:Menlo,'DejaVu Sans Mono',consolas,'Courier New',monospace\">mean: 0.014713438133394024, r: 4.414031440018208, md: 300\n",
       "</pre>\n"
      ],
      "text/plain": [
       "mean: 0.014713438133394024, r: 4.414031440018208, md: 300\n"
      ]
     },
     "metadata": {},
     "output_type": "display_data"
    },
    {
     "data": {
      "text/html": [
       "<pre style=\"white-space:pre;overflow-x:auto;line-height:normal;font-family:Menlo,'DejaVu Sans Mono',consolas,'Courier New',monospace\">mean: 0.0001352139441594219, r: 0.040564183247826575, md: 300\n",
       "</pre>\n"
      ],
      "text/plain": [
       "mean: 0.0001352139441594219, r: 0.040564183247826575, md: 300\n"
      ]
     },
     "metadata": {},
     "output_type": "display_data"
    },
    {
     "data": {
      "text/html": [
       "<pre style=\"white-space:pre;overflow-x:auto;line-height:normal;font-family:Menlo,'DejaVu Sans Mono',consolas,'Courier New',monospace\">mean: 0.00028691844946619836, r: 0.08607553483985948, md: 300\n",
       "</pre>\n"
      ],
      "text/plain": [
       "mean: 0.00028691844946619836, r: 0.08607553483985948, md: 300\n"
      ]
     },
     "metadata": {},
     "output_type": "display_data"
    },
    {
     "data": {
      "text/html": [
       "<pre style=\"white-space:pre;overflow-x:auto;line-height:normal;font-family:Menlo,'DejaVu Sans Mono',consolas,'Courier New',monospace\">mean: 0.001659601114554007, r: 0.49788033436620205, md: 300\n",
       "</pre>\n"
      ],
      "text/plain": [
       "mean: 0.001659601114554007, r: 0.49788033436620205, md: 300\n"
      ]
     },
     "metadata": {},
     "output_type": "display_data"
    },
    {
     "data": {
      "text/html": [
       "<pre style=\"white-space:pre;overflow-x:auto;line-height:normal;font-family:Menlo,'DejaVu Sans Mono',consolas,'Courier New',monospace\"></pre>\n"
      ],
      "text/plain": []
     },
     "metadata": {},
     "output_type": "display_data"
    },
    {
     "data": {
      "text/html": [
       "<pre style=\"white-space:pre;overflow-x:auto;line-height:normal;font-family:Menlo,'DejaVu Sans Mono',consolas,'Courier New',monospace\">\n",
       "</pre>\n"
      ],
      "text/plain": [
       "\n"
      ]
     },
     "metadata": {},
     "output_type": "display_data"
    },
    {
     "data": {
      "application/vnd.jupyter.widget-view+json": {
       "model_id": "c6bdc7d990ea4474a4168af8ff87408b",
       "version_major": 2,
       "version_minor": 0
      },
      "text/plain": [
       "Output()"
      ]
     },
     "metadata": {},
     "output_type": "display_data"
    },
    {
     "name": "stdout",
     "output_type": "stream",
     "text": [
      "epoch 72: Mean Reward = 0.001659601114554007\n"
     ]
    },
    {
     "data": {
      "text/html": [
       "<pre style=\"white-space:pre;overflow-x:auto;line-height:normal;font-family:Menlo,'DejaVu Sans Mono',consolas,'Courier New',monospace\">mean: 0.00026770939979902416, r: 0.08031281993970726, md: 300\n",
       "</pre>\n"
      ],
      "text/plain": [
       "mean: 0.00026770939979902416, r: 0.08031281993970726, md: 300\n"
      ]
     },
     "metadata": {},
     "output_type": "display_data"
    },
    {
     "data": {
      "text/html": [
       "<pre style=\"white-space:pre;overflow-x:auto;line-height:normal;font-family:Menlo,'DejaVu Sans Mono',consolas,'Courier New',monospace\">mean: 0.0014228609606488935, r: 0.42685828819466803, md: 300\n",
       "</pre>\n"
      ],
      "text/plain": [
       "mean: 0.0014228609606488935, r: 0.42685828819466803, md: 300\n"
      ]
     },
     "metadata": {},
     "output_type": "display_data"
    },
    {
     "data": {
      "text/html": [
       "<pre style=\"white-space:pre;overflow-x:auto;line-height:normal;font-family:Menlo,'DejaVu Sans Mono',consolas,'Courier New',monospace\">mean: 0.00037630420334648054, r: 0.11289126100394417, md: 300\n",
       "</pre>\n"
      ],
      "text/plain": [
       "mean: 0.00037630420334648054, r: 0.11289126100394417, md: 300\n"
      ]
     },
     "metadata": {},
     "output_type": "display_data"
    },
    {
     "data": {
      "text/html": [
       "<pre style=\"white-space:pre;overflow-x:auto;line-height:normal;font-family:Menlo,'DejaVu Sans Mono',consolas,'Courier New',monospace\">mean: 0.00022680155794285966, r: 0.0680404673828579, md: 300\n",
       "</pre>\n"
      ],
      "text/plain": [
       "mean: 0.00022680155794285966, r: 0.0680404673828579, md: 300\n"
      ]
     },
     "metadata": {},
     "output_type": "display_data"
    },
    {
     "data": {
      "text/html": [
       "<pre style=\"white-space:pre;overflow-x:auto;line-height:normal;font-family:Menlo,'DejaVu Sans Mono',consolas,'Courier New',monospace\">mean: 0.002647647246634838, r: 0.7942941739904513, md: 300\n",
       "</pre>\n"
      ],
      "text/plain": [
       "mean: 0.002647647246634838, r: 0.7942941739904513, md: 300\n"
      ]
     },
     "metadata": {},
     "output_type": "display_data"
    },
    {
     "data": {
      "text/html": [
       "<pre style=\"white-space:pre;overflow-x:auto;line-height:normal;font-family:Menlo,'DejaVu Sans Mono',consolas,'Courier New',monospace\"></pre>\n"
      ],
      "text/plain": []
     },
     "metadata": {},
     "output_type": "display_data"
    },
    {
     "data": {
      "text/html": [
       "<pre style=\"white-space:pre;overflow-x:auto;line-height:normal;font-family:Menlo,'DejaVu Sans Mono',consolas,'Courier New',monospace\">\n",
       "</pre>\n"
      ],
      "text/plain": [
       "\n"
      ]
     },
     "metadata": {},
     "output_type": "display_data"
    },
    {
     "data": {
      "application/vnd.jupyter.widget-view+json": {
       "model_id": "202d1cfc3b09476ba4cae121132231ed",
       "version_major": 2,
       "version_minor": 0
      },
      "text/plain": [
       "Output()"
      ]
     },
     "metadata": {},
     "output_type": "display_data"
    },
    {
     "name": "stdout",
     "output_type": "stream",
     "text": [
      "epoch 73: Mean Reward = 0.002647647246634838\n"
     ]
    },
    {
     "data": {
      "text/html": [
       "<pre style=\"white-space:pre;overflow-x:auto;line-height:normal;font-family:Menlo,'DejaVu Sans Mono',consolas,'Courier New',monospace\">mean: 0.00016583530131111533, r: 0.0497505903933346, md: 300\n",
       "</pre>\n"
      ],
      "text/plain": [
       "mean: 0.00016583530131111533, r: 0.0497505903933346, md: 300\n"
      ]
     },
     "metadata": {},
     "output_type": "display_data"
    },
    {
     "data": {
      "text/html": [
       "<pre style=\"white-space:pre;overflow-x:auto;line-height:normal;font-family:Menlo,'DejaVu Sans Mono',consolas,'Courier New',monospace\">mean: 0.000595338063437935, r: 0.17860141903138052, md: 300\n",
       "</pre>\n"
      ],
      "text/plain": [
       "mean: 0.000595338063437935, r: 0.17860141903138052, md: 300\n"
      ]
     },
     "metadata": {},
     "output_type": "display_data"
    },
    {
     "data": {
      "text/html": [
       "<pre style=\"white-space:pre;overflow-x:auto;line-height:normal;font-family:Menlo,'DejaVu Sans Mono',consolas,'Courier New',monospace\">mean: 0.0016828789984140546, r: 0.5048636995242164, md: 300\n",
       "</pre>\n"
      ],
      "text/plain": [
       "mean: 0.0016828789984140546, r: 0.5048636995242164, md: 300\n"
      ]
     },
     "metadata": {},
     "output_type": "display_data"
    },
    {
     "data": {
      "text/html": [
       "<pre style=\"white-space:pre;overflow-x:auto;line-height:normal;font-family:Menlo,'DejaVu Sans Mono',consolas,'Courier New',monospace\">mean: 0.001309069504570978, r: 0.3927208513712934, md: 300\n",
       "</pre>\n"
      ],
      "text/plain": [
       "mean: 0.001309069504570978, r: 0.3927208513712934, md: 300\n"
      ]
     },
     "metadata": {},
     "output_type": "display_data"
    },
    {
     "data": {
      "text/html": [
       "<pre style=\"white-space:pre;overflow-x:auto;line-height:normal;font-family:Menlo,'DejaVu Sans Mono',consolas,'Courier New',monospace\">mean: 0.00035077478204915833, r: 0.10523243461474749, md: 300\n",
       "</pre>\n"
      ],
      "text/plain": [
       "mean: 0.00035077478204915833, r: 0.10523243461474749, md: 300\n"
      ]
     },
     "metadata": {},
     "output_type": "display_data"
    },
    {
     "data": {
      "text/html": [
       "<pre style=\"white-space:pre;overflow-x:auto;line-height:normal;font-family:Menlo,'DejaVu Sans Mono',consolas,'Courier New',monospace\"></pre>\n"
      ],
      "text/plain": []
     },
     "metadata": {},
     "output_type": "display_data"
    },
    {
     "data": {
      "text/html": [
       "<pre style=\"white-space:pre;overflow-x:auto;line-height:normal;font-family:Menlo,'DejaVu Sans Mono',consolas,'Courier New',monospace\">\n",
       "</pre>\n"
      ],
      "text/plain": [
       "\n"
      ]
     },
     "metadata": {},
     "output_type": "display_data"
    },
    {
     "data": {
      "application/vnd.jupyter.widget-view+json": {
       "model_id": "04417fb09d5949d8ab0b716fd94b2970",
       "version_major": 2,
       "version_minor": 0
      },
      "text/plain": [
       "Output()"
      ]
     },
     "metadata": {},
     "output_type": "display_data"
    },
    {
     "name": "stdout",
     "output_type": "stream",
     "text": [
      "epoch 74: Mean Reward = 0.00035077478204915833\n"
     ]
    },
    {
     "data": {
      "text/html": [
       "<pre style=\"white-space:pre;overflow-x:auto;line-height:normal;font-family:Menlo,'DejaVu Sans Mono',consolas,'Courier New',monospace\">mean: 0.001957354770942355, r: 0.5872064312827064, md: 300\n",
       "</pre>\n"
      ],
      "text/plain": [
       "mean: 0.001957354770942355, r: 0.5872064312827064, md: 300\n"
      ]
     },
     "metadata": {},
     "output_type": "display_data"
    }
   ],
   "source": [
    "s = np.array((1,2,3,4,5,6,7,8,9,10,11,12))\n",
    "s = np.expand_dims(s, axis=0)\n",
    "\n",
    "preds = policy(s)\n",
    "print(preds)\n",
    "\n",
    "EPOCHS = 750\n",
    "EPISODES = 5\n",
    "\n",
    "def u(epoch, episode):\n",
    "    progress_remaining = 1 - (epoch * EPISODES + episode) / (EPOCHS * EPISODES)\n",
    "    return min(progress_remaining / 0.5, 1) * 1.5\n",
    "\n",
    "i_0 = 55 + 88 + 75 + 23 + 74\n",
    "\n",
    "u_shifted = lambda epoch, episode: u(epoch + i_0, episode)\n",
    "\n",
    "agent.train(300, EPISODES, EPOCHS-i_0, added_uncertainty=u)\n",
    "\n",
    "preds = policy(s)\n",
    "print(preds)"
   ]
  },
  {
   "cell_type": "code",
   "execution_count": null,
   "id": "d5da3563-f94d-48be-8c6e-a77741b1b997",
   "metadata": {},
   "outputs": [],
   "source": [
    "r_mean, states = agent.training_step(100)\n",
    "# print(states)\n",
    "states = zip(*(state[:3] for state in states))\n",
    "states = list(states)[0]\n",
    "# print(states)\n",
    "\n",
    "plt.plot([x for x in range(100)], states)"
   ]
  },
  {
   "cell_type": "code",
   "execution_count": null,
   "id": "4862c5d7-26a9-4a35-82b3-220cdc889bb1",
   "metadata": {},
   "outputs": [],
   "source": [
    "agent.train(100, 5, 100)"
   ]
  },
  {
   "cell_type": "code",
   "execution_count": null,
   "id": "ba221585-8877-48a7-9342-b86cfb129338",
   "metadata": {},
   "outputs": [],
   "source": [
    "print(world.V)"
   ]
  },
  {
   "cell_type": "code",
   "execution_count": null,
   "id": "5f42c168-8e2b-46c5-ab6a-7d6e0a0c7848",
   "metadata": {},
   "outputs": [],
   "source": []
  }
 ],
 "metadata": {
  "kernelspec": {
   "display_name": "Python 3 (ipykernel)",
   "language": "python",
   "name": "python3"
  },
  "language_info": {
   "codemirror_mode": {
    "name": "ipython",
    "version": 3
   },
   "file_extension": ".py",
   "mimetype": "text/x-python",
   "name": "python",
   "nbconvert_exporter": "python",
   "pygments_lexer": "ipython3",
   "version": "3.11.9"
  }
 },
 "nbformat": 4,
 "nbformat_minor": 5
}
