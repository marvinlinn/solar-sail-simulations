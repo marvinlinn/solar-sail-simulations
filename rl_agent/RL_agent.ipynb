{
 "cells": [
  {
   "cell_type": "markdown",
   "id": "ecc2acb0-91e3-4065-84a2-084e515d0993",
   "metadata": {},
   "source": [
    "# RL Agent Test\n",
    "---\n",
    "\n",
    "## Imports"
   ]
  },
  {
   "cell_type": "code",
   "execution_count": 1,
   "id": "8d81916e-2b83-46d1-b0d6-89b959a388cd",
   "metadata": {},
   "outputs": [
    {
     "name": "stderr",
     "output_type": "stream",
     "text": [
      "2024-05-28 11:55:12.370879: I tensorflow/core/util/port.cc:113] oneDNN custom operations are on. You may see slightly different numerical results due to floating-point round-off errors from different computation orders. To turn them off, set the environment variable `TF_ENABLE_ONEDNN_OPTS=0`.\n",
      "2024-05-28 11:55:12.483188: I tensorflow/core/platform/cpu_feature_guard.cc:182] This TensorFlow binary is optimized to use available CPU instructions in performance-critical operations.\n",
      "To enable the following instructions: SSE4.1 SSE4.2 AVX AVX2 AVX_VNNI FMA, in other operations, rebuild TensorFlow with the appropriate compiler flags.\n"
     ]
    },
    {
     "name": "stdout",
     "output_type": "stream",
     "text": [
      "TensorFlow version: 2.15.0\n"
     ]
    }
   ],
   "source": [
    "import os\n",
    "import sys\n",
    "current = os.getcwd()\n",
    "if (os.path.basename(current) == 'rl_agent'):\n",
    "    top_level_dir = os.path.dirname(os.getcwd())\n",
    "else:\n",
    "    top_level_dir = current\n",
    "sys.path.append(os.path.abspath(top_level_dir))\n",
    "os.chdir(top_level_dir)\n",
    "\n",
    "%reload_ext autoreload\n",
    "%autoreload 2\n",
    "\n",
    "from math import pi\n",
    "import numpy as np\n",
    "from rl_agent.World import *\n",
    "from rl_agent.Agent import *\n",
    "\n",
    "import matplotlib.pyplot as plt\n",
    "\n",
    "import tensorflow as tf\n",
    "import tensorflow_probability as tfp\n",
    "from tensorflow.keras.layers import *\n",
    "from tensorflow.keras import Model\n",
    "print(f'TensorFlow version: {tf.__version__}')"
   ]
  },
  {
   "cell_type": "markdown",
   "id": "272b7a26-617d-4c12-b14f-6f95766751c5",
   "metadata": {},
   "source": [
    "## Instantiate Neural Networks for Policy and Q"
   ]
  },
  {
   "cell_type": "markdown",
   "id": "54a7ec1a-dee1-4359-8f13-def08fe3d268",
   "metadata": {},
   "source": [
    "So for now I am using pretty uninformed choices for neural network\n",
    "architecture just to get this running asap, but we might want to \n",
    "keep the networks small even when we do this for real."
   ]
  },
  {
   "cell_type": "code",
   "execution_count": 2,
   "id": "6b9164cb-2f60-4610-a1c1-76f33f66649d",
   "metadata": {},
   "outputs": [
    {
     "name": "stdout",
     "output_type": "stream",
     "text": [
      "input: \n",
      "[[0.89089983 0.95298144 0.9059315  0.11932926 0.8050881  0.22540096\n",
      "  0.98777867 0.36924338 0.83736882 0.0030349  0.67462625 0.84088234]\n",
      " [0.27208392 0.86886455 0.2120592  0.37161984 0.33431432 0.91715517\n",
      "  0.39761219 0.4084835  0.86157028 0.62362673 0.10065921 0.64206402]\n",
      " [0.43522057 0.58149465 0.07220851 0.68564384 0.9369819  0.37389691\n",
      "  0.63706199 0.24267845 0.40860661 0.92381217 0.32863031 0.10431835]\n",
      " [0.68220894 0.77571316 0.2820934  0.99055826 0.25983036 0.2889713\n",
      "  0.86186534 0.74197025 0.05819626 0.11379321 0.09623603 0.14810192]\n",
      " [0.67717048 0.28667798 0.89050913 0.23011771 0.00768776 0.41337324\n",
      "  0.28942213 0.9501767  0.30222991 0.85409321 0.0983092  0.8192714 ]\n",
      " [0.87115856 0.078061   0.90358854 0.71710551 0.70862932 0.35343858\n",
      "  0.22799231 0.67016844 0.22101572 0.55708077 0.20279878 0.93289569]\n",
      " [0.88494369 0.1934783  0.18960846 0.56395427 0.93767722 0.57615125\n",
      "  0.94360343 0.42277964 0.24298693 0.32973549 0.22916943 0.30790077]\n",
      " [0.28867142 0.21392562 0.72615103 0.04900387 0.65259137 0.97298263\n",
      "  0.73115659 0.07902538 0.53564988 0.27890144 0.05617001 0.91451777]\n",
      " [0.5124218  0.56701989 0.11318278 0.2965864  0.08198886 0.24880454\n",
      "  0.19113356 0.57684915 0.78983761 0.97789279 0.26015929 0.32867606]\n",
      " [0.47994825 0.49919449 0.622418   0.81827059 0.81477612 0.4788565\n",
      "  0.77783976 0.98715747 0.42408855 0.73679254 0.8626824  0.07907131]\n",
      " [0.27528213 0.81630661 0.46852618 0.51812669 0.00520185 0.19902022\n",
      "  0.64146079 0.56511769 0.45371785 0.33413487 0.83585839 0.82840741]\n",
      " [0.27720156 0.78316575 0.41384165 0.99690673 0.81485713 0.8155009\n",
      "  0.28942534 0.99597224 0.02301293 0.93061616 0.88574172 0.83044463]]\n",
      "\n",
      "out: \n",
      "(<tf.Tensor: shape=(12, 2), dtype=float32, numpy=\n",
      "array([[1.0866814 , 0.857936  ],\n",
      "       [1.1061856 , 0.7945167 ],\n",
      "       [1.1335531 , 0.82801723],\n",
      "       [1.051973  , 0.79168224],\n",
      "       [1.1198487 , 0.7515877 ],\n",
      "       [1.1346023 , 0.7371494 ],\n",
      "       [1.1025139 , 0.7970734 ],\n",
      "       [1.1336584 , 0.76675713],\n",
      "       [1.0937911 , 0.8297097 ],\n",
      "       [1.118502  , 0.75959396],\n",
      "       [1.063035  , 0.8128458 ],\n",
      "       [1.1088526 , 0.716913  ]], dtype=float32)>, <tf.Tensor: shape=(12, 2), dtype=float32, numpy=\n",
      "array([[1.3954118 , 0.18778555],\n",
      "       [1.4423354 , 0.17928132],\n",
      "       [1.448879  , 0.19312426],\n",
      "       [1.4270687 , 0.20408715],\n",
      "       [1.437051  , 0.1820558 ],\n",
      "       [1.4465274 , 0.19013718],\n",
      "       [1.4546591 , 0.2020742 ],\n",
      "       [1.4339887 , 0.18029949],\n",
      "       [1.4355344 , 0.18621147],\n",
      "       [1.4513282 , 0.19564286],\n",
      "       [1.4157494 , 0.18658833],\n",
      "       [1.4610376 , 0.18371436]], dtype=float32)>)\n",
      "\n",
      "dists: \n",
      ":tfp.distributions.Normal(\"Normal\", batch_shape=[12, 2], event_shape=[], dtype=float32)\n",
      "\n",
      "samples: \n",
      "[[ 4.5111923   0.7236351 ]\n",
      " [ 1.2123805   0.37474757]\n",
      " [-0.8311517   0.6525923 ]\n",
      " [ 0.58545756  0.75617445]\n",
      " [ 1.4537532   0.79189944]\n",
      " [ 0.8593833   0.75173485]\n",
      " [ 1.0209519   0.7117863 ]\n",
      " [ 2.4572372   0.8048473 ]\n",
      " [ 1.0699801   0.76703405]\n",
      " [ 0.8358786   0.6852472 ]\n",
      " [ 2.414806    0.8853536 ]\n",
      " [ 1.3979489   0.2132628 ]]\n",
      "\n",
      "log probs: [[-4.263486    0.4977732 ]\n",
      " [-1.2879126  -1.9412135 ]\n",
      " [-2.2091198   0.3129307 ]\n",
      " [-1.3279943   0.6551345 ]\n",
      " [-1.3085259   0.75998896]\n",
      " [-1.3062041   0.7381288 ]\n",
      " [-1.295282    0.59111524]\n",
      " [-1.7053676   0.7718819 ]\n",
      " [-1.2806132   0.7052897 ]\n",
      " [-1.3103783   0.640321  ]\n",
      " [-1.7224281   0.684408  ]\n",
      " [-1.3176618  -2.9824357 ]]\n",
      "\n",
      "Model: \"policy\"\n",
      "_________________________________________________________________\n",
      " Layer (type)                Output Shape              Param #   \n",
      "=================================================================\n",
      " dense (Dense)               multiple                  832       \n",
      "                                                                 \n",
      " dense_1 (Dense)             multiple                  2080      \n",
      "                                                                 \n",
      " dense_2 (Dense)             multiple                  528       \n",
      "                                                                 \n",
      " dropout (Dropout)           multiple                  0         \n",
      "                                                                 \n",
      " dense_3 (Dense)             multiple                  34        \n",
      "                                                                 \n",
      " dense_4 (Dense)             multiple                  34        \n",
      "                                                                 \n",
      "=================================================================\n",
      "Total params: 3508 (13.70 KB)\n",
      "Trainable params: 3508 (13.70 KB)\n",
      "Non-trainable params: 0 (0.00 Byte)\n",
      "_________________________________________________________________\n",
      "Model: \"Q(s,a)\"\n",
      "_________________________________________________________________\n",
      " Layer (type)                Output Shape              Param #   \n",
      "=================================================================\n",
      " dense_5 (Dense)             (None, 64)                960       \n",
      "                                                                 \n",
      " dense_6 (Dense)             (None, 32)                2080      \n",
      "                                                                 \n",
      " dense_7 (Dense)             (None, 16)                528       \n",
      "                                                                 \n",
      " dropout_1 (Dropout)         (None, 16)                0         \n",
      "                                                                 \n",
      " dense_8 (Dense)             (None, 1)                 17        \n",
      "                                                                 \n",
      "=================================================================\n",
      "Total params: 3585 (14.00 KB)\n",
      "Trainable params: 3585 (14.00 KB)\n",
      "Non-trainable params: 0 (0.00 Byte)\n",
      "_________________________________________________________________\n"
     ]
    }
   ],
   "source": [
    "class Policy(Model):\n",
    "    min_action = -pi\n",
    "    max_action = pi\n",
    "    \n",
    "    def __init__(self):\n",
    "        super().__init__()\n",
    "        self.dense1 = Dense(64, activation='relu', input_shape=(12,))\n",
    "        self.dense2 = Dense(32, activation='relu')\n",
    "        self.dense3 = Dense(16, activation='sigmoid')\n",
    "        self.dropout = Dropout(0.1)\n",
    "        self.mu = Dense(2)\n",
    "        self.sigma = Dense(2, activation='softplus')    \n",
    "\n",
    "    def call(self, x):\n",
    "        x = self.dense1(x)\n",
    "        x = self.dense2(x)\n",
    "        x = self.dense3(x)\n",
    "        x = self.dropout(x)\n",
    "        mu = self.mu(x)\n",
    "        sigma = self.sigma(x)\n",
    "        return mu, sigma \n",
    "\n",
    "# Create an instance of the model\n",
    "policy = Policy()\n",
    "inp = np.random.random((12,12))\n",
    "print(f'input: \\n{inp}\\n')\n",
    "out = policy(inp)\n",
    "print(f'out: \\n{out}\\n')\n",
    "\n",
    "dists = tfp.distributions.Normal(*out)\n",
    "print(f'dists: \\n:{dists}\\n')\n",
    "\n",
    "samples = dists.sample()\n",
    "print(f'samples: \\n{samples}\\n')\n",
    "\n",
    "print(f'log probs: {dists.log_prob(samples.numpy())}\\n')\n",
    "\n",
    "policy.summary()\n",
    "\n",
    "Q = tf.keras.models.Sequential([\n",
    "  tf.keras.layers.Dense(64, activation='relu', input_shape=(14,)),\n",
    "  tf.keras.layers.Dense(32, activation='relu'),\n",
    "  tf.keras.layers.Dense(16, activation='sigmoid'),\n",
    "  tf.keras.layers.Dropout(0.1),\n",
    "  tf.keras.layers.Dense(1)\n",
    "], name='Q(s,a)')\n",
    "Q.summary()"
   ]
  },
  {
   "cell_type": "code",
   "execution_count": 3,
   "id": "8f289616-5394-4813-a934-10f7a14ffad6",
   "metadata": {},
   "outputs": [
    {
     "name": "stdout",
     "output_type": "stream",
     "text": [
      "tf.Tensor(\n",
      "[[0.01290222 0.57355696 0.22830121]\n",
      " [0.60535055 0.97910416 0.5047759 ]\n",
      " [0.8916844  0.6320375  0.42519212]\n",
      " [0.26451167 0.04029564 0.01113232]\n",
      " [0.8684255  0.21857104 0.75444806]\n",
      " [0.43278542 0.3537271  0.04956343]\n",
      " [0.8051149  0.8991891  0.7634457 ]\n",
      " [0.96536773 0.7531593  0.5429096 ]\n",
      " [0.9140347  0.00581806 0.77771956]\n",
      " [0.7628635  0.14116357 0.5663116 ]], shape=(10, 3), dtype=float32)\n",
      "sum grad: [6.52304062 4.59662251 4.62379947]\n",
      "len: 1 \n",
      " [[6.523041  4.5966215 4.6237993]]\n"
     ]
    }
   ],
   "source": [
    "x = np.random.random((10,3))\n",
    "a = tf.ones((1,3))\n",
    "with tf.GradientTape() as tape:\n",
    "    tape.watch(a)\n",
    "    y = a * x\n",
    "print(y)\n",
    "grad = tape.gradient(y, a)\n",
    "print(f'sum grad: {tf.reduce_sum(x, axis=0)}')\n",
    "print(f'len: {len(grad)} \\n {grad}')"
   ]
  },
  {
   "cell_type": "markdown",
   "id": "47be3c01-cb58-4c21-9f24-8b224e89bab5",
   "metadata": {},
   "source": [
    "## Instantiate World"
   ]
  },
  {
   "cell_type": "code",
   "execution_count": 4,
   "id": "20d2c305-acc7-41ca-b711-b341de970140",
   "metadata": {},
   "outputs": [],
   "source": [
    "world = ParallelTrackNEO()"
   ]
  },
  {
   "cell_type": "markdown",
   "id": "713ed2d9-66a9-48e8-a86b-353579bae281",
   "metadata": {},
   "source": [
    "## Instantiate Agent"
   ]
  },
  {
   "cell_type": "code",
   "execution_count": 5,
   "id": "9a3a38a9-13c0-4e73-96c8-c5406de8d524",
   "metadata": {},
   "outputs": [],
   "source": [
    "agent = ParallelAgent(world, policy, Q, learning_rate_policy=0.00001, learning_rate_Q=0.00056)"
   ]
  },
  {
   "cell_type": "markdown",
   "id": "9c44e28e-759b-4451-85e8-d00f1facf436",
   "metadata": {},
   "source": [
    "## Train Agent"
   ]
  },
  {
   "cell_type": "code",
   "execution_count": 12,
   "id": "6823703f-f737-4488-9bb3-41e994fa6b34",
   "metadata": {
    "scrolled": true
   },
   "outputs": [
    {
     "data": {
      "application/vnd.jupyter.widget-view+json": {
       "model_id": "4354a37f901042608d56bd977f541646",
       "version_major": 2,
       "version_minor": 0
      },
      "text/plain": [
       "Output()"
      ]
     },
     "metadata": {},
     "output_type": "display_data"
    },
    {
     "name": "stdout",
     "output_type": "stream",
     "text": [
      "(<tf.Tensor: shape=(1, 2), dtype=float32, numpy=array([[1.4530818 , 0.15883997]], dtype=float32)>, <tf.Tensor: shape=(1, 2), dtype=float32, numpy=array([[1.3200785 , 0.10828248]], dtype=float32)>)\n"
     ]
    },
    {
     "data": {
      "text/html": [
       "<pre style=\"white-space:pre;overflow-x:auto;line-height:normal;font-family:Menlo,'DejaVu Sans Mono',consolas,'Courier New',monospace\">mean: [9.81069934e-17], r: [9.81069934e-15], md: 100\n",
       "</pre>\n"
      ],
      "text/plain": [
       "mean: [9.81069934e-17], r: [9.81069934e-15], md: 100\n"
      ]
     },
     "metadata": {},
     "output_type": "display_data"
    },
    {
     "data": {
      "text/html": [
       "<pre style=\"white-space:pre;overflow-x:auto;line-height:normal;font-family:Menlo,'DejaVu Sans Mono',consolas,'Courier New',monospace\">mean: [9.81068103e-17], r: [9.81068103e-15], md: 100\n",
       "</pre>\n"
      ],
      "text/plain": [
       "mean: [9.81068103e-17], r: [9.81068103e-15], md: 100\n"
      ]
     },
     "metadata": {},
     "output_type": "display_data"
    },
    {
     "data": {
      "text/html": [
       "<pre style=\"white-space:pre;overflow-x:auto;line-height:normal;font-family:Menlo,'DejaVu Sans Mono',consolas,'Courier New',monospace\">mean: [9.80847297e-17], r: [9.80847297e-15], md: 100\n",
       "</pre>\n"
      ],
      "text/plain": [
       "mean: [9.80847297e-17], r: [9.80847297e-15], md: 100\n"
      ]
     },
     "metadata": {},
     "output_type": "display_data"
    },
    {
     "data": {
      "text/html": [
       "<pre style=\"white-space:pre;overflow-x:auto;line-height:normal;font-family:Menlo,'DejaVu Sans Mono',consolas,'Courier New',monospace\">mean: [9.80717559e-17], r: [9.80717559e-15], md: 100\n",
       "</pre>\n"
      ],
      "text/plain": [
       "mean: [9.80717559e-17], r: [9.80717559e-15], md: 100\n"
      ]
     },
     "metadata": {},
     "output_type": "display_data"
    },
    {
     "data": {
      "text/html": [
       "<pre style=\"white-space:pre;overflow-x:auto;line-height:normal;font-family:Menlo,'DejaVu Sans Mono',consolas,'Courier New',monospace\">mean: [9.80700812e-17], r: [9.80700812e-15], md: 100\n",
       "</pre>\n"
      ],
      "text/plain": [
       "mean: [9.80700812e-17], r: [9.80700812e-15], md: 100\n"
      ]
     },
     "metadata": {},
     "output_type": "display_data"
    },
    {
     "data": {
      "text/html": [
       "<pre style=\"white-space:pre;overflow-x:auto;line-height:normal;font-family:Menlo,'DejaVu Sans Mono',consolas,'Courier New',monospace\"></pre>\n"
      ],
      "text/plain": []
     },
     "metadata": {},
     "output_type": "display_data"
    },
    {
     "data": {
      "text/html": [
       "<pre style=\"white-space:pre;overflow-x:auto;line-height:normal;font-family:Menlo,'DejaVu Sans Mono',consolas,'Courier New',monospace\">\n",
       "</pre>\n"
      ],
      "text/plain": [
       "\n"
      ]
     },
     "metadata": {},
     "output_type": "display_data"
    },
    {
     "data": {
      "application/vnd.jupyter.widget-view+json": {
       "model_id": "34ff7afed5fb445ca27e9e4413c64666",
       "version_major": 2,
       "version_minor": 0
      },
      "text/plain": [
       "Output()"
      ]
     },
     "metadata": {},
     "output_type": "display_data"
    },
    {
     "name": "stdout",
     "output_type": "stream",
     "text": [
      "epoch 0: Mean Reward = [9.80700812e-17]\n"
     ]
    },
    {
     "data": {
      "text/html": [
       "<pre style=\"white-space:pre;overflow-x:auto;line-height:normal;font-family:Menlo,'DejaVu Sans Mono',consolas,'Courier New',monospace\">mean: [9.80698708e-17], r: [9.80698708e-15], md: 100\n",
       "</pre>\n"
      ],
      "text/plain": [
       "mean: [9.80698708e-17], r: [9.80698708e-15], md: 100\n"
      ]
     },
     "metadata": {},
     "output_type": "display_data"
    },
    {
     "data": {
      "text/html": [
       "<pre style=\"white-space:pre;overflow-x:auto;line-height:normal;font-family:Menlo,'DejaVu Sans Mono',consolas,'Courier New',monospace\">mean: [9.80698629e-17], r: [9.80698629e-15], md: 100\n",
       "</pre>\n"
      ],
      "text/plain": [
       "mean: [9.80698629e-17], r: [9.80698629e-15], md: 100\n"
      ]
     },
     "metadata": {},
     "output_type": "display_data"
    },
    {
     "data": {
      "text/html": [
       "<pre style=\"white-space:pre;overflow-x:auto;line-height:normal;font-family:Menlo,'DejaVu Sans Mono',consolas,'Courier New',monospace\">mean: [9.80698539e-17], r: [9.80698539e-15], md: 100\n",
       "</pre>\n"
      ],
      "text/plain": [
       "mean: [9.80698539e-17], r: [9.80698539e-15], md: 100\n"
      ]
     },
     "metadata": {},
     "output_type": "display_data"
    },
    {
     "data": {
      "text/html": [
       "<pre style=\"white-space:pre;overflow-x:auto;line-height:normal;font-family:Menlo,'DejaVu Sans Mono',consolas,'Courier New',monospace\">mean: [9.80698533e-17], r: [9.80698533e-15], md: 100\n",
       "</pre>\n"
      ],
      "text/plain": [
       "mean: [9.80698533e-17], r: [9.80698533e-15], md: 100\n"
      ]
     },
     "metadata": {},
     "output_type": "display_data"
    },
    {
     "data": {
      "text/html": [
       "<pre style=\"white-space:pre;overflow-x:auto;line-height:normal;font-family:Menlo,'DejaVu Sans Mono',consolas,'Courier New',monospace\">mean: [9.80698539e-17], r: [9.80698539e-15], md: 100\n",
       "</pre>\n"
      ],
      "text/plain": [
       "mean: [9.80698539e-17], r: [9.80698539e-15], md: 100\n"
      ]
     },
     "metadata": {},
     "output_type": "display_data"
    },
    {
     "data": {
      "text/html": [
       "<pre style=\"white-space:pre;overflow-x:auto;line-height:normal;font-family:Menlo,'DejaVu Sans Mono',consolas,'Courier New',monospace\"></pre>\n"
      ],
      "text/plain": []
     },
     "metadata": {},
     "output_type": "display_data"
    },
    {
     "data": {
      "text/html": [
       "<pre style=\"white-space:pre;overflow-x:auto;line-height:normal;font-family:Menlo,'DejaVu Sans Mono',consolas,'Courier New',monospace\">\n",
       "</pre>\n"
      ],
      "text/plain": [
       "\n"
      ]
     },
     "metadata": {},
     "output_type": "display_data"
    },
    {
     "data": {
      "application/vnd.jupyter.widget-view+json": {
       "model_id": "fb29567c471045c2936cc8aaef9d081c",
       "version_major": 2,
       "version_minor": 0
      },
      "text/plain": [
       "Output()"
      ]
     },
     "metadata": {},
     "output_type": "display_data"
    },
    {
     "name": "stdout",
     "output_type": "stream",
     "text": [
      "epoch 1: Mean Reward = [9.80698539e-17]\n"
     ]
    },
    {
     "data": {
      "text/html": [
       "<pre style=\"white-space:pre;overflow-x:auto;line-height:normal;font-family:Menlo,'DejaVu Sans Mono',consolas,'Courier New',monospace\">mean: [9.80698534e-17], r: [9.80698534e-15], md: 100\n",
       "</pre>\n"
      ],
      "text/plain": [
       "mean: [9.80698534e-17], r: [9.80698534e-15], md: 100\n"
      ]
     },
     "metadata": {},
     "output_type": "display_data"
    },
    {
     "data": {
      "text/html": [
       "<pre style=\"white-space:pre;overflow-x:auto;line-height:normal;font-family:Menlo,'DejaVu Sans Mono',consolas,'Courier New',monospace\">mean: [9.80698534e-17], r: [9.80698534e-15], md: 100\n",
       "</pre>\n"
      ],
      "text/plain": [
       "mean: [9.80698534e-17], r: [9.80698534e-15], md: 100\n"
      ]
     },
     "metadata": {},
     "output_type": "display_data"
    },
    {
     "data": {
      "text/html": [
       "<pre style=\"white-space:pre;overflow-x:auto;line-height:normal;font-family:Menlo,'DejaVu Sans Mono',consolas,'Courier New',monospace\">mean: [9.80698534e-17], r: [9.80698534e-15], md: 100\n",
       "</pre>\n"
      ],
      "text/plain": [
       "mean: [9.80698534e-17], r: [9.80698534e-15], md: 100\n"
      ]
     },
     "metadata": {},
     "output_type": "display_data"
    },
    {
     "data": {
      "text/html": [
       "<pre style=\"white-space:pre;overflow-x:auto;line-height:normal;font-family:Menlo,'DejaVu Sans Mono',consolas,'Courier New',monospace\">mean: [9.80698534e-17], r: [9.80698534e-15], md: 100\n",
       "</pre>\n"
      ],
      "text/plain": [
       "mean: [9.80698534e-17], r: [9.80698534e-15], md: 100\n"
      ]
     },
     "metadata": {},
     "output_type": "display_data"
    },
    {
     "data": {
      "text/html": [
       "<pre style=\"white-space:pre;overflow-x:auto;line-height:normal;font-family:Menlo,'DejaVu Sans Mono',consolas,'Courier New',monospace\">mean: [9.80698534e-17], r: [9.80698534e-15], md: 100\n",
       "</pre>\n"
      ],
      "text/plain": [
       "mean: [9.80698534e-17], r: [9.80698534e-15], md: 100\n"
      ]
     },
     "metadata": {},
     "output_type": "display_data"
    },
    {
     "data": {
      "text/html": [
       "<pre style=\"white-space:pre;overflow-x:auto;line-height:normal;font-family:Menlo,'DejaVu Sans Mono',consolas,'Courier New',monospace\"></pre>\n"
      ],
      "text/plain": []
     },
     "metadata": {},
     "output_type": "display_data"
    },
    {
     "data": {
      "text/html": [
       "<pre style=\"white-space:pre;overflow-x:auto;line-height:normal;font-family:Menlo,'DejaVu Sans Mono',consolas,'Courier New',monospace\">\n",
       "</pre>\n"
      ],
      "text/plain": [
       "\n"
      ]
     },
     "metadata": {},
     "output_type": "display_data"
    },
    {
     "data": {
      "application/vnd.jupyter.widget-view+json": {
       "model_id": "c5b82c9b35f64da3a8e7f373715c9809",
       "version_major": 2,
       "version_minor": 0
      },
      "text/plain": [
       "Output()"
      ]
     },
     "metadata": {},
     "output_type": "display_data"
    },
    {
     "name": "stdout",
     "output_type": "stream",
     "text": [
      "epoch 2: Mean Reward = [9.80698534e-17]\n"
     ]
    },
    {
     "data": {
      "text/html": [
       "<pre style=\"white-space:pre;overflow-x:auto;line-height:normal;font-family:Menlo,'DejaVu Sans Mono',consolas,'Courier New',monospace\">mean: [9.80698534e-17], r: [9.80698534e-15], md: 100\n",
       "</pre>\n"
      ],
      "text/plain": [
       "mean: [9.80698534e-17], r: [9.80698534e-15], md: 100\n"
      ]
     },
     "metadata": {},
     "output_type": "display_data"
    },
    {
     "data": {
      "text/html": [
       "<pre style=\"white-space:pre;overflow-x:auto;line-height:normal;font-family:Menlo,'DejaVu Sans Mono',consolas,'Courier New',monospace\">mean: [9.80698534e-17], r: [9.80698534e-15], md: 100\n",
       "</pre>\n"
      ],
      "text/plain": [
       "mean: [9.80698534e-17], r: [9.80698534e-15], md: 100\n"
      ]
     },
     "metadata": {},
     "output_type": "display_data"
    },
    {
     "data": {
      "text/html": [
       "<pre style=\"white-space:pre;overflow-x:auto;line-height:normal;font-family:Menlo,'DejaVu Sans Mono',consolas,'Courier New',monospace\">mean: [9.80698534e-17], r: [9.80698534e-15], md: 100\n",
       "</pre>\n"
      ],
      "text/plain": [
       "mean: [9.80698534e-17], r: [9.80698534e-15], md: 100\n"
      ]
     },
     "metadata": {},
     "output_type": "display_data"
    },
    {
     "data": {
      "text/html": [
       "<pre style=\"white-space:pre;overflow-x:auto;line-height:normal;font-family:Menlo,'DejaVu Sans Mono',consolas,'Courier New',monospace\">mean: [9.80698534e-17], r: [9.80698534e-15], md: 100\n",
       "</pre>\n"
      ],
      "text/plain": [
       "mean: [9.80698534e-17], r: [9.80698534e-15], md: 100\n"
      ]
     },
     "metadata": {},
     "output_type": "display_data"
    },
    {
     "data": {
      "text/html": [
       "<pre style=\"white-space:pre;overflow-x:auto;line-height:normal;font-family:Menlo,'DejaVu Sans Mono',consolas,'Courier New',monospace\">mean: [9.80698534e-17], r: [9.80698534e-15], md: 100\n",
       "</pre>\n"
      ],
      "text/plain": [
       "mean: [9.80698534e-17], r: [9.80698534e-15], md: 100\n"
      ]
     },
     "metadata": {},
     "output_type": "display_data"
    },
    {
     "data": {
      "text/html": [
       "<pre style=\"white-space:pre;overflow-x:auto;line-height:normal;font-family:Menlo,'DejaVu Sans Mono',consolas,'Courier New',monospace\"></pre>\n"
      ],
      "text/plain": []
     },
     "metadata": {},
     "output_type": "display_data"
    },
    {
     "data": {
      "text/html": [
       "<pre style=\"white-space:pre;overflow-x:auto;line-height:normal;font-family:Menlo,'DejaVu Sans Mono',consolas,'Courier New',monospace\">\n",
       "</pre>\n"
      ],
      "text/plain": [
       "\n"
      ]
     },
     "metadata": {},
     "output_type": "display_data"
    },
    {
     "data": {
      "application/vnd.jupyter.widget-view+json": {
       "model_id": "cef4383ce86e4492adf61921ed7e9aa9",
       "version_major": 2,
       "version_minor": 0
      },
      "text/plain": [
       "Output()"
      ]
     },
     "metadata": {},
     "output_type": "display_data"
    },
    {
     "name": "stdout",
     "output_type": "stream",
     "text": [
      "epoch 3: Mean Reward = [9.80698534e-17]\n"
     ]
    },
    {
     "data": {
      "text/html": [
       "<pre style=\"white-space:pre;overflow-x:auto;line-height:normal;font-family:Menlo,'DejaVu Sans Mono',consolas,'Courier New',monospace\">mean: [9.80698534e-17], r: [9.80698534e-15], md: 100\n",
       "</pre>\n"
      ],
      "text/plain": [
       "mean: [9.80698534e-17], r: [9.80698534e-15], md: 100\n"
      ]
     },
     "metadata": {},
     "output_type": "display_data"
    },
    {
     "data": {
      "text/html": [
       "<pre style=\"white-space:pre;overflow-x:auto;line-height:normal;font-family:Menlo,'DejaVu Sans Mono',consolas,'Courier New',monospace\">mean: [9.80698534e-17], r: [9.80698534e-15], md: 100\n",
       "</pre>\n"
      ],
      "text/plain": [
       "mean: [9.80698534e-17], r: [9.80698534e-15], md: 100\n"
      ]
     },
     "metadata": {},
     "output_type": "display_data"
    },
    {
     "data": {
      "text/html": [
       "<pre style=\"white-space:pre;overflow-x:auto;line-height:normal;font-family:Menlo,'DejaVu Sans Mono',consolas,'Courier New',monospace\">mean: [9.80698534e-17], r: [9.80698534e-15], md: 100\n",
       "</pre>\n"
      ],
      "text/plain": [
       "mean: [9.80698534e-17], r: [9.80698534e-15], md: 100\n"
      ]
     },
     "metadata": {},
     "output_type": "display_data"
    },
    {
     "data": {
      "text/html": [
       "<pre style=\"white-space:pre;overflow-x:auto;line-height:normal;font-family:Menlo,'DejaVu Sans Mono',consolas,'Courier New',monospace\">mean: [9.80698534e-17], r: [9.80698534e-15], md: 100\n",
       "</pre>\n"
      ],
      "text/plain": [
       "mean: [9.80698534e-17], r: [9.80698534e-15], md: 100\n"
      ]
     },
     "metadata": {},
     "output_type": "display_data"
    },
    {
     "data": {
      "text/html": [
       "<pre style=\"white-space:pre;overflow-x:auto;line-height:normal;font-family:Menlo,'DejaVu Sans Mono',consolas,'Courier New',monospace\">mean: [9.80698534e-17], r: [9.80698534e-15], md: 100\n",
       "</pre>\n"
      ],
      "text/plain": [
       "mean: [9.80698534e-17], r: [9.80698534e-15], md: 100\n"
      ]
     },
     "metadata": {},
     "output_type": "display_data"
    },
    {
     "data": {
      "text/html": [
       "<pre style=\"white-space:pre;overflow-x:auto;line-height:normal;font-family:Menlo,'DejaVu Sans Mono',consolas,'Courier New',monospace\"></pre>\n"
      ],
      "text/plain": []
     },
     "metadata": {},
     "output_type": "display_data"
    },
    {
     "data": {
      "text/html": [
       "<pre style=\"white-space:pre;overflow-x:auto;line-height:normal;font-family:Menlo,'DejaVu Sans Mono',consolas,'Courier New',monospace\">\n",
       "</pre>\n"
      ],
      "text/plain": [
       "\n"
      ]
     },
     "metadata": {},
     "output_type": "display_data"
    },
    {
     "name": "stdout",
     "output_type": "stream",
     "text": [
      "epoch 4: Mean Reward = [9.80698534e-17]\n",
      "(<tf.Tensor: shape=(1, 2), dtype=float32, numpy=array([[1.4530818 , 0.15883997]], dtype=float32)>, <tf.Tensor: shape=(1, 2), dtype=float32, numpy=array([[1.5243785e-08, 7.2114921e-07]], dtype=float32)>)\n"
     ]
    }
   ],
   "source": [
    "s = np.array((1,2,3,4,5,6,7,8,9,10,11,12))\n",
    "s = np.expand_dims(s, axis=0)\n",
    "\n",
    "preds = policy(s)\n",
    "print(preds)\n",
    "\n",
    "agent.train(100, 5, 1)\n",
    "\n",
    "preds = policy(s)\n",
    "print(preds)"
   ]
  },
  {
   "cell_type": "code",
   "execution_count": 7,
   "id": "d5da3563-f94d-48be-8c6e-a77741b1b997",
   "metadata": {},
   "outputs": [
    {
     "name": "stdout",
     "output_type": "stream",
     "text": [
      "(50, 2)\n"
     ]
    },
    {
     "ename": "ValueError",
     "evalue": "operands could not be broadcast together with shapes (50,2,3) (50,1,2) ",
     "output_type": "error",
     "traceback": [
      "\u001b[0;31m---------------------------------------------------------------------------\u001b[0m",
      "\u001b[0;31mValueError\u001b[0m                                Traceback (most recent call last)",
      "Cell \u001b[0;32mIn[7], line 1\u001b[0m\n\u001b[0;32m----> 1\u001b[0m r_mean, states \u001b[38;5;241m=\u001b[39m \u001b[43magent\u001b[49m\u001b[38;5;241;43m.\u001b[39;49m\u001b[43mtraining_step\u001b[49m\u001b[43m(\u001b[49m\u001b[38;5;241;43m100\u001b[39;49m\u001b[43m)\u001b[49m\n\u001b[1;32m      2\u001b[0m \u001b[38;5;66;03m# print(states)\u001b[39;00m\n\u001b[1;32m      3\u001b[0m states \u001b[38;5;241m=\u001b[39m \u001b[38;5;28mzip\u001b[39m(\u001b[38;5;241m*\u001b[39m(state[:\u001b[38;5;241m3\u001b[39m] \u001b[38;5;28;01mfor\u001b[39;00m state \u001b[38;5;129;01min\u001b[39;00m states))\n",
      "File \u001b[0;32m~/git/private/pister/solar-sail-simulations/rl_agent/Agent.py:147\u001b[0m, in \u001b[0;36mParallelAgent.training_step\u001b[0;34m(self, max_duration)\u001b[0m\n\u001b[1;32m    142\u001b[0m     Q_SA \u001b[38;5;241m=\u001b[39m \u001b[38;5;28mself\u001b[39m\u001b[38;5;241m.\u001b[39mQ(SA)\n\u001b[1;32m    145\u001b[0m \u001b[38;5;28;01mfor\u001b[39;00m t \u001b[38;5;129;01min\u001b[39;00m \u001b[38;5;28mrange\u001b[39m(max_duration):\n\u001b[1;32m    146\u001b[0m     \u001b[38;5;66;03m# sample reward and get next state\u001b[39;00m\n\u001b[0;32m--> 147\u001b[0m     R, S_next \u001b[38;5;241m=\u001b[39m \u001b[38;5;28;43mself\u001b[39;49m\u001b[38;5;241;43m.\u001b[39;49m\u001b[43mworld\u001b[49m\u001b[38;5;241;43m.\u001b[39;49m\u001b[43madvance_simulation\u001b[49m\u001b[43m(\u001b[49m\u001b[43mA\u001b[49m\u001b[43m)\u001b[49m\n\u001b[1;32m    149\u001b[0m     \u001b[38;5;66;03m# Totals\u001b[39;00m\n\u001b[1;32m    150\u001b[0m     R_total \u001b[38;5;241m+\u001b[39m\u001b[38;5;241m=\u001b[39m R\n",
      "File \u001b[0;32m~/git/private/pister/solar-sail-simulations/rl_agent/World.py:174\u001b[0m, in \u001b[0;36mParallelTrackNEO.advance_simulation\u001b[0;34m(self, A)\u001b[0m\n\u001b[1;32m    172\u001b[0m r2 \u001b[38;5;241m=\u001b[39m np\u001b[38;5;241m.\u001b[39msum(r\u001b[38;5;241m*\u001b[39mr, axis\u001b[38;5;241m=\u001b[39m\u001b[38;5;241m2\u001b[39m)\n\u001b[1;32m    173\u001b[0m \u001b[38;5;28mprint\u001b[39m(r2\u001b[38;5;241m.\u001b[39mshape)\n\u001b[0;32m--> 174\u001b[0m r_hat \u001b[38;5;241m=\u001b[39m \u001b[43mr\u001b[49m\u001b[43m \u001b[49m\u001b[38;5;241;43m/\u001b[39;49m\u001b[43m \u001b[49m\u001b[43mnp\u001b[49m\u001b[38;5;241;43m.\u001b[39;49m\u001b[43mlinalg\u001b[49m\u001b[38;5;241;43m.\u001b[39;49m\u001b[43mnorm\u001b[49m\u001b[43m(\u001b[49m\u001b[43mr\u001b[49m\u001b[43m,\u001b[49m\u001b[43m \u001b[49m\u001b[43maxis\u001b[49m\u001b[38;5;241;43m=\u001b[39;49m\u001b[38;5;241;43m2\u001b[39;49m\u001b[43m)\u001b[49m\u001b[43m[\u001b[49m\u001b[43m:\u001b[49m\u001b[43m,\u001b[49m\u001b[43mnp\u001b[49m\u001b[38;5;241;43m.\u001b[39;49m\u001b[43mnewaxis\u001b[49m\u001b[43m]\u001b[49m\n\u001b[1;32m    175\u001b[0m \u001b[38;5;28mself\u001b[39m\u001b[38;5;241m.\u001b[39mtime[\u001b[38;5;124m'\u001b[39m\u001b[38;5;124msquare dists\u001b[39m\u001b[38;5;124m'\u001b[39m] \u001b[38;5;241m+\u001b[39m\u001b[38;5;241m=\u001b[39m time()\u001b[38;5;241m-\u001b[39mi\n\u001b[1;32m    177\u001b[0m i \u001b[38;5;241m=\u001b[39m time()\n",
      "\u001b[0;31mValueError\u001b[0m: operands could not be broadcast together with shapes (50,2,3) (50,1,2) "
     ]
    }
   ],
   "source": [
    "r_mean, states = agent.training_step(100)\n",
    "# print(states)\n",
    "states = zip(*(state[:3] for state in states))\n",
    "states = list(states)[0]\n",
    "# print(states)\n",
    "\n",
    "plt.plot([x for x in range(100)], states)"
   ]
  },
  {
   "cell_type": "code",
   "execution_count": 23,
   "id": "4862c5d7-26a9-4a35-82b3-220cdc889bb1",
   "metadata": {},
   "outputs": [],
   "source": [
    "agent.train(100, 5, 100)"
   ]
  },
  {
   "cell_type": "code",
   "execution_count": null,
   "id": "ba221585-8877-48a7-9342-b86cfb129338",
   "metadata": {},
   "outputs": [],
   "source": []
  },
  {
   "cell_type": "code",
   "execution_count": null,
   "id": "5f42c168-8e2b-46c5-ab6a-7d6e0a0c7848",
   "metadata": {},
   "outputs": [],
   "source": []
  }
 ],
 "metadata": {
  "kernelspec": {
   "display_name": "Python 3 (ipykernel)",
   "language": "python",
   "name": "python3"
  },
  "language_info": {
   "codemirror_mode": {
    "name": "ipython",
    "version": 3
   },
   "file_extension": ".py",
   "mimetype": "text/x-python",
   "name": "python",
   "nbconvert_exporter": "python",
   "pygments_lexer": "ipython3",
   "version": "3.11.6"
  }
 },
 "nbformat": 4,
 "nbformat_minor": 5
}
