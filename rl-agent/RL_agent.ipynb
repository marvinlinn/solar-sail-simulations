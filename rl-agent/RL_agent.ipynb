{
 "cells": [
  {
   "cell_type": "markdown",
   "id": "ecc2acb0-91e3-4065-84a2-084e515d0993",
   "metadata": {},
   "source": [
    "# RL Agent Test\n",
    "---\n",
    "\n",
    "## Imports"
   ]
  },
  {
   "cell_type": "code",
   "execution_count": 1,
   "id": "8d81916e-2b83-46d1-b0d6-89b959a388cd",
   "metadata": {},
   "outputs": [
    {
     "name": "stderr",
     "output_type": "stream",
     "text": [
      "2024-04-17 00:38:19.782332: I tensorflow/core/util/port.cc:113] oneDNN custom operations are on. You may see slightly different numerical results due to floating-point round-off errors from different computation orders. To turn them off, set the environment variable `TF_ENABLE_ONEDNN_OPTS=0`.\n",
      "2024-04-17 00:38:19.801471: I tensorflow/core/platform/cpu_feature_guard.cc:182] This TensorFlow binary is optimized to use available CPU instructions in performance-critical operations.\n",
      "To enable the following instructions: SSE4.1 SSE4.2 AVX AVX2 AVX_VNNI FMA, in other operations, rebuild TensorFlow with the appropriate compiler flags.\n"
     ]
    },
    {
     "name": "stdout",
     "output_type": "stream",
     "text": [
      "TensorFlow version: 2.15.0\n"
     ]
    }
   ],
   "source": [
    "from math import pi\n",
    "import numpy as np\n",
    "from World import *\n",
    "from Agent import *\n",
    "\n",
    "import matplotlib.pyplot as plt\n",
    "\n",
    "import tensorflow as tf\n",
    "import tensorflow_probability as tfp\n",
    "from tensorflow.keras.layers import *\n",
    "from tensorflow.keras import Model\n",
    "print(f'TensorFlow version: {tf.__version__}')"
   ]
  },
  {
   "cell_type": "markdown",
   "id": "272b7a26-617d-4c12-b14f-6f95766751c5",
   "metadata": {},
   "source": [
    "## Instantiate Neural Networks for Policy and Q"
   ]
  },
  {
   "cell_type": "markdown",
   "id": "54a7ec1a-dee1-4359-8f13-def08fe3d268",
   "metadata": {},
   "source": [
    "So for now I am using pretty uninformed choices for neural network\n",
    "architecture just to get this running asap, but we might want to \n",
    "keep the networks small even when we do this for real."
   ]
  },
  {
   "cell_type": "code",
   "execution_count": 2,
   "id": "6b9164cb-2f60-4610-a1c1-76f33f66649d",
   "metadata": {},
   "outputs": [
    {
     "name": "stdout",
     "output_type": "stream",
     "text": [
      "input: \n",
      "[[0.36129589 0.21196218 0.09800635 0.62517637 0.9061955  0.74316705\n",
      "  0.99695096 0.64575369 0.78209964 0.63553303 0.61627736 0.74154376]\n",
      " [0.56070461 0.22728301 0.52226786 0.32516431 0.28811749 0.92944179\n",
      "  0.55452018 0.44609479 0.27453395 0.41676156 0.34825226 0.47948878]\n",
      " [0.94257536 0.92231718 0.19043734 0.86160115 0.95783438 0.44966425\n",
      "  0.09691994 0.63922375 0.52316104 0.05382008 0.2527328  0.88431183]\n",
      " [0.87339255 0.56726674 0.06242077 0.97101095 0.41687611 0.22923319\n",
      "  0.09300735 0.86579889 0.82354029 0.28388687 0.90975726 0.92125685]\n",
      " [0.28235728 0.39066901 0.36340597 0.11749306 0.58462195 0.919555\n",
      "  0.55846282 0.31709875 0.01086222 0.07128453 0.72817997 0.12258632]\n",
      " [0.89355771 0.34787875 0.00756957 0.65466996 0.45415302 0.79846217\n",
      "  0.29583362 0.75044401 0.82702918 0.5829731  0.48103281 0.99199877]\n",
      " [0.81779105 0.5404805  0.48934541 0.93154911 0.4282745  0.40616205\n",
      "  0.70587333 0.16778909 0.64104378 0.92300443 0.85854886 0.00314637]\n",
      " [0.94814068 0.80837778 0.81744709 0.11778181 0.98453277 0.65634341\n",
      "  0.90736682 0.65056656 0.47310045 0.7998377  0.7865852  0.98316727]\n",
      " [0.96537974 0.2826935  0.03757757 0.50013386 0.33895391 0.67787984\n",
      "  0.77337216 0.30152952 0.80848833 0.16021953 0.71554112 0.91821579]\n",
      " [0.28930724 0.49260906 0.62875653 0.08089657 0.08340476 0.42168827\n",
      "  0.27381009 0.28652011 0.94042936 0.68491425 0.92590189 0.34657768]\n",
      " [0.22957703 0.31498005 0.39380827 0.12428187 0.25742588 0.57806258\n",
      "  0.14564413 0.39913471 0.66438143 0.14909008 0.21458372 0.02704031]\n",
      " [0.04934789 0.93954352 0.44659807 0.7137292  0.24949733 0.79669179\n",
      "  0.08205258 0.43204632 0.11321149 0.96736993 0.50306482 0.82817381]]\n",
      "\n",
      "out: \n",
      "(<tf.Tensor: shape=(12, 1), dtype=float32, numpy=\n",
      "array([[1.2611803],\n",
      "       [1.2580657],\n",
      "       [1.2459573],\n",
      "       [1.2375432],\n",
      "       [1.2565973],\n",
      "       [1.2634864],\n",
      "       [1.2302088],\n",
      "       [1.2164276],\n",
      "       [1.2576829],\n",
      "       [1.2356734],\n",
      "       [1.2675751],\n",
      "       [1.2246766]], dtype=float32)>, <tf.Tensor: shape=(12, 1), dtype=float32, numpy=\n",
      "array([[0.83811563],\n",
      "       [0.76291305],\n",
      "       [0.8556141 ],\n",
      "       [0.8661444 ],\n",
      "       [0.74931926],\n",
      "       [0.8115389 ],\n",
      "       [0.803789  ],\n",
      "       [0.88680357],\n",
      "       [0.8049329 ],\n",
      "       [0.7467737 ],\n",
      "       [0.7033615 ],\n",
      "       [0.78825974]], dtype=float32)>)\n",
      "\n",
      "dists: \n",
      ":tfp.distributions.Normal(\"Normal\", batch_shape=[12, 1], event_shape=[], dtype=float32)\n",
      "\n",
      "samples: \n",
      "[[ 1.4904634 ]\n",
      " [ 0.86590976]\n",
      " [ 1.1306777 ]\n",
      " [ 2.3604593 ]\n",
      " [ 0.4240477 ]\n",
      " [ 0.4529431 ]\n",
      " [ 3.092113  ]\n",
      " [ 0.33561242]\n",
      " [-0.5299454 ]\n",
      " [ 0.93254006]\n",
      " [ 1.8637575 ]\n",
      " [ 1.0411856 ]]\n",
      "\n",
      "log probs: [[-0.7797595 ]\n",
      " [-0.7804379 ]\n",
      " [-0.7720792 ]\n",
      " [-1.6156309 ]\n",
      " [-1.2475917 ]\n",
      " [-1.2088895 ]\n",
      " [-3.3833957 ]\n",
      " [-1.2920767 ]\n",
      " [-3.1680105 ]\n",
      " [-0.7093326 ]\n",
      " [-0.926283  ]\n",
      " [-0.70810413]]\n",
      "\n",
      "Model: \"policy\"\n",
      "_________________________________________________________________\n",
      " Layer (type)                Output Shape              Param #   \n",
      "=================================================================\n",
      " dense (Dense)               multiple                  832       \n",
      "                                                                 \n",
      " dense_1 (Dense)             multiple                  2080      \n",
      "                                                                 \n",
      " dense_2 (Dense)             multiple                  528       \n",
      "                                                                 \n",
      " dropout (Dropout)           multiple                  0         \n",
      "                                                                 \n",
      " dense_3 (Dense)             multiple                  17        \n",
      "                                                                 \n",
      " dense_4 (Dense)             multiple                  17        \n",
      "                                                                 \n",
      "=================================================================\n",
      "Total params: 3474 (13.57 KB)\n",
      "Trainable params: 3474 (13.57 KB)\n",
      "Non-trainable params: 0 (0.00 Byte)\n",
      "_________________________________________________________________\n",
      "Model: \"Q(s,a)\"\n",
      "_________________________________________________________________\n",
      " Layer (type)                Output Shape              Param #   \n",
      "=================================================================\n",
      " dense_5 (Dense)             (None, 64)                896       \n",
      "                                                                 \n",
      " dense_6 (Dense)             (None, 32)                2080      \n",
      "                                                                 \n",
      " dense_7 (Dense)             (None, 16)                528       \n",
      "                                                                 \n",
      " dropout_1 (Dropout)         (None, 16)                0         \n",
      "                                                                 \n",
      " dense_8 (Dense)             (None, 1)                 17        \n",
      "                                                                 \n",
      "=================================================================\n",
      "Total params: 3521 (13.75 KB)\n",
      "Trainable params: 3521 (13.75 KB)\n",
      "Non-trainable params: 0 (0.00 Byte)\n",
      "_________________________________________________________________\n"
     ]
    }
   ],
   "source": [
    "class Policy(Model):\n",
    "    min_action = -pi\n",
    "    max_action = pi\n",
    "    \n",
    "    def __init__(self):\n",
    "        super().__init__()\n",
    "        self.dense1 = Dense(64, activation='relu', input_shape=(12,))\n",
    "        self.dense2 = Dense(32, activation='relu')\n",
    "        self.dense3 = Dense(16, activation='sigmoid')\n",
    "        self.dropout = Dropout(0.1)\n",
    "        self.mu = Dense(1)\n",
    "        self.sigma = Dense(1, activation='softplus')    \n",
    "\n",
    "    def call(self, x):\n",
    "        x = self.dense1(x)\n",
    "        x = self.dense2(x)\n",
    "        x = self.dense3(x)\n",
    "        x = self.dropout(x)\n",
    "        mu = self.mu(x)\n",
    "        sigma = self.sigma(x)\n",
    "        return mu, sigma \n",
    "\n",
    "# Create an instance of the model\n",
    "policy = Policy()\n",
    "inp = np.random.random((12,12))\n",
    "print(f'input: \\n{inp}\\n')\n",
    "out = policy(inp)\n",
    "print(f'out: \\n{out}\\n')\n",
    "\n",
    "dists = tfp.distributions.Normal(*out)\n",
    "print(f'dists: \\n:{dists}\\n')\n",
    "\n",
    "samples = dists.sample()\n",
    "print(f'samples: \\n{samples}\\n')\n",
    "\n",
    "print(f'log probs: {dists.log_prob(samples.numpy())}\\n')\n",
    "\n",
    "policy.summary()\n",
    "\n",
    "Q = tf.keras.models.Sequential([\n",
    "  tf.keras.layers.Dense(64, activation='relu', input_shape=(13,)),\n",
    "  tf.keras.layers.Dense(32, activation='relu'),\n",
    "  tf.keras.layers.Dense(16, activation='sigmoid'),\n",
    "  tf.keras.layers.Dropout(0.1),\n",
    "  tf.keras.layers.Dense(1)\n",
    "], name='Q(s,a)')\n",
    "Q.summary()"
   ]
  },
  {
   "cell_type": "code",
   "execution_count": 3,
   "id": "8f289616-5394-4813-a934-10f7a14ffad6",
   "metadata": {},
   "outputs": [
    {
     "name": "stdout",
     "output_type": "stream",
     "text": [
      "tf.Tensor(\n",
      "[[0.3780488  0.30356765 0.02631802]\n",
      " [0.03748018 0.11745517 0.46502805]\n",
      " [0.36419058 0.5761398  0.07235633]\n",
      " [0.24416576 0.9348069  0.25601307]\n",
      " [0.26073918 0.2119578  0.8737608 ]\n",
      " [0.3732553  0.7675999  0.3952509 ]\n",
      " [0.2583051  0.47000706 0.5914942 ]\n",
      " [0.10158319 0.6448231  0.04319067]\n",
      " [0.07854597 0.620553   0.7146234 ]\n",
      " [0.28416157 0.17866756 0.76604205]], shape=(10, 3), dtype=float32)\n",
      "sum grad: [2.38047564 4.82557787 4.20407754]\n",
      "len: 1 \n",
      " [[2.3804758 4.8255777 4.2040777]]\n"
     ]
    }
   ],
   "source": [
    "x = np.random.random((10,3))\n",
    "a = tf.ones((1,3))\n",
    "with tf.GradientTape() as tape:\n",
    "    tape.watch(a)\n",
    "    y = a * x\n",
    "print(y)\n",
    "grad = tape.gradient(y, a)\n",
    "print(f'sum grad: {tf.reduce_sum(x, axis=0)}')\n",
    "print(f'len: {len(grad)} \\n {grad}')"
   ]
  },
  {
   "cell_type": "markdown",
   "id": "47be3c01-cb58-4c21-9f24-8b224e89bab5",
   "metadata": {},
   "source": [
    "## Instantiate World"
   ]
  },
  {
   "cell_type": "code",
   "execution_count": 4,
   "id": "20d2c305-acc7-41ca-b711-b341de970140",
   "metadata": {},
   "outputs": [],
   "source": [
    "world = SimpleTestWorld()"
   ]
  },
  {
   "cell_type": "markdown",
   "id": "713ed2d9-66a9-48e8-a86b-353579bae281",
   "metadata": {},
   "source": [
    "## Instantiate Agent"
   ]
  },
  {
   "cell_type": "code",
   "execution_count": 5,
   "id": "9a3a38a9-13c0-4e73-96c8-c5406de8d524",
   "metadata": {},
   "outputs": [],
   "source": [
    "agent = AsyncAgent(world, policy, Q, learning_rate_policy=0.00001, learning_rate_Q=0.00056)"
   ]
  },
  {
   "cell_type": "markdown",
   "id": "9c44e28e-759b-4451-85e8-d00f1facf436",
   "metadata": {},
   "source": [
    "## Train Agent"
   ]
  },
  {
   "cell_type": "code",
   "execution_count": 7,
   "id": "6823703f-f737-4488-9bb3-41e994fa6b34",
   "metadata": {
    "scrolled": true
   },
   "outputs": [
    {
     "name": "stdout",
     "output_type": "stream",
     "text": [
      "0.72524583\n",
      "Task 0 Complete!\n",
      "4\n",
      "Task 1 Complete!\n",
      "3\n",
      "Task 2 Complete!\n",
      "2\n",
      "Task 3 Complete!\n",
      "1\n",
      "NOT ACTIVE\n",
      "NOT ACTIVE\n",
      "NOT ACTIVE\n",
      "NOT ACTIVE\n",
      "NOT ACTIVE\n",
      "NOT ACTIVE\n",
      "NOT ACTIVE\n",
      "NOT ACTIVE\n",
      "NOT ACTIVE\n",
      "NOT ACTIVE\n",
      "NOT ACTIVE\n",
      "NOT ACTIVE\n",
      "NOT ACTIVE\n",
      "NOT ACTIVE\n",
      "NOT ACTIVE\n",
      "NOT ACTIVE\n",
      "NOT ACTIVE\n",
      "NOT ACTIVE\n",
      "NOT ACTIVE\n",
      "NOT ACTIVE\n",
      "NOT ACTIVE\n",
      "NOT ACTIVE\n",
      "NOT ACTIVE\n",
      "NOT ACTIVE\n",
      "NOT ACTIVE\n",
      "NOT ACTIVE\n",
      "NOT ACTIVE\n",
      "NOT ACTIVE\n",
      "NOT ACTIVE\n",
      "NOT ACTIVE\n",
      "NOT ACTIVE\n",
      "NOT ACTIVE\n",
      "NOT ACTIVE\n",
      "NOT ACTIVE\n",
      "NOT ACTIVE\n",
      "NOT ACTIVE\n",
      "Task 4 Complete!\n",
      "0\n",
      "JOINED\n",
      "JOINED\n",
      "JOINED\n",
      "JOINED\n",
      "JOINED\n",
      "mean reward: -20725.713456625755\n",
      "mean reward: -23140.763411558943\n",
      "mean reward: -25693.145370801783\n",
      "mean reward: -20441.536392841368\n",
      "mean reward: -22336.293012437243\n",
      "0.83673644\n"
     ]
    }
   ],
   "source": [
    "%reload_ext autoreload\n",
    "%autoreload 2\n",
    "\n",
    "from Agent import *\n",
    "\n",
    "s = (1,2,3,4,5,6,7,8,9,10,11,12)\n",
    "\n",
    "preds = agent._sample_policy(s)\n",
    "print(preds)\n",
    "\n",
    "agent.train(100, 5, 1)\n",
    "\n",
    "preds = agent._sample_policy(s)\n",
    "print(preds)"
   ]
  },
  {
   "cell_type": "code",
   "execution_count": null,
   "id": "d5da3563-f94d-48be-8c6e-a77741b1b997",
   "metadata": {},
   "outputs": [],
   "source": [
    "r_mean, states = agent.training_step(100)\n",
    "# print(states)\n",
    "states = zip(*(state[:3] for state in states))\n",
    "states = list(states)[0]\n",
    "# print(states)\n",
    "\n",
    "plt.plot([x for x in range(100)], states)"
   ]
  },
  {
   "cell_type": "code",
   "execution_count": 12,
   "id": "4862c5d7-26a9-4a35-82b3-220cdc889bb1",
   "metadata": {},
   "outputs": [
    {
     "name": "stdout",
     "output_type": "stream",
     "text": [
      "JOINED\n",
      "JOINED\n",
      "JOINED\n",
      "JOINED\n",
      "JOINED\n",
      "mean reward: -27090.16821320598\n",
      "mean reward: -43452.63353015997\n",
      "mean reward: -26447.28121447016\n",
      "mean reward: -39456.08928110679\n",
      "mean reward: -31332.708278650123\n"
     ]
    }
   ],
   "source": [
    "agent.train(100, 5, 100)"
   ]
  },
  {
   "cell_type": "code",
   "execution_count": null,
   "id": "ba221585-8877-48a7-9342-b86cfb129338",
   "metadata": {},
   "outputs": [],
   "source": []
  },
  {
   "cell_type": "code",
   "execution_count": null,
   "id": "5f42c168-8e2b-46c5-ab6a-7d6e0a0c7848",
   "metadata": {},
   "outputs": [],
   "source": []
  }
 ],
 "metadata": {
  "kernelspec": {
   "display_name": "Python 3 (ipykernel)",
   "language": "python",
   "name": "python3"
  },
  "language_info": {
   "codemirror_mode": {
    "name": "ipython",
    "version": 3
   },
   "file_extension": ".py",
   "mimetype": "text/x-python",
   "name": "python",
   "nbconvert_exporter": "python",
   "pygments_lexer": "ipython3",
   "version": "3.11.6"
  }
 },
 "nbformat": 4,
 "nbformat_minor": 5
}
